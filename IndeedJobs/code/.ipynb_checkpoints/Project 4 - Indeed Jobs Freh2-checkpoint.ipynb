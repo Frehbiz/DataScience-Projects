{
 "cells": [
  {
   "cell_type": "markdown",
   "metadata": {
    "focus": false,
    "id": "69b9a648-bcc7-490d-9f9b-ea244d156bd6"
   },
   "source": [
    "# Web Scraping for Indeed.com & Predicting Salaries"
   ]
  },
  {
   "cell_type": "markdown",
   "metadata": {
    "focus": false,
    "id": "34681254-c802-462f-829d-8894d0772d08"
   },
   "source": [
    "In this project, we will practice two major skills: collecting data by scraping a website and then building a binary classifier.\n",
    "\n",
    "We are going to collect salary information on data science jobs in a variety of markets. Then using the location, title and summary of the job we will attempt to predict the salary of the job. For job posting sites, this would be extraordinarily useful. While most listings DO NOT come with salary information (as you will see in this exercise), being to able extrapolate or predict the expected salaries from other listings can help guide negotiations.\n",
    "\n",
    "Normally, we could use regression for this task; however, we will convert this problem into classification and use a random forest regressor, as well as another classifier of your choice; either logistic regression, SVM, or KNN. \n",
    "\n",
    "- **Question**: Why would we want this to be a classification problem?\n",
    "- **Answer**: While more precision may be better, there is a fair amount of natural variance in job salaries - predicting a range be may be useful.\n",
    "\n",
    "Therefore, the first part of the assignment will be focused on scraping Indeed.com. In the second, we'll focus on using listings with salary information to build a model and predict additional salaries."
   ]
  },
  {
   "cell_type": "markdown",
   "metadata": {
    "focus": false,
    "id": "a948d79c-5527-4c0d-ab23-f5d43ce72056"
   },
   "source": [
    "### Scraping job listings from Indeed.com"
   ]
  },
  {
   "cell_type": "markdown",
   "metadata": {
    "focus": true,
    "id": "7203e0c9-e437-4802-a6ad-7dc464f94436"
   },
   "source": [
    "We will be scraping job listings from Indeed.com using BeautifulSoup. Luckily, Indeed.com is a simple text page where we can easily find relevant entries.\n",
    "\n",
    "First, look at the source of an Indeed.com page: (http://www.indeed.com/jobs?q=data+scientist+%2420%2C000&l=New+York&start=10\")\n",
    "\n",
    "Notice, each job listing is underneath a `div` tag with a class name of `result`. We can use BeautifulSoup to extract those. "
   ]
  },
  {
   "cell_type": "markdown",
   "metadata": {
    "focus": false,
    "id": "9732c901-ae26-4160-8376-42e22dd327df"
   },
   "source": [
    "#### Setup a request (using `requests`) to the URL below. Use BeautifulSoup to parse the page and extract all results (HINT: Look for div tags with class name result)\n",
    "\n",
    "The URL here has many query parameters\n",
    "\n",
    "- `q` for the job search\n",
    "- This is followed by \"+20,000\" to return results with salaries (or expected salaries >$20,000)\n",
    "- `l` for a location \n",
    "- `start` for what result number to start on"
   ]
  },
  {
   "cell_type": "code",
   "execution_count": 3,
   "metadata": {
    "collapsed": false,
    "focus": false,
    "id": "e915023e-6b0d-4982-af2a-b1e0355f4927"
   },
   "outputs": [],
   "source": [
    "URL = \"http://www.indeed.com/jobs?q=data+scientist+%2420%2C000&l=New+York&start=10\""
   ]
  },
  {
   "cell_type": "code",
   "execution_count": 3,
   "metadata": {
    "collapsed": true,
    "focus": false,
    "id": "2efefc73-064a-482d-b3b5-ddf5508cb4ec"
   },
   "outputs": [],
   "source": [
    "import pandas as pd\n",
    "import numpy as np\n",
    "from matplotlib import pyplot as plt\n",
    "import math\n",
    "from sklearn.preprocessing import StandardScaler\n",
    "\n",
    "from sklearn.decomposition import PCA \n",
    "from sklearn.cluster import KMeans\n",
    "from sklearn import metrics\n",
    "import seaborn as sns\n",
    "\n",
    "\n",
    "%matplotlib inline\n",
    "sns.set_style(\"whitegrid\")\n",
    "\n",
    "import requests\n",
    "import urllib\n",
    "import bs4\n",
    "from bs4 import BeautifulSoup\n",
    "from random import randint\n",
    "import pandas as pd\n",
    "import numpy as np"
   ]
  },
  {
   "cell_type": "code",
   "execution_count": 80,
   "metadata": {
    "collapsed": false
   },
   "outputs": [],
   "source": [
    "irequest=requests.get(URL)\n",
    "soup=BeautifulSoup(irequest.text,'lxml')"
   ]
  },
  {
   "cell_type": "markdown",
   "metadata": {
    "focus": false,
    "id": "bb0b866a-26a7-45e9-8084-5a0f90eb4b3e"
   },
   "source": [
    "Let's look at one result more closely. A single `result` looks like\n",
    "\n",
    "```\n",
    "<div class=\" row result\" data-jk=\"2480d203f7e97210\" data-tn-component=\"organicJob\" id=\"p_2480d203f7e97210\" itemscope=\"\" itemtype=\"http://schema.org/JobPosting\">\n",
    "<h2 class=\"jobtitle\" id=\"jl_2480d203f7e97210\">\n",
    "<a class=\"turnstileLink\" data-tn-element=\"jobTitle\" onmousedown=\"return rclk(this,jobmap[0],1);\" rel=\"nofollow\" target=\"_blank\" title=\"AVP/Quantitative Analyst\">AVP/Quantitative Analyst</a>\n",
    "</h2>\n",
    "<span class=\"company\" itemprop=\"hiringOrganization\" itemtype=\"http://schema.org/Organization\">\n",
    "<span itemprop=\"name\">\n",
    "<a href=\"/cmp/Alliancebernstein?from=SERP&amp;campaignid=serp-linkcompanyname&amp;fromjk=2480d203f7e97210&amp;jcid=b374f2a780e04789\" target=\"_blank\">\n",
    "    AllianceBernstein</a></span>\n",
    "</span>\n",
    "<tr>\n",
    "<td class=\"snip\">\n",
    "<nobr>$117,500 - $127,500 a year</nobr>\n",
    "<div>\n",
    "<span class=\"summary\" itemprop=\"description\">\n",
    "C onduct quantitative and statistical research as well as portfolio management for various investment portfolios. Collaborate with Quantitative Analysts and</span>\n",
    "</div>\n",
    "</div>\n",
    "</td>\n",
    "</tr>\n",
    "</table>\n",
    "</div>\n",
    "```\n",
    "\n",
    "While this has some more verbose elements removed, we can see that there is some structure to the above:\n",
    "- The salary is available in a `nobr` element inside of a `td` element with `class='snip`.\n",
    "- The title of a job is in a link with class set to `jobtitle` and a `data-tn-element=\"jobTitle`.  \n",
    "- The location is set in a `span` with `class='location'`. \n",
    "- The company is set in a `span` with `class='company'`. "
   ]
  },
  {
   "cell_type": "markdown",
   "metadata": {
    "focus": false,
    "id": "f1eddb90-4ba8-483c-a229-77e93aa53119"
   },
   "source": [
    "### Write 4 functions to extract each item: location, company, job, and salary.\n",
    "\n",
    "example: \n",
    "```python\n",
    "def extract_location_from_result(result):\n",
    "    return result.find ...\n",
    "```\n",
    "\n",
    "\n",
    "- **Make sure these functions are robust and can handle cases where the data/field may not be available.**\n",
    "    - Remember to check if a field is empty or `None` for attempting to call methods on it\n",
    "    - Remember to use `try/except` if you anticipate errors\n",
    "- **Test** the functions on the results above and simple examples"
   ]
  },
  {
   "cell_type": "code",
   "execution_count": 2,
   "metadata": {
    "collapsed": false,
    "focus": false,
    "id": "a1af53c9-9090-494f-b82e-cadb60a54909"
   },
   "outputs": [],
   "source": [
    "\n",
    "def extract_location_from_result(result):\n",
    "    return result.find('span', attrs={'class':'location'}).getText() \n",
    "def extract_salary_from_result(result):\n",
    "    try:\n",
    "        #<td class=\"snip\">\n",
    "        return result.find('td', attrs={'class':'snip'}).find('nobr').getText().strip()\n",
    "    except:\n",
    "        return np.NAN\n",
    "def extract_title_from_result(result):\n",
    "    return result.find('a', attrs={'class':'turnstileLink'}).attrs['title']\n",
    "def extract_company_from_result(result):\n",
    "    return result.find('span', attrs={'itemprop':'name'}).getText().strip()\n",
    "def extract_summary_from_result(result):\n",
    "    return result.find('span', { 'class':\"summary\"}).text\n",
    "\n"
   ]
  },
  {
   "cell_type": "code",
   "execution_count": 81,
   "metadata": {
    "collapsed": false
   },
   "outputs": [
    {
     "name": "stdout",
     "output_type": "stream",
     "text": [
      "New York, NY 10022 (Midtown area)\n",
      "None\n",
      "Machine Learning Research Scientist\n",
      "Futures Group\n"
     ]
    }
   ],
   "source": [
    "query=\n",
    "print extract_location_from_result(soup.find(\"div\",attrs={\"class\":\" row result\"}))\n",
    "print extract_salary_from_result(soup.find(\"div\", attrs={\"class\":\" row result\"}))\n",
    "print extract_title_from_result(soup.find(\"div\", attrs={\"class\":\" row result\"}))\n",
    "print extract_company_from_result(soup.find(\"div\", attrs={\"class\":\"  row result\"}))"
   ]
  },
  {
   "cell_type": "markdown",
   "metadata": {
    "focus": false,
    "id": "34070e89-9521-4b45-90c8-57a6599aac68"
   },
   "source": [
    "Now, to scale up our scraping, we need to accumulate more results. We can do this by examining the URL above.\n",
    "\n",
    "- \"http://www.indeed.com/jobs?q=data+scientist+%2420%2C000&l=New+York&start=10\"\n",
    "\n",
    "There are two query parameters here we can alter to collect more results, the `l=New+York` and the `start=10`. The first controls the location of the results (so we can try a different city). The second controls where in the results to start and gives 10 results (thus, we can keep incrementing by 10 to go further in the list)."
   ]
  },
  {
   "cell_type": "markdown",
   "metadata": {
    "focus": false,
    "id": "e8beed7c-3e42-40c0-810f-5f67f8f885a0"
   },
   "source": [
    "#### Complete the following code to collect results from multiple cities and starting points. \n",
    "- Enter your city below to add it to the search\n",
    "- Remember to convert your salary to U.S. Dollars to match the other cities if the currency is different"
   ]
  },
  {
   "cell_type": "code",
   "execution_count": 3,
   "metadata": {
    "collapsed": true,
    "focus": false,
    "id": "a9aa87ec-3575-4a01-a986-eb684f2c47d0"
   },
   "outputs": [],
   "source": [
    "YOUR_CITY = 'Raleigh+NC'"
   ]
  },
  {
   "cell_type": "code",
   "execution_count": null,
   "metadata": {
    "collapsed": false
   },
   "outputs": [],
   "source": [
    "\n",
    "from time import sleep\n",
    "url_template = \"http://www.indeed.com/jobs?q=data+scientist+%2420%2C000&l={}&start={}\"\n",
    "\n",
    "results2 = []\n",
    "for j in range(1,50):\n",
    "    max_results_per_city = 100 * j # Set this to a high-value (5000) to generate more results. \n",
    "    # Crawling more results, will also take much longer. First test your code on a small number of results and then expand.\n",
    "\n",
    "\n",
    "    for city in set (['New+York', 'Chicago', 'San+Francisco', 'Austin', 'Seattle', \n",
    "        'Los+Angeles', 'Philadelphia', 'Atlanta', 'Dallas', 'Pittsburgh', \n",
    "        'Portland', 'Phoenix', 'Denver', 'Houston', 'Miami', YOUR_CITY]):\n",
    "\n",
    "        for start in range((j-1)*100, max_results_per_city, 10):\n",
    "            # Grab the results from the request (as above)\n",
    "\n",
    "            city10=requests.get(\"http://www.indeed.com/jobs?q=data+scientist+%2420%2C000&l=\" + city + \"&start=\" + str(start))\n",
    "            # Append to the full set of results\n",
    "            c = BeautifulSoup(city10.text,\"html.parser\")\n",
    "            results2.append(c)\n",
    "        #sleep(1)\n",
    "    sleep(randint(10,5000))"
   ]
  },
  {
   "cell_type": "code",
   "execution_count": 5,
   "metadata": {
    "collapsed": false
   },
   "outputs": [],
   "source": [
    "urls = []\n",
    "cities= ['New+York', 'Chicago', 'San+Francisco', 'Austin', 'Seattle', \n",
    "        'Los+Angeles', 'Philadelphia', 'Atlanta', 'Dallas', 'Pittsburgh', \n",
    "        'Portland', 'Phoenix', 'Denver', 'Houston', 'Miami', YOUR_CITY]\n",
    "\n",
    "for cty in cities:\n",
    "    for start in range(0,5000, 10):\n",
    "        urls.append(\"http://www.indeed.com/jobs?q=data+scientist+%2420%2C000&l=\" + cty + \"&start=\" + str(start))"
   ]
  },
  {
   "cell_type": "code",
   "execution_count": null,
   "metadata": {
    "collapsed": false
   },
   "outputs": [],
   "source": [
    "len(urls)"
   ]
  },
  {
   "cell_type": "code",
   "execution_count": 8,
   "metadata": {
    "collapsed": false
   },
   "outputs": [],
   "source": [
    "# read from url's\n",
    "request=[]\n",
    "\n",
    "for u in urls:\n",
    "        req=requests.get(u)\n",
    "        d = BeautifulSoup(req.text,\"html.parser\")\n",
    "        jobs=d.findAll(\"div\", attrs={\"class\":\" row result\"})\n",
    "        request.append(d)\n",
    "        "
   ]
  },
  {
   "cell_type": "code",
   "execution_count": 9,
   "metadata": {
    "collapsed": false
   },
   "outputs": [
    {
     "data": {
      "text/plain": [
       "8000"
      ]
     },
     "execution_count": 9,
     "metadata": {},
     "output_type": "execute_result"
    }
   ],
   "source": [
    "len(request)"
   ]
  },
  {
   "cell_type": "markdown",
   "metadata": {
    "focus": false,
    "id": "20339c09-5032-4e27-91be-286e9b46cd13"
   },
   "source": [
    "#### Use the functions you wrote above to parse out the 4 fields - location, title, company and salary. Create a dataframe from the results with those 4 columns."
   ]
  },
  {
   "cell_type": "code",
   "execution_count": null,
   "metadata": {
    "collapsed": false
   },
   "outputs": [],
   "source": [
    "## YOUR CODE HERE\n",
    "df={}\n",
    "df=pd.DataFrame(columns=[\"Title\",\"Company\",\"Location\" ,\"Salary\",\"Summary\"])\n",
    "i=0\n",
    "for r in request:\n",
    "    for row in r.findAll(\"div\", attrs={\"class\":\" row result\"}):\n",
    "        title=extract_title_from_result(row)\n",
    "        company= extract_company_from_result(row)\n",
    "        location= extract_location_from_result(row)\n",
    "        salary=extract_salary_from_result(row)\n",
    "        summary=extract_summary_from_result(row)\n",
    "        df.loc[i] = pd.Series({'Title':title, 'Company':company, 'Location':location, 'Salary':salary, 'Summary':summary})\n",
    "        i+=1"
   ]
  },
  {
   "cell_type": "code",
   "execution_count": 77,
   "metadata": {
    "collapsed": false
   },
   "outputs": [],
   "source": [
    "df={}\n",
    "df=pd.DataFrame(columns=[\"Title\",\"Company\",\"Location\" ,\"Salary\",\"Summary\"])\n",
    "i=len(df)\n",
    "\n",
    "for r in request:\n",
    "    for row in r.find_all(\"div\", attrs={\"class\":\" row result\"}):\n",
    "        try:\n",
    "            salary=row.find('td', attrs={'class':'snip'}).find('nobr').getText().strip()\n",
    "        except:\n",
    "            salary=np.NaN\n",
    "        \n",
    "        if salary is not np.NaN:\n",
    "            \n",
    "            location=row.find('span', attrs={'class':'location'}).getText() \n",
    "\n",
    "            title=row.find('a', attrs={'class':'turnstileLink'}).attrs['title']\n",
    "            try:\n",
    "                company=row.find('span', attrs={'itemprop':'name'}).getText().strip()\n",
    "                #row.find('span', attrs={'class':'company'}).getText().strip()\n",
    "            except:\n",
    "                company=np.NaN\n",
    "                \n",
    "            summary=row.find('span', { 'class':\"summary\"}).text\n",
    "\n",
    "            df.loc[i] = pd.Series({'Title':title, 'Company':company, 'Location':location, 'Salary':salary, 'Summary':summary})\n",
    "            i+=1"
   ]
  },
  {
   "cell_type": "code",
   "execution_count": 78,
   "metadata": {
    "collapsed": false
   },
   "outputs": [
    {
     "data": {
      "text/plain": [
       "3645"
      ]
     },
     "execution_count": 78,
     "metadata": {},
     "output_type": "execute_result"
    }
   ],
   "source": [
    "len(df)"
   ]
  },
  {
   "cell_type": "code",
   "execution_count": 143,
   "metadata": {
    "collapsed": false
   },
   "outputs": [
    {
     "data": {
      "text/html": [
       "<div>\n",
       "<table border=\"1\" class=\"dataframe\">\n",
       "  <thead>\n",
       "    <tr style=\"text-align: right;\">\n",
       "      <th></th>\n",
       "      <th>Title</th>\n",
       "      <th>Company</th>\n",
       "      <th>Location</th>\n",
       "      <th>Salary</th>\n",
       "      <th>Summary</th>\n",
       "    </tr>\n",
       "  </thead>\n",
       "  <tbody>\n",
       "    <tr>\n",
       "      <th>3635</th>\n",
       "      <td>Quality Control Scientist</td>\n",
       "      <td>ZP Group</td>\n",
       "      <td>Durham, NC 27703</td>\n",
       "      <td>$26 - $32 an hour</td>\n",
       "      <td>\\nQuality Control (QC) Scientist. The QC Scien...</td>\n",
       "    </tr>\n",
       "    <tr>\n",
       "      <th>3636</th>\n",
       "      <td>EPA GIS EnviroAtlas Support Associate</td>\n",
       "      <td>Oak Ridge Associated Universities</td>\n",
       "      <td>Research Triangle Park, NC</td>\n",
       "      <td>$27.72 an hour</td>\n",
       "      <td>\\nThe selected candidate shall provide data ma...</td>\n",
       "    </tr>\n",
       "    <tr>\n",
       "      <th>3637</th>\n",
       "      <td>Sr Software Engineer - Big Data/Machine Learning</td>\n",
       "      <td>PeopleScout</td>\n",
       "      <td>Raleigh-Durham, NC</td>\n",
       "      <td>$125,000 a year</td>\n",
       "      <td>\\nDesign and work with complex data models in ...</td>\n",
       "    </tr>\n",
       "    <tr>\n",
       "      <th>3638</th>\n",
       "      <td>EPA Dietary Assessment Research Associate</td>\n",
       "      <td>Oak Ridge Associated Universities</td>\n",
       "      <td>Research Triangle Park, NC</td>\n",
       "      <td>$33.37 an hour</td>\n",
       "      <td>\\nResearch is conducted in a broad range of en...</td>\n",
       "    </tr>\n",
       "    <tr>\n",
       "      <th>3639</th>\n",
       "      <td>Statistician WITH PHD</td>\n",
       "      <td>Adecco: USA</td>\n",
       "      <td>Morrisville, NC</td>\n",
       "      <td>$70 an hour</td>\n",
       "      <td>\\nDevelop or apply mathematical or statistical...</td>\n",
       "    </tr>\n",
       "    <tr>\n",
       "      <th>3640</th>\n",
       "      <td>EPA GIS EnviroAtlas Support Associate, Geograp...</td>\n",
       "      <td>Oak Ridge Associated Universities</td>\n",
       "      <td>Research Triangle Park, NC</td>\n",
       "      <td>$27.72 an hour</td>\n",
       "      <td>\\nThe selected candidate shall provide data ma...</td>\n",
       "    </tr>\n",
       "    <tr>\n",
       "      <th>3641</th>\n",
       "      <td>Quality Control Scientist</td>\n",
       "      <td>Piper Clinical Solutions</td>\n",
       "      <td>Durham, NC 27703</td>\n",
       "      <td>$26 - $32 an hour</td>\n",
       "      <td>\\nQuality Control (QC) Scientist. The QC Scien...</td>\n",
       "    </tr>\n",
       "    <tr>\n",
       "      <th>3642</th>\n",
       "      <td>Tutor or Teacher - Computer Programming</td>\n",
       "      <td>NaN</td>\n",
       "      <td>Wake Forest, NC 27587</td>\n",
       "      <td>$24 - $30 an hour</td>\n",
       "      <td>\\nIt's part of a suite of Data Scientist cours...</td>\n",
       "    </tr>\n",
       "    <tr>\n",
       "      <th>3643</th>\n",
       "      <td>EPA Environmental Chemical Safety Testing Asso...</td>\n",
       "      <td>Oak Ridge Associated Universities</td>\n",
       "      <td>Research Triangle Park, NC</td>\n",
       "      <td>$27.72 an hour</td>\n",
       "      <td>\\nPerforming all activities associated with co...</td>\n",
       "    </tr>\n",
       "    <tr>\n",
       "      <th>3644</th>\n",
       "      <td>Applications Engineer / Linux-Scripting</td>\n",
       "      <td>Adecco: USA</td>\n",
       "      <td>Durham, NC</td>\n",
       "      <td>$44 an hour</td>\n",
       "      <td>\\nStrong interpersonal skills and ability to e...</td>\n",
       "    </tr>\n",
       "  </tbody>\n",
       "</table>\n",
       "</div>"
      ],
      "text/plain": [
       "                                                  Title  \\\n",
       "3635                          Quality Control Scientist   \n",
       "3636              EPA GIS EnviroAtlas Support Associate   \n",
       "3637   Sr Software Engineer - Big Data/Machine Learning   \n",
       "3638          EPA Dietary Assessment Research Associate   \n",
       "3639                              Statistician WITH PHD   \n",
       "3640  EPA GIS EnviroAtlas Support Associate, Geograp...   \n",
       "3641                          Quality Control Scientist   \n",
       "3642            Tutor or Teacher - Computer Programming   \n",
       "3643  EPA Environmental Chemical Safety Testing Asso...   \n",
       "3644            Applications Engineer / Linux-Scripting   \n",
       "\n",
       "                                Company                    Location  \\\n",
       "3635                           ZP Group            Durham, NC 27703   \n",
       "3636  Oak Ridge Associated Universities  Research Triangle Park, NC   \n",
       "3637                        PeopleScout          Raleigh-Durham, NC   \n",
       "3638  Oak Ridge Associated Universities  Research Triangle Park, NC   \n",
       "3639                        Adecco: USA             Morrisville, NC   \n",
       "3640  Oak Ridge Associated Universities  Research Triangle Park, NC   \n",
       "3641           Piper Clinical Solutions            Durham, NC 27703   \n",
       "3642                                NaN       Wake Forest, NC 27587   \n",
       "3643  Oak Ridge Associated Universities  Research Triangle Park, NC   \n",
       "3644                        Adecco: USA                  Durham, NC   \n",
       "\n",
       "                 Salary                                            Summary  \n",
       "3635  $26 - $32 an hour  \\nQuality Control (QC) Scientist. The QC Scien...  \n",
       "3636     $27.72 an hour  \\nThe selected candidate shall provide data ma...  \n",
       "3637    $125,000 a year  \\nDesign and work with complex data models in ...  \n",
       "3638     $33.37 an hour  \\nResearch is conducted in a broad range of en...  \n",
       "3639        $70 an hour  \\nDevelop or apply mathematical or statistical...  \n",
       "3640     $27.72 an hour  \\nThe selected candidate shall provide data ma...  \n",
       "3641  $26 - $32 an hour  \\nQuality Control (QC) Scientist. The QC Scien...  \n",
       "3642  $24 - $30 an hour  \\nIt's part of a suite of Data Scientist cours...  \n",
       "3643     $27.72 an hour  \\nPerforming all activities associated with co...  \n",
       "3644        $44 an hour  \\nStrong interpersonal skills and ability to e...  "
      ]
     },
     "execution_count": 143,
     "metadata": {},
     "output_type": "execute_result"
    }
   ],
   "source": [
    "df.tail(10)"
   ]
  },
  {
   "cell_type": "code",
   "execution_count": 193,
   "metadata": {
    "collapsed": false
   },
   "outputs": [
    {
     "data": {
      "text/html": [
       "<div>\n",
       "<table border=\"1\" class=\"dataframe\">\n",
       "  <thead>\n",
       "    <tr style=\"text-align: right;\">\n",
       "      <th></th>\n",
       "      <th>Title</th>\n",
       "      <th>Company</th>\n",
       "      <th>Location</th>\n",
       "      <th>Salary</th>\n",
       "      <th>Summary</th>\n",
       "    </tr>\n",
       "  </thead>\n",
       "  <tbody>\n",
       "    <tr>\n",
       "      <th>2545</th>\n",
       "      <td>Mathematical Statistician</td>\n",
       "      <td>Centers for Disease Control and Prevention</td>\n",
       "      <td>Atlanta, GA</td>\n",
       "      <td>$88,305 - $114,802 a year</td>\n",
       "      <td>\\nTo conduct evaluations of data collection, r...</td>\n",
       "    </tr>\n",
       "    <tr>\n",
       "      <th>2546</th>\n",
       "      <td>Lead Data Scientist</td>\n",
       "      <td>Stackfolio</td>\n",
       "      <td>Atlanta, GA 30308 (Old Fourth Ward area)</td>\n",
       "      <td>$80,000 a year</td>\n",
       "      <td>\\nWe are looking for a bright and experienced ...</td>\n",
       "    </tr>\n",
       "    <tr>\n",
       "      <th>2547</th>\n",
       "      <td>Health Scientist</td>\n",
       "      <td>Centers for Disease Control and Prevention</td>\n",
       "      <td>Atlanta, GA</td>\n",
       "      <td>$122,744 - $159,572 a year</td>\n",
       "      <td>\\nAs a Health Scientist you will:. Data Analys...</td>\n",
       "    </tr>\n",
       "    <tr>\n",
       "      <th>2548</th>\n",
       "      <td>Health Scientist (Vulnerable Populations)</td>\n",
       "      <td>Centers for Disease Control and Prevention</td>\n",
       "      <td>Atlanta, GA</td>\n",
       "      <td>$122,744 - $159,572 a year</td>\n",
       "      <td>\\nAs a Health Scientist (Vulnerable Population...</td>\n",
       "    </tr>\n",
       "    <tr>\n",
       "      <th>2549</th>\n",
       "      <td>Research Microbiologist</td>\n",
       "      <td>Centers for Disease Control and Prevention</td>\n",
       "      <td>Atlanta, GA</td>\n",
       "      <td>$74,260 - $114,802 a year</td>\n",
       "      <td>\\nCollaborate with scientists and program cons...</td>\n",
       "    </tr>\n",
       "    <tr>\n",
       "      <th>2550</th>\n",
       "      <td>Scientist, Med Imag Analysis</td>\n",
       "      <td>Emory University</td>\n",
       "      <td>Atlanta, GA</td>\n",
       "      <td>$69,900 a year</td>\n",
       "      <td>\\nThe Medical Image Analysis Scientist, works ...</td>\n",
       "    </tr>\n",
       "    <tr>\n",
       "      <th>2551</th>\n",
       "      <td>Associate Research Analyst</td>\n",
       "      <td>CSTE</td>\n",
       "      <td>Atlanta, GA 30341</td>\n",
       "      <td>$51,706 a year</td>\n",
       "      <td>\\nSkills with developing and presenting epidem...</td>\n",
       "    </tr>\n",
       "    <tr>\n",
       "      <th>2552</th>\n",
       "      <td>Sr. Data Scientist</td>\n",
       "      <td>CHASE Professionals</td>\n",
       "      <td>Duluth, GA</td>\n",
       "      <td>$100,000 - $120,000 a year</td>\n",
       "      <td>\\nSenior Data Scientist. The Senior Data Scien...</td>\n",
       "    </tr>\n",
       "    <tr>\n",
       "      <th>2553</th>\n",
       "      <td>Institutional Research Analyst</td>\n",
       "      <td>Emory University</td>\n",
       "      <td>Atlanta, GA</td>\n",
       "      <td>$69,900 a year</td>\n",
       "      <td>\\nManaging benchmark data; Primary responsibil...</td>\n",
       "    </tr>\n",
       "    <tr>\n",
       "      <th>2554</th>\n",
       "      <td>Big Data Engineer</td>\n",
       "      <td>Topmist</td>\n",
       "      <td>Atlanta, GA</td>\n",
       "      <td>$80,000 a year</td>\n",
       "      <td>\\nAt Topmist, we bring together the brightest ...</td>\n",
       "    </tr>\n",
       "    <tr>\n",
       "      <th>2555</th>\n",
       "      <td>Supervisory Health Scientist</td>\n",
       "      <td>Centers for Disease Control and Prevention</td>\n",
       "      <td>Atlanta, GA</td>\n",
       "      <td>$104,349 - $135,656 a year</td>\n",
       "      <td>\\nAs a Supervisory Health Scientist you will:....</td>\n",
       "    </tr>\n",
       "    <tr>\n",
       "      <th>2556</th>\n",
       "      <td>Supervisory Statistician (Health)</td>\n",
       "      <td>Centers for Disease Control and Prevention</td>\n",
       "      <td>Atlanta, GA</td>\n",
       "      <td>$122,744 - $159,572 a year</td>\n",
       "      <td>\\nProvide reviews of program and research data...</td>\n",
       "    </tr>\n",
       "    <tr>\n",
       "      <th>2557</th>\n",
       "      <td>Data Scientist/Machine Learning</td>\n",
       "      <td>aquesst</td>\n",
       "      <td>Atlanta, GA 30305 (Buckhead area)</td>\n",
       "      <td>$120,000 - $150,000 a year</td>\n",
       "      <td>\\nData ScientistFulltime Opportunity in Atlant...</td>\n",
       "    </tr>\n",
       "    <tr>\n",
       "      <th>2558</th>\n",
       "      <td>Supervisory Health Scientist (Informatics)</td>\n",
       "      <td>Centers for Disease Control and Prevention</td>\n",
       "      <td>Atlanta, GA</td>\n",
       "      <td>$122,744 - $159,572 a year</td>\n",
       "      <td>\\nSupervisory Health Scientist (Informatics). ...</td>\n",
       "    </tr>\n",
       "    <tr>\n",
       "      <th>2559</th>\n",
       "      <td>Audit Snr (Banking) - Data Analysis 60K-80K</td>\n",
       "      <td>Synergy Search Group</td>\n",
       "      <td>Atlanta, GA</td>\n",
       "      <td>$80,000 a year</td>\n",
       "      <td>\\nDuties will include data conversion from mul...</td>\n",
       "    </tr>\n",
       "    <tr>\n",
       "      <th>2560</th>\n",
       "      <td>Certifying Scientist</td>\n",
       "      <td>Lighthouse Recruiting</td>\n",
       "      <td>Atlanta, GA</td>\n",
       "      <td>$55,000 - $70,000 a year</td>\n",
       "      <td>\\nA growing clinical toxicology laboratory is ...</td>\n",
       "    </tr>\n",
       "    <tr>\n",
       "      <th>2561</th>\n",
       "      <td>Supervisory Economist/Statistician</td>\n",
       "      <td>U.S. Department of Labor</td>\n",
       "      <td>Atlanta, GA</td>\n",
       "      <td>$88,305 - $114,802 a year</td>\n",
       "      <td>\\nResponsible for developing the regional prog...</td>\n",
       "    </tr>\n",
       "    <tr>\n",
       "      <th>2562</th>\n",
       "      <td>Marketing Statistician</td>\n",
       "      <td>Smith Hanley Associates</td>\n",
       "      <td>Atlanta, GA</td>\n",
       "      <td>$75,000 - $100,000 a year</td>\n",
       "      <td>\\n-Business based experience doing data mining...</td>\n",
       "    </tr>\n",
       "    <tr>\n",
       "      <th>2563</th>\n",
       "      <td>Market Research &amp; Sales Analyst</td>\n",
       "      <td>Interesse International Inc</td>\n",
       "      <td>Atlanta, GA</td>\n",
       "      <td>$60,000 - $70,000 a year</td>\n",
       "      <td>\\nEstimate numerical data; Must see through th...</td>\n",
       "    </tr>\n",
       "    <tr>\n",
       "      <th>2564</th>\n",
       "      <td>Sponsored Research Financial Analyst</td>\n",
       "      <td>Emory University</td>\n",
       "      <td>Atlanta, GA</td>\n",
       "      <td>$66,700 a year</td>\n",
       "      <td>\\nResponsible for post award processing of gra...</td>\n",
       "    </tr>\n",
       "    <tr>\n",
       "      <th>2565</th>\n",
       "      <td>Engineering Technician</td>\n",
       "      <td>DeKalb Workforce Development</td>\n",
       "      <td>Decatur, GA</td>\n",
       "      <td>$13 - $18 an hour</td>\n",
       "      <td>\\n Develop and maintains accurate field data ...</td>\n",
       "    </tr>\n",
       "    <tr>\n",
       "      <th>2566</th>\n",
       "      <td>Data Scientist (Data Science R&amp;D)</td>\n",
       "      <td>CareerBuilder</td>\n",
       "      <td>Norcross, GA 30092</td>\n",
       "      <td>$10,000 a year</td>\n",
       "      <td>\\nData Scientist (Data Science R&amp;D). The Data ...</td>\n",
       "    </tr>\n",
       "  </tbody>\n",
       "</table>\n",
       "</div>"
      ],
      "text/plain": [
       "                                            Title  \\\n",
       "2545                    Mathematical Statistician   \n",
       "2546                          Lead Data Scientist   \n",
       "2547                             Health Scientist   \n",
       "2548    Health Scientist (Vulnerable Populations)   \n",
       "2549                      Research Microbiologist   \n",
       "2550                 Scientist, Med Imag Analysis   \n",
       "2551                   Associate Research Analyst   \n",
       "2552                           Sr. Data Scientist   \n",
       "2553               Institutional Research Analyst   \n",
       "2554                            Big Data Engineer   \n",
       "2555                 Supervisory Health Scientist   \n",
       "2556            Supervisory Statistician (Health)   \n",
       "2557              Data Scientist/Machine Learning   \n",
       "2558   Supervisory Health Scientist (Informatics)   \n",
       "2559  Audit Snr (Banking) - Data Analysis 60K-80K   \n",
       "2560                         Certifying Scientist   \n",
       "2561           Supervisory Economist/Statistician   \n",
       "2562                       Marketing Statistician   \n",
       "2563              Market Research & Sales Analyst   \n",
       "2564         Sponsored Research Financial Analyst   \n",
       "2565                       Engineering Technician   \n",
       "2566            Data Scientist (Data Science R&D)   \n",
       "\n",
       "                                         Company  \\\n",
       "2545  Centers for Disease Control and Prevention   \n",
       "2546                                  Stackfolio   \n",
       "2547  Centers for Disease Control and Prevention   \n",
       "2548  Centers for Disease Control and Prevention   \n",
       "2549  Centers for Disease Control and Prevention   \n",
       "2550                            Emory University   \n",
       "2551                                        CSTE   \n",
       "2552                         CHASE Professionals   \n",
       "2553                            Emory University   \n",
       "2554                                     Topmist   \n",
       "2555  Centers for Disease Control and Prevention   \n",
       "2556  Centers for Disease Control and Prevention   \n",
       "2557                                     aquesst   \n",
       "2558  Centers for Disease Control and Prevention   \n",
       "2559                        Synergy Search Group   \n",
       "2560                       Lighthouse Recruiting   \n",
       "2561                    U.S. Department of Labor   \n",
       "2562                     Smith Hanley Associates   \n",
       "2563                 Interesse International Inc   \n",
       "2564                            Emory University   \n",
       "2565                DeKalb Workforce Development   \n",
       "2566                               CareerBuilder   \n",
       "\n",
       "                                      Location                      Salary  \\\n",
       "2545                               Atlanta, GA   $88,305 - $114,802 a year   \n",
       "2546  Atlanta, GA 30308 (Old Fourth Ward area)              $80,000 a year   \n",
       "2547                               Atlanta, GA  $122,744 - $159,572 a year   \n",
       "2548                               Atlanta, GA  $122,744 - $159,572 a year   \n",
       "2549                               Atlanta, GA   $74,260 - $114,802 a year   \n",
       "2550                               Atlanta, GA              $69,900 a year   \n",
       "2551                         Atlanta, GA 30341              $51,706 a year   \n",
       "2552                                Duluth, GA  $100,000 - $120,000 a year   \n",
       "2553                               Atlanta, GA              $69,900 a year   \n",
       "2554                               Atlanta, GA              $80,000 a year   \n",
       "2555                               Atlanta, GA  $104,349 - $135,656 a year   \n",
       "2556                               Atlanta, GA  $122,744 - $159,572 a year   \n",
       "2557         Atlanta, GA 30305 (Buckhead area)  $120,000 - $150,000 a year   \n",
       "2558                               Atlanta, GA  $122,744 - $159,572 a year   \n",
       "2559                               Atlanta, GA              $80,000 a year   \n",
       "2560                               Atlanta, GA    $55,000 - $70,000 a year   \n",
       "2561                               Atlanta, GA   $88,305 - $114,802 a year   \n",
       "2562                               Atlanta, GA   $75,000 - $100,000 a year   \n",
       "2563                               Atlanta, GA    $60,000 - $70,000 a year   \n",
       "2564                               Atlanta, GA              $66,700 a year   \n",
       "2565                               Decatur, GA           $13 - $18 an hour   \n",
       "2566                        Norcross, GA 30092              $10,000 a year   \n",
       "\n",
       "                                                Summary  \n",
       "2545  \\nTo conduct evaluations of data collection, r...  \n",
       "2546  \\nWe are looking for a bright and experienced ...  \n",
       "2547  \\nAs a Health Scientist you will:. Data Analys...  \n",
       "2548  \\nAs a Health Scientist (Vulnerable Population...  \n",
       "2549  \\nCollaborate with scientists and program cons...  \n",
       "2550  \\nThe Medical Image Analysis Scientist, works ...  \n",
       "2551  \\nSkills with developing and presenting epidem...  \n",
       "2552  \\nSenior Data Scientist. The Senior Data Scien...  \n",
       "2553  \\nManaging benchmark data; Primary responsibil...  \n",
       "2554  \\nAt Topmist, we bring together the brightest ...  \n",
       "2555  \\nAs a Supervisory Health Scientist you will:....  \n",
       "2556  \\nProvide reviews of program and research data...  \n",
       "2557  \\nData ScientistFulltime Opportunity in Atlant...  \n",
       "2558  \\nSupervisory Health Scientist (Informatics). ...  \n",
       "2559  \\nDuties will include data conversion from mul...  \n",
       "2560  \\nA growing clinical toxicology laboratory is ...  \n",
       "2561  \\nResponsible for developing the regional prog...  \n",
       "2562  \\n-Business based experience doing data mining...  \n",
       "2563  \\nEstimate numerical data; Must see through th...  \n",
       "2564  \\nResponsible for post award processing of gra...  \n",
       "2565  \\n Develop and maintains accurate field data ...  \n",
       "2566  \\nData Scientist (Data Science R&D). The Data ...  "
      ]
     },
     "execution_count": 193,
     "metadata": {},
     "output_type": "execute_result"
    }
   ],
   "source": [
    "df[df.Location.str.contains(', GA')]"
   ]
  },
  {
   "cell_type": "markdown",
   "metadata": {
    "focus": false,
    "id": "ff98ce64-78a7-441f-a675-63464e32c834"
   },
   "source": [
    "Lastly, we need to clean up salary data. \n",
    "\n",
    "1. Only a small number of the scraped results have salary information - only these will be used for modeling.\n",
    "1. Some of the salaries are not yearly but hourly or weekly, these will not be useful to us for now\n",
    "1. Some of the entries may be duplicated\n",
    "1. The salaries are given as text and usually with ranges.\n",
    "\n",
    "#### Find the entries with annual salary entries, by filtering the entries without salaries or salaries that are not yearly (filter those that refer to hour or week). Also, remove duplicate entries"
   ]
  },
  {
   "cell_type": "code",
   "execution_count": 194,
   "metadata": {
    "collapsed": false,
    "focus": false,
    "id": "58533e57-f86b-494a-b841-e7b59c6229c6"
   },
   "outputs": [
    {
     "data": {
      "text/plain": [
       "(290, 5)"
      ]
     },
     "execution_count": 194,
     "metadata": {},
     "output_type": "execute_result"
    }
   ],
   "source": [
    "## YOUR CODE HERE\n",
    "dfc=df.copy()\n",
    "#dfc=indeed.copy()\n",
    "dfc=dfc.drop_duplicates()\n",
    "dfc=dfc.dropna()\n",
    "dfc=dfc[dfc.Salary.str.contains('a year')]\n",
    "dfc.shape"
   ]
  },
  {
   "cell_type": "markdown",
   "metadata": {
    "focus": false,
    "id": "7d4bc860-b214-4f75-9cd0-b234830b1ec2"
   },
   "source": [
    "#### Write a function that takes a salary string and converts it to a number, averaging a salary range if necessary"
   ]
  },
  {
   "cell_type": "code",
   "execution_count": 195,
   "metadata": {
    "collapsed": false,
    "focus": false,
    "id": "a0f701e0-80bd-40ba-9101-4535860c0968"
   },
   "outputs": [],
   "source": [
    "def clean_Salary(sal):\n",
    "    if  (\" - \") in sal:\n",
    "        sal=sal.replace('$','')\n",
    "        sal=sal.replace(',','')\n",
    "        sal=sal.replace('a year','')\n",
    "        sp=sal.split(\" - \")\n",
    "        sal=(float(sp[0])+float(sp[1]))/2\n",
    "    else:\n",
    "        sal=sal.replace('$','')\n",
    "        sal=sal.replace(',','')\n",
    "        sal=sal.replace('a year','')\n",
    "        sal=float(sal.strip())\n",
    "    return sal   \n"
   ]
  },
  {
   "cell_type": "code",
   "execution_count": 196,
   "metadata": {
    "collapsed": true
   },
   "outputs": [],
   "source": [
    "dfc.Salary=[clean_Salary(x) for x in dfc.Salary]"
   ]
  },
  {
   "cell_type": "code",
   "execution_count": 27,
   "metadata": {
    "collapsed": true
   },
   "outputs": [],
   "source": [
    "df_raw=pd.read_csv('indeed_jobs.csv')"
   ]
  },
  {
   "cell_type": "code",
   "execution_count": 28,
   "metadata": {
    "collapsed": false
   },
   "outputs": [],
   "source": [
    "indeed['Location']=df_raw.Location"
   ]
  },
  {
   "cell_type": "code",
   "execution_count": null,
   "metadata": {
    "collapsed": false
   },
   "outputs": [],
   "source": []
  },
  {
   "cell_type": "code",
   "execution_count": 24,
   "metadata": {
    "collapsed": false
   },
   "outputs": [],
   "source": [
    "c_city=[]\n",
    "test=['San Francisco Bay Area, CA', 'Martinez, CA', 'Austin, TX 78746']   \n",
    "for L in indeed.Location: #dfc.Location:\n",
    "    if ', NY' in L:\n",
    "        city= \"New York\"\n",
    "    elif ', IL' in L:\n",
    "        city= \"Chicago\"\n",
    "    elif 'Austin, TX' in L:   \n",
    "        city= \"Austin\"\n",
    "    elif ', WA' in L:\n",
    "        city= \"Seattle\"\n",
    "    elif ', GA'  in L:\n",
    "        city= 'Atlanta'\n",
    "    elif 'Houston, TX'  in L:\n",
    "        city= \"Houston\"\n",
    "    elif ', TX'  in L:\n",
    "        city= \"Dallas\"\n",
    "    elif 'Pittsburgh' in L:\n",
    "        city= \"Pittsburgh\"\n",
    "    elif ', PA'  in L:\n",
    "        city= \"Philadelphia\"\n",
    "    elif ', OR'  in L:\n",
    "        city= \"Portland\"\n",
    "    elif ', AZ' in L:\n",
    "        city= \"Phoenix\"\n",
    "    elif ', CO'  in L:\n",
    "        city= \"Denver\"\n",
    "    elif ', FL'  in L:\n",
    "        city= \"Miami\"\n",
    "    elif ', NC' in L:\n",
    "        city= \"Raleigh\"\n",
    "    elif 'Los Angeles' in L:\n",
    "        city= \"Los Angeles\"\n",
    "    elif 'Woodland Hills' in L:\n",
    "        city= \"Los Angeles\"\n",
    "    elif 'Santa Monica' in L:\n",
    "        city= \"Los Angeles\" \n",
    "    elif 'Anaheim' in L:\n",
    "        city= \"Los Angeles\"\n",
    "    elif 'Pasadena' in L:\n",
    "        city= \"Los Angeles\"\n",
    "    else:\n",
    "        city= \"San Francisco\"\n",
    "        \n",
    "    c_city.append(city) \n",
    "\n",
    "indeed['City'] = c_city\n"
   ]
  },
  {
   "cell_type": "code",
   "execution_count": 204,
   "metadata": {
    "collapsed": false
   },
   "outputs": [
    {
     "data": {
      "text/html": [
       "<div>\n",
       "<table border=\"1\" class=\"dataframe\">\n",
       "  <thead>\n",
       "    <tr style=\"text-align: right;\">\n",
       "      <th></th>\n",
       "      <th>Title</th>\n",
       "      <th>Company</th>\n",
       "      <th>Location</th>\n",
       "      <th>Salary</th>\n",
       "      <th>Summary</th>\n",
       "      <th>City</th>\n",
       "    </tr>\n",
       "  </thead>\n",
       "  <tbody>\n",
       "    <tr>\n",
       "      <th>0</th>\n",
       "      <td>Data Scientist</td>\n",
       "      <td>Big Cloud</td>\n",
       "      <td>New York, NY</td>\n",
       "      <td>150000.0</td>\n",
       "      <td>\\nAre you an experienced, talented and creativ...</td>\n",
       "      <td>New York</td>\n",
       "    </tr>\n",
       "    <tr>\n",
       "      <th>2</th>\n",
       "      <td>Data Scientist</td>\n",
       "      <td>Princeton Consulting</td>\n",
       "      <td>New York, NY 10018 (Clinton area)</td>\n",
       "      <td>150000.0</td>\n",
       "      <td>\\nAbility to visualize and communicate data sc...</td>\n",
       "      <td>New York</td>\n",
       "    </tr>\n",
       "    <tr>\n",
       "      <th>3</th>\n",
       "      <td>Data Scientist, Predictive Modeling</td>\n",
       "      <td>Workbridge Associates</td>\n",
       "      <td>New York, NY</td>\n",
       "      <td>115000.0</td>\n",
       "      <td>\\nThey are looking for a skilled data scientis...</td>\n",
       "      <td>New York</td>\n",
       "    </tr>\n",
       "    <tr>\n",
       "      <th>4</th>\n",
       "      <td>Data Scientist</td>\n",
       "      <td>Smith Hanley Associates</td>\n",
       "      <td>New York, NY</td>\n",
       "      <td>82500.0</td>\n",
       "      <td>\\nMissing data imputation. Conduct basic resea...</td>\n",
       "      <td>New York</td>\n",
       "    </tr>\n",
       "    <tr>\n",
       "      <th>5</th>\n",
       "      <td>Data Scientist</td>\n",
       "      <td>Workbridge Associates</td>\n",
       "      <td>New York, NY</td>\n",
       "      <td>115000.0</td>\n",
       "      <td>\\nAny other experience within data scalability...</td>\n",
       "      <td>New York</td>\n",
       "    </tr>\n",
       "    <tr>\n",
       "      <th>6</th>\n",
       "      <td>Data Scientist</td>\n",
       "      <td>TalentHub Worldwide</td>\n",
       "      <td>New York, NY 10017 (Midtown area)</td>\n",
       "      <td>105000.0</td>\n",
       "      <td>\\nThe Data Scientist assists in creating and m...</td>\n",
       "      <td>New York</td>\n",
       "    </tr>\n",
       "    <tr>\n",
       "      <th>7</th>\n",
       "      <td>climate scientist</td>\n",
       "      <td>Research Foundation of The City University of ...</td>\n",
       "      <td>New York, NY</td>\n",
       "      <td>61500.0</td>\n",
       "      <td>\\nExperience with data analysis and statistica...</td>\n",
       "      <td>New York</td>\n",
       "    </tr>\n",
       "    <tr>\n",
       "      <th>8</th>\n",
       "      <td>Research Scientist IV, Grade 27, Job 741871</td>\n",
       "      <td>Research Foundation for Mental Hygiene, Inc.</td>\n",
       "      <td>New York, NY 10032 (Washington Heights area)</td>\n",
       "      <td>55268.0</td>\n",
       "      <td>\\nAnalysis of functional and structural MRI da...</td>\n",
       "      <td>New York</td>\n",
       "    </tr>\n",
       "    <tr>\n",
       "      <th>9</th>\n",
       "      <td>Data Scientist</td>\n",
       "      <td>TW Staffing Solutions</td>\n",
       "      <td>New York, NY</td>\n",
       "      <td>199000.0</td>\n",
       "      <td>\\nData Scientist - New York (total compensatio...</td>\n",
       "      <td>New York</td>\n",
       "    </tr>\n",
       "    <tr>\n",
       "      <th>10</th>\n",
       "      <td>Director, Data Scientist, Marketing Science</td>\n",
       "      <td>Hearts &amp; Science</td>\n",
       "      <td>New York, NY</td>\n",
       "      <td>150000.0</td>\n",
       "      <td>\\nDefine measurement and analytics approaches ...</td>\n",
       "      <td>New York</td>\n",
       "    </tr>\n",
       "    <tr>\n",
       "      <th>11</th>\n",
       "      <td>Senior Analyst (Biostatistician or Epidemiolog...</td>\n",
       "      <td>New York City Department of Health and Mental ...</td>\n",
       "      <td>Long Island City, NY 11101</td>\n",
       "      <td>88331.0</td>\n",
       "      <td>\\n-Experience with inferential statistical ana...</td>\n",
       "      <td>New York</td>\n",
       "    </tr>\n",
       "    <tr>\n",
       "      <th>12</th>\n",
       "      <td>Senior Data Scientist for Multi-Billion Dollar...</td>\n",
       "      <td>Averity</td>\n",
       "      <td>New York, NY</td>\n",
       "      <td>150000.0</td>\n",
       "      <td>\\nAre you Senior Data Scientist looking to joi...</td>\n",
       "      <td>New York</td>\n",
       "    </tr>\n",
       "    <tr>\n",
       "      <th>13</th>\n",
       "      <td>Senior Data Analyst</td>\n",
       "      <td>Helix Sleep</td>\n",
       "      <td>New York, NY</td>\n",
       "      <td>100000.0</td>\n",
       "      <td>\\n2-5+ years of experience in a data scientist...</td>\n",
       "      <td>New York</td>\n",
       "    </tr>\n",
       "    <tr>\n",
       "      <th>14</th>\n",
       "      <td>Data Scientist</td>\n",
       "      <td>VisionPRO</td>\n",
       "      <td>New York, NY</td>\n",
       "      <td>50000.0</td>\n",
       "      <td>\\nKnowledge of current trends in Big Data fram...</td>\n",
       "      <td>New York</td>\n",
       "    </tr>\n",
       "    <tr>\n",
       "      <th>15</th>\n",
       "      <td>Lead Data Scientist for Global Digital Media C...</td>\n",
       "      <td>Averity</td>\n",
       "      <td>New York, NY</td>\n",
       "      <td>200000.0</td>\n",
       "      <td>\\nAre you a Senior Data Scientist looking to l...</td>\n",
       "      <td>New York</td>\n",
       "    </tr>\n",
       "    <tr>\n",
       "      <th>16</th>\n",
       "      <td>Quantitative Research Analyst for Multi-Billio...</td>\n",
       "      <td>Averity</td>\n",
       "      <td>New York, NY</td>\n",
       "      <td>150000.0</td>\n",
       "      <td>\\nExperience with Big Data Concepts (Hadoop, S...</td>\n",
       "      <td>New York</td>\n",
       "    </tr>\n",
       "    <tr>\n",
       "      <th>17</th>\n",
       "      <td>Wade &amp; Wendy_Data Scientist/Engineer</td>\n",
       "      <td>Wade &amp; Wendy</td>\n",
       "      <td>New York, NY</td>\n",
       "      <td>100000.0</td>\n",
       "      <td>\\nOur Data Scientist will integrate data from ...</td>\n",
       "      <td>New York</td>\n",
       "    </tr>\n",
       "    <tr>\n",
       "      <th>18</th>\n",
       "      <td>Data Scientist</td>\n",
       "      <td>VROOM</td>\n",
       "      <td>New York, NY</td>\n",
       "      <td>115000.0</td>\n",
       "      <td>\\nAs one of Vroom’s first data scientists you ...</td>\n",
       "      <td>New York</td>\n",
       "    </tr>\n",
       "    <tr>\n",
       "      <th>19</th>\n",
       "      <td>Hedge Fund Data Scientist</td>\n",
       "      <td>Selby Jennings</td>\n",
       "      <td>New York, NY 10167 (Midtown area)</td>\n",
       "      <td>150000.0</td>\n",
       "      <td>\\nSenior Data Scientist. A hedge fund with ove...</td>\n",
       "      <td>New York</td>\n",
       "    </tr>\n",
       "    <tr>\n",
       "      <th>20</th>\n",
       "      <td>Quantitative Analyst</td>\n",
       "      <td>Green Key Resources</td>\n",
       "      <td>New York, NY 10016 (Gramercy area)</td>\n",
       "      <td>195000.0</td>\n",
       "      <td>\\nQualifications Masters in Mathematics, Physi...</td>\n",
       "      <td>New York</td>\n",
       "    </tr>\n",
       "    <tr>\n",
       "      <th>21</th>\n",
       "      <td>City Research Scientist</td>\n",
       "      <td>DEPT OF ENVIRONMENT PROTECTION</td>\n",
       "      <td>New York, NY</td>\n",
       "      <td>64055.5</td>\n",
       "      <td>\\nThe City Research Scientist is responsible f...</td>\n",
       "      <td>New York</td>\n",
       "    </tr>\n",
       "    <tr>\n",
       "      <th>22</th>\n",
       "      <td>Senior Data Scientist at High Growth Company</td>\n",
       "      <td>Jobspring Partners</td>\n",
       "      <td>New York, NY</td>\n",
       "      <td>155000.0</td>\n",
       "      <td>\\nAs a Senior Data Scientist, you would be res...</td>\n",
       "      <td>New York</td>\n",
       "    </tr>\n",
       "    <tr>\n",
       "      <th>23</th>\n",
       "      <td>Data Scientist at Video Software Company</td>\n",
       "      <td>Averity</td>\n",
       "      <td>New York, NY</td>\n",
       "      <td>150000.0</td>\n",
       "      <td>\\nData visualization skills. Are you a talente...</td>\n",
       "      <td>New York</td>\n",
       "    </tr>\n",
       "    <tr>\n",
       "      <th>24</th>\n",
       "      <td>Senior Data Scientist with Extensive Machine L...</td>\n",
       "      <td>Averity</td>\n",
       "      <td>New York, NY</td>\n",
       "      <td>130000.0</td>\n",
       "      <td>\\nAre you a Senior Data Scientist who is passi...</td>\n",
       "      <td>New York</td>\n",
       "    </tr>\n",
       "    <tr>\n",
       "      <th>25</th>\n",
       "      <td>Principal Data Scientist</td>\n",
       "      <td>Averity</td>\n",
       "      <td>New York, NY</td>\n",
       "      <td>157500.0</td>\n",
       "      <td>\\nThe Principal Data Scientist on our team wil...</td>\n",
       "      <td>New York</td>\n",
       "    </tr>\n",
       "    <tr>\n",
       "      <th>26</th>\n",
       "      <td>City Research Scientist</td>\n",
       "      <td>City of New York</td>\n",
       "      <td>New York, NY</td>\n",
       "      <td>59984.5</td>\n",
       "      <td>\\nCity Research Scientist. Experience working ...</td>\n",
       "      <td>New York</td>\n",
       "    </tr>\n",
       "    <tr>\n",
       "      <th>27</th>\n",
       "      <td>Data Scientist Hedge Fund New York</td>\n",
       "      <td>Selby Jennings</td>\n",
       "      <td>New York, NY 10167 (Midtown area)</td>\n",
       "      <td>157500.0</td>\n",
       "      <td>\\nData Scientist/Data Engineer. A well establi...</td>\n",
       "      <td>New York</td>\n",
       "    </tr>\n",
       "    <tr>\n",
       "      <th>28</th>\n",
       "      <td>Data Scientist</td>\n",
       "      <td>Talon</td>\n",
       "      <td>New York, NY</td>\n",
       "      <td>120000.0</td>\n",
       "      <td>\\nOur client is looking for a highly driven an...</td>\n",
       "      <td>New York</td>\n",
       "    </tr>\n",
       "    <tr>\n",
       "      <th>29</th>\n",
       "      <td>Data Analysis Specialist</td>\n",
       "      <td>Green Key Resources</td>\n",
       "      <td>New York, NY 10016 (Gramercy area)</td>\n",
       "      <td>195000.0</td>\n",
       "      <td>\\n7+ years of relevant Data Governance experie...</td>\n",
       "      <td>New York</td>\n",
       "    </tr>\n",
       "    <tr>\n",
       "      <th>31</th>\n",
       "      <td>Global Regulatory Research Analyst</td>\n",
       "      <td>Polaris</td>\n",
       "      <td>New York, NY 10005 (Financial District area)</td>\n",
       "      <td>57500.0</td>\n",
       "      <td>\\nAnalyze and collect data, present and defend...</td>\n",
       "      <td>New York</td>\n",
       "    </tr>\n",
       "    <tr>\n",
       "      <th>...</th>\n",
       "      <td>...</td>\n",
       "      <td>...</td>\n",
       "      <td>...</td>\n",
       "      <td>...</td>\n",
       "      <td>...</td>\n",
       "      <td>...</td>\n",
       "    </tr>\n",
       "    <tr>\n",
       "      <th>3603</th>\n",
       "      <td>Marketing Manager | Strategic Data Analysis</td>\n",
       "      <td>Clearpoint</td>\n",
       "      <td>Houston, TX</td>\n",
       "      <td>110000.0</td>\n",
       "      <td>\\nMUST HAVE strong data analysis experience. T...</td>\n",
       "      <td>Houston</td>\n",
       "    </tr>\n",
       "    <tr>\n",
       "      <th>3604</th>\n",
       "      <td>Senior Predictive Modeling Actuary</td>\n",
       "      <td>Selby Jennings</td>\n",
       "      <td>Houston, TX</td>\n",
       "      <td>100000.0</td>\n",
       "      <td>\\nSenior Predictive Modeler A leading global i...</td>\n",
       "      <td>Houston</td>\n",
       "    </tr>\n",
       "    <tr>\n",
       "      <th>3605</th>\n",
       "      <td>Senior Quality Assurance / Quality Control (Re...</td>\n",
       "      <td>Baylor College of Medicine</td>\n",
       "      <td>Houston, TX</td>\n",
       "      <td>60998.0</td>\n",
       "      <td>\\nExternal Title: Senior Quality Assurance / Q...</td>\n",
       "      <td>Houston</td>\n",
       "    </tr>\n",
       "    <tr>\n",
       "      <th>3606</th>\n",
       "      <td>Bioinformatics Programmer II</td>\n",
       "      <td>Baylor College of Medicine</td>\n",
       "      <td>Houston, TX</td>\n",
       "      <td>72120.0</td>\n",
       "      <td>\\nUses and customizes statistical graphing too...</td>\n",
       "      <td>Houston</td>\n",
       "    </tr>\n",
       "    <tr>\n",
       "      <th>3607</th>\n",
       "      <td>Bioinformatics Postdoctoral Fellow</td>\n",
       "      <td>Texas A&amp;M University</td>\n",
       "      <td>Houston, TX 77058 (Pasadena area)</td>\n",
       "      <td>70000.0</td>\n",
       "      <td>\\nPrimary responsibilities include application...</td>\n",
       "      <td>Houston</td>\n",
       "    </tr>\n",
       "    <tr>\n",
       "      <th>3608</th>\n",
       "      <td>Senior Research Quality Assurance Analyst</td>\n",
       "      <td>Baylor College of Medicine</td>\n",
       "      <td>Houston, TX</td>\n",
       "      <td>54590.0</td>\n",
       "      <td>\\nData entry and management of Quality Assuran...</td>\n",
       "      <td>Houston</td>\n",
       "    </tr>\n",
       "    <tr>\n",
       "      <th>3609</th>\n",
       "      <td>Assistant Scientist</td>\n",
       "      <td>University of Miami</td>\n",
       "      <td>Coral Gables, FL</td>\n",
       "      <td>75400.0</td>\n",
       "      <td>\\nThe Department of Surgery is currently seeki...</td>\n",
       "      <td>Miami</td>\n",
       "    </tr>\n",
       "    <tr>\n",
       "      <th>3610</th>\n",
       "      <td>Assistant Scientist/Postdoctoral Associate</td>\n",
       "      <td>University of Miami</td>\n",
       "      <td>Coral Gables, FL</td>\n",
       "      <td>59450.0</td>\n",
       "      <td>\\nThis position interacts with an established ...</td>\n",
       "      <td>Miami</td>\n",
       "    </tr>\n",
       "    <tr>\n",
       "      <th>3611</th>\n",
       "      <td>Statistical Programmer</td>\n",
       "      <td>University of Miami</td>\n",
       "      <td>Coral Gables, FL</td>\n",
       "      <td>32900.0</td>\n",
       "      <td>\\nConduct routine data checks to ensure data i...</td>\n",
       "      <td>Miami</td>\n",
       "    </tr>\n",
       "    <tr>\n",
       "      <th>3612</th>\n",
       "      <td>Lead Research Analyst (Biostatistics)</td>\n",
       "      <td>University of Miami</td>\n",
       "      <td>Coral Gables, FL</td>\n",
       "      <td>93100.0</td>\n",
       "      <td>\\nThis position is responsible for planning, i...</td>\n",
       "      <td>Miami</td>\n",
       "    </tr>\n",
       "    <tr>\n",
       "      <th>3613</th>\n",
       "      <td>Senior Research Analyst</td>\n",
       "      <td>University of Miami</td>\n",
       "      <td>Coral Gables, FL</td>\n",
       "      <td>48000.0</td>\n",
       "      <td>\\nAbility to analyze data and formulate conclu...</td>\n",
       "      <td>Miami</td>\n",
       "    </tr>\n",
       "    <tr>\n",
       "      <th>3614</th>\n",
       "      <td>Financial Analyst (Clinical Research Revenue)</td>\n",
       "      <td>University of Miami</td>\n",
       "      <td>Coral Gables, FL</td>\n",
       "      <td>44875.0</td>\n",
       "      <td>\\nThe University of Miami is considered among ...</td>\n",
       "      <td>Miami</td>\n",
       "    </tr>\n",
       "    <tr>\n",
       "      <th>3615</th>\n",
       "      <td>Sr. Research Associate 1</td>\n",
       "      <td>University of Miami</td>\n",
       "      <td>Coral Gables, FL</td>\n",
       "      <td>56000.0</td>\n",
       "      <td>\\nComputer skills related to data management r...</td>\n",
       "      <td>Miami</td>\n",
       "    </tr>\n",
       "    <tr>\n",
       "      <th>3616</th>\n",
       "      <td>Research Assistant (Part-Time)</td>\n",
       "      <td>University of Miami</td>\n",
       "      <td>Coral Gables, FL</td>\n",
       "      <td>38400.0</td>\n",
       "      <td>\\nMaintains records, codes data for input for ...</td>\n",
       "      <td>Miami</td>\n",
       "    </tr>\n",
       "    <tr>\n",
       "      <th>3617</th>\n",
       "      <td>Librarian Research Analyst</td>\n",
       "      <td>Morgan Stephens</td>\n",
       "      <td>Miami, FL</td>\n",
       "      <td>80000.0</td>\n",
       "      <td>\\nLooking for a Legal Librarian that will be r...</td>\n",
       "      <td>Miami</td>\n",
       "    </tr>\n",
       "    <tr>\n",
       "      <th>3618</th>\n",
       "      <td>Research Associate 2</td>\n",
       "      <td>University of Miami</td>\n",
       "      <td>Coral Gables, FL</td>\n",
       "      <td>46000.0</td>\n",
       "      <td>\\nRecord and evaluate data in accordance with ...</td>\n",
       "      <td>Miami</td>\n",
       "    </tr>\n",
       "    <tr>\n",
       "      <th>3619</th>\n",
       "      <td>Senior Operations Research Analyst</td>\n",
       "      <td>Smith Hanley Associates</td>\n",
       "      <td>Miami, FL</td>\n",
       "      <td>85000.0</td>\n",
       "      <td>\\nConduct analysis of business data to present...</td>\n",
       "      <td>Miami</td>\n",
       "    </tr>\n",
       "    <tr>\n",
       "      <th>3620</th>\n",
       "      <td>QC Chemist</td>\n",
       "      <td>Staffing Resource Group</td>\n",
       "      <td>Miami, FL</td>\n",
       "      <td>50000.0</td>\n",
       "      <td>\\nDraws conclusions from data and communicates...</td>\n",
       "      <td>Miami</td>\n",
       "    </tr>\n",
       "    <tr>\n",
       "      <th>3621</th>\n",
       "      <td>Senior Scientist</td>\n",
       "      <td>Bradsby Group</td>\n",
       "      <td>Hallandale Beach, FL 33009</td>\n",
       "      <td>100000.0</td>\n",
       "      <td>\\nAnalyze data and provide recommendations reg...</td>\n",
       "      <td>Miami</td>\n",
       "    </tr>\n",
       "    <tr>\n",
       "      <th>3622</th>\n",
       "      <td>Soc/Clin Research Specialist</td>\n",
       "      <td>University of North Carolina</td>\n",
       "      <td>Chapel Hill, NC 27517</td>\n",
       "      <td>56270.5</td>\n",
       "      <td>\\nFor ensuring accurate and timely data entry ...</td>\n",
       "      <td>Raleigh</td>\n",
       "    </tr>\n",
       "    <tr>\n",
       "      <th>3623</th>\n",
       "      <td>Data Scientist</td>\n",
       "      <td>3coast</td>\n",
       "      <td>Raleigh, NC</td>\n",
       "      <td>150000.0</td>\n",
       "      <td>\\nProvide technical leadership to mentor other...</td>\n",
       "      <td>Raleigh</td>\n",
       "    </tr>\n",
       "    <tr>\n",
       "      <th>3624</th>\n",
       "      <td>PH Zika Virus Specialist</td>\n",
       "      <td>State of North Carolina</td>\n",
       "      <td>Wake County, NC</td>\n",
       "      <td>76215.0</td>\n",
       "      <td>\\nConsults with research scientists and techni...</td>\n",
       "      <td>Raleigh</td>\n",
       "    </tr>\n",
       "    <tr>\n",
       "      <th>3625</th>\n",
       "      <td>Research Analyst</td>\n",
       "      <td>University of North Carolina</td>\n",
       "      <td>Chapel Hill, NC 27517</td>\n",
       "      <td>58000.0</td>\n",
       "      <td>\\nDevelopment and maintenance of data infrastr...</td>\n",
       "      <td>Raleigh</td>\n",
       "    </tr>\n",
       "    <tr>\n",
       "      <th>3626</th>\n",
       "      <td>Applications Specialist</td>\n",
       "      <td>University of North Carolina</td>\n",
       "      <td>Chapel Hill, NC 27517</td>\n",
       "      <td>71300.0</td>\n",
       "      <td>\\nIt will integrate publicly available data an...</td>\n",
       "      <td>Raleigh</td>\n",
       "    </tr>\n",
       "    <tr>\n",
       "      <th>3628</th>\n",
       "      <td>Data Manager (Sullivan's Lab)</td>\n",
       "      <td>University of North Carolina</td>\n",
       "      <td>Chapel Hill, NC 27517</td>\n",
       "      <td>56271.0</td>\n",
       "      <td>\\nStatistical data analysis, genomic data anal...</td>\n",
       "      <td>Raleigh</td>\n",
       "    </tr>\n",
       "    <tr>\n",
       "      <th>3629</th>\n",
       "      <td>Post Doctoral Scientist in Computational Genomics</td>\n",
       "      <td>North Carolina State University</td>\n",
       "      <td>Raleigh, NC 27695 (West area)</td>\n",
       "      <td>40000.0</td>\n",
       "      <td>\\nExperiences in NGS library construction, dat...</td>\n",
       "      <td>Raleigh</td>\n",
       "    </tr>\n",
       "    <tr>\n",
       "      <th>3631</th>\n",
       "      <td>Associate Scientist</td>\n",
       "      <td>Piper Clinical Solutions</td>\n",
       "      <td>Durham, NC</td>\n",
       "      <td>46000.0</td>\n",
       "      <td>\\nResponsibilities for the Associate Scientist...</td>\n",
       "      <td>Raleigh</td>\n",
       "    </tr>\n",
       "    <tr>\n",
       "      <th>3632</th>\n",
       "      <td>Executive Director</td>\n",
       "      <td>Carolina Medical Home Network</td>\n",
       "      <td>Raleigh, NC</td>\n",
       "      <td>117500.0</td>\n",
       "      <td>\\nAnalytic Data Scientist, ACO Program Manager...</td>\n",
       "      <td>Raleigh</td>\n",
       "    </tr>\n",
       "    <tr>\n",
       "      <th>3634</th>\n",
       "      <td>Human Resource Specialist</td>\n",
       "      <td>North Carolina State University</td>\n",
       "      <td>Raleigh, NC</td>\n",
       "      <td>44907.5</td>\n",
       "      <td>\\nExperience using PeopleSoft HR including sys...</td>\n",
       "      <td>Raleigh</td>\n",
       "    </tr>\n",
       "    <tr>\n",
       "      <th>3637</th>\n",
       "      <td>Sr Software Engineer - Big Data/Machine Learning</td>\n",
       "      <td>PeopleScout</td>\n",
       "      <td>Raleigh-Durham, NC</td>\n",
       "      <td>125000.0</td>\n",
       "      <td>\\nDesign and work with complex data models in ...</td>\n",
       "      <td>Raleigh</td>\n",
       "    </tr>\n",
       "  </tbody>\n",
       "</table>\n",
       "<p>290 rows × 6 columns</p>\n",
       "</div>"
      ],
      "text/plain": [
       "                                                  Title  \\\n",
       "0                                        Data Scientist   \n",
       "2                                        Data Scientist   \n",
       "3                   Data Scientist, Predictive Modeling   \n",
       "4                                        Data Scientist   \n",
       "5                                        Data Scientist   \n",
       "6                                        Data Scientist   \n",
       "7                                     climate scientist   \n",
       "8           Research Scientist IV, Grade 27, Job 741871   \n",
       "9                                        Data Scientist   \n",
       "10          Director, Data Scientist, Marketing Science   \n",
       "11    Senior Analyst (Biostatistician or Epidemiolog...   \n",
       "12    Senior Data Scientist for Multi-Billion Dollar...   \n",
       "13                                  Senior Data Analyst   \n",
       "14                                       Data Scientist   \n",
       "15    Lead Data Scientist for Global Digital Media C...   \n",
       "16    Quantitative Research Analyst for Multi-Billio...   \n",
       "17                 Wade & Wendy_Data Scientist/Engineer   \n",
       "18                                       Data Scientist   \n",
       "19                            Hedge Fund Data Scientist   \n",
       "20                                 Quantitative Analyst   \n",
       "21                              City Research Scientist   \n",
       "22         Senior Data Scientist at High Growth Company   \n",
       "23             Data Scientist at Video Software Company   \n",
       "24    Senior Data Scientist with Extensive Machine L...   \n",
       "25                             Principal Data Scientist   \n",
       "26                              City Research Scientist   \n",
       "27                   Data Scientist Hedge Fund New York   \n",
       "28                                       Data Scientist   \n",
       "29                             Data Analysis Specialist   \n",
       "31                   Global Regulatory Research Analyst   \n",
       "...                                                 ...   \n",
       "3603        Marketing Manager | Strategic Data Analysis   \n",
       "3604                 Senior Predictive Modeling Actuary   \n",
       "3605  Senior Quality Assurance / Quality Control (Re...   \n",
       "3606                       Bioinformatics Programmer II   \n",
       "3607                 Bioinformatics Postdoctoral Fellow   \n",
       "3608          Senior Research Quality Assurance Analyst   \n",
       "3609                                Assistant Scientist   \n",
       "3610         Assistant Scientist/Postdoctoral Associate   \n",
       "3611                             Statistical Programmer   \n",
       "3612              Lead Research Analyst (Biostatistics)   \n",
       "3613                            Senior Research Analyst   \n",
       "3614      Financial Analyst (Clinical Research Revenue)   \n",
       "3615                           Sr. Research Associate 1   \n",
       "3616                     Research Assistant (Part-Time)   \n",
       "3617                         Librarian Research Analyst   \n",
       "3618                               Research Associate 2   \n",
       "3619                 Senior Operations Research Analyst   \n",
       "3620                                         QC Chemist   \n",
       "3621                                   Senior Scientist   \n",
       "3622                       Soc/Clin Research Specialist   \n",
       "3623                                     Data Scientist   \n",
       "3624                           PH Zika Virus Specialist   \n",
       "3625                                   Research Analyst   \n",
       "3626                            Applications Specialist   \n",
       "3628                      Data Manager (Sullivan's Lab)   \n",
       "3629  Post Doctoral Scientist in Computational Genomics   \n",
       "3631                                Associate Scientist   \n",
       "3632                                 Executive Director   \n",
       "3634                          Human Resource Specialist   \n",
       "3637   Sr Software Engineer - Big Data/Machine Learning   \n",
       "\n",
       "                                                Company  \\\n",
       "0                                             Big Cloud   \n",
       "2                                  Princeton Consulting   \n",
       "3                                 Workbridge Associates   \n",
       "4                               Smith Hanley Associates   \n",
       "5                                 Workbridge Associates   \n",
       "6                                   TalentHub Worldwide   \n",
       "7     Research Foundation of The City University of ...   \n",
       "8          Research Foundation for Mental Hygiene, Inc.   \n",
       "9                                 TW Staffing Solutions   \n",
       "10                                     Hearts & Science   \n",
       "11    New York City Department of Health and Mental ...   \n",
       "12                                              Averity   \n",
       "13                                          Helix Sleep   \n",
       "14                                            VisionPRO   \n",
       "15                                              Averity   \n",
       "16                                              Averity   \n",
       "17                                         Wade & Wendy   \n",
       "18                                                VROOM   \n",
       "19                                       Selby Jennings   \n",
       "20                                  Green Key Resources   \n",
       "21                       DEPT OF ENVIRONMENT PROTECTION   \n",
       "22                                   Jobspring Partners   \n",
       "23                                              Averity   \n",
       "24                                              Averity   \n",
       "25                                              Averity   \n",
       "26                                     City of New York   \n",
       "27                                       Selby Jennings   \n",
       "28                                                Talon   \n",
       "29                                  Green Key Resources   \n",
       "31                                              Polaris   \n",
       "...                                                 ...   \n",
       "3603                                         Clearpoint   \n",
       "3604                                     Selby Jennings   \n",
       "3605                         Baylor College of Medicine   \n",
       "3606                         Baylor College of Medicine   \n",
       "3607                               Texas A&M University   \n",
       "3608                         Baylor College of Medicine   \n",
       "3609                                University of Miami   \n",
       "3610                                University of Miami   \n",
       "3611                                University of Miami   \n",
       "3612                                University of Miami   \n",
       "3613                                University of Miami   \n",
       "3614                                University of Miami   \n",
       "3615                                University of Miami   \n",
       "3616                                University of Miami   \n",
       "3617                                    Morgan Stephens   \n",
       "3618                                University of Miami   \n",
       "3619                            Smith Hanley Associates   \n",
       "3620                            Staffing Resource Group   \n",
       "3621                                      Bradsby Group   \n",
       "3622                       University of North Carolina   \n",
       "3623                                             3coast   \n",
       "3624                            State of North Carolina   \n",
       "3625                       University of North Carolina   \n",
       "3626                       University of North Carolina   \n",
       "3628                       University of North Carolina   \n",
       "3629                    North Carolina State University   \n",
       "3631                           Piper Clinical Solutions   \n",
       "3632                      Carolina Medical Home Network   \n",
       "3634                    North Carolina State University   \n",
       "3637                                        PeopleScout   \n",
       "\n",
       "                                          Location    Salary  \\\n",
       "0                                     New York, NY  150000.0   \n",
       "2                New York, NY 10018 (Clinton area)  150000.0   \n",
       "3                                     New York, NY  115000.0   \n",
       "4                                     New York, NY   82500.0   \n",
       "5                                     New York, NY  115000.0   \n",
       "6                New York, NY 10017 (Midtown area)  105000.0   \n",
       "7                                     New York, NY   61500.0   \n",
       "8     New York, NY 10032 (Washington Heights area)   55268.0   \n",
       "9                                     New York, NY  199000.0   \n",
       "10                                    New York, NY  150000.0   \n",
       "11                      Long Island City, NY 11101   88331.0   \n",
       "12                                    New York, NY  150000.0   \n",
       "13                                    New York, NY  100000.0   \n",
       "14                                    New York, NY   50000.0   \n",
       "15                                    New York, NY  200000.0   \n",
       "16                                    New York, NY  150000.0   \n",
       "17                                    New York, NY  100000.0   \n",
       "18                                    New York, NY  115000.0   \n",
       "19               New York, NY 10167 (Midtown area)  150000.0   \n",
       "20              New York, NY 10016 (Gramercy area)  195000.0   \n",
       "21                                    New York, NY   64055.5   \n",
       "22                                    New York, NY  155000.0   \n",
       "23                                    New York, NY  150000.0   \n",
       "24                                    New York, NY  130000.0   \n",
       "25                                    New York, NY  157500.0   \n",
       "26                                    New York, NY   59984.5   \n",
       "27               New York, NY 10167 (Midtown area)  157500.0   \n",
       "28                                    New York, NY  120000.0   \n",
       "29              New York, NY 10016 (Gramercy area)  195000.0   \n",
       "31    New York, NY 10005 (Financial District area)   57500.0   \n",
       "...                                            ...       ...   \n",
       "3603                                   Houston, TX  110000.0   \n",
       "3604                                   Houston, TX  100000.0   \n",
       "3605                                   Houston, TX   60998.0   \n",
       "3606                                   Houston, TX   72120.0   \n",
       "3607             Houston, TX 77058 (Pasadena area)   70000.0   \n",
       "3608                                   Houston, TX   54590.0   \n",
       "3609                              Coral Gables, FL   75400.0   \n",
       "3610                              Coral Gables, FL   59450.0   \n",
       "3611                              Coral Gables, FL   32900.0   \n",
       "3612                              Coral Gables, FL   93100.0   \n",
       "3613                              Coral Gables, FL   48000.0   \n",
       "3614                              Coral Gables, FL   44875.0   \n",
       "3615                              Coral Gables, FL   56000.0   \n",
       "3616                              Coral Gables, FL   38400.0   \n",
       "3617                                     Miami, FL   80000.0   \n",
       "3618                              Coral Gables, FL   46000.0   \n",
       "3619                                     Miami, FL   85000.0   \n",
       "3620                                     Miami, FL   50000.0   \n",
       "3621                    Hallandale Beach, FL 33009  100000.0   \n",
       "3622                         Chapel Hill, NC 27517   56270.5   \n",
       "3623                                   Raleigh, NC  150000.0   \n",
       "3624                               Wake County, NC   76215.0   \n",
       "3625                         Chapel Hill, NC 27517   58000.0   \n",
       "3626                         Chapel Hill, NC 27517   71300.0   \n",
       "3628                         Chapel Hill, NC 27517   56271.0   \n",
       "3629                 Raleigh, NC 27695 (West area)   40000.0   \n",
       "3631                                    Durham, NC   46000.0   \n",
       "3632                                   Raleigh, NC  117500.0   \n",
       "3634                                   Raleigh, NC   44907.5   \n",
       "3637                            Raleigh-Durham, NC  125000.0   \n",
       "\n",
       "                                                Summary      City  \n",
       "0     \\nAre you an experienced, talented and creativ...  New York  \n",
       "2     \\nAbility to visualize and communicate data sc...  New York  \n",
       "3     \\nThey are looking for a skilled data scientis...  New York  \n",
       "4     \\nMissing data imputation. Conduct basic resea...  New York  \n",
       "5     \\nAny other experience within data scalability...  New York  \n",
       "6     \\nThe Data Scientist assists in creating and m...  New York  \n",
       "7     \\nExperience with data analysis and statistica...  New York  \n",
       "8     \\nAnalysis of functional and structural MRI da...  New York  \n",
       "9     \\nData Scientist - New York (total compensatio...  New York  \n",
       "10    \\nDefine measurement and analytics approaches ...  New York  \n",
       "11    \\n-Experience with inferential statistical ana...  New York  \n",
       "12    \\nAre you Senior Data Scientist looking to joi...  New York  \n",
       "13    \\n2-5+ years of experience in a data scientist...  New York  \n",
       "14    \\nKnowledge of current trends in Big Data fram...  New York  \n",
       "15    \\nAre you a Senior Data Scientist looking to l...  New York  \n",
       "16    \\nExperience with Big Data Concepts (Hadoop, S...  New York  \n",
       "17    \\nOur Data Scientist will integrate data from ...  New York  \n",
       "18    \\nAs one of Vroom’s first data scientists you ...  New York  \n",
       "19    \\nSenior Data Scientist. A hedge fund with ove...  New York  \n",
       "20    \\nQualifications Masters in Mathematics, Physi...  New York  \n",
       "21    \\nThe City Research Scientist is responsible f...  New York  \n",
       "22    \\nAs a Senior Data Scientist, you would be res...  New York  \n",
       "23    \\nData visualization skills. Are you a talente...  New York  \n",
       "24    \\nAre you a Senior Data Scientist who is passi...  New York  \n",
       "25    \\nThe Principal Data Scientist on our team wil...  New York  \n",
       "26    \\nCity Research Scientist. Experience working ...  New York  \n",
       "27    \\nData Scientist/Data Engineer. A well establi...  New York  \n",
       "28    \\nOur client is looking for a highly driven an...  New York  \n",
       "29    \\n7+ years of relevant Data Governance experie...  New York  \n",
       "31    \\nAnalyze and collect data, present and defend...  New York  \n",
       "...                                                 ...       ...  \n",
       "3603  \\nMUST HAVE strong data analysis experience. T...   Houston  \n",
       "3604  \\nSenior Predictive Modeler A leading global i...   Houston  \n",
       "3605  \\nExternal Title: Senior Quality Assurance / Q...   Houston  \n",
       "3606  \\nUses and customizes statistical graphing too...   Houston  \n",
       "3607  \\nPrimary responsibilities include application...   Houston  \n",
       "3608  \\nData entry and management of Quality Assuran...   Houston  \n",
       "3609  \\nThe Department of Surgery is currently seeki...     Miami  \n",
       "3610  \\nThis position interacts with an established ...     Miami  \n",
       "3611  \\nConduct routine data checks to ensure data i...     Miami  \n",
       "3612  \\nThis position is responsible for planning, i...     Miami  \n",
       "3613  \\nAbility to analyze data and formulate conclu...     Miami  \n",
       "3614  \\nThe University of Miami is considered among ...     Miami  \n",
       "3615  \\nComputer skills related to data management r...     Miami  \n",
       "3616  \\nMaintains records, codes data for input for ...     Miami  \n",
       "3617  \\nLooking for a Legal Librarian that will be r...     Miami  \n",
       "3618  \\nRecord and evaluate data in accordance with ...     Miami  \n",
       "3619  \\nConduct analysis of business data to present...     Miami  \n",
       "3620  \\nDraws conclusions from data and communicates...     Miami  \n",
       "3621  \\nAnalyze data and provide recommendations reg...     Miami  \n",
       "3622  \\nFor ensuring accurate and timely data entry ...   Raleigh  \n",
       "3623  \\nProvide technical leadership to mentor other...   Raleigh  \n",
       "3624  \\nConsults with research scientists and techni...   Raleigh  \n",
       "3625  \\nDevelopment and maintenance of data infrastr...   Raleigh  \n",
       "3626  \\nIt will integrate publicly available data an...   Raleigh  \n",
       "3628  \\nStatistical data analysis, genomic data anal...   Raleigh  \n",
       "3629  \\nExperiences in NGS library construction, dat...   Raleigh  \n",
       "3631  \\nResponsibilities for the Associate Scientist...   Raleigh  \n",
       "3632  \\nAnalytic Data Scientist, ACO Program Manager...   Raleigh  \n",
       "3634  \\nExperience using PeopleSoft HR including sys...   Raleigh  \n",
       "3637  \\nDesign and work with complex data models in ...   Raleigh  \n",
       "\n",
       "[290 rows x 6 columns]"
      ]
     },
     "execution_count": 204,
     "metadata": {},
     "output_type": "execute_result"
    }
   ],
   "source": [
    "dfc"
   ]
  },
  {
   "cell_type": "markdown",
   "metadata": {
    "collapsed": false,
    "focus": false,
    "id": "43e71edd-210e-42b1-9336-70a931f048af"
   },
   "source": [
    "### Save your results as a CSV"
   ]
  },
  {
   "cell_type": "code",
   "execution_count": 162,
   "metadata": {
    "collapsed": false,
    "focus": false,
    "id": "783fd153-28ac-47ab-bfca-27e7c1de95b4"
   },
   "outputs": [],
   "source": [
    "## YOUR CODE HERE\n",
    "df.to_csv('indeed_jobs.csv', encoding='utf-8')\n",
    "dfc.to_csv('indeed_jobs_cleaned.csv', encoding='utf-8')"
   ]
  },
  {
   "cell_type": "markdown",
   "metadata": {
    "focus": false,
    "id": "04563b69-f7b6-466f-9d65-fc62c9ddee6a"
   },
   "source": [
    "## Predicting salaries using Random Forests + Another Classifier"
   ]
  },
  {
   "cell_type": "markdown",
   "metadata": {
    "focus": false,
    "id": "243e949e-2742-40af-872e-fec475fd306c"
   },
   "source": [
    "#### Load in the the data of scraped salaries"
   ]
  },
  {
   "cell_type": "code",
   "execution_count": 30,
   "metadata": {
    "collapsed": false,
    "focus": false,
    "id": "588f9845-6143-4bcc-bfd1-85d45b79303d"
   },
   "outputs": [],
   "source": [
    "## YOUR CODE HERE\n",
    "df=pd.read_csv('indeed_jobs_cleaned.csv')\n",
    "\n",
    "indeed=df.copy()\n",
    "#indeed=dfc.copy()"
   ]
  },
  {
   "cell_type": "code",
   "execution_count": null,
   "metadata": {
    "collapsed": false
   },
   "outputs": [],
   "source": [
    "indeed"
   ]
  },
  {
   "cell_type": "code",
   "execution_count": 32,
   "metadata": {
    "collapsed": false
   },
   "outputs": [
    {
     "data": {
      "text/plain": [
       "New York         82\n",
       "Chicago          33\n",
       "San Francisco    31\n",
       "Atlanta          21\n",
       "Philadelphia     20\n",
       "Los Angeles      17\n",
       "Phoenix          16\n",
       "Seattle          14\n",
       "Miami            13\n",
       "Dallas           13\n",
       "Raleigh          11\n",
       "Denver            9\n",
       "Austin            5\n",
       "Portland          5\n",
       "Name: City, dtype: int64"
      ]
     },
     "execution_count": 32,
     "metadata": {},
     "output_type": "execute_result"
    }
   ],
   "source": [
    "indeed.City.value_counts(dropna=False)"
   ]
  },
  {
   "cell_type": "code",
   "execution_count": 208,
   "metadata": {
    "collapsed": true
   },
   "outputs": [],
   "source": [
    "dfc.drop('Location', axis=1,inplace=True)"
   ]
  },
  {
   "cell_type": "markdown",
   "metadata": {
    "focus": false,
    "id": "c7631f51-07f2-4c79-a093-3e9bc7849a48"
   },
   "source": [
    "#### We want to predict a binary variable - whether the salary was low or high. Compute the median salary and create a new binary variable that is true when the salary is high (above the median)\n",
    "\n",
    "We could also perform Linear Regression (or any regression) to predict the salary value here. Instead, we are going to convert this into a _binary_ classification problem, by predicting two classes, HIGH vs LOW salary.\n",
    "\n",
    "While performing regression may be better, performing classification may help remove some of the noise of the extreme salaries. We don't have to choice the `median` as the splitting point - we could also split on the 75th percentile or any other reasonable breaking point.\n",
    "\n",
    "In fact, the ideal scenario may be to predict many levels of salaries, "
   ]
  },
  {
   "cell_type": "code",
   "execution_count": 209,
   "metadata": {
    "collapsed": false
   },
   "outputs": [
    {
     "data": {
      "text/plain": [
       "<matplotlib.axes._subplots.AxesSubplot at 0x6634ce490>"
      ]
     },
     "execution_count": 209,
     "metadata": {},
     "output_type": "execute_result"
    },
    {
     "data": {
      "image/png": "[encoded data removed]",
      "text/plain": [
       "<matplotlib.figure.Figure at 0x667accf50>"
      ]
     },
     "metadata": {},
     "output_type": "display_data"
    }
   ],
   "source": [
    "sns.distplot(indeed.Salary)"
   ]
  },
  {
   "cell_type": "code",
   "execution_count": 36,
   "metadata": {
    "collapsed": false
   },
   "outputs": [],
   "source": [
    "Q50=np.percentile(indeed.Salary,50)\n",
    "indeed['Target']=[1 if x > Q50 else 0 for x in indeed.Salary]"
   ]
  },
  {
   "cell_type": "code",
   "execution_count": 214,
   "metadata": {
    "collapsed": false
   },
   "outputs": [
    {
     "data": {
      "text/plain": [
       "array([1, 0])"
      ]
     },
     "execution_count": 214,
     "metadata": {},
     "output_type": "execute_result"
    }
   ],
   "source": [
    "indeed.Target.unique()"
   ]
  },
  {
   "cell_type": "markdown",
   "metadata": {
    "focus": false,
    "id": "a7afb2c0-d41e-4779-8216-91cd8dd4473f"
   },
   "source": [
    "#### Thought experiment: What is the baseline accuracy for this model?"
   ]
  },
  {
   "cell_type": "code",
   "execution_count": 262,
   "metadata": {
    "collapsed": false
   },
   "outputs": [
    {
     "data": {
      "text/html": [
       "<div>\n",
       "<table border=\"1\" class=\"dataframe\">\n",
       "  <thead>\n",
       "    <tr style=\"text-align: right;\">\n",
       "      <th></th>\n",
       "      <th>Title</th>\n",
       "      <th>Company</th>\n",
       "      <th>Location</th>\n",
       "      <th>Salary</th>\n",
       "      <th>Summary</th>\n",
       "      <th>City</th>\n",
       "      <th>Target</th>\n",
       "      <th>c_Austin</th>\n",
       "      <th>c_Chicago</th>\n",
       "      <th>c_Dallas</th>\n",
       "      <th>...</th>\n",
       "      <th>c_Pittsburgh</th>\n",
       "      <th>c_Portland</th>\n",
       "      <th>c_Raleigh</th>\n",
       "      <th>c_San Francisco</th>\n",
       "      <th>c_Seattle</th>\n",
       "      <th>t_Lead</th>\n",
       "      <th>t_Manager</th>\n",
       "      <th>t_Other</th>\n",
       "      <th>t_Senior</th>\n",
       "      <th>SecondTitle</th>\n",
       "    </tr>\n",
       "  </thead>\n",
       "  <tbody>\n",
       "    <tr>\n",
       "      <th>0</th>\n",
       "      <td>Data Scientist</td>\n",
       "      <td>Big Cloud</td>\n",
       "      <td>New York, NY</td>\n",
       "      <td>150000.0</td>\n",
       "      <td>\\nAre you an experienced, talented and creativ...</td>\n",
       "      <td>New York</td>\n",
       "      <td>1</td>\n",
       "      <td>0.0</td>\n",
       "      <td>0.0</td>\n",
       "      <td>0.0</td>\n",
       "      <td>...</td>\n",
       "      <td>0.0</td>\n",
       "      <td>0.0</td>\n",
       "      <td>0.0</td>\n",
       "      <td>0.0</td>\n",
       "      <td>0.0</td>\n",
       "      <td>0.0</td>\n",
       "      <td>0.0</td>\n",
       "      <td>1.0</td>\n",
       "      <td>0.0</td>\n",
       "      <td>Other</td>\n",
       "    </tr>\n",
       "    <tr>\n",
       "      <th>2</th>\n",
       "      <td>Data Scientist</td>\n",
       "      <td>Princeton Consulting</td>\n",
       "      <td>New York, NY 10018 (Clinton area)</td>\n",
       "      <td>150000.0</td>\n",
       "      <td>\\nAbility to visualize and communicate data sc...</td>\n",
       "      <td>New York</td>\n",
       "      <td>1</td>\n",
       "      <td>0.0</td>\n",
       "      <td>0.0</td>\n",
       "      <td>0.0</td>\n",
       "      <td>...</td>\n",
       "      <td>0.0</td>\n",
       "      <td>0.0</td>\n",
       "      <td>0.0</td>\n",
       "      <td>0.0</td>\n",
       "      <td>0.0</td>\n",
       "      <td>0.0</td>\n",
       "      <td>0.0</td>\n",
       "      <td>1.0</td>\n",
       "      <td>0.0</td>\n",
       "      <td>Other</td>\n",
       "    </tr>\n",
       "  </tbody>\n",
       "</table>\n",
       "<p>2 rows × 27 columns</p>\n",
       "</div>"
      ],
      "text/plain": [
       "            Title               Company                           Location  \\\n",
       "0  Data Scientist             Big Cloud                       New York, NY   \n",
       "2  Data Scientist  Princeton Consulting  New York, NY 10018 (Clinton area)   \n",
       "\n",
       "     Salary                                            Summary      City  \\\n",
       "0  150000.0  \\nAre you an experienced, talented and creativ...  New York   \n",
       "2  150000.0  \\nAbility to visualize and communicate data sc...  New York   \n",
       "\n",
       "   Target  c_Austin  c_Chicago  c_Dallas     ...       c_Pittsburgh  \\\n",
       "0       1       0.0        0.0       0.0     ...                0.0   \n",
       "2       1       0.0        0.0       0.0     ...                0.0   \n",
       "\n",
       "   c_Portland  c_Raleigh  c_San Francisco  c_Seattle  t_Lead  t_Manager  \\\n",
       "0         0.0        0.0              0.0        0.0     0.0        0.0   \n",
       "2         0.0        0.0              0.0        0.0     0.0        0.0   \n",
       "\n",
       "   t_Other  t_Senior  SecondTitle  \n",
       "0      1.0       0.0        Other  \n",
       "2      1.0       0.0        Other  \n",
       "\n",
       "[2 rows x 27 columns]"
      ]
     },
     "execution_count": 262,
     "metadata": {},
     "output_type": "execute_result"
    }
   ],
   "source": [
    "indeed.head(2)"
   ]
  },
  {
   "cell_type": "code",
   "execution_count": 139,
   "metadata": {
    "collapsed": false
   },
   "outputs": [
    {
     "data": {
      "text/plain": [
       "<matplotlib.axes._subplots.AxesSubplot at 0x11e06a2d0>"
      ]
     },
     "execution_count": 139,
     "metadata": {},
     "output_type": "execute_result"
    },
    {
     "data": {
      "image/png": "[encoded data removed]",
      "text/plain": [
       "<matplotlib.figure.Figure at 0x11e06a410>"
      ]
     },
     "metadata": {},
     "output_type": "display_data"
    }
   ],
   "source": [
    "plt.figure(figsize=(13, 10))\n",
    "sns.swarmplot(indeed.City,indeed.Salary,hue=indeed.SecondTitle,size=12)"
   ]
  },
  {
   "cell_type": "code",
   "execution_count": 140,
   "metadata": {
    "collapsed": false
   },
   "outputs": [
    {
     "data": {
      "text/plain": [
       "<matplotlib.axes._subplots.AxesSubplot at 0x11e08d910>"
      ]
     },
     "execution_count": 140,
     "metadata": {},
     "output_type": "execute_result"
    },
    {
     "data": {
      "image/png": "[encoded data removed]",
      "text/plain": [
       "<matplotlib.figure.Figure at 0x11d8a35d0>"
      ]
     },
     "metadata": {},
     "output_type": "display_data"
    }
   ],
   "source": [
    "plt.figure(figsize=(13, 10))\n",
    "sns.swarmplot(indeed.SecondTitle,indeed.Salary,size=12)"
   ]
  },
  {
   "cell_type": "code",
   "execution_count": 34,
   "metadata": {
    "collapsed": true
   },
   "outputs": [],
   "source": [
    "city_dummies = pd.get_dummies(indeed.City, prefix='c').iloc[:, 1:]\n",
    "indeed = pd.concat([indeed, city_dummies], axis=1)\n"
   ]
  },
  {
   "cell_type": "code",
   "execution_count": 156,
   "metadata": {
    "collapsed": false
   },
   "outputs": [
    {
     "data": {
      "text/plain": [
       "0.61627906976744184"
      ]
     },
     "execution_count": 156,
     "metadata": {},
     "output_type": "execute_result"
    }
   ],
   "source": [
    "from sklearn.linear_model import LogisticRegression\n",
    "from sklearn.metrics import accuracy_score\n",
    "cfeatures=[\n",
    "        'c_Austin',\n",
    "        'c_Chicago',\n",
    "        'c_Dallas',\n",
    "        'c_Denver', \n",
    "        'c_Los Angeles',\n",
    "        'c_Miami',\n",
    "        'c_New York',\n",
    "        'c_Philadelphia',\n",
    "        'c_Phoenix',\n",
    "        'c_Portland',\n",
    "        'c_Raleigh',\n",
    "        'c_San Francisco',\n",
    "        'c_Seattle'\n",
    "]\n",
    "X =indeed[cfeatures]\n",
    "y = indeed.Target\n",
    "X_train, X_test, y_train, y_test = train_test_split(X, y, test_size=0.3, random_state=42, stratify=y)\n",
    "\n",
    "#Fit our model to our training data\n",
    "lr = LogisticRegression()\n",
    "lr.fit(X_train,y_train)\n",
    "y_pred=lr.predict(X_test)\n",
    "accuracy_score(y_test,y_pred)"
   ]
  },
  {
   "cell_type": "markdown",
   "metadata": {
    "focus": false,
    "id": "4fb29de2-5b98-474c-a4ad-5170b72b9aea"
   },
   "source": [
    "#### Create a Random Forest model to predict High/Low salary using statsmodel. Start by ONLY using the location as a feature. "
   ]
  },
  {
   "cell_type": "code",
   "execution_count": 52,
   "metadata": {
    "collapsed": false
   },
   "outputs": [
    {
     "data": {
      "text/plain": [
       "0.61627906976744184"
      ]
     },
     "execution_count": 52,
     "metadata": {},
     "output_type": "execute_result"
    }
   ],
   "source": [
    "from sklearn.ensemble import RandomForestRegressor,RandomForestClassifier\n",
    "\n",
    "rfc = RandomForestClassifier()\n",
    "rfc.fit(X_train, y_train)\n",
    "y_pred=rfc.predict(X_test)\n",
    "accuracy_score(y_test,y_pred)"
   ]
  },
  {
   "cell_type": "markdown",
   "metadata": {
    "focus": false,
    "id": "0ef04f32-419c-4bf2-baf7-48201f03df89"
   },
   "source": [
    "#### Create a few new variables in your dataframe to represent interesting features of a job title.\n",
    "- For example, create a feature that represents whether 'Senior' is in the title \n",
    "- or whether 'Manager' is in the title. \n",
    "- Then build a new Random Forest with these features. Do they add any value? \n"
   ]
  },
  {
   "cell_type": "markdown",
   "metadata": {
    "focus": false,
    "id": "9c9274ef-c9f5-4d56-b286-ecc8709eff9f"
   },
   "source": [
    "#### Rebuild this model with scikit-learn.\n",
    "- You can either create the dummy features manually or use the `dmatrix` function from `patsy`\n",
    "- Remember to scale the feature variables as well!\n"
   ]
  },
  {
   "cell_type": "code",
   "execution_count": 39,
   "metadata": {
    "collapsed": false,
    "focus": false,
    "id": "b76f65cd-cd3a-4e91-af55-12880be7b057"
   },
   "outputs": [],
   "source": [
    "## YOUR CODE HERE\n",
    "title2=[]\n",
    "for t in indeed.Title:\n",
    "    \n",
    "    if 'Senior' in t or 'Sr.' in t or 'Sr ' in t : \n",
    "        secondTitle='Senior'\n",
    "    elif 'Manager' in t:\n",
    "        secondTitle='Manager'\n",
    "    elif 'Director' in t or 'VP' in t:\n",
    "        secondTitle='Director'\n",
    "    elif 'Lead' in t:\n",
    "        secondTitle='Lead'\n",
    "    else:\n",
    "        secondTitle='Other'\n",
    "\n",
    "    title2.append(secondTitle)\n",
    "indeed['SecondTitle']=title2\n"
   ]
  },
  {
   "cell_type": "code",
   "execution_count": 40,
   "metadata": {
    "collapsed": false
   },
   "outputs": [],
   "source": [
    "title_dummies = pd.get_dummies(indeed.SecondTitle, prefix='t').iloc[:, 1:]\n",
    "indeed = pd.concat([indeed, title_dummies], axis=1)"
   ]
  },
  {
   "cell_type": "code",
   "execution_count": 256,
   "metadata": {
    "collapsed": true
   },
   "outputs": [],
   "source": [
    "#indeed.drop('SecondTitle', axis=1,inplace=True)"
   ]
  },
  {
   "cell_type": "code",
   "execution_count": 154,
   "metadata": {
    "collapsed": false,
    "focus": false,
    "id": "269b9e7c-60b5-4a06-8255-881d7395bc1b"
   },
   "outputs": [],
   "source": [
    "## YOUR CODE HERE\n",
    "features=[\n",
    "        'c_Austin',\n",
    "        'c_Chicago',\n",
    "        'c_Dallas',\n",
    "        'c_Denver', \n",
    "        'c_Los Angeles',\n",
    "        'c_Miami',\n",
    "        'c_New York',\n",
    "        'c_Philadelphia',\n",
    "        'c_Phoenix',\n",
    "        'c_Portland',\n",
    "        'c_Raleigh',\n",
    "        'c_San Francisco',\n",
    "        'c_Seattle',\n",
    "        't_Lead',\n",
    "        't_Manager',\n",
    "        't_Other', \n",
    "        't_Senior',\n",
    "]\n",
    "X_train, X_test, y_train, y_test = train_test_split(X, y, test_size=0.3, random_state=42, stratify=y)\n",
    "X =indeed[features]\n",
    "y = indeed.Target\n",
    "rfc = RandomForestClassifier()\n",
    "rfc.fit(X_train, y_train)\n",
    "y_pred=rfc.predict(X_test)\n",
    "\n"
   ]
  },
  {
   "cell_type": "markdown",
   "metadata": {
    "focus": false,
    "id": "9367beff-72ba-4768-a0ba-a50b335de61d"
   },
   "source": [
    "#### Use cross-validation in scikit-learn to evaluate the model above. \n",
    "- Evaluate the accuracy of the model. "
   ]
  },
  {
   "cell_type": "code",
   "execution_count": 155,
   "metadata": {
    "collapsed": false
   },
   "outputs": [
    {
     "data": {
      "text/plain": [
       "0.69767441860465118"
      ]
     },
     "execution_count": 155,
     "metadata": {},
     "output_type": "execute_result"
    }
   ],
   "source": [
    "accuracy_score(y_test,y_pred)"
   ]
  },
  {
   "cell_type": "markdown",
   "metadata": {},
   "source": [
    "#### Random Forest Regressor\n",
    "\n",
    "Let's try treating this as a regression problem. \n",
    "\n",
    "- Train a random forest regressor on the regression problem and predict your dependent.\n",
    "- Evaluate the score with a 5-fold cross-validation\n",
    "- Do a scatter plot of the predicted vs actual scores for each of the 5 folds, do they match?"
   ]
  },
  {
   "cell_type": "code",
   "execution_count": 226,
   "metadata": {
    "collapsed": false,
    "focus": false,
    "id": "56cc8854-d722-411d-a6c7-e86310710f67"
   },
   "outputs": [],
   "source": [
    "## YOUR CODE HERE\n"
   ]
  },
  {
   "cell_type": "code",
   "execution_count": 67,
   "metadata": {
    "collapsed": false
   },
   "outputs": [
    {
     "name": "stdout",
     "output_type": "stream",
     "text": [
      "Random Forest Regressor Score:\t-0.337 ± 0.202\n"
     ]
    }
   ],
   "source": [
    "tfeatures=[\n",
    "        'c_Austin',\n",
    "        'c_Chicago',\n",
    "        'c_Dallas',\n",
    "        'c_Denver', \n",
    "        'c_Los Angeles',\n",
    "        'c_Miami',\n",
    "        'c_New York',\n",
    "        'c_Philadelphia',\n",
    "        'c_Phoenix',\n",
    "        'c_Portland',\n",
    "        'c_Raleigh',\n",
    "        'c_San Francisco',\n",
    "        'c_Seattle',\n",
    "        't_Lead',\n",
    "        't_Manager',\n",
    "        't_Other', \n",
    "        't_Senior',\n",
    "]\n",
    "\n",
    "X =indeed[tfeatures]\n",
    "y = indeed.Target\n",
    "regressor = RandomForestRegressor()\n",
    "regressor.fit(X, y)\n",
    "y_pred=regressor.predict(X)\n",
    "\n",
    "s=cross_val_score(RandomForestRegressor(), X, y, cv=5, n_jobs=-1)\n",
    "print \"{} Score:\\t{:0.3} ± {:0.3}\".format(\"Random Forest Regressor\", s.mean().round(3), s.std().round(3))"
   ]
  },
  {
   "cell_type": "code",
   "execution_count": 68,
   "metadata": {
    "collapsed": false
   },
   "outputs": [
    {
     "name": "stdout",
     "output_type": "stream",
     "text": [
      "Decision Tree Score:\t0.597 ± 0.023\n",
      "Bagging DT Score:\t0.576 ± 0.008\n",
      "Random Forest Score:\t0.579 ± 0.028\n",
      "Extra Trees Score:\t0.603 ± 0.022\n"
     ]
    }
   ],
   "source": [
    "from sklearn.cross_validation import cross_val_score, StratifiedKFold\n",
    "from sklearn.tree import DecisionTreeClassifier\n",
    "from sklearn.ensemble import RandomForestClassifier, ExtraTreesClassifier, BaggingClassifier\n",
    "\n",
    "\n",
    "cv = StratifiedKFold(y, n_folds=5, shuffle=True, random_state=55)\n",
    "\n",
    "dt = DecisionTreeClassifier()\n",
    "\n",
    "# instatiate\n",
    "bdt = BaggingClassifier(DecisionTreeClassifier())\n",
    "rf = RandomForestClassifier(n_jobs=-1)\n",
    "et = ExtraTreesClassifier(n_jobs=-1)\n",
    "\n",
    "def score(model, name):\n",
    "   s = cross_val_score(model, X, y, cv=cv, n_jobs=-1)\n",
    "   print \"{} Score:\\t{:0.3} ± {:0.3}\".format(name, s.mean().round(3), s.std().round(3))\n",
    "\n",
    "# how did they do?!\n",
    "score(dt, \"Decision Tree\")\n",
    "score(bdt, \"Bagging DT\")\n",
    "score(rf, \"Random Forest\")\n",
    "score(et, \"Extra Trees\")\n"
   ]
  },
  {
   "cell_type": "code",
   "execution_count": 74,
   "metadata": {
    "collapsed": false
   },
   "outputs": [
    {
     "name": "stdout",
     "output_type": "stream",
     "text": [
      "{'min_samples_split': 5, 'n_estimators': 5, 'criterion': 'entropy', 'max_depth': 5, 'class_weight': 'balanced'}\n",
      "0.662068965517\n",
      "[[29 14]\n",
      " [22 21]]\n",
      "             precision    recall  f1-score   support\n",
      "\n",
      "          0       0.57      0.67      0.62        43\n",
      "          1       0.60      0.49      0.54        43\n",
      "\n",
      "avg / total       0.58      0.58      0.58        86\n",
      "\n"
     ]
    }
   ],
   "source": [
    "from sklearn.cross_validation import train_test_split, KFold\n",
    "from sklearn.grid_search import GridSearchCV\n",
    "from sklearn.metrics import accuracy_score, precision_score, recall_score, confusion_matrix, classification_report\n",
    "def evaluate_model(model):\n",
    "    model.fit(X_train, y_train)\n",
    "    y_pred = model.predict(X_test)\n",
    "    \n",
    "    a = accuracy_score(y_test, y_pred)\n",
    "    \n",
    "    cm = confusion_matrix(y_test, y_pred)\n",
    "    cr = classification_report(y_test, y_pred)\n",
    "    \n",
    "    print cm\n",
    "    print cr\n",
    "    \n",
    "    return a\n",
    "all_models={}\n",
    "params = {'n_estimators':[3, 5, 10, 50],\n",
    "          'criterion': ['gini', 'entropy'],\n",
    "          'max_depth': [None, 3, 5],\n",
    "          'min_samples_split': [2,5],\n",
    "          'class_weight':[None, 'balanced']}\n",
    "\n",
    "\n",
    "gsrf = GridSearchCV(RandomForestClassifier(n_jobs=-1),\n",
    "                    params, n_jobs=-1,\n",
    "                    cv=KFold(len(y), n_folds=3, shuffle=True))\n",
    "\n",
    "gsrf.fit(X, y)\n",
    "print gsrf.best_params_\n",
    "print gsrf.best_score_\n",
    "\n",
    "all_models['gsrf'] = {'model': gsrf.best_estimator_,\n",
    "                      'score': evaluate_model(gsrf.best_estimator_)}"
   ]
  },
  {
   "cell_type": "code",
   "execution_count": null,
   "metadata": {
    "collapsed": true
   },
   "outputs": [],
   "source": []
  },
  {
   "cell_type": "markdown",
   "metadata": {
    "focus": false,
    "id": "fead9b5b-7316-405d-87fd-e144dff0cbeb"
   },
   "source": [
    "#### Continue to incorporate other text features from the title or summary that you believe will predict the salary and examine their coefficients"
   ]
  },
  {
   "cell_type": "markdown",
   "metadata": {
    "focus": false,
    "id": "12d5edeb-a272-43a0-9977-d951f12fedfb"
   },
   "source": [
    "#### Take ~100 scraped entries with salaries. Convert them to use with your model and predict the salary - which entries have the highest predicted salaries?"
   ]
  },
  {
   "cell_type": "code",
   "execution_count": null,
   "metadata": {
    "collapsed": true
   },
   "outputs": [],
   "source": []
  },
  {
   "cell_type": "code",
   "execution_count": 153,
   "metadata": {
    "collapsed": false
   },
   "outputs": [
    {
     "name": "stdout",
     "output_type": "stream",
     "text": [
      "[ 0.81632653  0.70833333  0.65625   ]\n",
      "[ 0.80612245  0.69791667  0.65625   ]\n",
      "0.720096371882\n"
     ]
    }
   ],
   "source": [
    "## YOUR CODE HERE\n",
    "from sklearn.feature_extraction.text import TfidfVectorizer, CountVectorizer,TfidfTransformer\n",
    "stword=\"looking,large,client,add\"\n",
    "#vectorizer = TfidfVectorizer(stop_words='english', lowercase=True, ngram_range=(1,4), min_df=2)\n",
    "vectorizer = CountVectorizer(stop_words='english', lowercase=True, ngram_range=(1,4), min_df=2)\n",
    "X = vectorizer.fit_transform(indeed.Title)\n",
    "y=indeed.Target\n",
    "\n",
    "X_train, X_test, y_train, y_test = train_test_split(X, y, test_size=0.3, random_state=42, stratify=y)\n",
    "tree_model = DecisionTreeClassifier()\n",
    "print cross_val_score(tree_model, X, y)\n",
    "\n",
    "rf_model = RandomForestClassifier(n_estimators=10)\n",
    "s=cross_val_score(rf_model, X, y)\n",
    "print s\n",
    "print np.mean(s)"
   ]
  },
  {
   "cell_type": "code",
   "execution_count": 142,
   "metadata": {
    "collapsed": false
   },
   "outputs": [
    {
     "data": {
      "text/plain": [
       "[(0.086232578236400473, u'data'),\n",
       " (0.054619590375542759, u'research'),\n",
       " (0.050689079221397128, u'data scientist'),\n",
       " (0.040644969331651223, u'quantitative'),\n",
       " (0.032015501403047389, u'engineer'),\n",
       " (0.027229483102717618, u'analyst'),\n",
       " (0.021043610917442227, u'senior'),\n",
       " (0.018978004686538368, u'learning'),\n",
       " (0.018255724461840657, u'quant'),\n",
       " (0.017307025338912246, u'big')]"
      ]
     },
     "execution_count": 142,
     "metadata": {},
     "output_type": "execute_result"
    }
   ],
   "source": [
    "rf_model.fit(X,y)\n",
    "#This prints the top 10 most important features\n",
    "sorted(zip(rf_model.feature_importances_, vectorizer.get_feature_names()), reverse=True)[:10]"
   ]
  },
  {
   "cell_type": "markdown",
   "metadata": {
    "focus": false,
    "id": "3be94357-e551-4094-b784-2df039216d33"
   },
   "source": [
    "### BONUS "
   ]
  },
  {
   "cell_type": "markdown",
   "metadata": {
    "focus": false,
    "id": "db045898-1d2d-4af2-8e79-437c4c7546b4"
   },
   "source": [
    "#### Bonus: Use Count Vectorizer from scikit-learn to create features from the text summaries. \n",
    "- Examine using count or binary features in the model\n",
    "- Re-evaluate your models using these. Does this improve the model performance? \n",
    "- What text features are the most valuable? "
   ]
  },
  {
   "cell_type": "code",
   "execution_count": 157,
   "metadata": {
    "collapsed": false,
    "focus": false,
    "id": "4239e458-28bd-4675-8db3-c1d9c02b9854"
   },
   "outputs": [
    {
     "name": "stdout",
     "output_type": "stream",
     "text": [
      "[ 0.73469388  0.71875     0.69791667]\n",
      "0.696499433107\n"
     ]
    }
   ],
   "source": [
    "## YOUR CODE HERE\n",
    "from sklearn.feature_extraction.text import TfidfVectorizer, CountVectorizer,TfidfTransformer\n",
    "stword=\"looking,large,client,add\"\n",
    "#vectorizer = TfidfVectorizer(stop_words='english', lowercase=True, ngram_range=(1,4), min_df=2)\n",
    "vectorizer = CountVectorizer(stop_words='english', lowercase=True, ngram_range=(1,3), min_df=2)\n",
    "X = vectorizer.fit_transform(indeed.Summary)\n",
    "y=indeed.Target\n",
    "\n",
    "tree_model = DecisionTreeClassifier()\n",
    "print cross_val_score(tree_model, X, y)\n",
    "\n",
    "rf_model = RandomForestClassifier(n_estimators=10)\n",
    "s=cross_val_score(rf_model, X, y)\n",
    "print np.mean(s)"
   ]
  },
  {
   "cell_type": "code",
   "execution_count": null,
   "metadata": {
    "collapsed": false
   },
   "outputs": [],
   "source": [
    "#----------------------------------"
   ]
  },
  {
   "cell_type": "code",
   "execution_count": 151,
   "metadata": {
    "collapsed": false,
    "focus": false,
    "id": "fec80936-37bc-4922-89bd-b5d615566c9c"
   },
   "outputs": [
    {
     "data": {
      "text/plain": [
       "[(0.040947092167701246, u'data scientist'),\n",
       " (0.029433083762475821, u'big data'),\n",
       " (0.028580941735706071, u'company'),\n",
       " (0.024931390868988559, u'data'),\n",
       " (0.012268095087318584, u'team'),\n",
       " (0.010966927957255576, u'python'),\n",
       " (0.010539745737180478, u'looking'),\n",
       " (0.010198344369067617, u'research'),\n",
       " (0.0097417862409498353, u'client'),\n",
       " (0.0093777337156901071, u'build')]"
      ]
     },
     "execution_count": 151,
     "metadata": {},
     "output_type": "execute_result"
    }
   ],
   "source": [
    "## YOUR CODE HERE\n",
    "rf_model.fit(X,y)\n",
    "#This prints the top 10 most important features\n",
    "sorted(zip(rf_model.feature_importances_, vectorizer.get_feature_names()), reverse=True)[:10]"
   ]
  },
  {
   "cell_type": "markdown",
   "metadata": {},
   "source": [
    "#### "
   ]
  },
  {
   "cell_type": "code",
   "execution_count": 152,
   "metadata": {
    "collapsed": false
   },
   "outputs": [
    {
     "data": {
      "text/plain": [
       "[(0.13049158050537898, u'data scientist'),\n",
       " (0.074725234355337802, u'data scientists'),\n",
       " (0.064650504766688446, u'big'),\n",
       " (0.040566050434735108, u'analytics'),\n",
       " (0.035870905708492704, u'build'),\n",
       " (0.033773157653221877, u'looking'),\n",
       " (0.032717737375956263, u'relevant'),\n",
       " (0.030373338958025728, u'firm'),\n",
       " (0.027586299792227226, u'professionals'),\n",
       " (0.02656458498510764, u'110')]"
      ]
     },
     "execution_count": 152,
     "metadata": {},
     "output_type": "execute_result"
    }
   ],
   "source": [
    "tree_model.fit(X,y)\n",
    "#This prints the top 10 most important features\n",
    "sorted(zip(tree_model.feature_importances_, vectorizer.get_feature_names()), reverse=True)[:10]"
   ]
  },
  {
   "cell_type": "code",
   "execution_count": null,
   "metadata": {
    "collapsed": false
   },
   "outputs": [],
   "source": []
  },
  {
   "cell_type": "code",
   "execution_count": null,
   "metadata": {
    "collapsed": true
   },
   "outputs": [],
   "source": []
  }
 ],
 "metadata": {
  "anaconda-cloud": {},
  "kernelspec": {
   "display_name": "Python [Root]",
   "language": "python",
   "name": "Python [Root]"
  },
  "language_info": {
   "codemirror_mode": {
    "name": "ipython",
    "version": 2
   },
   "file_extension": ".py",
   "mimetype": "text/x-python",
   "name": "python",
   "nbconvert_exporter": "python",
   "pygments_lexer": "ipython2",
   "version": "2.7.12"
  }
 },
 "nbformat": 4,
 "nbformat_minor": 0
}
