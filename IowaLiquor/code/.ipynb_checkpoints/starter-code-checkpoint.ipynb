{
 "cells": [
  {
   "cell_type": "markdown",
   "metadata": {
    "nbpresent": {
     "id": "6ff5a92b-557b-42ab-bade-af83aa4b6ef4"
    }
   },
   "source": [
    "# Getting started\n",
    "\n",
    "Once you've chosen your scenario, download the data from [the Iowa website](https://data.iowa.gov/Economy/Iowa-Liquor-Sales/m3tr-qhgy) in csv format. Start by loading the data with pandas. You may need to parse the date columns appropriately."
   ]
  },
  {
   "cell_type": "markdown",
   "metadata": {
    "collapsed": true,
    "nbpresent": {
     "id": "971687ba-3edf-4bae-aa6f-c72b44e77a30"
    }
   },
   "source": [
    "# Find Best location for new Liquor Store based on Sales data by location\n"
   ]
  },
  {
   "cell_type": "code",
   "execution_count": 3,
   "metadata": {
    "collapsed": true,
    "nbpresent": {
     "id": "77167327-d1b2-40e5-a679-e87a068f870c"
    }
   },
   "outputs": [],
   "source": [
    "import pandas as pd\n",
    "import numpy as np\n",
    "import seaborn as sns\n",
    "import matplotlib.pyplot as plt\n",
    "%matplotlib inline"
   ]
  },
  {
   "cell_type": "code",
   "execution_count": 4,
   "metadata": {
    "collapsed": false,
    "nbpresent": {
     "id": "5585cd80-f6bd-4967-a87f-8c532489d9fe"
    },
    "scrolled": false
   },
   "outputs": [
    {
     "data": {
      "text/html": [
       "<div>\n",
       "<table border=\"1\" class=\"dataframe\">\n",
       "  <thead>\n",
       "    <tr style=\"text-align: right;\">\n",
       "      <th></th>\n",
       "      <th>Invoice/Item Number</th>\n",
       "      <th>Date</th>\n",
       "      <th>Store Number</th>\n",
       "      <th>Store Name</th>\n",
       "      <th>Address</th>\n",
       "      <th>City</th>\n",
       "      <th>Zip Code</th>\n",
       "      <th>Store Location</th>\n",
       "      <th>County Number</th>\n",
       "      <th>County</th>\n",
       "      <th>...</th>\n",
       "      <th>Item Number</th>\n",
       "      <th>Item Description</th>\n",
       "      <th>Pack</th>\n",
       "      <th>Bottle Volume (ml)</th>\n",
       "      <th>State Bottle Cost</th>\n",
       "      <th>State Bottle Retail</th>\n",
       "      <th>Bottles Sold</th>\n",
       "      <th>Sale (Dollars)</th>\n",
       "      <th>Volume Sold (Liters)</th>\n",
       "      <th>Volume Sold (Gallons)</th>\n",
       "    </tr>\n",
       "  </thead>\n",
       "  <tbody>\n",
       "    <tr>\n",
       "      <th>0</th>\n",
       "      <td>S29198800001</td>\n",
       "      <td>11/20/2015</td>\n",
       "      <td>2191</td>\n",
       "      <td>Keokuk Spirits</td>\n",
       "      <td>1013 MAIN</td>\n",
       "      <td>KEOKUK</td>\n",
       "      <td>52632</td>\n",
       "      <td>1013 MAIN\\nKEOKUK 52632\\n(40.39978, -91.387531)</td>\n",
       "      <td>56.0</td>\n",
       "      <td>Lee</td>\n",
       "      <td>...</td>\n",
       "      <td>297.0</td>\n",
       "      <td>Templeton Rye w/Flask</td>\n",
       "      <td>6.0</td>\n",
       "      <td>750.0</td>\n",
       "      <td>$18.09</td>\n",
       "      <td>$27.14</td>\n",
       "      <td>6.0</td>\n",
       "      <td>$162.84</td>\n",
       "      <td>4.5</td>\n",
       "      <td>1.19</td>\n",
       "    </tr>\n",
       "    <tr>\n",
       "      <th>1</th>\n",
       "      <td>S29195400002</td>\n",
       "      <td>11/21/2015</td>\n",
       "      <td>2205</td>\n",
       "      <td>Ding's Honk And Holler</td>\n",
       "      <td>900 E WASHINGTON</td>\n",
       "      <td>CLARINDA</td>\n",
       "      <td>51632</td>\n",
       "      <td>900 E WASHINGTON\\nCLARINDA 51632\\n(40.739238, ...</td>\n",
       "      <td>73.0</td>\n",
       "      <td>Page</td>\n",
       "      <td>...</td>\n",
       "      <td>297.0</td>\n",
       "      <td>Templeton Rye w/Flask</td>\n",
       "      <td>6.0</td>\n",
       "      <td>750.0</td>\n",
       "      <td>$18.09</td>\n",
       "      <td>$27.14</td>\n",
       "      <td>12.0</td>\n",
       "      <td>$325.68</td>\n",
       "      <td>9.0</td>\n",
       "      <td>2.38</td>\n",
       "    </tr>\n",
       "    <tr>\n",
       "      <th>2</th>\n",
       "      <td>S29050300001</td>\n",
       "      <td>11/16/2015</td>\n",
       "      <td>3549</td>\n",
       "      <td>Quicker Liquor Store</td>\n",
       "      <td>1414 48TH ST</td>\n",
       "      <td>FORT MADISON</td>\n",
       "      <td>52627</td>\n",
       "      <td>1414 48TH ST\\nFORT MADISON 52627\\n(40.624226, ...</td>\n",
       "      <td>56.0</td>\n",
       "      <td>Lee</td>\n",
       "      <td>...</td>\n",
       "      <td>249.0</td>\n",
       "      <td>Disaronno Amaretto Cavalli Mignon 3-50ml Pack</td>\n",
       "      <td>20.0</td>\n",
       "      <td>150.0</td>\n",
       "      <td>$6.40</td>\n",
       "      <td>$9.60</td>\n",
       "      <td>2.0</td>\n",
       "      <td>$19.20</td>\n",
       "      <td>0.3</td>\n",
       "      <td>0.08</td>\n",
       "    </tr>\n",
       "  </tbody>\n",
       "</table>\n",
       "<p>3 rows × 24 columns</p>\n",
       "</div>"
      ],
      "text/plain": [
       "  Invoice/Item Number        Date  Store Number              Store Name  \\\n",
       "0        S29198800001  11/20/2015          2191          Keokuk Spirits   \n",
       "1        S29195400002  11/21/2015          2205  Ding's Honk And Holler   \n",
       "2        S29050300001  11/16/2015          3549    Quicker Liquor Store   \n",
       "\n",
       "            Address          City Zip Code  \\\n",
       "0         1013 MAIN        KEOKUK    52632   \n",
       "1  900 E WASHINGTON      CLARINDA    51632   \n",
       "2      1414 48TH ST  FORT MADISON    52627   \n",
       "\n",
       "                                      Store Location  County Number County  \\\n",
       "0    1013 MAIN\\nKEOKUK 52632\\n(40.39978, -91.387531)           56.0    Lee   \n",
       "1  900 E WASHINGTON\\nCLARINDA 51632\\n(40.739238, ...           73.0   Page   \n",
       "2  1414 48TH ST\\nFORT MADISON 52627\\n(40.624226, ...           56.0    Lee   \n",
       "\n",
       "           ...           Item Number  \\\n",
       "0          ...                 297.0   \n",
       "1          ...                 297.0   \n",
       "2          ...                 249.0   \n",
       "\n",
       "                                Item Description  Pack Bottle Volume (ml)  \\\n",
       "0                          Templeton Rye w/Flask   6.0              750.0   \n",
       "1                          Templeton Rye w/Flask   6.0              750.0   \n",
       "2  Disaronno Amaretto Cavalli Mignon 3-50ml Pack  20.0              150.0   \n",
       "\n",
       "   State Bottle Cost State Bottle Retail  Bottles Sold  Sale (Dollars)  \\\n",
       "0             $18.09              $27.14           6.0         $162.84   \n",
       "1             $18.09              $27.14          12.0         $325.68   \n",
       "2              $6.40               $9.60           2.0          $19.20   \n",
       "\n",
       "  Volume Sold (Liters) Volume Sold (Gallons)  \n",
       "0                  4.5                  1.19  \n",
       "1                  9.0                  2.38  \n",
       "2                  0.3                  0.08  \n",
       "\n",
       "[3 rows x 24 columns]"
      ]
     },
     "execution_count": 4,
     "metadata": {},
     "output_type": "execute_result"
    }
   ],
   "source": [
    "## Load the data into a DataFrame\n",
    "iowa=pd.read_csv(\"../Iowa_Liquor_Sales.csv\")\n",
    "iowa.head(3)"
   ]
  },
  {
   "cell_type": "code",
   "execution_count": 5,
   "metadata": {
    "collapsed": false,
    "nbpresent": {
     "id": "cb24310d-beb9-47d5-8519-3bf58e611d73"
    }
   },
   "outputs": [
    {
     "data": {
      "text/plain": [
       "Index([u'Invoice/Item Number', u'Date', u'Store Number', u'Store Name',\n",
       "       u'Address', u'City', u'Zip Code', u'Store Location', u'County Number',\n",
       "       u'County', u'Category', u'Category Name', u'Vendor Number',\n",
       "       u'Vendor Name', u'Item Number', u'Item Description', u'Pack',\n",
       "       u'Bottle Volume (ml)', u'State Bottle Cost', u'State Bottle Retail',\n",
       "       u'Bottles Sold', u'Sale (Dollars)', u'Volume Sold (Liters)',\n",
       "       u'Volume Sold (Gallons)'],\n",
       "      dtype='object')"
      ]
     },
     "execution_count": 5,
     "metadata": {},
     "output_type": "execute_result"
    }
   ],
   "source": [
    "iowa.columns"
   ]
  },
  {
   "cell_type": "code",
   "execution_count": 6,
   "metadata": {
    "collapsed": false,
    "nbpresent": {
     "id": "34353c1f-9cac-4bc0-8b77-ca50edaecdc5"
    }
   },
   "outputs": [
    {
     "data": {
      "text/plain": [
       "Invoice/Item Number       object\n",
       "Date                      object\n",
       "Store Number               int64\n",
       "Store Name                object\n",
       "Address                   object\n",
       "City                      object\n",
       "Zip Code                  object\n",
       "Store Location            object\n",
       "County Number            float64\n",
       "County                    object\n",
       "Category                 float64\n",
       "Category Name             object\n",
       "Vendor Number            float64\n",
       "Vendor Name               object\n",
       "Item Number              float64\n",
       "Item Description          object\n",
       "Pack                     float64\n",
       "Bottle Volume (ml)       float64\n",
       "State Bottle Cost         object\n",
       "State Bottle Retail       object\n",
       "Bottles Sold             float64\n",
       "Sale (Dollars)            object\n",
       "Volume Sold (Liters)     float64\n",
       "Volume Sold (Gallons)    float64\n",
       "dtype: object"
      ]
     },
     "execution_count": 6,
     "metadata": {},
     "output_type": "execute_result"
    }
   ],
   "source": [
    "iowa.dtypes"
   ]
  },
  {
   "cell_type": "code",
   "execution_count": 7,
   "metadata": {
    "collapsed": false,
    "nbpresent": {
     "id": "cb43c64e-4d55-466b-bbea-5b206f08fa0f"
    }
   },
   "outputs": [],
   "source": [
    "#Clean Data\n",
    "iowa.dropna(inplace=True)\n",
    "iowa= iowa[iowa['State Bottle Retail'] != 0]\n",
    "iowa = iowa[iowa['Zip Code'] != \"712-2\"]\n",
    "\n",
    "iowa=iowa.replace({'\\$':''}, regex=True)\n",
    "iowa['State Bottle Cost']=iowa['State Bottle Cost'].astype(float)\n",
    "iowa['State Bottle Retail'] =iowa['State Bottle Retail'].astype(float)\n",
    "iowa['Bottles Sold']= iowa['Bottles Sold'].astype(float)\n",
    "iowa['Sale (Dollars)']=iowa['Sale (Dollars)'].astype(float)\n",
    "iowa['Zip Code']=iowa['Zip Code'].astype(int)\n",
    "iowa[\"Date\"] = pd.to_datetime(iowa[\"Date\"], format=\"%m/%d/%Y\")"
   ]
  },
  {
   "cell_type": "markdown",
   "metadata": {
    "nbpresent": {
     "id": "1e033e5e-eda6-463a-8881-4f58a9cadd4f"
    }
   },
   "source": [
    "# Explore the data\n",
    "\n",
    "Perform some exploratory statistical analysis and make some plots, such as histograms of transaction totals, bottles sold, etc."
   ]
  },
  {
   "cell_type": "code",
   "execution_count": 8,
   "metadata": {
    "collapsed": false,
    "nbpresent": {
     "id": "95cf728d-1fbc-48fe-b643-978ef49f72bc"
    }
   },
   "outputs": [
    {
     "data": {
      "text/html": [
       "<div>\n",
       "<table border=\"1\" class=\"dataframe\">\n",
       "  <thead>\n",
       "    <tr style=\"text-align: right;\">\n",
       "      <th></th>\n",
       "      <th>Store Number</th>\n",
       "      <th>Zip Code</th>\n",
       "      <th>County Number</th>\n",
       "      <th>Category</th>\n",
       "      <th>Vendor Number</th>\n",
       "      <th>Item Number</th>\n",
       "      <th>Pack</th>\n",
       "      <th>Bottle Volume (ml)</th>\n",
       "      <th>State Bottle Cost</th>\n",
       "      <th>State Bottle Retail</th>\n",
       "      <th>Bottles Sold</th>\n",
       "      <th>Sale (Dollars)</th>\n",
       "      <th>Volume Sold (Liters)</th>\n",
       "      <th>Volume Sold (Gallons)</th>\n",
       "    </tr>\n",
       "  </thead>\n",
       "  <tbody>\n",
       "    <tr>\n",
       "      <th>count</th>\n",
       "      <td>105904.000000</td>\n",
       "      <td>105904.000000</td>\n",
       "      <td>105904.000000</td>\n",
       "      <td>1.059040e+05</td>\n",
       "      <td>105904.000000</td>\n",
       "      <td>105904.000000</td>\n",
       "      <td>105904.000000</td>\n",
       "      <td>105904.000000</td>\n",
       "      <td>105904.000000</td>\n",
       "      <td>105904.000000</td>\n",
       "      <td>105904.000000</td>\n",
       "      <td>105904.000000</td>\n",
       "      <td>105904.000000</td>\n",
       "      <td>105904.000000</td>\n",
       "    </tr>\n",
       "    <tr>\n",
       "      <th>mean</th>\n",
       "      <td>3491.469614</td>\n",
       "      <td>51276.393885</td>\n",
       "      <td>57.078732</td>\n",
       "      <td>1.044542e+06</td>\n",
       "      <td>256.216734</td>\n",
       "      <td>45603.627899</td>\n",
       "      <td>12.167284</td>\n",
       "      <td>931.907709</td>\n",
       "      <td>9.432315</td>\n",
       "      <td>14.178832</td>\n",
       "      <td>9.695536</td>\n",
       "      <td>125.300972</td>\n",
       "      <td>8.928608</td>\n",
       "      <td>2.358853</td>\n",
       "    </tr>\n",
       "    <tr>\n",
       "      <th>std</th>\n",
       "      <td>867.764234</td>\n",
       "      <td>989.541061</td>\n",
       "      <td>27.245738</td>\n",
       "      <td>5.066498e+04</td>\n",
       "      <td>143.079156</td>\n",
       "      <td>49484.060376</td>\n",
       "      <td>7.399580</td>\n",
       "      <td>477.219532</td>\n",
       "      <td>6.737802</td>\n",
       "      <td>10.106178</td>\n",
       "      <td>22.237822</td>\n",
       "      <td>387.674648</td>\n",
       "      <td>26.239569</td>\n",
       "      <td>6.931748</td>\n",
       "    </tr>\n",
       "    <tr>\n",
       "      <th>min</th>\n",
       "      <td>2106.000000</td>\n",
       "      <td>50002.000000</td>\n",
       "      <td>1.000000</td>\n",
       "      <td>1.011100e+06</td>\n",
       "      <td>10.000000</td>\n",
       "      <td>173.000000</td>\n",
       "      <td>1.000000</td>\n",
       "      <td>50.000000</td>\n",
       "      <td>0.000000</td>\n",
       "      <td>0.000000</td>\n",
       "      <td>1.000000</td>\n",
       "      <td>0.000000</td>\n",
       "      <td>0.100000</td>\n",
       "      <td>0.030000</td>\n",
       "    </tr>\n",
       "    <tr>\n",
       "      <th>25%</th>\n",
       "      <td>2602.000000</td>\n",
       "      <td>50316.000000</td>\n",
       "      <td>31.000000</td>\n",
       "      <td>1.012210e+06</td>\n",
       "      <td>115.000000</td>\n",
       "      <td>27102.000000</td>\n",
       "      <td>6.000000</td>\n",
       "      <td>750.000000</td>\n",
       "      <td>5.480000</td>\n",
       "      <td>8.240000</td>\n",
       "      <td>3.000000</td>\n",
       "      <td>30.380000</td>\n",
       "      <td>1.750000</td>\n",
       "      <td>0.460000</td>\n",
       "    </tr>\n",
       "    <tr>\n",
       "      <th>50%</th>\n",
       "      <td>3651.000000</td>\n",
       "      <td>51103.000000</td>\n",
       "      <td>61.000000</td>\n",
       "      <td>1.032080e+06</td>\n",
       "      <td>260.000000</td>\n",
       "      <td>38177.000000</td>\n",
       "      <td>12.000000</td>\n",
       "      <td>750.000000</td>\n",
       "      <td>7.870000</td>\n",
       "      <td>11.820000</td>\n",
       "      <td>6.000000</td>\n",
       "      <td>69.060000</td>\n",
       "      <td>5.250000</td>\n",
       "      <td>1.390000</td>\n",
       "    </tr>\n",
       "    <tr>\n",
       "      <th>75%</th>\n",
       "      <td>4193.000000</td>\n",
       "      <td>52310.000000</td>\n",
       "      <td>77.000000</td>\n",
       "      <td>1.062310e+06</td>\n",
       "      <td>380.000000</td>\n",
       "      <td>62097.000000</td>\n",
       "      <td>12.000000</td>\n",
       "      <td>1000.000000</td>\n",
       "      <td>11.500000</td>\n",
       "      <td>17.310000</td>\n",
       "      <td>12.000000</td>\n",
       "      <td>134.160000</td>\n",
       "      <td>10.500000</td>\n",
       "      <td>2.770000</td>\n",
       "    </tr>\n",
       "    <tr>\n",
       "      <th>max</th>\n",
       "      <td>9018.000000</td>\n",
       "      <td>56201.000000</td>\n",
       "      <td>99.000000</td>\n",
       "      <td>1.701100e+06</td>\n",
       "      <td>978.000000</td>\n",
       "      <td>994200.000000</td>\n",
       "      <td>336.000000</td>\n",
       "      <td>6000.000000</td>\n",
       "      <td>563.400000</td>\n",
       "      <td>845.100000</td>\n",
       "      <td>2328.000000</td>\n",
       "      <td>41042.640000</td>\n",
       "      <td>2328.000000</td>\n",
       "      <td>614.990000</td>\n",
       "    </tr>\n",
       "  </tbody>\n",
       "</table>\n",
       "</div>"
      ],
      "text/plain": [
       "        Store Number       Zip Code  County Number      Category  \\\n",
       "count  105904.000000  105904.000000  105904.000000  1.059040e+05   \n",
       "mean     3491.469614   51276.393885      57.078732  1.044542e+06   \n",
       "std       867.764234     989.541061      27.245738  5.066498e+04   \n",
       "min      2106.000000   50002.000000       1.000000  1.011100e+06   \n",
       "25%      2602.000000   50316.000000      31.000000  1.012210e+06   \n",
       "50%      3651.000000   51103.000000      61.000000  1.032080e+06   \n",
       "75%      4193.000000   52310.000000      77.000000  1.062310e+06   \n",
       "max      9018.000000   56201.000000      99.000000  1.701100e+06   \n",
       "\n",
       "       Vendor Number    Item Number           Pack  Bottle Volume (ml)  \\\n",
       "count  105904.000000  105904.000000  105904.000000       105904.000000   \n",
       "mean      256.216734   45603.627899      12.167284          931.907709   \n",
       "std       143.079156   49484.060376       7.399580          477.219532   \n",
       "min        10.000000     173.000000       1.000000           50.000000   \n",
       "25%       115.000000   27102.000000       6.000000          750.000000   \n",
       "50%       260.000000   38177.000000      12.000000          750.000000   \n",
       "75%       380.000000   62097.000000      12.000000         1000.000000   \n",
       "max       978.000000  994200.000000     336.000000         6000.000000   \n",
       "\n",
       "       State Bottle Cost  State Bottle Retail   Bottles Sold  Sale (Dollars)  \\\n",
       "count      105904.000000        105904.000000  105904.000000   105904.000000   \n",
       "mean            9.432315            14.178832       9.695536      125.300972   \n",
       "std             6.737802            10.106178      22.237822      387.674648   \n",
       "min             0.000000             0.000000       1.000000        0.000000   \n",
       "25%             5.480000             8.240000       3.000000       30.380000   \n",
       "50%             7.870000            11.820000       6.000000       69.060000   \n",
       "75%            11.500000            17.310000      12.000000      134.160000   \n",
       "max           563.400000           845.100000    2328.000000    41042.640000   \n",
       "\n",
       "       Volume Sold (Liters)  Volume Sold (Gallons)  \n",
       "count         105904.000000          105904.000000  \n",
       "mean               8.928608               2.358853  \n",
       "std               26.239569               6.931748  \n",
       "min                0.100000               0.030000  \n",
       "25%                1.750000               0.460000  \n",
       "50%                5.250000               1.390000  \n",
       "75%               10.500000               2.770000  \n",
       "max             2328.000000             614.990000  "
      ]
     },
     "execution_count": 8,
     "metadata": {},
     "output_type": "execute_result"
    }
   ],
   "source": [
    "iowa.describe()"
   ]
  },
  {
   "cell_type": "code",
   "execution_count": 14,
   "metadata": {
    "collapsed": false,
    "nbpresent": {
     "id": "859816a9-fef8-42e0-a119-7ba36eb2b6f2"
    }
   },
   "outputs": [
    {
     "data": {
      "text/plain": [
       "Category Name\n",
       "CANADIAN WHISKIES    1539828.48\n",
       "VODKA 80 PROOF       1500698.65\n",
       "SPICED RUM           1097772.81\n",
       "IMPORTED VODKA        756663.06\n",
       "TEQUILA               750949.29\n",
       "Name: Sale (Dollars), dtype: float64"
      ]
     },
     "execution_count": 14,
     "metadata": {},
     "output_type": "execute_result"
    }
   ],
   "source": [
    "#Revenue by Liquor\n",
    "iowa.groupby([\"Category Name\"])['Sale (Dollars)'].sum().sort_values(ascending=False).head(5)"
   ]
  },
  {
   "cell_type": "code",
   "execution_count": 38,
   "metadata": {
    "collapsed": false,
    "nbpresent": {
     "id": "6fa05ca2-7c22-4a08-ba91-74f6d03fe66c"
    },
    "scrolled": true
   },
   "outputs": [
    {
     "data": {
      "text/plain": [
       "Category Name\n",
       "VODKA 80 PROOF       191739.0\n",
       "CANADIAN WHISKIES    114131.0\n",
       "SPICED RUM            72020.0\n",
       "TEQUILA               44826.0\n",
       "BLENDED WHISKIES      43572.0\n",
       "Name: Bottles Sold, dtype: float64"
      ]
     },
     "execution_count": 38,
     "metadata": {},
     "output_type": "execute_result"
    }
   ],
   "source": [
    "#favoriate drinks Of Iowa\n",
    "iowa.groupby([\"Category Name\"])['Bottles Sold'].sum().sort_values(ascending=False).head(5)"
   ]
  },
  {
   "cell_type": "code",
   "execution_count": null,
   "metadata": {
    "collapsed": false,
    "nbpresent": {
     "id": "a0973d63-d844-4c1d-bf38-f24ddb69a861"
    },
    "scrolled": false
   },
   "outputs": [],
   "source": [
    "#print iowa.groupby(['Item Description','Item Number','City','County','Bottle Volume (ml)'])['State Bottle Retail'].mean()"
   ]
  },
  {
   "cell_type": "code",
   "execution_count": null,
   "metadata": {
    "collapsed": false,
    "nbpresent": {
     "id": "92ca001e-c27d-495c-b6cd-38abee4da91b"
    }
   },
   "outputs": [],
   "source": [
    "#print iowa.groupby(['Item Description','Item Number','Bottle Volume (ml)'])['State Bottle Cost'].std().sort_values(ascending=False)"
   ]
  },
  {
   "cell_type": "markdown",
   "metadata": {
    "nbpresent": {
     "id": "0cc58b9b-7fe3-43d0-b2a6-c02e7dd7f04e"
    }
   },
   "source": [
    "## Record your findings\n",
    "\n",
    "Be sure to write out anything observations from your exploratory analysis."
   ]
  },
  {
   "cell_type": "raw",
   "metadata": {
    "nbpresent": {
     "id": "566a596b-f332-41b2-bebf-f6346879f00f"
    }
   },
   "source": [
    "1. Retail Prices Vary By Store, County and City\n",
    "2. Favoriate 5 drinks\n",
    "3. Location and cost of Bottle"
   ]
  },
  {
   "cell_type": "code",
   "execution_count": 16,
   "metadata": {
    "collapsed": false,
    "nbpresent": {
     "id": "b8214601-c1fb-45e7-987b-28fc407bc399"
    }
   },
   "outputs": [],
   "source": [
    "#print iowa.groupby(['Bottle Volume (ml)'])['State Bottle Cost'].mean().sort_values(ascending=False)"
   ]
  },
  {
   "cell_type": "code",
   "execution_count": 44,
   "metadata": {
    "collapsed": false,
    "nbpresent": {
     "id": "23f33372-8e1b-4c5e-ad83-1b46fe1fca16"
    }
   },
   "outputs": [
    {
     "data": {
      "text/plain": [
       "Item Description\n",
       "Macallan Sherry Cask 25 Year Old Scotch - HA    845.100000\n",
       "Cragganmore Distillers Edition 25YR HA          420.000000\n",
       "Absolut w/4-50mls                               206.257500\n",
       "Johnnie Walker Blue w/2 Glasses                 195.000000\n",
       "Johnnie Walker Blue                             193.148182\n",
       "Redbreast 21yr HA                               187.490000\n",
       "Hennessy XO                                     157.490000\n",
       "Dt Lonach Glendarroch 1966 42yr                 153.000000\n",
       "Macallan 18yr Single Malt Scotch                152.653333\n",
       "Hennessy XO Cognac                              149.990000\n",
       "Name: State Bottle Retail, dtype: float64"
      ]
     },
     "execution_count": 44,
     "metadata": {},
     "output_type": "execute_result"
    }
   ],
   "source": [
    "#Very Expensive Drinks\n",
    "iowa.groupby(['Item Description'])['State Bottle Retail'].mean().sort_values(ascending=False).head(10)"
   ]
  },
  {
   "cell_type": "code",
   "execution_count": 45,
   "metadata": {
    "collapsed": false,
    "nbpresent": {
     "id": "74ad0a05-65e5-4638-b49a-585eb1dfe357"
    }
   },
   "outputs": [
    {
     "name": "stdout",
     "output_type": "stream",
     "text": [
      "Price per Bottle\n",
      "Min   0.0\n",
      "Max   845.1\n",
      "Mean  14.1788320554\n",
      "Std   10.1061777656\n",
      "Median 11.82\n"
     ]
    }
   ],
   "source": [
    "print \"Price per Bottle\"\n",
    "print \"Min  \" , iowa['State Bottle Retail'].min()\n",
    "print \"Max  \" , iowa['State Bottle Retail'].max()\n",
    "print \"Mean \" , iowa['State Bottle Retail'].mean()\n",
    "print \"Std  \" , iowa['State Bottle Retail'].std()\n",
    "print \"Median\" , np.median(iowa['State Bottle Retail'])\n"
   ]
  },
  {
   "cell_type": "code",
   "execution_count": 46,
   "metadata": {
    "collapsed": false,
    "nbpresent": {
     "id": "4e2204be-787a-49bf-b111-e8a4b6f06035"
    }
   },
   "outputs": [
    {
     "data": {
      "text/html": [
       "<div>\n",
       "<table border=\"1\" class=\"dataframe\">\n",
       "  <thead>\n",
       "    <tr style=\"text-align: right;\">\n",
       "      <th></th>\n",
       "      <th>Invoice/Item Number</th>\n",
       "      <th>Date</th>\n",
       "      <th>Store Number</th>\n",
       "      <th>Store Name</th>\n",
       "      <th>Address</th>\n",
       "      <th>City</th>\n",
       "      <th>Zip Code</th>\n",
       "      <th>Store Location</th>\n",
       "      <th>County Number</th>\n",
       "      <th>County</th>\n",
       "      <th>...</th>\n",
       "      <th>Item Number</th>\n",
       "      <th>Item Description</th>\n",
       "      <th>Pack</th>\n",
       "      <th>Bottle Volume (ml)</th>\n",
       "      <th>State Bottle Cost</th>\n",
       "      <th>State Bottle Retail</th>\n",
       "      <th>Bottles Sold</th>\n",
       "      <th>Sale (Dollars)</th>\n",
       "      <th>Volume Sold (Liters)</th>\n",
       "      <th>Volume Sold (Gallons)</th>\n",
       "    </tr>\n",
       "  </thead>\n",
       "  <tbody>\n",
       "    <tr>\n",
       "      <th>42336</th>\n",
       "      <td>S28118600002</td>\n",
       "      <td>2015-09-28</td>\n",
       "      <td>2538</td>\n",
       "      <td>Hy-Vee Food Store #3 / Waterloo</td>\n",
       "      <td>1422 FLAMMANG DR</td>\n",
       "      <td>WATERLOO</td>\n",
       "      <td>50702</td>\n",
       "      <td>1422 FLAMMANG DR\\nWATERLOO 50702\\n(42.459938, ...</td>\n",
       "      <td>7.0</td>\n",
       "      <td>Black Hawk</td>\n",
       "      <td>...</td>\n",
       "      <td>903542.0</td>\n",
       "      <td>Cragganmore Distillers Edition 25YR HA</td>\n",
       "      <td>6.0</td>\n",
       "      <td>750.0</td>\n",
       "      <td>280.0</td>\n",
       "      <td>420.0</td>\n",
       "      <td>1.0</td>\n",
       "      <td>420.0</td>\n",
       "      <td>0.75</td>\n",
       "      <td>0.2</td>\n",
       "    </tr>\n",
       "    <tr>\n",
       "      <th>98070</th>\n",
       "      <td>S21890700007</td>\n",
       "      <td>2014-10-20</td>\n",
       "      <td>3549</td>\n",
       "      <td>Quicker Liquor Store</td>\n",
       "      <td>1414 48TH ST</td>\n",
       "      <td>FORT MADISON</td>\n",
       "      <td>52627</td>\n",
       "      <td>1414 48TH ST\\nFORT MADISON 52627\\n(40.624226, ...</td>\n",
       "      <td>56.0</td>\n",
       "      <td>Lee</td>\n",
       "      <td>...</td>\n",
       "      <td>905502.0</td>\n",
       "      <td>Macallan Sherry Cask 25 Year Old Scotch - HA</td>\n",
       "      <td>1.0</td>\n",
       "      <td>750.0</td>\n",
       "      <td>563.4</td>\n",
       "      <td>845.1</td>\n",
       "      <td>1.0</td>\n",
       "      <td>845.1</td>\n",
       "      <td>0.75</td>\n",
       "      <td>0.2</td>\n",
       "    </tr>\n",
       "  </tbody>\n",
       "</table>\n",
       "<p>2 rows × 24 columns</p>\n",
       "</div>"
      ],
      "text/plain": [
       "      Invoice/Item Number       Date  Store Number  \\\n",
       "42336        S28118600002 2015-09-28          2538   \n",
       "98070        S21890700007 2014-10-20          3549   \n",
       "\n",
       "                            Store Name           Address          City  \\\n",
       "42336  Hy-Vee Food Store #3 / Waterloo  1422 FLAMMANG DR      WATERLOO   \n",
       "98070             Quicker Liquor Store      1414 48TH ST  FORT MADISON   \n",
       "\n",
       "       Zip Code                                     Store Location  \\\n",
       "42336     50702  1422 FLAMMANG DR\\nWATERLOO 50702\\n(42.459938, ...   \n",
       "98070     52627  1414 48TH ST\\nFORT MADISON 52627\\n(40.624226, ...   \n",
       "\n",
       "       County Number      County          ...            Item Number  \\\n",
       "42336            7.0  Black Hawk          ...               903542.0   \n",
       "98070           56.0         Lee          ...               905502.0   \n",
       "\n",
       "                                   Item Description  Pack Bottle Volume (ml)  \\\n",
       "42336        Cragganmore Distillers Edition 25YR HA   6.0              750.0   \n",
       "98070  Macallan Sherry Cask 25 Year Old Scotch - HA   1.0              750.0   \n",
       "\n",
       "       State Bottle Cost State Bottle Retail  Bottles Sold  Sale (Dollars)  \\\n",
       "42336              280.0               420.0           1.0           420.0   \n",
       "98070              563.4               845.1           1.0           845.1   \n",
       "\n",
       "       Volume Sold (Liters)  Volume Sold (Gallons)  \n",
       "42336                  0.75                    0.2  \n",
       "98070                  0.75                    0.2  \n",
       "\n",
       "[2 rows x 24 columns]"
      ]
     },
     "execution_count": 46,
     "metadata": {},
     "output_type": "execute_result"
    }
   ],
   "source": [
    "iowa[iowa['State Bottle Retail'] > 400]"
   ]
  },
  {
   "cell_type": "code",
   "execution_count": 47,
   "metadata": {
    "collapsed": false,
    "nbpresent": {
     "id": "493afe1b-a2d3-43e5-9a65-2bc9bca6e675"
    }
   },
   "outputs": [
    {
     "data": {
      "image/png": "[encoded data removed]",
      "text/plain": [
       "<matplotlib.figure.Figure at 0x120eb18d0>"
      ]
     },
     "metadata": {},
     "output_type": "display_data"
    },
    {
     "data": {
      "image/png": "[encoded data removed]",
      "text/plain": [
       "<matplotlib.figure.Figure at 0x11a7bf950>"
      ]
     },
     "metadata": {},
     "output_type": "display_data"
    },
    {
     "data": {
      "image/png": "[encoded data removed]",
      "text/plain": [
       "<matplotlib.figure.Figure at 0x1177a84d0>"
      ]
     },
     "metadata": {},
     "output_type": "display_data"
    }
   ],
   "source": [
    "\n",
    "plt.scatter(iowa['State Bottle Cost'], iowa['State Bottle Retail'])\n",
    "plt.xlabel('Bottle Cost')\n",
    "plt.ylabel('Price per Bottle')\n",
    "plt.title('Bottle cost vs Price per Bottle')\n",
    "plt.annotate('Cragganmore Distillers Edition 25YR HA', xy=(260, 420), xytext=(200, 700),\n",
    "            arrowprops=dict(facecolor='green', shrink=0.05),\n",
    "            )\n",
    "plt.annotate(\"Macallan Sherry Cask 25 Year Old Scotch - HA \", xy=(560, 820), xytext=(50, 820),\n",
    "            arrowprops=dict(facecolor='green'),\n",
    "            )\n",
    "plt.show()\n",
    "\n",
    "plt.scatter(iowa['Bottle Volume (ml)'],iowa['State Bottle Cost'])\n",
    "plt.xlabel('State Bottle Volume (ml)')\n",
    "plt.ylabel('Cost of Bottle')\n",
    "plt.title('Bottle Volume vs Bottle Cost')\n",
    "\n",
    "plt.show()\n",
    "\n",
    "plt.scatter(iowa['Bottle Volume (ml)'],iowa['Sale (Dollars)'])\n",
    "plt.xlabel('State Bottle Volume (ml)')\n",
    "plt.ylabel('Sale (Dollar)')\n",
    "plt.title('Bottle Volume vs Sales (Dollar)')\n",
    "\n",
    "plt.show()\n"
   ]
  },
  {
   "cell_type": "code",
   "execution_count": 48,
   "metadata": {
    "collapsed": false,
    "nbpresent": {
     "id": "e68a4555-03fb-4020-831f-3ee90faa456c"
    }
   },
   "outputs": [
    {
     "data": {
      "image/png": "[encoded data removed]",
      "text/plain": [
       "<matplotlib.figure.Figure at 0x11aa96290>"
      ]
     },
     "metadata": {},
     "output_type": "display_data"
    }
   ],
   "source": [
    "sns.boxplot(iowa['State Bottle Retail'], data=iowa);\n",
    "\n"
   ]
  },
  {
   "cell_type": "code",
   "execution_count": 49,
   "metadata": {
    "collapsed": false,
    "nbpresent": {
     "id": "cdaa0937-e32c-4b8d-9cee-d8648101119e"
    }
   },
   "outputs": [
    {
     "data": {
      "image/png": "[encoded data removed]",
      "text/plain": [
       "<matplotlib.figure.Figure at 0x11c814950>"
      ]
     },
     "metadata": {},
     "output_type": "display_data"
    }
   ],
   "source": [
    "\n",
    "sns.boxplot(iowa['Sale (Dollars)'], data=iowa);\n"
   ]
  },
  {
   "cell_type": "code",
   "execution_count": 50,
   "metadata": {
    "collapsed": false,
    "nbpresent": {
     "id": "828e3e78-6afd-4d13-bf9c-545edd99c91d"
    }
   },
   "outputs": [
    {
     "data": {
      "image/png": "[encoded data removed]",
      "text/plain": [
       "<matplotlib.figure.Figure at 0x11a703090>"
      ]
     },
     "metadata": {},
     "output_type": "display_data"
    }
   ],
   "source": [
    "sns.boxplot(iowa['Bottles Sold'], data=iowa);"
   ]
  },
  {
   "cell_type": "code",
   "execution_count": null,
   "metadata": {
    "collapsed": false,
    "nbpresent": {
     "id": "04b1bb29-3386-470d-a616-218974a184b3"
    }
   },
   "outputs": [],
   "source": [
    "sns.swarmplot(iowa['Zip Code'],iowa['Sale (Dollars)'])"
   ]
  },
  {
   "cell_type": "code",
   "execution_count": null,
   "metadata": {
    "collapsed": false,
    "nbpresent": {
     "id": "817d722d-862b-4754-a35d-0d95514f7c64"
    }
   },
   "outputs": [],
   "source": [
    "sns.swarmplot(iowa['Zip Code'],iowa['Bottles Sold'], data=iowa);"
   ]
  },
  {
   "cell_type": "markdown",
   "metadata": {
    "nbpresent": {
     "id": "9d01fa87-df99-4fe1-8134-ce886eb652b4"
    }
   },
   "source": [
    "# Mine the data\n",
    "Now you are ready to compute the variables you will use for your regression from the data. For example, you may want to\n",
    "compute total sales per store from Jan to March of 2015, mean price per bottle, etc. Refer to the readme for more ideas appropriate to your scenario.\n",
    "\n",
    "Pandas is your friend for this task. Take a look at the operations [here](http://pandas.pydata.org/pandas-docs/stable/groupby.html) for ideas on how to make the best use of pandas and feel free to search for blog and Stack Overflow posts to help you group data by certain variables and compute sums, means, etc. You may find it useful to create a new data frame to house this summary data."
   ]
  },
  {
   "cell_type": "code",
   "execution_count": null,
   "metadata": {
    "collapsed": false,
    "nbpresent": {
     "id": "3811e8e5-8bf7-48db-8a64-f90aeef24138"
    }
   },
   "outputs": [],
   "source": [
    "#"
   ]
  },
  {
   "cell_type": "markdown",
   "metadata": {
    "nbpresent": {
     "id": "8700ec75-72a8-439c-8756-c08f493a3be7"
    }
   },
   "source": [
    "# Refine the data\n",
    "Look for any statistical relationships, correlations, or other relevant properties of the dataset."
   ]
  },
  {
   "cell_type": "code",
   "execution_count": 17,
   "metadata": {
    "collapsed": false
   },
   "outputs": [],
   "source": [
    "\n",
    "reg_iowa=pd.DataFrame(iowa[['City','County','Zip Code','Store Number','Sale (Dollars)','State Bottle Retail', 'State Bottle Cost','Bottles Sold']])\n",
    "\n"
   ]
  },
  {
   "cell_type": "code",
   "execution_count": 18,
   "metadata": {
    "collapsed": false,
    "nbpresent": {
     "id": "1eb2338d-5dc5-4241-b851-d875a17fcdd9"
    }
   },
   "outputs": [
    {
     "data": {
      "text/html": [
       "<div>\n",
       "<table border=\"1\" class=\"dataframe\">\n",
       "  <thead>\n",
       "    <tr style=\"text-align: right;\">\n",
       "      <th></th>\n",
       "      <th>Zip Code</th>\n",
       "      <th>Store Number</th>\n",
       "      <th>Sale (Dollars)</th>\n",
       "      <th>State Bottle Retail</th>\n",
       "      <th>State Bottle Cost</th>\n",
       "      <th>Bottles Sold</th>\n",
       "    </tr>\n",
       "  </thead>\n",
       "  <tbody>\n",
       "    <tr>\n",
       "      <th>Zip Code</th>\n",
       "      <td>1.000000</td>\n",
       "      <td>-0.012580</td>\n",
       "      <td>-0.000986</td>\n",
       "      <td>-0.022147</td>\n",
       "      <td>-0.022095</td>\n",
       "      <td>0.001629</td>\n",
       "    </tr>\n",
       "    <tr>\n",
       "      <th>Store Number</th>\n",
       "      <td>-0.012580</td>\n",
       "      <td>1.000000</td>\n",
       "      <td>-0.023686</td>\n",
       "      <td>-0.065318</td>\n",
       "      <td>-0.064916</td>\n",
       "      <td>0.000046</td>\n",
       "    </tr>\n",
       "    <tr>\n",
       "      <th>Sale (Dollars)</th>\n",
       "      <td>-0.000986</td>\n",
       "      <td>-0.023686</td>\n",
       "      <td>1.000000</td>\n",
       "      <td>0.142830</td>\n",
       "      <td>0.142702</td>\n",
       "      <td>0.859060</td>\n",
       "    </tr>\n",
       "    <tr>\n",
       "      <th>State Bottle Retail</th>\n",
       "      <td>-0.022147</td>\n",
       "      <td>-0.065318</td>\n",
       "      <td>0.142830</td>\n",
       "      <td>1.000000</td>\n",
       "      <td>0.999868</td>\n",
       "      <td>-0.054154</td>\n",
       "    </tr>\n",
       "    <tr>\n",
       "      <th>State Bottle Cost</th>\n",
       "      <td>-0.022095</td>\n",
       "      <td>-0.064916</td>\n",
       "      <td>0.142702</td>\n",
       "      <td>0.999868</td>\n",
       "      <td>1.000000</td>\n",
       "      <td>-0.054103</td>\n",
       "    </tr>\n",
       "    <tr>\n",
       "      <th>Bottles Sold</th>\n",
       "      <td>0.001629</td>\n",
       "      <td>0.000046</td>\n",
       "      <td>0.859060</td>\n",
       "      <td>-0.054154</td>\n",
       "      <td>-0.054103</td>\n",
       "      <td>1.000000</td>\n",
       "    </tr>\n",
       "  </tbody>\n",
       "</table>\n",
       "</div>"
      ],
      "text/plain": [
       "                     Zip Code  Store Number  Sale (Dollars)  \\\n",
       "Zip Code             1.000000     -0.012580       -0.000986   \n",
       "Store Number        -0.012580      1.000000       -0.023686   \n",
       "Sale (Dollars)      -0.000986     -0.023686        1.000000   \n",
       "State Bottle Retail -0.022147     -0.065318        0.142830   \n",
       "State Bottle Cost   -0.022095     -0.064916        0.142702   \n",
       "Bottles Sold         0.001629      0.000046        0.859060   \n",
       "\n",
       "                     State Bottle Retail  State Bottle Cost  Bottles Sold  \n",
       "Zip Code                       -0.022147          -0.022095      0.001629  \n",
       "Store Number                   -0.065318          -0.064916      0.000046  \n",
       "Sale (Dollars)                  0.142830           0.142702      0.859060  \n",
       "State Bottle Retail             1.000000           0.999868     -0.054154  \n",
       "State Bottle Cost               0.999868           1.000000     -0.054103  \n",
       "Bottles Sold                   -0.054154          -0.054103      1.000000  "
      ]
     },
     "execution_count": 18,
     "metadata": {},
     "output_type": "execute_result"
    }
   ],
   "source": [
    "reg_iowa.corr()"
   ]
  },
  {
   "cell_type": "code",
   "execution_count": 19,
   "metadata": {
    "collapsed": false,
    "nbpresent": {
     "id": "2b0d11ee-5f5b-4cee-8484-d5411cfad720"
    }
   },
   "outputs": [],
   "source": [
    "reg_iowa=reg_iowa.groupby(['City','County','Zip Code','Store Number'],as_index=False)"
   ]
  },
  {
   "cell_type": "code",
   "execution_count": 20,
   "metadata": {
    "collapsed": false,
    "nbpresent": {
     "id": "5ef5b1a5-4a28-4e0a-a3e9-c43f6175adb0"
    }
   },
   "outputs": [],
   "source": [
    "#reg_iowa.aggregate(np.sum)\n",
    "reg_iowa=pd.DataFrame(reg_iowa.agg({'Sale (Dollars)' : np.sum, 'State Bottle Retail' :np.mean, 'State Bottle Cost':np.mean,'Bottles Sold':np.sum}))"
   ]
  },
  {
   "cell_type": "code",
   "execution_count": 21,
   "metadata": {
    "collapsed": false,
    "nbpresent": {
     "id": "91290a4e-7e91-4207-a478-7acba7c6f713"
    }
   },
   "outputs": [
    {
     "name": "stdout",
     "output_type": "stream",
     "text": [
      "Total Sale            13269874.17\n",
      "Mean Sale Per Store   8583.35974774\n",
      "Std Sale Per Store    20962.8613621\n",
      "Median Sale Per Store 2650.34\n"
     ]
    }
   ],
   "source": [
    "print \"Total Sale           \", reg_iowa['Sale (Dollars)'].sum()\n",
    "mean= reg_iowa.groupby(['City','County','Zip Code','Store Number'])['Sale (Dollars)'].mean().mean()\n",
    "print \"Mean Sale Per Store  \" , mean\n",
    "stdmean= reg_iowa.groupby(['City','County','Zip Code','Store Number'])['Sale (Dollars)'].mean().std()\n",
    "print \"Std Sale Per Store   \", stdmean\n",
    "medianmean= reg_iowa.groupby(['City','County','Zip Code','Store Number'])['Sale (Dollars)'].mean().median()\n",
    "print \"Median Sale Per Store\", medianmean"
   ]
  },
  {
   "cell_type": "code",
   "execution_count": 22,
   "metadata": {
    "collapsed": false,
    "nbpresent": {
     "id": "12ce9655-04dc-44e9-8041-0d2e74445a65"
    }
   },
   "outputs": [],
   "source": [
    "reg_iowa['Sale (Dollars)']=[0 if x <= 5500 else 1 for x in reg_iowa['Sale (Dollars)']]\n"
   ]
  },
  {
   "cell_type": "code",
   "execution_count": 23,
   "metadata": {
    "collapsed": false,
    "nbpresent": {
     "id": "ff044390-24c8-408e-b302-cfc788b59ae8"
    }
   },
   "outputs": [
    {
     "data": {
      "text/plain": [
       "0"
      ]
     },
     "execution_count": 23,
     "metadata": {},
     "output_type": "execute_result"
    }
   ],
   "source": [
    "reg_iowa['Sale (Dollars)'].isnull().sum()"
   ]
  },
  {
   "cell_type": "code",
   "execution_count": 24,
   "metadata": {
    "collapsed": false,
    "nbpresent": {
     "id": "6a459cd1-83c5-435f-bd81-56cee50323e4"
    }
   },
   "outputs": [
    {
     "data": {
      "text/html": [
       "<div>\n",
       "<table border=\"1\" class=\"dataframe\">\n",
       "  <thead>\n",
       "    <tr style=\"text-align: right;\">\n",
       "      <th></th>\n",
       "      <th>City</th>\n",
       "      <th>County</th>\n",
       "      <th>Zip Code</th>\n",
       "      <th>Store Number</th>\n",
       "      <th>State Bottle Retail</th>\n",
       "      <th>Bottles Sold</th>\n",
       "      <th>State Bottle Cost</th>\n",
       "    </tr>\n",
       "    <tr>\n",
       "      <th>Sale (Dollars)</th>\n",
       "      <th></th>\n",
       "      <th></th>\n",
       "      <th></th>\n",
       "      <th></th>\n",
       "      <th></th>\n",
       "      <th></th>\n",
       "      <th></th>\n",
       "    </tr>\n",
       "  </thead>\n",
       "  <tbody>\n",
       "    <tr>\n",
       "      <th>0</th>\n",
       "      <td>1067</td>\n",
       "      <td>1067</td>\n",
       "      <td>1067</td>\n",
       "      <td>1067</td>\n",
       "      <td>1067</td>\n",
       "      <td>1067</td>\n",
       "      <td>1067</td>\n",
       "    </tr>\n",
       "    <tr>\n",
       "      <th>1</th>\n",
       "      <td>479</td>\n",
       "      <td>479</td>\n",
       "      <td>479</td>\n",
       "      <td>479</td>\n",
       "      <td>479</td>\n",
       "      <td>479</td>\n",
       "      <td>479</td>\n",
       "    </tr>\n",
       "  </tbody>\n",
       "</table>\n",
       "</div>"
      ],
      "text/plain": [
       "                City  County  Zip Code  Store Number  State Bottle Retail  \\\n",
       "Sale (Dollars)                                                              \n",
       "0               1067    1067      1067          1067                 1067   \n",
       "1                479     479       479           479                  479   \n",
       "\n",
       "                Bottles Sold  State Bottle Cost  \n",
       "Sale (Dollars)                                   \n",
       "0                       1067               1067  \n",
       "1                        479                479  "
      ]
     },
     "execution_count": 24,
     "metadata": {},
     "output_type": "execute_result"
    }
   ],
   "source": [
    "reg_iowa.groupby(['Sale (Dollars)']).count()"
   ]
  },
  {
   "cell_type": "code",
   "execution_count": 25,
   "metadata": {
    "collapsed": false,
    "nbpresent": {
     "id": "700d570a-57c8-4abe-9fe3-82e3bcf1fa9a"
    }
   },
   "outputs": [
    {
     "data": {
      "text/plain": [
       "City                    object\n",
       "County                  object\n",
       "Zip Code                 int64\n",
       "Store Number             int64\n",
       "State Bottle Retail    float64\n",
       "Bottles Sold           float64\n",
       "Sale (Dollars)           int64\n",
       "State Bottle Cost      float64\n",
       "dtype: object"
      ]
     },
     "execution_count": 25,
     "metadata": {},
     "output_type": "execute_result"
    }
   ],
   "source": [
    "reg_iowa.dtypes"
   ]
  },
  {
   "cell_type": "code",
   "execution_count": 114,
   "metadata": {
    "collapsed": false,
    "nbpresent": {
     "id": "7506812b-0dbe-4e44-9025-c16a216dc30e"
    }
   },
   "outputs": [],
   "source": [
    "reg_iowa['Sale (Dollars)']=reg_iowa['Sale (Dollars)'].astype(int)\n",
    "#reg_df['Zip Code']=reg_df['Zip Code'].astype(int)"
   ]
  },
  {
   "cell_type": "code",
   "execution_count": 26,
   "metadata": {
    "collapsed": false,
    "nbpresent": {
     "id": "fa36163c-9ef1-41bd-a75d-e0531ec18be7"
    }
   },
   "outputs": [
    {
     "data": {
      "text/plain": [
       "array([0, 1])"
      ]
     },
     "execution_count": 26,
     "metadata": {},
     "output_type": "execute_result"
    }
   ],
   "source": [
    "#reg_ed=reg_df[reg_df['Zip Code']==\"712-2\"]\n",
    "reg_iowa['Sale (Dollars)'].unique()\n"
   ]
  },
  {
   "cell_type": "code",
   "execution_count": null,
   "metadata": {
    "collapsed": true
   },
   "outputs": [],
   "source": []
  },
  {
   "cell_type": "code",
   "execution_count": 27,
   "metadata": {
    "collapsed": false,
    "nbpresent": {
     "id": "81802230-b76b-4188-a461-373c28ceaffd"
    }
   },
   "outputs": [],
   "source": [
    "from sklearn import linear_model\n",
    "from sklearn.cross_validation import train_test_split\n",
    "X=reg_iowa[['Zip Code','State Bottle Retail', 'State Bottle Cost','Bottles Sold']]\n",
    "y=reg_iowa['Sale (Dollars)']\n"
   ]
  },
  {
   "cell_type": "code",
   "execution_count": 28,
   "metadata": {
    "collapsed": true,
    "nbpresent": {
     "id": "691fdfba-51a8-4e2a-900e-d4fab93ffa61"
    }
   },
   "outputs": [],
   "source": [
    "\n",
    "X_train, X_test, y_train, y_test = train_test_split(X, y, test_size=0.5, random_state=77)"
   ]
  },
  {
   "cell_type": "code",
   "execution_count": 31,
   "metadata": {
    "collapsed": false,
    "nbpresent": {
     "id": "9b8a873c-22a5-405c-b204-f72839fcf433"
    }
   },
   "outputs": [
    {
     "name": "stdout",
     "output_type": "stream",
     "text": [
      "0.949547218629\n"
     ]
    }
   ],
   "source": [
    "# import KNN from SKLearn, instatiate a model with one neighbor\n",
    "from sklearn.neighbors import KNeighborsClassifier\n",
    "\n",
    "knn = KNeighborsClassifier(n_neighbors = 5)\n",
    "model=knn.fit(X, y)\n",
    "score = knn.score(X_test, y_test)\n",
    "y_pred=knn.predict(X_test)\n",
    "    \n",
    "print score"
   ]
  },
  {
   "cell_type": "code",
   "execution_count": 32,
   "metadata": {
    "collapsed": false,
    "nbpresent": {
     "id": "04abb535-0bd8-4e7e-bf11-2d0121312c90"
    }
   },
   "outputs": [
    {
     "data": {
      "text/plain": [
       "GridSearchCV(cv=None, error_score='raise',\n",
       "       estimator=KNeighborsClassifier(algorithm='auto', leaf_size=30, metric='minkowski',\n",
       "           metric_params=None, n_jobs=1, n_neighbors=5, p=2,\n",
       "           weights='uniform'),\n",
       "       fit_params={}, iid=True, n_jobs=1,\n",
       "       param_grid=[{'n_neighbors': [5, 10, 20, 30, 40, 50, 60, 70, 80, 90, 100], 'weights': ['uniform', 'distance']}],\n",
       "       pre_dispatch='2*n_jobs', refit=True, scoring=None, verbose=0)"
      ]
     },
     "execution_count": 32,
     "metadata": {},
     "output_type": "execute_result"
    }
   ],
   "source": [
    "from sklearn.grid_search import GridSearchCV\n",
    "parameters = [{'weights': ['uniform', 'distance'], 'n_neighbors': [5, 10, 20, 30, 40, 50, 60, 70, 80, 90, 100]}]\n",
    "knnGS = GridSearchCV(KNeighborsClassifier(), parameters)\n",
    "knnGS.fit(X_test, y_test)"
   ]
  },
  {
   "cell_type": "code",
   "execution_count": 33,
   "metadata": {
    "collapsed": false,
    "nbpresent": {
     "id": "62661df9-1fe7-49ca-8fff-93df082f8155"
    }
   },
   "outputs": [
    {
     "data": {
      "text/plain": [
       "{'n_neighbors': 20, 'weights': 'distance'}"
      ]
     },
     "execution_count": 33,
     "metadata": {},
     "output_type": "execute_result"
    }
   ],
   "source": [
    "knnGS.best_params_"
   ]
  },
  {
   "cell_type": "code",
   "execution_count": null,
   "metadata": {
    "collapsed": false,
    "nbpresent": {
     "id": "7229e1c8-dcd6-49bb-8825-65f7c313e913"
    }
   },
   "outputs": [],
   "source": [
    "#Implement  best parameters k=20  and weights =distance"
   ]
  },
  {
   "cell_type": "code",
   "execution_count": 55,
   "metadata": {
    "collapsed": false
   },
   "outputs": [
    {
     "name": "stdout",
     "output_type": "stream",
     "text": [
      "0.930142302717\n"
     ]
    }
   ],
   "source": [
    "knn20 = KNeighborsClassifier(n_neighbors = 20,weights='distance')\n",
    "model=knn20.fit(X_train, y_train)\n",
    "score = knn20.score(X_test, y_test)\n",
    "y_pred20=knn20.predict(X_test)\n",
    "    \n",
    "print score"
   ]
  },
  {
   "cell_type": "markdown",
   "metadata": {
    "nbpresent": {
     "id": "e39fcf8f-4dd9-4801-87ba-93e7e8c51960"
    }
   },
   "source": [
    "## Plot your results\n",
    "\n",
    "Again make sure that you record any valuable information. For example, in the tax scenario, did you find the sales from the first three months of the year to be a good predictor of the total sales for the year? Plot the predictions versus the true values and discuss the successes and limitations of your models"
   ]
  },
  {
   "cell_type": "code",
   "execution_count": 58,
   "metadata": {
    "collapsed": false,
    "nbpresent": {
     "id": "e02c317a-c3c5-4c25-bb31-8410a1836c9f"
    }
   },
   "outputs": [
    {
     "data": {
      "image/png": "[encoded data removed]",
      "text/plain": [
       "<matplotlib.figure.Figure at 0x11812b450>"
      ]
     },
     "metadata": {},
     "output_type": "display_data"
    }
   ],
   "source": [
    "from sklearn.metrics import roc_curve, auc\n",
    "fpr, tpr, threshold = roc_curve(y_test, y_pred20)\n",
    "roc_auc = auc(fpr, tpr)\n",
    "\n",
    "\n",
    "import matplotlib.pyplot as plt\n",
    "plt.title('Receiver Operating Characteristic')\n",
    "plt.plot(fpr, tpr, 'b', label = 'AUC = %0.2f' % roc_auc)\n",
    "plt.legend(loc = 'lower right')\n",
    "plt.plot([0, 1], [0, 1],'r--')\n",
    "plt.xlim([0, 1])\n",
    "plt.ylim([0, 1])\n",
    "plt.ylabel('True Positive Rate')\n",
    "plt.xlabel('False Positive Rate')\n",
    "plt.show()"
   ]
  },
  {
   "cell_type": "markdown",
   "metadata": {
    "nbpresent": {
     "id": "2d831414-3e22-43f7-8d66-2ee5cf1f3fc9"
    }
   },
   "source": [
    "# Present the Results\n",
    "\n",
    "Present your conclusions and results. If you have more than one interesting model feel free to include more than one along with a discussion. Use your work in this notebook to prepare your write-up."
   ]
  },
  {
   "cell_type": "code",
   "execution_count": null,
   "metadata": {
    "collapsed": true,
    "nbpresent": {
     "id": "870dd5c4-b80e-4766-b3a6-e6700d20be18"
    }
   },
   "outputs": [],
   "source": [
    "# the best result  is the maximum area under the curve of 0.91 at treshold ~(0.6,0.9), suggests we can predict the best prices of liquor with 91%accuracy\n"
   ]
  },
  {
   "cell_type": "code",
   "execution_count": 61,
   "metadata": {
    "collapsed": false
   },
   "outputs": [
    {
     "name": "stdout",
     "output_type": "stream",
     "text": [
      "False Posistive Rate: 0.0415879017013\n",
      "true Posistive Rate: 0.868852459016\n"
     ]
    }
   ],
   "source": [
    "print \"False Posistive Rate:\", fpr[1]\n",
    "print \"true Posistive Rate:\", tpr[1]"
   ]
  },
  {
   "cell_type": "code",
   "execution_count": null,
   "metadata": {
    "collapsed": true
   },
   "outputs": [],
   "source": [
    "However, there are some areas that are predited to have a flase higher price (fpr). Depending on the need to predict\n",
    "precisely we will choose the level of the treshhold and adjust the model.\n"
   ]
  }
 ],
 "metadata": {
  "anaconda-cloud": {},
  "kernelspec": {
   "display_name": "Python [Root]",
   "language": "python",
   "name": "Python [Root]"
  },
  "language_info": {
   "codemirror_mode": {
    "name": "ipython",
    "version": 2
   },
   "file_extension": ".py",
   "mimetype": "text/x-python",
   "name": "python",
   "nbconvert_exporter": "python",
   "pygments_lexer": "ipython2",
   "version": "2.7.12"
  },
  "nbpresent": {
   "slides": {
    "210c1601-d8b6-4b5c-8013-53d4a56cd871": {
     "id": "210c1601-d8b6-4b5c-8013-53d4a56cd871",
     "prev": null,
     "regions": {
      "d5b3592b-679e-4d92-b2af-93ef9da16913": {
       "attrs": {
        "height": 1,
        "width": 1,
        "x": 0.0047562425683709865,
        "y": 0.010569427929713304
       },
       "content": {
        "cell": "971687ba-3edf-4bae-aa6f-c72b44e77a30",
        "part": "source"
       },
       "id": "d5b3592b-679e-4d92-b2af-93ef9da16913"
      }
     }
    },
    "3ee26ac1-dd3e-4f10-a18c-1e7db9c3d297": {
     "id": "3ee26ac1-dd3e-4f10-a18c-1e7db9c3d297",
     "prev": "799512cd-8140-40b3-84d8-03825098a7ce",
     "regions": {
      "f6b3e0e7-3ba6-4d56-adcf-cfaa1002c746": {
       "attrs": {
        "height": 1,
        "width": 1,
        "x": 0,
        "y": 0
       },
       "id": "f6b3e0e7-3ba6-4d56-adcf-cfaa1002c746"
      }
     }
    },
    "4df79114-000e-416f-a4cf-5c3f25a4e9f4": {
     "id": "4df79114-000e-416f-a4cf-5c3f25a4e9f4",
     "prev": "3ee26ac1-dd3e-4f10-a18c-1e7db9c3d297",
     "regions": {
      "469f8cea-f8f9-490c-b476-3b730a52fa05": {
       "attrs": {
        "height": 0.6,
        "width": 0.8,
        "x": 0.1,
        "y": 0.1
       },
       "id": "469f8cea-f8f9-490c-b476-3b730a52fa05"
      },
      "c1ce67cd-1cbd-442e-8584-ef8007bca23f": {
       "attrs": {
        "height": 0.2,
        "width": 0.4,
        "x": 0.1,
        "y": 0.7
       },
       "id": "c1ce67cd-1cbd-442e-8584-ef8007bca23f"
      },
      "cecb9417-d7f9-49b4-99e7-9e4b5724effa": {
       "attrs": {
        "height": 0.2,
        "width": 0.4,
        "x": 0.5,
        "y": 0.7
       },
       "id": "cecb9417-d7f9-49b4-99e7-9e4b5724effa"
      }
     }
    },
    "799512cd-8140-40b3-84d8-03825098a7ce": {
     "id": "799512cd-8140-40b3-84d8-03825098a7ce",
     "prev": "210c1601-d8b6-4b5c-8013-53d4a56cd871",
     "regions": {
      "056d4e7e-c5a8-4243-8174-f318b07fa573": {
       "attrs": {
        "height": 0.8,
        "width": 0.45,
        "x": 0.05,
        "y": 0.1
       },
       "content": {
        "cell": "493afe1b-a2d3-43e5-9a65-2bc9bca6e675",
        "part": "outputs"
       },
       "id": "056d4e7e-c5a8-4243-8174-f318b07fa573"
      },
      "399e26cc-aae9-4478-abf0-4c6b0a6e1aa1": {
       "attrs": {
        "height": 0.8,
        "width": 0.45,
        "x": 0.5,
        "y": 0.1
       },
       "content": {
        "cell": "04b1bb29-3386-470d-a616-218974a184b3",
        "part": "outputs"
       },
       "id": "399e26cc-aae9-4478-abf0-4c6b0a6e1aa1"
      }
     }
    },
    "d5123942-1c11-4191-b015-8e35f875e1a6": {
     "id": "d5123942-1c11-4191-b015-8e35f875e1a6",
     "prev": "4df79114-000e-416f-a4cf-5c3f25a4e9f4",
     "regions": {
      "faec4579-217e-4d5c-ab1f-234b715206a1": {
       "attrs": {
        "height": 1,
        "width": 1,
        "x": 0,
        "y": 0
       },
       "content": {
        "cell": "e68a4555-03fb-4020-831f-3ee90faa456c",
        "part": "whole"
       },
       "id": "faec4579-217e-4d5c-ab1f-234b715206a1"
      }
     }
    }
   },
   "themes": {}
  }
 },
 "nbformat": 4,
 "nbformat_minor": 0
}
