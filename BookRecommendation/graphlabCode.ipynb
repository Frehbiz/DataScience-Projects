{
 "cells": [
  {
   "cell_type": "markdown",
   "metadata": {},
   "source": [
    "# Book recommender system - Graphlab"
   ]
  },
  {
   "cell_type": "markdown",
   "metadata": {},
   "source": [
    "The objective of this capstone project is to build a book recomendation system.\n",
    "There are many tools in python for recomendation Systems. I will be utilizing Graphlab, https://turi.com/learn/userguide/ to build a hybrid recommendation system.\n",
    "\n",
    "There are usually two methods to build recomendtion systems.Collaborative and Content filtering approach.\n",
    "Collaborative filtering: relies on the users collaborating to rate an item/product and will only be able to recommend an item if the user is already in the database and his/her preferences/ratings are recorded in the system. similarly a new item in content based approach would not have a rating and thus the system would not be able to make recommendations.\n",
    "\n",
    "the alternative approach is to use a mix of the two approaches to build a recommendation system that selects the best method to recommend when information is not availiable from the other systems.\n",
    "\n",
    "The dataset is Amazon books review database, obtained from http://jmcauley.ucsd.edu/data/amazon/ with permission from the authors of Image-based recommendations on styles and substitutes J. McAuley, C. Targett, J. Shi, A. van den Hengel SIGIR, 2015.\n"
   ]
  },
  {
   "cell_type": "code",
   "execution_count": 1,
   "metadata": {
    "collapsed": false
   },
   "outputs": [],
   "source": [
    "import graphlab\n",
    "import pandas as pd\n",
    "import numpy as np"
   ]
  },
  {
   "cell_type": "code",
   "execution_count": null,
   "metadata": {
    "collapsed": true
   },
   "outputs": [],
   "source": [
    "#gratab sframe had problems parsing some columns will use pandas read_readcsv and then select features to sframe\n",
    "reviews=graphlab.SFrame.read_csv(\"hundredKreviews.csv\")"
   ]
  },
  {
   "cell_type": "code",
   "execution_count": null,
   "metadata": {
    "collapsed": false
   },
   "outputs": [],
   "source": [
    "reviews.head(2)"
   ]
  },
  {
   "cell_type": "code",
   "execution_count": 21,
   "metadata": {
    "collapsed": false
   },
   "outputs": [
    {
     "name": "stdout",
     "output_type": "stream",
     "text": [
      "Canvas is accessible via web browser at the URL: http://localhost:61380/index.html\n",
      "Opening Canvas in default web browser.\n"
     ]
    }
   ],
   "source": [
    "reviews.show()"
   ]
  },
  {
   "cell_type": "code",
   "execution_count": 27,
   "metadata": {
    "collapsed": false
   },
   "outputs": [],
   "source": [
    "booksdb=pd.read_csv(\"booksinfo.csv\")"
   ]
  },
  {
   "cell_type": "code",
   "execution_count": 86,
   "metadata": {
    "collapsed": false
   },
   "outputs": [
    {
     "data": {
      "text/html": [
       "<div>\n",
       "<table border=\"1\" class=\"dataframe\">\n",
       "  <thead>\n",
       "    <tr style=\"text-align: right;\">\n",
       "      <th></th>\n",
       "      <th>asin</th>\n",
       "      <th>title</th>\n",
       "      <th>description</th>\n",
       "      <th>brand</th>\n",
       "    </tr>\n",
       "  </thead>\n",
       "  <tbody>\n",
       "    <tr>\n",
       "      <th>0</th>\n",
       "      <td>0001048791</td>\n",
       "      <td>The Crucible: Performed by Stuart Pankin, Jero...</td>\n",
       "      <td></td>\n",
       "      <td></td>\n",
       "    </tr>\n",
       "    <tr>\n",
       "      <th>1</th>\n",
       "      <td>0001048775</td>\n",
       "      <td>Measure for Measure: Complete &amp;amp; Unabridged</td>\n",
       "      <td>William Shakespeare is widely regarded as the ...</td>\n",
       "      <td></td>\n",
       "    </tr>\n",
       "  </tbody>\n",
       "</table>\n",
       "</div>"
      ],
      "text/plain": [
       "         asin                                              title  \\\n",
       "0  0001048791  The Crucible: Performed by Stuart Pankin, Jero...   \n",
       "1  0001048775     Measure for Measure: Complete &amp; Unabridged   \n",
       "\n",
       "                                         description brand  \n",
       "0                                                           \n",
       "1  William Shakespeare is widely regarded as the ...        "
      ]
     },
     "execution_count": 86,
     "metadata": {},
     "output_type": "execute_result"
    }
   ],
   "source": [
    "booksdb.head(2)"
   ]
  },
  {
   "cell_type": "code",
   "execution_count": 31,
   "metadata": {
    "collapsed": false
   },
   "outputs": [],
   "source": [
    "booksdb=booksdb.drop([\"Unnamed: 0\",\"categories\",\"imUrl\",\"related\",\"salesRank\",price\"],axis=1)\n",
    "booksdb.fillna(\" \", inplace=True)\n",
    "booksdb=graphlab.SFrame(booksdb)"
   ]
  },
  {
   "cell_type": "code",
   "execution_count": 94,
   "metadata": {
    "collapsed": false
   },
   "outputs": [
    {
     "data": {
      "text/plain": [
       "(99985, 10)"
      ]
     },
     "execution_count": 94,
     "metadata": {},
     "output_type": "execute_result"
    }
   ],
   "source": [
    "reviews.shape"
   ]
  },
  {
   "cell_type": "code",
   "execution_count": 96,
   "metadata": {
    "collapsed": false
   },
   "outputs": [
    {
     "data": {
      "text/plain": [
       "(2370585, 4)"
      ]
     },
     "execution_count": 96,
     "metadata": {},
     "output_type": "execute_result"
    }
   ],
   "source": [
    "booksdb.shape"
   ]
  },
  {
   "cell_type": "code",
   "execution_count": 99,
   "metadata": {
    "collapsed": false
   },
   "outputs": [
    {
     "name": "stdout",
     "output_type": "stream",
     "text": [
      "Canvas is accessible via web browser at the URL: http://localhost:61380/index.html\n",
      "Opening Canvas in default web browser.\n"
     ]
    }
   ],
   "source": [
    "reviews.show()"
   ]
  },
  {
   "cell_type": "code",
   "execution_count": 107,
   "metadata": {
    "collapsed": false
   },
   "outputs": [],
   "source": [
    "reviews=reviews.join(booksdb,on='asin',how='inner')"
   ]
  },
  {
   "cell_type": "code",
   "execution_count": 171,
   "metadata": {
    "collapsed": false
   },
   "outputs": [
    {
     "data": {
      "text/html": [
       "<div style=\"max-height:1000px;max-width:1500px;overflow:auto;\"><table frame=\"box\" rules=\"cols\">\n",
       "    <tr>\n",
       "        <th style=\"padding-left: 1em; padding-right: 1em; text-align: center\">X1</th>\n",
       "        <th style=\"padding-left: 1em; padding-right: 1em; text-align: center\">reviewerID</th>\n",
       "        <th style=\"padding-left: 1em; padding-right: 1em; text-align: center\">asin</th>\n",
       "        <th style=\"padding-left: 1em; padding-right: 1em; text-align: center\">reviewerName</th>\n",
       "        <th style=\"padding-left: 1em; padding-right: 1em; text-align: center\">helpful</th>\n",
       "        <th style=\"padding-left: 1em; padding-right: 1em; text-align: center\">unixReviewTime</th>\n",
       "        <th style=\"padding-left: 1em; padding-right: 1em; text-align: center\">reviewText</th>\n",
       "        <th style=\"padding-left: 1em; padding-right: 1em; text-align: center\">overall</th>\n",
       "        <th style=\"padding-left: 1em; padding-right: 1em; text-align: center\">reviewTime</th>\n",
       "    </tr>\n",
       "</table>\n",
       "<table frame=\"box\" rules=\"cols\">\n",
       "    <tr>\n",
       "        <th style=\"padding-left: 1em; padding-right: 1em; text-align: center\">summary</th>\n",
       "        <th style=\"padding-left: 1em; padding-right: 1em; text-align: center\">title</th>\n",
       "        <th style=\"padding-left: 1em; padding-right: 1em; text-align: center\">description</th>\n",
       "        <th style=\"padding-left: 1em; padding-right: 1em; text-align: center\">brand</th>\n",
       "    </tr>\n",
       "</table>\n",
       "[0 rows x 13 columns]<br/>\n",
       "</div>"
      ],
      "text/plain": [
       "Columns:\n",
       "\tX1\tint\n",
       "\treviewerID\tstr\n",
       "\tasin\tstr\n",
       "\treviewerName\tstr\n",
       "\thelpful\tarray\n",
       "\tunixReviewTime\tint\n",
       "\treviewText\tstr\n",
       "\toverall\tfloat\n",
       "\treviewTime\tstr\n",
       "\tsummary\tstr\n",
       "\ttitle\tstr\n",
       "\tdescription\tstr\n",
       "\tbrand\tstr\n",
       "\n",
       "Rows: 0\n",
       "\n",
       "Data:\n",
       "\t[]"
      ]
     },
     "execution_count": 171,
     "metadata": {},
     "output_type": "execute_result"
    }
   ],
   "source": [
    "reviews.head(0)"
   ]
  },
  {
   "cell_type": "markdown",
   "metadata": {
    "collapsed": true
   },
   "source": [
    "# Build a recommender"
   ]
  },
  {
   "cell_type": "code",
   "execution_count": 109,
   "metadata": {
    "collapsed": false,
    "scrolled": true
   },
   "outputs": [
    {
     "data": {
      "text/html": [
       "<pre>Recsys training: model = item_similarity</pre>"
      ],
      "text/plain": [
       "Recsys training: model = item_similarity"
      ]
     },
     "metadata": {},
     "output_type": "display_data"
    },
    {
     "data": {
      "text/html": [
       "<pre>Warning: Ignoring columns X1, asin, reviewerName, helpful, unixReviewTime, reviewText, overall, reviewTime, summary, description, brand;</pre>"
      ],
      "text/plain": [
       "Warning: Ignoring columns X1, asin, reviewerName, helpful, unixReviewTime, reviewText, overall, reviewTime, summary, description, brand;"
      ]
     },
     "metadata": {},
     "output_type": "display_data"
    },
    {
     "data": {
      "text/html": [
       "<pre>    To use one of these as a target column, set target = <column_name></pre>"
      ],
      "text/plain": [
       "    To use one of these as a target column, set target = <column_name>"
      ]
     },
     "metadata": {},
     "output_type": "display_data"
    },
    {
     "data": {
      "text/html": [
       "<pre>    and use a method that allows the use of a target.</pre>"
      ],
      "text/plain": [
       "    and use a method that allows the use of a target."
      ]
     },
     "metadata": {},
     "output_type": "display_data"
    },
    {
     "data": {
      "text/html": [
       "<pre>Preparing data set.</pre>"
      ],
      "text/plain": [
       "Preparing data set."
      ]
     },
     "metadata": {},
     "output_type": "display_data"
    },
    {
     "data": {
      "text/html": [
       "<pre>    Data has 99985 observations with 68123 users and 2637 items.</pre>"
      ],
      "text/plain": [
       "    Data has 99985 observations with 68123 users and 2637 items."
      ]
     },
     "metadata": {},
     "output_type": "display_data"
    },
    {
     "data": {
      "text/html": [
       "<pre>    Data prepared in: 0.246557s</pre>"
      ],
      "text/plain": [
       "    Data prepared in: 0.246557s"
      ]
     },
     "metadata": {},
     "output_type": "display_data"
    },
    {
     "data": {
      "text/html": [
       "<pre>Training model from provided data.</pre>"
      ],
      "text/plain": [
       "Training model from provided data."
      ]
     },
     "metadata": {},
     "output_type": "display_data"
    },
    {
     "data": {
      "text/html": [
       "<pre>Gathering per-item and per-user statistics.</pre>"
      ],
      "text/plain": [
       "Gathering per-item and per-user statistics."
      ]
     },
     "metadata": {},
     "output_type": "display_data"
    },
    {
     "data": {
      "text/html": [
       "<pre>+--------------------------------+------------+</pre>"
      ],
      "text/plain": [
       "+--------------------------------+------------+"
      ]
     },
     "metadata": {},
     "output_type": "display_data"
    },
    {
     "data": {
      "text/html": [
       "<pre>| Elapsed Time (Item Statistics) | % Complete |</pre>"
      ],
      "text/plain": [
       "| Elapsed Time (Item Statistics) | % Complete |"
      ]
     },
     "metadata": {},
     "output_type": "display_data"
    },
    {
     "data": {
      "text/html": [
       "<pre>+--------------------------------+------------+</pre>"
      ],
      "text/plain": [
       "+--------------------------------+------------+"
      ]
     },
     "metadata": {},
     "output_type": "display_data"
    },
    {
     "data": {
      "text/html": [
       "<pre>| 2.158ms                        | 1.25       |</pre>"
      ],
      "text/plain": [
       "| 2.158ms                        | 1.25       |"
      ]
     },
     "metadata": {},
     "output_type": "display_data"
    },
    {
     "data": {
      "text/html": [
       "<pre>| 28.989ms                       | 100        |</pre>"
      ],
      "text/plain": [
       "| 28.989ms                       | 100        |"
      ]
     },
     "metadata": {},
     "output_type": "display_data"
    },
    {
     "data": {
      "text/html": [
       "<pre>+--------------------------------+------------+</pre>"
      ],
      "text/plain": [
       "+--------------------------------+------------+"
      ]
     },
     "metadata": {},
     "output_type": "display_data"
    },
    {
     "data": {
      "text/html": [
       "<pre>Setting up lookup tables.</pre>"
      ],
      "text/plain": [
       "Setting up lookup tables."
      ]
     },
     "metadata": {},
     "output_type": "display_data"
    },
    {
     "data": {
      "text/html": [
       "<pre>Processing data in one pass using dense lookup tables.</pre>"
      ],
      "text/plain": [
       "Processing data in one pass using dense lookup tables."
      ]
     },
     "metadata": {},
     "output_type": "display_data"
    },
    {
     "data": {
      "text/html": [
       "<pre>+-------------------------------------+------------------+-----------------+</pre>"
      ],
      "text/plain": [
       "+-------------------------------------+------------------+-----------------+"
      ]
     },
     "metadata": {},
     "output_type": "display_data"
    },
    {
     "data": {
      "text/html": [
       "<pre>| Elapsed Time (Constructing Lookups) | Total % Complete | Items Processed |</pre>"
      ],
      "text/plain": [
       "| Elapsed Time (Constructing Lookups) | Total % Complete | Items Processed |"
      ]
     },
     "metadata": {},
     "output_type": "display_data"
    },
    {
     "data": {
      "text/html": [
       "<pre>+-------------------------------------+------------------+-----------------+</pre>"
      ],
      "text/plain": [
       "+-------------------------------------+------------------+-----------------+"
      ]
     },
     "metadata": {},
     "output_type": "display_data"
    },
    {
     "data": {
      "text/html": [
       "<pre>| 52.461ms                            | 0                | 0               |</pre>"
      ],
      "text/plain": [
       "| 52.461ms                            | 0                | 0               |"
      ]
     },
     "metadata": {},
     "output_type": "display_data"
    },
    {
     "data": {
      "text/html": [
       "<pre>| 135.336ms                           | 100              | 2637            |</pre>"
      ],
      "text/plain": [
       "| 135.336ms                           | 100              | 2637            |"
      ]
     },
     "metadata": {},
     "output_type": "display_data"
    },
    {
     "data": {
      "text/html": [
       "<pre>+-------------------------------------+------------------+-----------------+</pre>"
      ],
      "text/plain": [
       "+-------------------------------------+------------------+-----------------+"
      ]
     },
     "metadata": {},
     "output_type": "display_data"
    },
    {
     "data": {
      "text/html": [
       "<pre>Finalizing lookup tables.</pre>"
      ],
      "text/plain": [
       "Finalizing lookup tables."
      ]
     },
     "metadata": {},
     "output_type": "display_data"
    },
    {
     "data": {
      "text/html": [
       "<pre>Generating candidate set for working with new users.</pre>"
      ],
      "text/plain": [
       "Generating candidate set for working with new users."
      ]
     },
     "metadata": {},
     "output_type": "display_data"
    },
    {
     "data": {
      "text/html": [
       "<pre>Finished training in 0.144923s</pre>"
      ],
      "text/plain": [
       "Finished training in 0.144923s"
      ]
     },
     "metadata": {},
     "output_type": "display_data"
    }
   ],
   "source": [
    "model = graphlab.recommender.create(reviews, user_id='reviewerID', item_id='title')"
   ]
  },
  {
   "cell_type": "code",
   "execution_count": 123,
   "metadata": {
    "collapsed": false
   },
   "outputs": [
    {
     "data": {
      "text/html": [
       "<div style=\"max-height:1000px;max-width:1500px;overflow:auto;\"><table frame=\"box\" rules=\"cols\">\n",
       "    <tr>\n",
       "        <th style=\"padding-left: 1em; padding-right: 1em; text-align: center\">title</th>\n",
       "        <th style=\"padding-left: 1em; padding-right: 1em; text-align: center\">similar</th>\n",
       "        <th style=\"padding-left: 1em; padding-right: 1em; text-align: center\">score</th>\n",
       "        <th style=\"padding-left: 1em; padding-right: 1em; text-align: center\">rank</th>\n",
       "    </tr>\n",
       "    <tr>\n",
       "        <td style=\"padding-left: 1em; padding-right: 1em; text-align: center; vertical-align: top\">Master Georgie</td>\n",
       "        <td style=\"padding-left: 1em; padding-right: 1em; text-align: center; vertical-align: top\">Breakfast on Pluto</td>\n",
       "        <td style=\"padding-left: 1em; padding-right: 1em; text-align: center; vertical-align: top\">0.0571428537369</td>\n",
       "        <td style=\"padding-left: 1em; padding-right: 1em; text-align: center; vertical-align: top\">1</td>\n",
       "    </tr>\n",
       "    <tr>\n",
       "        <td style=\"padding-left: 1em; padding-right: 1em; text-align: center; vertical-align: top\">Master Georgie</td>\n",
       "        <td style=\"padding-left: 1em; padding-right: 1em; text-align: center; vertical-align: top\">Arcadia</td>\n",
       "        <td style=\"padding-left: 1em; padding-right: 1em; text-align: center; vertical-align: top\">0.0454545617104</td>\n",
       "        <td style=\"padding-left: 1em; padding-right: 1em; text-align: center; vertical-align: top\">2</td>\n",
       "    </tr>\n",
       "    <tr>\n",
       "        <td style=\"padding-left: 1em; padding-right: 1em; text-align: center; vertical-align: top\">Master Georgie</td>\n",
       "        <td style=\"padding-left: 1em; padding-right: 1em; text-align: center; vertical-align: top\">BRIXTON BEACH</td>\n",
       "        <td style=\"padding-left: 1em; padding-right: 1em; text-align: center; vertical-align: top\">0.0454545617104</td>\n",
       "        <td style=\"padding-left: 1em; padding-right: 1em; text-align: center; vertical-align: top\">3</td>\n",
       "    </tr>\n",
       "    <tr>\n",
       "        <td style=\"padding-left: 1em; padding-right: 1em; text-align: center; vertical-align: top\">Master Georgie</td>\n",
       "        <td style=\"padding-left: 1em; padding-right: 1em; text-align: center; vertical-align: top\">N. C. Wyeth: A Biography</td>\n",
       "        <td style=\"padding-left: 1em; padding-right: 1em; text-align: center; vertical-align: top\">0.0434782505035</td>\n",
       "        <td style=\"padding-left: 1em; padding-right: 1em; text-align: center; vertical-align: top\">4</td>\n",
       "    </tr>\n",
       "    <tr>\n",
       "        <td style=\"padding-left: 1em; padding-right: 1em; text-align: center; vertical-align: top\">Master Georgie</td>\n",
       "        <td style=\"padding-left: 1em; padding-right: 1em; text-align: center; vertical-align: top\">Inventing Memory: A Novel<br>of Mothers and Daughters ...</td>\n",
       "        <td style=\"padding-left: 1em; padding-right: 1em; text-align: center; vertical-align: top\">0.0434782505035</td>\n",
       "        <td style=\"padding-left: 1em; padding-right: 1em; text-align: center; vertical-align: top\">5</td>\n",
       "    </tr>\n",
       "    <tr>\n",
       "        <td style=\"padding-left: 1em; padding-right: 1em; text-align: center; vertical-align: top\">Master Georgie</td>\n",
       "        <td style=\"padding-left: 1em; padding-right: 1em; text-align: center; vertical-align: top\">Without Reservation: The<br>Making of America's Most ...</td>\n",
       "        <td style=\"padding-left: 1em; padding-right: 1em; text-align: center; vertical-align: top\">0.0400000214577</td>\n",
       "        <td style=\"padding-left: 1em; padding-right: 1em; text-align: center; vertical-align: top\">6</td>\n",
       "    </tr>\n",
       "    <tr>\n",
       "        <td style=\"padding-left: 1em; padding-right: 1em; text-align: center; vertical-align: top\">Master Georgie</td>\n",
       "        <td style=\"padding-left: 1em; padding-right: 1em; text-align: center; vertical-align: top\">Catholics</td>\n",
       "        <td style=\"padding-left: 1em; padding-right: 1em; text-align: center; vertical-align: top\">0.0400000214577</td>\n",
       "        <td style=\"padding-left: 1em; padding-right: 1em; text-align: center; vertical-align: top\">7</td>\n",
       "    </tr>\n",
       "    <tr>\n",
       "        <td style=\"padding-left: 1em; padding-right: 1em; text-align: center; vertical-align: top\">Master Georgie</td>\n",
       "        <td style=\"padding-left: 1em; padding-right: 1em; text-align: center; vertical-align: top\">Fanny: A Fiction</td>\n",
       "        <td style=\"padding-left: 1em; padding-right: 1em; text-align: center; vertical-align: top\">0.0400000214577</td>\n",
       "        <td style=\"padding-left: 1em; padding-right: 1em; text-align: center; vertical-align: top\">8</td>\n",
       "    </tr>\n",
       "    <tr>\n",
       "        <td style=\"padding-left: 1em; padding-right: 1em; text-align: center; vertical-align: top\">Master Georgie</td>\n",
       "        <td style=\"padding-left: 1em; padding-right: 1em; text-align: center; vertical-align: top\">Andrew Wyeth: A Secret<br>Life ...</td>\n",
       "        <td style=\"padding-left: 1em; padding-right: 1em; text-align: center; vertical-align: top\">0.0384615659714</td>\n",
       "        <td style=\"padding-left: 1em; padding-right: 1em; text-align: center; vertical-align: top\">9</td>\n",
       "    </tr>\n",
       "    <tr>\n",
       "        <td style=\"padding-left: 1em; padding-right: 1em; text-align: center; vertical-align: top\">Master Georgie</td>\n",
       "        <td style=\"padding-left: 1em; padding-right: 1em; text-align: center; vertical-align: top\">The Cloud Sketcher</td>\n",
       "        <td style=\"padding-left: 1em; padding-right: 1em; text-align: center; vertical-align: top\">0.0384615659714</td>\n",
       "        <td style=\"padding-left: 1em; padding-right: 1em; text-align: center; vertical-align: top\">10</td>\n",
       "    </tr>\n",
       "</table>\n",
       "[100 rows x 4 columns]<br/>Note: Only the head of the SFrame is printed.<br/>You can use print_rows(num_rows=m, num_columns=n) to print more rows and columns.\n",
       "</div>"
      ],
      "text/plain": [
       "Columns:\n",
       "\ttitle\tstr\n",
       "\tsimilar\tstr\n",
       "\tscore\tfloat\n",
       "\trank\tint\n",
       "\n",
       "Rows: 100\n",
       "\n",
       "Data:\n",
       "+----------------+-------------------------------+-----------------+------+\n",
       "|     title      |            similar            |      score      | rank |\n",
       "+----------------+-------------------------------+-----------------+------+\n",
       "| Master Georgie |       Breakfast on Pluto      | 0.0571428537369 |  1   |\n",
       "| Master Georgie |            Arcadia            | 0.0454545617104 |  2   |\n",
       "| Master Georgie |         BRIXTON BEACH         | 0.0454545617104 |  3   |\n",
       "| Master Georgie |    N. C. Wyeth: A Biography   | 0.0434782505035 |  4   |\n",
       "| Master Georgie | Inventing Memory: A Novel ... | 0.0434782505035 |  5   |\n",
       "| Master Georgie | Without Reservation: The M... | 0.0400000214577 |  6   |\n",
       "| Master Georgie |           Catholics           | 0.0400000214577 |  7   |\n",
       "| Master Georgie |        Fanny: A Fiction       | 0.0400000214577 |  8   |\n",
       "| Master Georgie |  Andrew Wyeth: A Secret Life  | 0.0384615659714 |  9   |\n",
       "| Master Georgie |       The Cloud Sketcher      | 0.0384615659714 |  10  |\n",
       "+----------------+-------------------------------+-----------------+------+\n",
       "[100 rows x 4 columns]\n",
       "Note: Only the head of the SFrame is printed.\n",
       "You can use print_rows(num_rows=m, num_columns=n) to print more rows and columns."
      ]
     },
     "execution_count": 123,
     "metadata": {},
     "output_type": "execute_result"
    }
   ],
   "source": [
    "similar_items=model.get_similar_items()\n",
    "similar_items.head(10)"
   ]
  },
  {
   "cell_type": "code",
   "execution_count": 131,
   "metadata": {
    "collapsed": false
   },
   "outputs": [
    {
     "name": "stdout",
     "output_type": "stream",
     "text": [
      "+-------------------------------+--------------------------------+\n",
      "|             title             |            similar             |\n",
      "+-------------------------------+--------------------------------+\n",
      "|         Master Georgie        |       Breakfast on Pluto       |\n",
      "|         Master Georgie        |            Arcadia             |\n",
      "|         Master Georgie        |         BRIXTON BEACH          |\n",
      "|         Master Georgie        |    N. C. Wyeth: A Biography    |\n",
      "|         Master Georgie        | Inventing Memory: A Novel ...  |\n",
      "|         Master Georgie        | Without Reservation: The M...  |\n",
      "|         Master Georgie        |           Catholics            |\n",
      "|         Master Georgie        |        Fanny: A Fiction        |\n",
      "|         Master Georgie        |  Andrew Wyeth: A Secret Life   |\n",
      "|         Master Georgie        |       The Cloud Sketcher       |\n",
      "| The Greatest Book on &quot... |     The Book of Revelation     |\n",
      "| The Berenstains' B Book (B... | Happy Haunting, Amelia Bed...  |\n",
      "| The Berenstains' B Book (B... | Come Back, Amelia Bedelia ...  |\n",
      "| The Berenstains' B Book (B... | 3 Little Firefighters (Mat...  |\n",
      "| The Berenstains' B Book (B... | Amelia Bedelia Helps Out (...  |\n",
      "| The Berenstains' B Book (B... |           Barn Blind           |\n",
      "| The Berenstains' B Book (B... | The Adventures of Harold a...  |\n",
      "| The Berenstains' B Book (B... | Merry Christmas, Amelia Be...  |\n",
      "| The Berenstains' B Book (B... |     Hop on Pop Classics HB     |\n",
      "| The Berenstains' B Book (B... | Jesse Bear, What Will You ...  |\n",
      "| The Berenstains' B Book (B... |        The Whipping Boy        |\n",
      "|          The Prophet          |  A Night Without Armor: Poems  |\n",
      "|          The Prophet          | Warrior of the Light: A Manual |\n",
      "|          The Prophet          |       My Stroke of Luck        |\n",
      "|          The Prophet          |  Living, Loving and Learning   |\n",
      "|          The Prophet          | Wisdom of the Ages: 60 Day...  |\n",
      "|          The Prophet          | A Farewell to Arms (A Scri...  |\n",
      "|          The Prophet          | Doubt: A History: The Grea...  |\n",
      "|          The Prophet          |      Imagine: John Lennon      |\n",
      "|          The Prophet          |     To Kill a Mockingbird      |\n",
      "|          The Prophet          | How to Read Literature Lik...  |\n",
      "|   Rightly Dividing the Word   |     The Book of Revelation     |\n",
      "| The Berenstain Bears on th... | I Am Puppy Hear Me Yap: Th...  |\n",
      "| The Berenstain Bears on th... | The Rooster Crows : A Book...  |\n",
      "| The Berenstain Bears on th... |  Rocks in His Head (Avenues)   |\n",
      "| The Berenstain Bears on th... | Arabists: The Romance of a...  |\n",
      "| The Berenstain Bears on th... |        The Three Bears         |\n",
      "| The Berenstain Bears on th... |          I'm Mighty!           |\n",
      "| The Berenstain Bears on th... |     I Used to Be the Baby      |\n",
      "| The Berenstain Bears on th... |     A Birthday for Frances     |\n",
      "| The Berenstain Bears on th... | Biscuit and the Baby (My F...  |\n",
      "| The Berenstain Bears on th... |           Roxaboxen            |\n",
      "|     The Book of Revelation    |   Rightly Dividing the Word    |\n",
      "|     The Book of Revelation    | The Greatest Book on &quot...  |\n",
      "|           Deafening           |   Balsamic Vinegar Cookbook    |\n",
      "|           Deafening           |         Master Georgie         |\n",
      "|           Deafening           |    For Whom the Bell Tolls     |\n",
      "|           Deafening           |      Water For Elephants       |\n",
      "|           Deafening           |      A Dance with Dragons      |\n",
      "|    For Whom the Bell Tolls    | A Farewell to Arms (A Scri...  |\n",
      "+-------------------------------+--------------------------------+\n",
      "+-------------------+------+\n",
      "|       score       | rank |\n",
      "+-------------------+------+\n",
      "|  0.0571428537369  |  1   |\n",
      "|  0.0454545617104  |  2   |\n",
      "|  0.0454545617104  |  3   |\n",
      "|  0.0434782505035  |  4   |\n",
      "|  0.0434782505035  |  5   |\n",
      "|  0.0400000214577  |  6   |\n",
      "|  0.0400000214577  |  7   |\n",
      "|  0.0400000214577  |  8   |\n",
      "|  0.0384615659714  |  9   |\n",
      "|  0.0384615659714  |  10  |\n",
      "|  0.0454545617104  |  1   |\n",
      "|       0.0625      |  1   |\n",
      "|  0.0588235259056  |  2   |\n",
      "|  0.0555555820465  |  3   |\n",
      "|  0.0526315569878  |  4   |\n",
      "|  0.0500000119209  |  5   |\n",
      "|  0.0454545617104  |  6   |\n",
      "|  0.0357142686844  |  7   |\n",
      "|  0.0315789580345  |  8   |\n",
      "|  0.0285714268684  |  9   |\n",
      "|  0.0270270109177  |  10  |\n",
      "|  0.0244898200035  |  1   |\n",
      "|   0.015936255455  |  2   |\n",
      "|  0.0138248801231  |  3   |\n",
      "|  0.0133333206177  |  4   |\n",
      "|  0.0131004452705  |  5   |\n",
      "|  0.0129310488701  |  6   |\n",
      "|  0.0126582384109  |  7   |\n",
      "|  0.0123456716537  |  8   |\n",
      "|  0.0100364685059  |  9   |\n",
      "|  0.00996679067612 |  10  |\n",
      "|  0.0476190447807  |  1   |\n",
      "|  0.0833333134651  |  1   |\n",
      "|  0.0769230723381  |  2   |\n",
      "|  0.0769230723381  |  3   |\n",
      "|  0.0714285969734  |  4   |\n",
      "|  0.0714285969734  |  5   |\n",
      "|       0.0625      |  6   |\n",
      "|       0.0625      |  7   |\n",
      "|  0.0555555820465  |  8   |\n",
      "|  0.0476190447807  |  9   |\n",
      "|  0.0400000214577  |  10  |\n",
      "|  0.0476190447807  |  1   |\n",
      "|  0.0454545617104  |  2   |\n",
      "|  0.0555555820465  |  1   |\n",
      "|  0.0322580933571  |  2   |\n",
      "|  0.00361013412476 |  3   |\n",
      "| 0.000732362270355 |  4   |\n",
      "| 0.000483810901642 |  5   |\n",
      "|   0.106918215752  |  1   |\n",
      "+-------------------+------+\n",
      "[23102 rows x 4 columns]\n",
      "\n"
     ]
    }
   ],
   "source": [
    "similar_items.print_rows (50,4)"
   ]
  },
  {
   "cell_type": "code",
   "execution_count": 127,
   "metadata": {
    "collapsed": false
   },
   "outputs": [
    {
     "data": {
      "text/plain": [
       "{'num_edges': 23102, 'num_vertices': 2595}"
      ]
     },
     "execution_count": 127,
     "metadata": {},
     "output_type": "execute_result"
    }
   ],
   "source": [
    "#Similarity graph from my preference to others\n",
    "similarity_graph=graphlab.SGraph().add_edges(similar_items,src_field='title',dst_field='similar')\n",
    "similarity_graph.summary()"
   ]
  },
  {
   "cell_type": "code",
   "execution_count": 128,
   "metadata": {
    "collapsed": false
   },
   "outputs": [
    {
     "data": {
      "text/html": [
       "<pre>+----------------------------+</pre>"
      ],
      "text/plain": [
       "+----------------------------+"
      ]
     },
     "metadata": {},
     "output_type": "display_data"
    },
    {
     "data": {
      "text/html": [
       "<pre>| Number of vertices updated |</pre>"
      ],
      "text/plain": [
       "| Number of vertices updated |"
      ]
     },
     "metadata": {},
     "output_type": "display_data"
    },
    {
     "data": {
      "text/html": [
       "<pre>+----------------------------+</pre>"
      ],
      "text/plain": [
       "+----------------------------+"
      ]
     },
     "metadata": {},
     "output_type": "display_data"
    },
    {
     "data": {
      "text/html": [
       "<pre>| 2467                       |</pre>"
      ],
      "text/plain": [
       "| 2467                       |"
      ]
     },
     "metadata": {},
     "output_type": "display_data"
    },
    {
     "data": {
      "text/html": [
       "<pre>| 2155                       |</pre>"
      ],
      "text/plain": [
       "| 2155                       |"
      ]
     },
     "metadata": {},
     "output_type": "display_data"
    },
    {
     "data": {
      "text/html": [
       "<pre>| 243                        |</pre>"
      ],
      "text/plain": [
       "| 243                        |"
      ]
     },
     "metadata": {},
     "output_type": "display_data"
    },
    {
     "data": {
      "text/html": [
       "<pre>| 16                         |</pre>"
      ],
      "text/plain": [
       "| 16                         |"
      ]
     },
     "metadata": {},
     "output_type": "display_data"
    },
    {
     "data": {
      "text/html": [
       "<pre>| 0                          |</pre>"
      ],
      "text/plain": [
       "| 0                          |"
      ]
     },
     "metadata": {},
     "output_type": "display_data"
    },
    {
     "data": {
      "text/html": [
       "<pre>+----------------------------+</pre>"
      ],
      "text/plain": [
       "+----------------------------+"
      ]
     },
     "metadata": {},
     "output_type": "display_data"
    }
   ],
   "source": [
    "shortestpath=graphlab.shortest_path.create(similarity_graph,\"The Prophet\")"
   ]
  },
  {
   "cell_type": "code",
   "execution_count": 132,
   "metadata": {
    "collapsed": false
   },
   "outputs": [
    {
     "data": {
      "text/plain": [
       "[('The Prophet', 0.0),\n",
       " ('A Farewell to Arms (A Scribner Classic)', 1.0),\n",
       " ('The Bridge of San Luis Rey (Perennial Classics)', 2.0),\n",
       " ('Deafening', 3.0)]"
      ]
     },
     "execution_count": 132,
     "metadata": {},
     "output_type": "execute_result"
    }
   ],
   "source": [
    "shortestpath.get_path('Deafening')"
   ]
  },
  {
   "cell_type": "code",
   "execution_count": 90,
   "metadata": {
    "collapsed": false,
    "scrolled": true
   },
   "outputs": [
    {
     "name": "stdout",
     "output_type": "stream",
     "text": [
      "+------------+------------+-------+------+\n",
      "| reviewerID |    asin    | score | rank |\n",
      "+------------+------------+-------+------+\n",
      "|     1      | 000617681X |  5.0  |  1   |\n",
      "|     1      | 0006151329 |  5.0  |  2   |\n",
      "|     1      | 0004723023 |  5.0  |  3   |\n",
      "|     1      | 0002250357 |  5.0  |  4   |\n",
      "|     1      | 0001473727 |  5.0  |  5   |\n",
      "|     2      | 000617681X |  5.0  |  1   |\n",
      "|     2      | 0006151329 |  5.0  |  2   |\n",
      "|     2      | 0004723023 |  5.0  |  3   |\n",
      "|     2      | 0002250357 |  5.0  |  4   |\n",
      "|     2      | 0001473727 |  5.0  |  5   |\n",
      "|     3      | 000617681X |  5.0  |  1   |\n",
      "|     3      | 0006151329 |  5.0  |  2   |\n",
      "|     3      | 0004723023 |  5.0  |  3   |\n",
      "|     3      | 0002250357 |  5.0  |  4   |\n",
      "|     3      | 0001473727 |  5.0  |  5   |\n",
      "|     4      | 000617681X |  5.0  |  1   |\n",
      "|     4      | 0006151329 |  5.0  |  2   |\n",
      "|     4      | 0004723023 |  5.0  |  3   |\n",
      "|     4      | 0002250357 |  5.0  |  4   |\n",
      "|     4      | 0001473727 |  5.0  |  5   |\n",
      "|     5      | 000617681X |  5.0  |  1   |\n",
      "|     5      | 0006151329 |  5.0  |  2   |\n",
      "|     5      | 0004723023 |  5.0  |  3   |\n",
      "|     5      | 0002250357 |  5.0  |  4   |\n",
      "|     5      | 0001473727 |  5.0  |  5   |\n",
      "+------------+------------+-------+------+\n",
      "[25 rows x 4 columns]\n",
      "\n"
     ]
    }
   ],
   "source": [
    "#Get recommendations for first 5 users and print them\n",
    "#users = range(1,6) specifies user ID of first 5 users, #k=5 specifies top 5 recommendations to be given\n",
    "popularity_recomm = popularity_model.recommend(users=range(1,6),k=5)\n",
    "popularity_recomm.print_rows(num_rows=25)"
   ]
  },
  {
   "cell_type": "markdown",
   "metadata": {},
   "source": [
    "# Topic Modeling: unsupervised  clustering, cluster similar documents together"
   ]
  },
  {
   "cell_type": "markdown",
   "metadata": {},
   "source": [
    "A topic model assumes each document is a mixture of a set of topics, where for each topic some words are more likely than others. One statistical approach to do this is called a “topic model”. This method learns a topic model for the given document collection.\n",
    "\n",
    "graphlab.topic_model.create(dataset, num_topics=10, initial_topics=None, alpha=None, beta=0.1, num_iterations=10, num_burnin=5, associations=None, verbose=False, print_interval=10, validation_set=None, method='auto')\n",
    ".\n",
    "\n",
    "Parameters:\t\n",
    "dataset : SArray of type dict or SFrame with a single column of type dict\n",
    "\n",
    "A bag of words representation of a document corpus. Each element is a dictionary representing a single document, where the keys are words and the values are the number of times that word occurs in that document."
   ]
  },
  {
   "cell_type": "code",
   "execution_count": 148,
   "metadata": {
    "collapsed": false
   },
   "outputs": [],
   "source": [
    "textreview=reviews[\"reviewText\"]"
   ]
  },
  {
   "cell_type": "code",
   "execution_count": 195,
   "metadata": {
    "collapsed": false
   },
   "outputs": [],
   "source": [
    "textreview=graphlab.SArray(reviews[\"reviewText\"])"
   ]
  },
  {
   "cell_type": "code",
   "execution_count": 197,
   "metadata": {
    "collapsed": false
   },
   "outputs": [],
   "source": [
    "docs_vec=graphlab.text_analytics.count_words(textreview)\n",
    "docs_vec.dict_trim_by_keys(graphlab.text_analytics.stopwords(lang='en'), True)\n",
    "docs_tfidf = graphlab.text_analytics.tf_idf(docs_vec)"
   ]
  },
  {
   "cell_type": "code",
   "execution_count": null,
   "metadata": {
    "collapsed": false
   },
   "outputs": [],
   "source": [
    "m=graphlab.topic_model.create(docs_tfidf,num_iterations=6,num_topics=6)\n",
    "m.get_topics([5],num_words=10).print_rows()\n"
   ]
  },
  {
   "cell_type": "code",
   "execution_count": null,
   "metadata": {
    "collapsed": true
   },
   "outputs": [],
   "source": [
    "pred=m.predict(docs_tfidf)\n",
    "pred.show()"
   ]
  },
  {
   "cell_type": "code",
   "execution_count": 204,
   "metadata": {
    "collapsed": false
   },
   "outputs": [
    {
     "data": {
      "text/html": [
       "<pre>Recsys training: model = item_similarity</pre>"
      ],
      "text/plain": [
       "Recsys training: model = item_similarity"
      ]
     },
     "metadata": {},
     "output_type": "display_data"
    },
    {
     "data": {
      "text/html": [
       "<pre>Warning: Ignoring columns X1, reviewerName, helpful, unixReviewTime, reviewText, reviewTime, summary, title, description, brand;</pre>"
      ],
      "text/plain": [
       "Warning: Ignoring columns X1, reviewerName, helpful, unixReviewTime, reviewText, reviewTime, summary, title, description, brand;"
      ]
     },
     "metadata": {},
     "output_type": "display_data"
    },
    {
     "data": {
      "text/html": [
       "<pre>    To use these columns in scoring predictions, use a model that allows the use of additional features.</pre>"
      ],
      "text/plain": [
       "    To use these columns in scoring predictions, use a model that allows the use of additional features."
      ]
     },
     "metadata": {},
     "output_type": "display_data"
    },
    {
     "data": {
      "text/html": [
       "<pre>Preparing data set.</pre>"
      ],
      "text/plain": [
       "Preparing data set."
      ]
     },
     "metadata": {},
     "output_type": "display_data"
    },
    {
     "data": {
      "text/html": [
       "<pre>    Data has 99985 observations with 68123 users and 2641 items.</pre>"
      ],
      "text/plain": [
       "    Data has 99985 observations with 68123 users and 2641 items."
      ]
     },
     "metadata": {},
     "output_type": "display_data"
    },
    {
     "data": {
      "text/html": [
       "<pre>    Data prepared in: 0.325704s</pre>"
      ],
      "text/plain": [
       "    Data prepared in: 0.325704s"
      ]
     },
     "metadata": {},
     "output_type": "display_data"
    },
    {
     "data": {
      "text/html": [
       "<pre>Training model from provided data.</pre>"
      ],
      "text/plain": [
       "Training model from provided data."
      ]
     },
     "metadata": {},
     "output_type": "display_data"
    },
    {
     "data": {
      "text/html": [
       "<pre>Gathering per-item and per-user statistics.</pre>"
      ],
      "text/plain": [
       "Gathering per-item and per-user statistics."
      ]
     },
     "metadata": {},
     "output_type": "display_data"
    },
    {
     "data": {
      "text/html": [
       "<pre>+--------------------------------+------------+</pre>"
      ],
      "text/plain": [
       "+--------------------------------+------------+"
      ]
     },
     "metadata": {},
     "output_type": "display_data"
    },
    {
     "data": {
      "text/html": [
       "<pre>| Elapsed Time (Item Statistics) | % Complete |</pre>"
      ],
      "text/plain": [
       "| Elapsed Time (Item Statistics) | % Complete |"
      ]
     },
     "metadata": {},
     "output_type": "display_data"
    },
    {
     "data": {
      "text/html": [
       "<pre>+--------------------------------+------------+</pre>"
      ],
      "text/plain": [
       "+--------------------------------+------------+"
      ]
     },
     "metadata": {},
     "output_type": "display_data"
    },
    {
     "data": {
      "text/html": [
       "<pre>| 2.082ms                        | 39.5       |</pre>"
      ],
      "text/plain": [
       "| 2.082ms                        | 39.5       |"
      ]
     },
     "metadata": {},
     "output_type": "display_data"
    },
    {
     "data": {
      "text/html": [
       "<pre>| 31.277ms                       | 100        |</pre>"
      ],
      "text/plain": [
       "| 31.277ms                       | 100        |"
      ]
     },
     "metadata": {},
     "output_type": "display_data"
    },
    {
     "data": {
      "text/html": [
       "<pre>+--------------------------------+------------+</pre>"
      ],
      "text/plain": [
       "+--------------------------------+------------+"
      ]
     },
     "metadata": {},
     "output_type": "display_data"
    },
    {
     "data": {
      "text/html": [
       "<pre>Setting up lookup tables.</pre>"
      ],
      "text/plain": [
       "Setting up lookup tables."
      ]
     },
     "metadata": {},
     "output_type": "display_data"
    },
    {
     "data": {
      "text/html": [
       "<pre>Processing data in one pass using dense lookup tables.</pre>"
      ],
      "text/plain": [
       "Processing data in one pass using dense lookup tables."
      ]
     },
     "metadata": {},
     "output_type": "display_data"
    },
    {
     "data": {
      "text/html": [
       "<pre>+-------------------------------------+------------------+-----------------+</pre>"
      ],
      "text/plain": [
       "+-------------------------------------+------------------+-----------------+"
      ]
     },
     "metadata": {},
     "output_type": "display_data"
    },
    {
     "data": {
      "text/html": [
       "<pre>| Elapsed Time (Constructing Lookups) | Total % Complete | Items Processed |</pre>"
      ],
      "text/plain": [
       "| Elapsed Time (Constructing Lookups) | Total % Complete | Items Processed |"
      ]
     },
     "metadata": {},
     "output_type": "display_data"
    },
    {
     "data": {
      "text/html": [
       "<pre>+-------------------------------------+------------------+-----------------+</pre>"
      ],
      "text/plain": [
       "+-------------------------------------+------------------+-----------------+"
      ]
     },
     "metadata": {},
     "output_type": "display_data"
    },
    {
     "data": {
      "text/html": [
       "<pre>| 55.979ms                            | 0                | 0               |</pre>"
      ],
      "text/plain": [
       "| 55.979ms                            | 0                | 0               |"
      ]
     },
     "metadata": {},
     "output_type": "display_data"
    },
    {
     "data": {
      "text/html": [
       "<pre>| 151.203ms                           | 100              | 2641            |</pre>"
      ],
      "text/plain": [
       "| 151.203ms                           | 100              | 2641            |"
      ]
     },
     "metadata": {},
     "output_type": "display_data"
    },
    {
     "data": {
      "text/html": [
       "<pre>+-------------------------------------+------------------+-----------------+</pre>"
      ],
      "text/plain": [
       "+-------------------------------------+------------------+-----------------+"
      ]
     },
     "metadata": {},
     "output_type": "display_data"
    },
    {
     "data": {
      "text/html": [
       "<pre>Finalizing lookup tables.</pre>"
      ],
      "text/plain": [
       "Finalizing lookup tables."
      ]
     },
     "metadata": {},
     "output_type": "display_data"
    },
    {
     "data": {
      "text/html": [
       "<pre>Generating candidate set for working with new users.</pre>"
      ],
      "text/plain": [
       "Generating candidate set for working with new users."
      ]
     },
     "metadata": {},
     "output_type": "display_data"
    },
    {
     "data": {
      "text/html": [
       "<pre>Finished training in 0.175995s</pre>"
      ],
      "text/plain": [
       "Finished training in 0.175995s"
      ]
     },
     "metadata": {},
     "output_type": "display_data"
    },
    {
     "name": "stdout",
     "output_type": "stream",
     "text": [
      "Training RMSE None\n",
      "Test RMSE 4.3320616433\n"
     ]
    }
   ],
   "source": [
    "modelbase=graphlab.recommender.item_similarity_recommender.create(reviews,user_id=\"reviewerID\",item_id=\"asin\",target=\"overall\")\n",
    "print 'Training RMSE', modelbase.get(\"training_rmse\")\n",
    "print 'Test RMSE', graphlab.evaluation.rmse(test['overall'],modelbase.predict(test))"
   ]
  },
  {
   "cell_type": "code",
   "execution_count": null,
   "metadata": {
    "collapsed": true
   },
   "outputs": [],
   "source": []
  },
  {
   "cell_type": "markdown",
   "metadata": {},
   "source": [
    "# matrix factorization - to predict the next purchase"
   ]
  },
  {
   "cell_type": "code",
   "execution_count": 150,
   "metadata": {
    "collapsed": true
   },
   "outputs": [],
   "source": [
    "train,test = reviews.random_split(0.9)"
   ]
  },
  {
   "cell_type": "code",
   "execution_count": 206,
   "metadata": {
    "collapsed": false
   },
   "outputs": [
    {
     "data": {
      "text/html": [
       "<pre>Recsys training: model = factorization_recommender</pre>"
      ],
      "text/plain": [
       "Recsys training: model = factorization_recommender"
      ]
     },
     "metadata": {},
     "output_type": "display_data"
    },
    {
     "data": {
      "text/html": [
       "<pre>Preparing data set.</pre>"
      ],
      "text/plain": [
       "Preparing data set."
      ]
     },
     "metadata": {},
     "output_type": "display_data"
    },
    {
     "data": {
      "text/html": [
       "<pre>    Data has 90062 observations with 2637 users and 2641 items.</pre>"
      ],
      "text/plain": [
       "    Data has 90062 observations with 2637 users and 2641 items."
      ]
     },
     "metadata": {},
     "output_type": "display_data"
    },
    {
     "data": {
      "text/html": [
       "<pre>    Data prepared in: 1.17499s</pre>"
      ],
      "text/plain": [
       "    Data prepared in: 1.17499s"
      ]
     },
     "metadata": {},
     "output_type": "display_data"
    },
    {
     "data": {
      "text/html": [
       "<pre>Training factorization_recommender for recommendations.</pre>"
      ],
      "text/plain": [
       "Training factorization_recommender for recommendations."
      ]
     },
     "metadata": {},
     "output_type": "display_data"
    },
    {
     "data": {
      "text/html": [
       "<pre>+--------------------------------+--------------------------------------------------+----------+</pre>"
      ],
      "text/plain": [
       "+--------------------------------+--------------------------------------------------+----------+"
      ]
     },
     "metadata": {},
     "output_type": "display_data"
    },
    {
     "data": {
      "text/html": [
       "<pre>| Parameter                      | Description                                      | Value    |</pre>"
      ],
      "text/plain": [
       "| Parameter                      | Description                                      | Value    |"
      ]
     },
     "metadata": {},
     "output_type": "display_data"
    },
    {
     "data": {
      "text/html": [
       "<pre>+--------------------------------+--------------------------------------------------+----------+</pre>"
      ],
      "text/plain": [
       "+--------------------------------+--------------------------------------------------+----------+"
      ]
     },
     "metadata": {},
     "output_type": "display_data"
    },
    {
     "data": {
      "text/html": [
       "<pre>| num_factors                    | Factor Dimension                                 | 8        |</pre>"
      ],
      "text/plain": [
       "| num_factors                    | Factor Dimension                                 | 8        |"
      ]
     },
     "metadata": {},
     "output_type": "display_data"
    },
    {
     "data": {
      "text/html": [
       "<pre>| regularization                 | L2 Regularization on Factors                     | 1e-08    |</pre>"
      ],
      "text/plain": [
       "| regularization                 | L2 Regularization on Factors                     | 1e-08    |"
      ]
     },
     "metadata": {},
     "output_type": "display_data"
    },
    {
     "data": {
      "text/html": [
       "<pre>| solver                         | Solver used for training                         | adagrad  |</pre>"
      ],
      "text/plain": [
       "| solver                         | Solver used for training                         | adagrad  |"
      ]
     },
     "metadata": {},
     "output_type": "display_data"
    },
    {
     "data": {
      "text/html": [
       "<pre>| linear_regularization          | L2 Regularization on Linear Coefficients         | 1e-10    |</pre>"
      ],
      "text/plain": [
       "| linear_regularization          | L2 Regularization on Linear Coefficients         | 1e-10    |"
      ]
     },
     "metadata": {},
     "output_type": "display_data"
    },
    {
     "data": {
      "text/html": [
       "<pre>| max_iterations                 | Maximum Number of Iterations                     | 50       |</pre>"
      ],
      "text/plain": [
       "| max_iterations                 | Maximum Number of Iterations                     | 50       |"
      ]
     },
     "metadata": {},
     "output_type": "display_data"
    },
    {
     "data": {
      "text/html": [
       "<pre>+--------------------------------+--------------------------------------------------+----------+</pre>"
      ],
      "text/plain": [
       "+--------------------------------+--------------------------------------------------+----------+"
      ]
     },
     "metadata": {},
     "output_type": "display_data"
    },
    {
     "data": {
      "text/html": [
       "<pre>  Optimizing model using SGD; tuning step size.</pre>"
      ],
      "text/plain": [
       "  Optimizing model using SGD; tuning step size."
      ]
     },
     "metadata": {},
     "output_type": "display_data"
    },
    {
     "data": {
      "text/html": [
       "<pre>  Using 11257 / 90062 points for tuning the step size.</pre>"
      ],
      "text/plain": [
       "  Using 11257 / 90062 points for tuning the step size."
      ]
     },
     "metadata": {},
     "output_type": "display_data"
    },
    {
     "data": {
      "text/html": [
       "<pre>+---------+-------------------+------------------------------------------+</pre>"
      ],
      "text/plain": [
       "+---------+-------------------+------------------------------------------+"
      ]
     },
     "metadata": {},
     "output_type": "display_data"
    },
    {
     "data": {
      "text/html": [
       "<pre>| Attempt | Initial Step Size | Estimated Objective Value                |</pre>"
      ],
      "text/plain": [
       "| Attempt | Initial Step Size | Estimated Objective Value                |"
      ]
     },
     "metadata": {},
     "output_type": "display_data"
    },
    {
     "data": {
      "text/html": [
       "<pre>+---------+-------------------+------------------------------------------+</pre>"
      ],
      "text/plain": [
       "+---------+-------------------+------------------------------------------+"
      ]
     },
     "metadata": {},
     "output_type": "display_data"
    },
    {
     "data": {
      "text/html": [
       "<pre>| 0       | 4.16667           | Not Viable                               |</pre>"
      ],
      "text/plain": [
       "| 0       | 4.16667           | Not Viable                               |"
      ]
     },
     "metadata": {},
     "output_type": "display_data"
    },
    {
     "data": {
      "text/html": [
       "<pre>| 1       | 1.04167           | Not Viable                               |</pre>"
      ],
      "text/plain": [
       "| 1       | 1.04167           | Not Viable                               |"
      ]
     },
     "metadata": {},
     "output_type": "display_data"
    },
    {
     "data": {
      "text/html": [
       "<pre>| 2       | 0.260417          | Not Viable                               |</pre>"
      ],
      "text/plain": [
       "| 2       | 0.260417          | Not Viable                               |"
      ]
     },
     "metadata": {},
     "output_type": "display_data"
    },
    {
     "data": {
      "text/html": [
       "<pre>| 3       | 0.0651042         | 0.0521906                                |</pre>"
      ],
      "text/plain": [
       "| 3       | 0.0651042         | 0.0521906                                |"
      ]
     },
     "metadata": {},
     "output_type": "display_data"
    },
    {
     "data": {
      "text/html": [
       "<pre>| 4       | 0.0325521         | 0.122557                                 |</pre>"
      ],
      "text/plain": [
       "| 4       | 0.0325521         | 0.122557                                 |"
      ]
     },
     "metadata": {},
     "output_type": "display_data"
    },
    {
     "data": {
      "text/html": [
       "<pre>+---------+-------------------+------------------------------------------+</pre>"
      ],
      "text/plain": [
       "+---------+-------------------+------------------------------------------+"
      ]
     },
     "metadata": {},
     "output_type": "display_data"
    },
    {
     "data": {
      "text/html": [
       "<pre>| Final   | 0.0651042         | 0.0521906                                |</pre>"
      ],
      "text/plain": [
       "| Final   | 0.0651042         | 0.0521906                                |"
      ]
     },
     "metadata": {},
     "output_type": "display_data"
    },
    {
     "data": {
      "text/html": [
       "<pre>+---------+-------------------+------------------------------------------+</pre>"
      ],
      "text/plain": [
       "+---------+-------------------+------------------------------------------+"
      ]
     },
     "metadata": {},
     "output_type": "display_data"
    },
    {
     "data": {
      "text/html": [
       "<pre>Starting Optimization.</pre>"
      ],
      "text/plain": [
       "Starting Optimization."
      ]
     },
     "metadata": {},
     "output_type": "display_data"
    },
    {
     "data": {
      "text/html": [
       "<pre>+---------+--------------+-------------------+-----------------------+-------------+</pre>"
      ],
      "text/plain": [
       "+---------+--------------+-------------------+-----------------------+-------------+"
      ]
     },
     "metadata": {},
     "output_type": "display_data"
    },
    {
     "data": {
      "text/html": [
       "<pre>| Iter.   | Elapsed Time | Approx. Objective | Approx. Training RMSE | Step Size   |</pre>"
      ],
      "text/plain": [
       "| Iter.   | Elapsed Time | Approx. Objective | Approx. Training RMSE | Step Size   |"
      ]
     },
     "metadata": {},
     "output_type": "display_data"
    },
    {
     "data": {
      "text/html": [
       "<pre>+---------+--------------+-------------------+-----------------------+-------------+</pre>"
      ],
      "text/plain": [
       "+---------+--------------+-------------------+-----------------------+-------------+"
      ]
     },
     "metadata": {},
     "output_type": "display_data"
    },
    {
     "data": {
      "text/html": [
       "<pre>| Initial | 160us        | 1.25533           | 1.12042               |             |</pre>"
      ],
      "text/plain": [
       "| Initial | 160us        | 1.25533           | 1.12042               |             |"
      ]
     },
     "metadata": {},
     "output_type": "display_data"
    },
    {
     "data": {
      "text/html": [
       "<pre>+---------+--------------+-------------------+-----------------------+-------------+</pre>"
      ],
      "text/plain": [
       "+---------+--------------+-------------------+-----------------------+-------------+"
      ]
     },
     "metadata": {},
     "output_type": "display_data"
    },
    {
     "data": {
      "text/html": [
       "<pre>| 1       | 298.483ms    | 4.50541           | 2.12257               | 0.0651042   |</pre>"
      ],
      "text/plain": [
       "| 1       | 298.483ms    | 4.50541           | 2.12257               | 0.0651042   |"
      ]
     },
     "metadata": {},
     "output_type": "display_data"
    },
    {
     "data": {
      "text/html": [
       "<pre>| 2       | 488.924ms    | 0.749466          | 0.865653              | 0.0651042   |</pre>"
      ],
      "text/plain": [
       "| 2       | 488.924ms    | 0.749466          | 0.865653              | 0.0651042   |"
      ]
     },
     "metadata": {},
     "output_type": "display_data"
    },
    {
     "data": {
      "text/html": [
       "<pre>| 3       | 640.929ms    | 0.917965          | 0.958049              | 0.0651042   |</pre>"
      ],
      "text/plain": [
       "| 3       | 640.929ms    | 0.917965          | 0.958049              | 0.0651042   |"
      ]
     },
     "metadata": {},
     "output_type": "display_data"
    },
    {
     "data": {
      "text/html": [
       "<pre>| 4       | 822.228ms    | 0.987408          | 0.99363               | 0.0651042   |</pre>"
      ],
      "text/plain": [
       "| 4       | 822.228ms    | 0.987408          | 0.99363               | 0.0651042   |"
      ]
     },
     "metadata": {},
     "output_type": "display_data"
    },
    {
     "data": {
      "text/html": [
       "<pre>| 5       | 965.613ms    | 1.60698           | 1.26763               | 0.0651042   |</pre>"
      ],
      "text/plain": [
       "| 5       | 965.613ms    | 1.60698           | 1.26763               | 0.0651042   |"
      ]
     },
     "metadata": {},
     "output_type": "display_data"
    },
    {
     "data": {
      "text/html": [
       "<pre>| 6       | 1.08s        | 0.545833          | 0.738734              | 0.0651042   |</pre>"
      ],
      "text/plain": [
       "| 6       | 1.08s        | 0.545833          | 0.738734              | 0.0651042   |"
      ]
     },
     "metadata": {},
     "output_type": "display_data"
    },
    {
     "data": {
      "text/html": [
       "<pre>| 10      | 1.68s        | 0.449073          | 0.67005               | 0.0651042   |</pre>"
      ],
      "text/plain": [
       "| 10      | 1.68s        | 0.449073          | 0.67005               | 0.0651042   |"
      ]
     },
     "metadata": {},
     "output_type": "display_data"
    },
    {
     "data": {
      "text/html": [
       "<pre>| 11      | 1.81s        | 0.437123          | 0.661072              | 0.0651042   |</pre>"
      ],
      "text/plain": [
       "| 11      | 1.81s        | 0.437123          | 0.661072              | 0.0651042   |"
      ]
     },
     "metadata": {},
     "output_type": "display_data"
    },
    {
     "data": {
      "text/html": [
       "<pre>| 20      | 3.63s        | 0.389544          | 0.62405               | 0.0651042   |</pre>"
      ],
      "text/plain": [
       "| 20      | 3.63s        | 0.389544          | 0.62405               | 0.0651042   |"
      ]
     },
     "metadata": {},
     "output_type": "display_data"
    },
    {
     "data": {
      "text/html": [
       "<pre>| 28      | 4.91s        | DIVERGED          | DIVERGED              | 0.0651042   |</pre>"
      ],
      "text/plain": [
       "| 28      | 4.91s        | DIVERGED          | DIVERGED              | 0.0651042   |"
      ]
     },
     "metadata": {},
     "output_type": "display_data"
    },
    {
     "data": {
      "text/html": [
       "<pre>| RESET   | 4.97s        | 1.25518           | 1.12035               |             |</pre>"
      ],
      "text/plain": [
       "| RESET   | 4.97s        | 1.25518           | 1.12035               |             |"
      ]
     },
     "metadata": {},
     "output_type": "display_data"
    },
    {
     "data": {
      "text/html": [
       "<pre>| 2       | 5.30s        | 0.698858          | 0.835959              | 0.0325521   |</pre>"
      ],
      "text/plain": [
       "| 2       | 5.30s        | 0.698858          | 0.835959              | 0.0325521   |"
      ]
     },
     "metadata": {},
     "output_type": "display_data"
    },
    {
     "data": {
      "text/html": [
       "<pre>| 12      | 6.70s        | 0.887095          | 0.94184               | 0.0325521   |</pre>"
      ],
      "text/plain": [
       "| 12      | 6.70s        | 0.887095          | 0.94184               | 0.0325521   |"
      ]
     },
     "metadata": {},
     "output_type": "display_data"
    },
    {
     "data": {
      "text/html": [
       "<pre>| 22      | 8.00s        | 1.2393            | 1.11322               | 0.0325521   |</pre>"
      ],
      "text/plain": [
       "| 22      | 8.00s        | 1.2393            | 1.11322               | 0.0325521   |"
      ]
     },
     "metadata": {},
     "output_type": "display_data"
    },
    {
     "data": {
      "text/html": [
       "<pre>| 24      | 8.32s        | 3.38037           | 1.83857               | 0.0325521   |</pre>"
      ],
      "text/plain": [
       "| 24      | 8.32s        | 3.38037           | 1.83857               | 0.0325521   |"
      ]
     },
     "metadata": {},
     "output_type": "display_data"
    },
    {
     "data": {
      "text/html": [
       "<pre>| 27      | 8.77s        | DIVERGED          | DIVERGED              | 0.0325521   |</pre>"
      ],
      "text/plain": [
       "| 27      | 8.77s        | DIVERGED          | DIVERGED              | 0.0325521   |"
      ]
     },
     "metadata": {},
     "output_type": "display_data"
    },
    {
     "data": {
      "text/html": [
       "<pre>| RESET   | 8.83s        | 1.25533           | 1.12042               |             |</pre>"
      ],
      "text/plain": [
       "| RESET   | 8.83s        | 1.25533           | 1.12042               |             |"
      ]
     },
     "metadata": {},
     "output_type": "display_data"
    },
    {
     "data": {
      "text/html": [
       "<pre>+---------+--------------+-------------------+-----------------------+-------------+</pre>"
      ],
      "text/plain": [
       "+---------+--------------+-------------------+-----------------------+-------------+"
      ]
     },
     "metadata": {},
     "output_type": "display_data"
    },
    {
     "data": {
      "text/html": [
       "<pre>Optimization Complete: Maximum number of passes through the data reached (hard limit).</pre>"
      ],
      "text/plain": [
       "Optimization Complete: Maximum number of passes through the data reached (hard limit)."
      ]
     },
     "metadata": {},
     "output_type": "display_data"
    },
    {
     "data": {
      "text/html": [
       "<pre>Computing final objective value and training RMSE.</pre>"
      ],
      "text/plain": [
       "Computing final objective value and training RMSE."
      ]
     },
     "metadata": {},
     "output_type": "display_data"
    },
    {
     "data": {
      "text/html": [
       "<pre>       Final objective value: 1.25533</pre>"
      ],
      "text/plain": [
       "       Final objective value: 1.25533"
      ]
     },
     "metadata": {},
     "output_type": "display_data"
    },
    {
     "data": {
      "text/html": [
       "<pre>       Final training RMSE: 1.12042</pre>"
      ],
      "text/plain": [
       "       Final training RMSE: 1.12042"
      ]
     },
     "metadata": {},
     "output_type": "display_data"
    },
    {
     "name": "stdout",
     "output_type": "stream",
     "text": [
      "Training RMSE 1.12041630822\n",
      "Test RMSE 1.0051544861\n"
     ]
    }
   ],
   "source": [
    "#Build a matrix factorization recommender to predict star rating:\n",
    "model1=graphlab.factorization_recommender.create(train,target='overall',side_data_factorization=True, item_id=\"asin\",user_id='title')\n",
    "\n",
    "#compute train and test accuracy:\n",
    "print 'Training RMSE', model1.get(\"training_rmse\")\n",
    "print 'Test RMSE', graphlab.evaluation.rmse(test['overall'],model.predict(test))"
   ]
  },
  {
   "cell_type": "code",
   "execution_count": 205,
   "metadata": {
    "collapsed": false
   },
   "outputs": [
    {
     "data": {
      "text/html": [
       "<pre>Recsys training: model = factorization_recommender</pre>"
      ],
      "text/plain": [
       "Recsys training: model = factorization_recommender"
      ]
     },
     "metadata": {},
     "output_type": "display_data"
    },
    {
     "data": {
      "text/html": [
       "<pre>Preparing data set.</pre>"
      ],
      "text/plain": [
       "Preparing data set."
      ]
     },
     "metadata": {},
     "output_type": "display_data"
    },
    {
     "data": {
      "text/html": [
       "<pre>    Data has 90062 observations with 62678 users and 2641 items.</pre>"
      ],
      "text/plain": [
       "    Data has 90062 observations with 62678 users and 2641 items."
      ]
     },
     "metadata": {},
     "output_type": "display_data"
    },
    {
     "data": {
      "text/html": [
       "<pre>    Data prepared in: 1.28541s</pre>"
      ],
      "text/plain": [
       "    Data prepared in: 1.28541s"
      ]
     },
     "metadata": {},
     "output_type": "display_data"
    },
    {
     "data": {
      "text/html": [
       "<pre>Training factorization_recommender for recommendations.</pre>"
      ],
      "text/plain": [
       "Training factorization_recommender for recommendations."
      ]
     },
     "metadata": {},
     "output_type": "display_data"
    },
    {
     "data": {
      "text/html": [
       "<pre>+--------------------------------+--------------------------------------------------+----------+</pre>"
      ],
      "text/plain": [
       "+--------------------------------+--------------------------------------------------+----------+"
      ]
     },
     "metadata": {},
     "output_type": "display_data"
    },
    {
     "data": {
      "text/html": [
       "<pre>| Parameter                      | Description                                      | Value    |</pre>"
      ],
      "text/plain": [
       "| Parameter                      | Description                                      | Value    |"
      ]
     },
     "metadata": {},
     "output_type": "display_data"
    },
    {
     "data": {
      "text/html": [
       "<pre>+--------------------------------+--------------------------------------------------+----------+</pre>"
      ],
      "text/plain": [
       "+--------------------------------+--------------------------------------------------+----------+"
      ]
     },
     "metadata": {},
     "output_type": "display_data"
    },
    {
     "data": {
      "text/html": [
       "<pre>| num_factors                    | Factor Dimension                                 | 8        |</pre>"
      ],
      "text/plain": [
       "| num_factors                    | Factor Dimension                                 | 8        |"
      ]
     },
     "metadata": {},
     "output_type": "display_data"
    },
    {
     "data": {
      "text/html": [
       "<pre>| regularization                 | L2 Regularization on Factors                     | 1e-08    |</pre>"
      ],
      "text/plain": [
       "| regularization                 | L2 Regularization on Factors                     | 1e-08    |"
      ]
     },
     "metadata": {},
     "output_type": "display_data"
    },
    {
     "data": {
      "text/html": [
       "<pre>| solver                         | Solver used for training                         | sgd      |</pre>"
      ],
      "text/plain": [
       "| solver                         | Solver used for training                         | sgd      |"
      ]
     },
     "metadata": {},
     "output_type": "display_data"
    },
    {
     "data": {
      "text/html": [
       "<pre>| linear_regularization          | L2 Regularization on Linear Coefficients         | 1e-10    |</pre>"
      ],
      "text/plain": [
       "| linear_regularization          | L2 Regularization on Linear Coefficients         | 1e-10    |"
      ]
     },
     "metadata": {},
     "output_type": "display_data"
    },
    {
     "data": {
      "text/html": [
       "<pre>| max_iterations                 | Maximum Number of Iterations                     | 50       |</pre>"
      ],
      "text/plain": [
       "| max_iterations                 | Maximum Number of Iterations                     | 50       |"
      ]
     },
     "metadata": {},
     "output_type": "display_data"
    },
    {
     "data": {
      "text/html": [
       "<pre>+--------------------------------+--------------------------------------------------+----------+</pre>"
      ],
      "text/plain": [
       "+--------------------------------+--------------------------------------------------+----------+"
      ]
     },
     "metadata": {},
     "output_type": "display_data"
    },
    {
     "data": {
      "text/html": [
       "<pre>  Optimizing model using SGD; tuning step size.</pre>"
      ],
      "text/plain": [
       "  Optimizing model using SGD; tuning step size."
      ]
     },
     "metadata": {},
     "output_type": "display_data"
    },
    {
     "data": {
      "text/html": [
       "<pre>  Using 11257 / 90062 points for tuning the step size.</pre>"
      ],
      "text/plain": [
       "  Using 11257 / 90062 points for tuning the step size."
      ]
     },
     "metadata": {},
     "output_type": "display_data"
    },
    {
     "data": {
      "text/html": [
       "<pre>+---------+-------------------+------------------------------------------+</pre>"
      ],
      "text/plain": [
       "+---------+-------------------+------------------------------------------+"
      ]
     },
     "metadata": {},
     "output_type": "display_data"
    },
    {
     "data": {
      "text/html": [
       "<pre>| Attempt | Initial Step Size | Estimated Objective Value                |</pre>"
      ],
      "text/plain": [
       "| Attempt | Initial Step Size | Estimated Objective Value                |"
      ]
     },
     "metadata": {},
     "output_type": "display_data"
    },
    {
     "data": {
      "text/html": [
       "<pre>+---------+-------------------+------------------------------------------+</pre>"
      ],
      "text/plain": [
       "+---------+-------------------+------------------------------------------+"
      ]
     },
     "metadata": {},
     "output_type": "display_data"
    },
    {
     "data": {
      "text/html": [
       "<pre>| 0       | 4.16667           | Not Viable                               |</pre>"
      ],
      "text/plain": [
       "| 0       | 4.16667           | Not Viable                               |"
      ]
     },
     "metadata": {},
     "output_type": "display_data"
    },
    {
     "data": {
      "text/html": [
       "<pre>| 1       | 1.04167           | Not Viable                               |</pre>"
      ],
      "text/plain": [
       "| 1       | 1.04167           | Not Viable                               |"
      ]
     },
     "metadata": {},
     "output_type": "display_data"
    },
    {
     "data": {
      "text/html": [
       "<pre>| 2       | 0.260417          | Not Viable                               |</pre>"
      ],
      "text/plain": [
       "| 2       | 0.260417          | Not Viable                               |"
      ]
     },
     "metadata": {},
     "output_type": "display_data"
    },
    {
     "data": {
      "text/html": [
       "<pre>| 3       | 0.0651042         | 0.286008                                 |</pre>"
      ],
      "text/plain": [
       "| 3       | 0.0651042         | 0.286008                                 |"
      ]
     },
     "metadata": {},
     "output_type": "display_data"
    },
    {
     "data": {
      "text/html": [
       "<pre>| 4       | 0.0325521         | 0.350044                                 |</pre>"
      ],
      "text/plain": [
       "| 4       | 0.0325521         | 0.350044                                 |"
      ]
     },
     "metadata": {},
     "output_type": "display_data"
    },
    {
     "data": {
      "text/html": [
       "<pre>| 5       | 0.016276          | No Decrease (1.39555 >= 1.275)           |</pre>"
      ],
      "text/plain": [
       "| 5       | 0.016276          | No Decrease (1.39555 >= 1.275)           |"
      ]
     },
     "metadata": {},
     "output_type": "display_data"
    },
    {
     "data": {
      "text/html": [
       "<pre>| 6       | 0.00406901        | 0.794269                                 |</pre>"
      ],
      "text/plain": [
       "| 6       | 0.00406901        | 0.794269                                 |"
      ]
     },
     "metadata": {},
     "output_type": "display_data"
    },
    {
     "data": {
      "text/html": [
       "<pre>+---------+-------------------+------------------------------------------+</pre>"
      ],
      "text/plain": [
       "+---------+-------------------+------------------------------------------+"
      ]
     },
     "metadata": {},
     "output_type": "display_data"
    },
    {
     "data": {
      "text/html": [
       "<pre>| Final   | 0.0651042         | 0.286008                                 |</pre>"
      ],
      "text/plain": [
       "| Final   | 0.0651042         | 0.286008                                 |"
      ]
     },
     "metadata": {},
     "output_type": "display_data"
    },
    {
     "data": {
      "text/html": [
       "<pre>+---------+-------------------+------------------------------------------+</pre>"
      ],
      "text/plain": [
       "+---------+-------------------+------------------------------------------+"
      ]
     },
     "metadata": {},
     "output_type": "display_data"
    },
    {
     "data": {
      "text/html": [
       "<pre>Starting Optimization.</pre>"
      ],
      "text/plain": [
       "Starting Optimization."
      ]
     },
     "metadata": {},
     "output_type": "display_data"
    },
    {
     "data": {
      "text/html": [
       "<pre>+---------+--------------+-------------------+-----------------------+-------------+</pre>"
      ],
      "text/plain": [
       "+---------+--------------+-------------------+-----------------------+-------------+"
      ]
     },
     "metadata": {},
     "output_type": "display_data"
    },
    {
     "data": {
      "text/html": [
       "<pre>| Iter.   | Elapsed Time | Approx. Objective | Approx. Training RMSE | Step Size   |</pre>"
      ],
      "text/plain": [
       "| Iter.   | Elapsed Time | Approx. Objective | Approx. Training RMSE | Step Size   |"
      ]
     },
     "metadata": {},
     "output_type": "display_data"
    },
    {
     "data": {
      "text/html": [
       "<pre>+---------+--------------+-------------------+-----------------------+-------------+</pre>"
      ],
      "text/plain": [
       "+---------+--------------+-------------------+-----------------------+-------------+"
      ]
     },
     "metadata": {},
     "output_type": "display_data"
    },
    {
     "data": {
      "text/html": [
       "<pre>| Initial | 138us        | 1.2551            | 1.12031               |             |</pre>"
      ],
      "text/plain": [
       "| Initial | 138us        | 1.2551            | 1.12031               |             |"
      ]
     },
     "metadata": {},
     "output_type": "display_data"
    },
    {
     "data": {
      "text/html": [
       "<pre>+---------+--------------+-------------------+-----------------------+-------------+</pre>"
      ],
      "text/plain": [
       "+---------+--------------+-------------------+-----------------------+-------------+"
      ]
     },
     "metadata": {},
     "output_type": "display_data"
    },
    {
     "data": {
      "text/html": [
       "<pre>| 1       | 182.046ms    | DIVERGED          | DIVERGED              | 0.0651042   |</pre>"
      ],
      "text/plain": [
       "| 1       | 182.046ms    | DIVERGED          | DIVERGED              | 0.0651042   |"
      ]
     },
     "metadata": {},
     "output_type": "display_data"
    },
    {
     "data": {
      "text/html": [
       "<pre>| RESET   | 245.566ms    | 1.25518           | 1.12035               |             |</pre>"
      ],
      "text/plain": [
       "| RESET   | 245.566ms    | 1.25518           | 1.12035               |             |"
      ]
     },
     "metadata": {},
     "output_type": "display_data"
    },
    {
     "data": {
      "text/html": [
       "<pre>| 1       | 346.72ms     | 1.58854           | 1.26036               | 0.0325521   |</pre>"
      ],
      "text/plain": [
       "| 1       | 346.72ms     | 1.58854           | 1.26036               | 0.0325521   |"
      ]
     },
     "metadata": {},
     "output_type": "display_data"
    },
    {
     "data": {
      "text/html": [
       "<pre>| 2       | 465.622ms    | 0.946985          | 0.973125              | 0.0193556   |</pre>"
      ],
      "text/plain": [
       "| 2       | 465.622ms    | 0.946985          | 0.973125              | 0.0193556   |"
      ]
     },
     "metadata": {},
     "output_type": "display_data"
    },
    {
     "data": {
      "text/html": [
       "<pre>| 3       | 548.424ms    | 0.99032           | 0.995146              | 0.0142803   |</pre>"
      ],
      "text/plain": [
       "| 3       | 548.424ms    | 0.99032           | 0.995146              | 0.0142803   |"
      ]
     },
     "metadata": {},
     "output_type": "display_data"
    },
    {
     "data": {
      "text/html": [
       "<pre>| 4       | 649.009ms    | 0.595146          | 0.771456              | 0.00967779  |</pre>"
      ],
      "text/plain": [
       "| 4       | 649.009ms    | 0.595146          | 0.771456              | 0.00967779  |"
      ]
     },
     "metadata": {},
     "output_type": "display_data"
    },
    {
     "data": {
      "text/html": [
       "<pre>| 5       | 802.384ms    | 0.632926          | 0.795566              | 0.00688393  |</pre>"
      ],
      "text/plain": [
       "| 5       | 802.384ms    | 0.632926          | 0.795566              | 0.00688393  |"
      ]
     },
     "metadata": {},
     "output_type": "display_data"
    },
    {
     "data": {
      "text/html": [
       "<pre>| 6       | 959.261ms    | 0.613031          | 0.782963              | 0.00504885  |</pre>"
      ],
      "text/plain": [
       "| 6       | 959.261ms    | 0.613031          | 0.782963              | 0.00504885  |"
      ]
     },
     "metadata": {},
     "output_type": "display_data"
    },
    {
     "data": {
      "text/html": [
       "<pre>| 9       | 1.27s        | 0.428921          | 0.65492               | 0.00221489  |</pre>"
      ],
      "text/plain": [
       "| 9       | 1.27s        | 0.428921          | 0.65492               | 0.00221489  |"
      ]
     },
     "metadata": {},
     "output_type": "display_data"
    },
    {
     "data": {
      "text/html": [
       "<pre>| 11      | 1.47s        | 0.447135          | 0.668681              | 0.00134733  |</pre>"
      ],
      "text/plain": [
       "| 11      | 1.47s        | 0.447135          | 0.668681              | 0.00134733  |"
      ]
     },
     "metadata": {},
     "output_type": "display_data"
    },
    {
     "data": {
      "text/html": [
       "<pre>| 19      | 2.20s        | 0.267003          | 0.516722              | 0.000265859 |</pre>"
      ],
      "text/plain": [
       "| 19      | 2.20s        | 0.267003          | 0.516722              | 0.000265859 |"
      ]
     },
     "metadata": {},
     "output_type": "display_data"
    },
    {
     "data": {
      "text/html": [
       "<pre>| 29      | 3.15s        | 0.194295          | 0.440788              | 4.84014e-05 |</pre>"
      ],
      "text/plain": [
       "| 29      | 3.15s        | 0.194295          | 0.440788              | 4.84014e-05 |"
      ]
     },
     "metadata": {},
     "output_type": "display_data"
    },
    {
     "data": {
      "text/html": [
       "<pre>| 39      | 4.08s        | 0.186322          | 0.43165               | 8.1478e-06  |</pre>"
      ],
      "text/plain": [
       "| 39      | 4.08s        | 0.186322          | 0.43165               | 8.1478e-06  |"
      ]
     },
     "metadata": {},
     "output_type": "display_data"
    },
    {
     "data": {
      "text/html": [
       "<pre>| 49      | 5.03s        | 0.185257          | 0.430414              | 1.71645e-06 |</pre>"
      ],
      "text/plain": [
       "| 49      | 5.03s        | 0.185257          | 0.430414              | 1.71645e-06 |"
      ]
     },
     "metadata": {},
     "output_type": "display_data"
    },
    {
     "data": {
      "text/html": [
       "<pre>+---------+--------------+-------------------+-----------------------+-------------+</pre>"
      ],
      "text/plain": [
       "+---------+--------------+-------------------+-----------------------+-------------+"
      ]
     },
     "metadata": {},
     "output_type": "display_data"
    },
    {
     "data": {
      "text/html": [
       "<pre>Optimization Complete: Maximum number of passes through the data reached.</pre>"
      ],
      "text/plain": [
       "Optimization Complete: Maximum number of passes through the data reached."
      ]
     },
     "metadata": {},
     "output_type": "display_data"
    },
    {
     "data": {
      "text/html": [
       "<pre>Computing final objective value and training RMSE.</pre>"
      ],
      "text/plain": [
       "Computing final objective value and training RMSE."
      ]
     },
     "metadata": {},
     "output_type": "display_data"
    },
    {
     "data": {
      "text/html": [
       "<pre>       Final objective value: 0.185147</pre>"
      ],
      "text/plain": [
       "       Final objective value: 0.185147"
      ]
     },
     "metadata": {},
     "output_type": "display_data"
    },
    {
     "data": {
      "text/html": [
       "<pre>       Final training RMSE: 0.430286</pre>"
      ],
      "text/plain": [
       "       Final training RMSE: 0.430286"
      ]
     },
     "metadata": {},
     "output_type": "display_data"
    },
    {
     "name": "stdout",
     "output_type": "stream",
     "text": [
      "Training RMSE 0.430285754327\n",
      "Test RMSE 1.0051544861\n"
     ]
    }
   ],
   "source": [
    "#Build a matrix factorization recommender to predict star rating:\n",
    "model0=graphlab.factorization_recommender.create(train,target='overall',side_data_factorization=False,item_id=\"asin\",user_id=\"reviewerID\")\n",
    "\n",
    "#compute train and test accuracy:\n",
    "print 'Training RMSE', model0.get(\"training_rmse\")\n",
    "print 'Test RMSE', graphlab.evaluation.rmse(test['overall'],model.predict(test))\n"
   ]
  },
  {
   "cell_type": "markdown",
   "metadata": {},
   "source": [
    "# Conclusion:"
   ]
  },
  {
   "cell_type": "markdown",
   "metadata": {},
   "source": [
    "including more features and combining the collaborative and content based matices... \n",
    "was better interms of recommending better book recommendations. Though the initial question was to buils \"a better Recommender system\n",
    "\"it was clear from the models that there are model differences and its in our best interest to look for the best systems."
   ]
  },
  {
   "cell_type": "markdown",
   "metadata": {},
   "source": [
    "# Recommendation:"
   ]
  },
  {
   "cell_type": "markdown",
   "metadata": {},
   "source": [
    "To improve recommendation and cold start problem the following areas could be explored.\n",
    "featurized matrix factorization (time of the day, items bought together to predict users rating for unrated books)\n",
    "boosting...blending models."
   ]
  }
 ],
 "metadata": {
  "anaconda-cloud": {},
  "kernelspec": {
   "display_name": "Python [gl-env]",
   "language": "python",
   "name": "Python [gl-env]"
  }
 },
 "nbformat": 4,
 "nbformat_minor": 0
}
