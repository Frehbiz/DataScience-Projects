{
 "cells": [
  {
   "cell_type": "markdown",
   "metadata": {},
   "source": [
    "# Book recommender system - Graphlab"
   ]
  },
  {
   "cell_type": "markdown",
   "metadata": {},
   "source": [
    "The objective of this capstone project is to build a book recomendation system.\n",
    "There are many tools in python for recomendation Systems. I will be utilizing Graphlab, https://turi.com/learn/userguide/ to build a hybrid recommendation system.\n",
    "\n",
    "There are usually two methods to build recomendtion systems.Collaborative and Content filtering approach.\n",
    "Collaborative filtering: relies on the users collaborating to rate an item/product and will only be able to recommend an item if the user is already in the database and his/her preferences/ratings are recorded in the system. similarly a new item in content based approach would not have a rating and thus the system would not be able to make recommendations.\n",
    "\n",
    "the alternative approach is to use a mix of the two approaches to build a recommendation system that selects the best method to recommend when information is not availiable from the other systems. Turi’s GraphLab Create provides a recommender toolkit that combines ease of use and flexibility. It contains state-of-the-art recommender models such as:\n",
    "\n",
    "Factorization machine\n",
    "Matrix factorization\n",
    "Item similarity (also known as neighborhood-based collaborative filtering)\n",
    "Popularity-based recommender\n",
    "\n",
    "The dataset used is Amazon books review database, obtained from http://jmcauley.ucsd.edu/data/amazon/ with permission from the authors of \"Image-based recommendations on styles and substitutes\" J. McAuley, C. Targett, J. Shi, A. van den Hengel SIGIR, 2015.\n"
   ]
  },
  {
   "cell_type": "code",
   "execution_count": 150,
   "metadata": {
    "collapsed": false
   },
   "outputs": [],
   "source": [
    "import graphlab\n",
    "import pandas as pd\n",
    "import numpy as np\n",
    "import matplotlib.pyplot as plt\n",
    "%matplotlib inline"
   ]
  },
  {
   "cell_type": "code",
   "execution_count": null,
   "metadata": {
    "collapsed": false
   },
   "outputs": [],
   "source": [
    "#small dataset 100,000 reviews\n",
    "reviews=graphlab.SFrame.read_csv(\"hundredKreviews.csv\")"
   ]
  },
  {
   "cell_type": "code",
   "execution_count": 6,
   "metadata": {
    "collapsed": false
   },
   "outputs": [
    {
     "data": {
      "text/html": [
       "<div style=\"max-height:1000px;max-width:1500px;overflow:auto;\"><table frame=\"box\" rules=\"cols\">\n",
       "    <tr>\n",
       "        <th style=\"padding-left: 1em; padding-right: 1em; text-align: center\">X1</th>\n",
       "        <th style=\"padding-left: 1em; padding-right: 1em; text-align: center\">reviewerID</th>\n",
       "        <th style=\"padding-left: 1em; padding-right: 1em; text-align: center\">asin</th>\n",
       "        <th style=\"padding-left: 1em; padding-right: 1em; text-align: center\">reviewerName</th>\n",
       "        <th style=\"padding-left: 1em; padding-right: 1em; text-align: center\">helpful</th>\n",
       "        <th style=\"padding-left: 1em; padding-right: 1em; text-align: center\">unixReviewTime</th>\n",
       "    </tr>\n",
       "    <tr>\n",
       "        <td style=\"padding-left: 1em; padding-right: 1em; text-align: center; vertical-align: top\">0</td>\n",
       "        <td style=\"padding-left: 1em; padding-right: 1em; text-align: center; vertical-align: top\">A10000012B7CGYKOMPQ4L</td>\n",
       "        <td style=\"padding-left: 1em; padding-right: 1em; text-align: center; vertical-align: top\">000100039X</td>\n",
       "        <td style=\"padding-left: 1em; padding-right: 1em; text-align: center; vertical-align: top\">Adam</td>\n",
       "        <td style=\"padding-left: 1em; padding-right: 1em; text-align: center; vertical-align: top\">[0.0, 0.0]</td>\n",
       "        <td style=\"padding-left: 1em; padding-right: 1em; text-align: center; vertical-align: top\">1355616000</td>\n",
       "    </tr>\n",
       "    <tr>\n",
       "        <td style=\"padding-left: 1em; padding-right: 1em; text-align: center; vertical-align: top\">1</td>\n",
       "        <td style=\"padding-left: 1em; padding-right: 1em; text-align: center; vertical-align: top\">A2S166WSCFIFP5</td>\n",
       "        <td style=\"padding-left: 1em; padding-right: 1em; text-align: center; vertical-align: top\">000100039X</td>\n",
       "        <td style=\"padding-left: 1em; padding-right: 1em; text-align: center; vertical-align: top\">adead_poet@hotmail.com<br>\"adead_poet@hotmail.com\" ...</td>\n",
       "        <td style=\"padding-left: 1em; padding-right: 1em; text-align: center; vertical-align: top\">[0.0, 2.0]</td>\n",
       "        <td style=\"padding-left: 1em; padding-right: 1em; text-align: center; vertical-align: top\">1071100800</td>\n",
       "    </tr>\n",
       "</table>\n",
       "<table frame=\"box\" rules=\"cols\">\n",
       "    <tr>\n",
       "        <th style=\"padding-left: 1em; padding-right: 1em; text-align: center\">reviewText</th>\n",
       "        <th style=\"padding-left: 1em; padding-right: 1em; text-align: center\">overall</th>\n",
       "        <th style=\"padding-left: 1em; padding-right: 1em; text-align: center\">reviewTime</th>\n",
       "        <th style=\"padding-left: 1em; padding-right: 1em; text-align: center\">summary</th>\n",
       "    </tr>\n",
       "    <tr>\n",
       "        <td style=\"padding-left: 1em; padding-right: 1em; text-align: center; vertical-align: top\">Spiritually and mentally<br>inspiring! A book that ...</td>\n",
       "        <td style=\"padding-left: 1em; padding-right: 1em; text-align: center; vertical-align: top\">5.0</td>\n",
       "        <td style=\"padding-left: 1em; padding-right: 1em; text-align: center; vertical-align: top\">12 16, 2012</td>\n",
       "        <td style=\"padding-left: 1em; padding-right: 1em; text-align: center; vertical-align: top\">Wonderful!</td>\n",
       "    </tr>\n",
       "    <tr>\n",
       "        <td style=\"padding-left: 1em; padding-right: 1em; text-align: center; vertical-align: top\">This is one my must have<br>books. It is a ...</td>\n",
       "        <td style=\"padding-left: 1em; padding-right: 1em; text-align: center; vertical-align: top\">5.0</td>\n",
       "        <td style=\"padding-left: 1em; padding-right: 1em; text-align: center; vertical-align: top\">12 11, 2003</td>\n",
       "        <td style=\"padding-left: 1em; padding-right: 1em; text-align: center; vertical-align: top\">close to god</td>\n",
       "    </tr>\n",
       "</table>\n",
       "[2 rows x 10 columns]<br/>\n",
       "</div>"
      ],
      "text/plain": [
       "Columns:\n",
       "\tX1\tint\n",
       "\treviewerID\tstr\n",
       "\tasin\tstr\n",
       "\treviewerName\tstr\n",
       "\thelpful\tarray\n",
       "\tunixReviewTime\tint\n",
       "\treviewText\tstr\n",
       "\toverall\tfloat\n",
       "\treviewTime\tstr\n",
       "\tsummary\tstr\n",
       "\n",
       "Rows: 2\n",
       "\n",
       "Data:\n",
       "+----+-----------------------+------------+-------------------------------+\n",
       "| X1 |       reviewerID      |    asin    |          reviewerName         |\n",
       "+----+-----------------------+------------+-------------------------------+\n",
       "| 0  | A10000012B7CGYKOMPQ4L | 000100039X |              Adam             |\n",
       "| 1  |     A2S166WSCFIFP5    | 000100039X | adead_poet@hotmail.com \"ad... |\n",
       "+----+-----------------------+------------+-------------------------------+\n",
       "+------------+----------------+-------------------------------+---------+\n",
       "|  helpful   | unixReviewTime |           reviewText          | overall |\n",
       "+------------+----------------+-------------------------------+---------+\n",
       "| [0.0, 0.0] |   1355616000   | Spiritually and mentally i... |   5.0   |\n",
       "| [0.0, 2.0] |   1071100800   | This is one my must have b... |   5.0   |\n",
       "+------------+----------------+-------------------------------+---------+\n",
       "+-------------+--------------+\n",
       "|  reviewTime |   summary    |\n",
       "+-------------+--------------+\n",
       "| 12 16, 2012 |  Wonderful!  |\n",
       "| 12 11, 2003 | close to god |\n",
       "+-------------+--------------+\n",
       "[2 rows x 10 columns]"
      ]
     },
     "execution_count": 6,
     "metadata": {},
     "output_type": "execute_result"
    }
   ],
   "source": [
    "reviews.head(2)"
   ]
  },
  {
   "cell_type": "code",
   "execution_count": 7,
   "metadata": {
    "collapsed": false
   },
   "outputs": [
    {
     "name": "stdout",
     "output_type": "stream",
     "text": [
      "Canvas is accessible via web browser at the URL: http://localhost:53821/index.html\n",
      "Opening Canvas in default web browser.\n"
     ]
    }
   ],
   "source": [
    "reviews.show()"
   ]
  },
  {
   "cell_type": "code",
   "execution_count": 9,
   "metadata": {
    "collapsed": false
   },
   "outputs": [
    {
     "name": "stderr",
     "output_type": "stream",
     "text": [
      "/Users/freh_mac/anaconda/envs/gl-env/lib/python2.7/site-packages/IPython/core/interactiveshell.py:2723: DtypeWarning: Columns (9) have mixed types. Specify dtype option on import or set low_memory=False.\n",
      "  interactivity=interactivity, compiler=compiler, result=result)\n"
     ]
    }
   ],
   "source": [
    "booksdb=pd.read_csv(\"booksinfo.csv\")"
   ]
  },
  {
   "cell_type": "code",
   "execution_count": 113,
   "metadata": {
    "collapsed": false
   },
   "outputs": [
    {
     "data": {
      "text/html": [
       "<div style=\"max-height:1000px;max-width:1500px;overflow:auto;\"><table frame=\"box\" rules=\"cols\">\n",
       "    <tr>\n",
       "        <th style=\"padding-left: 1em; padding-right: 1em; text-align: center\">asin</th>\n",
       "        <th style=\"padding-left: 1em; padding-right: 1em; text-align: center\">title</th>\n",
       "        <th style=\"padding-left: 1em; padding-right: 1em; text-align: center\">description</th>\n",
       "        <th style=\"padding-left: 1em; padding-right: 1em; text-align: center\">brand</th>\n",
       "    </tr>\n",
       "    <tr>\n",
       "        <td style=\"padding-left: 1em; padding-right: 1em; text-align: center; vertical-align: top\">0001048791</td>\n",
       "        <td style=\"padding-left: 1em; padding-right: 1em; text-align: center; vertical-align: top\">The Crucible: Performed<br>by Stuart Pankin, Jerome ...</td>\n",
       "        <td style=\"padding-left: 1em; padding-right: 1em; text-align: center; vertical-align: top\"> </td>\n",
       "        <td style=\"padding-left: 1em; padding-right: 1em; text-align: center; vertical-align: top\"> </td>\n",
       "    </tr>\n",
       "    <tr>\n",
       "        <td style=\"padding-left: 1em; padding-right: 1em; text-align: center; vertical-align: top\">0001048775</td>\n",
       "        <td style=\"padding-left: 1em; padding-right: 1em; text-align: center; vertical-align: top\">Measure for Measure:<br>Complete &amp;amp; Unabri ...</td>\n",
       "        <td style=\"padding-left: 1em; padding-right: 1em; text-align: center; vertical-align: top\">William Shakespeare is<br>widely regarded as the ...</td>\n",
       "        <td style=\"padding-left: 1em; padding-right: 1em; text-align: center; vertical-align: top\"> </td>\n",
       "    </tr>\n",
       "    <tr>\n",
       "        <td style=\"padding-left: 1em; padding-right: 1em; text-align: center; vertical-align: top\">0001048236</td>\n",
       "        <td style=\"padding-left: 1em; padding-right: 1em; text-align: center; vertical-align: top\">The Sherlock Holmes Audio<br>Collection ...</td>\n",
       "        <td style=\"padding-left: 1em; padding-right: 1em; text-align: center; vertical-align: top\">&amp;#34;One thing is<br>certain, Sherlockians, ...</td>\n",
       "        <td style=\"padding-left: 1em; padding-right: 1em; text-align: center; vertical-align: top\"> </td>\n",
       "    </tr>\n",
       "    <tr>\n",
       "        <td style=\"padding-left: 1em; padding-right: 1em; text-align: center; vertical-align: top\">0000401048</td>\n",
       "        <td style=\"padding-left: 1em; padding-right: 1em; text-align: center; vertical-align: top\">The rogue of publishers'<br>row;: Confessions of a ...</td>\n",
       "        <td style=\"padding-left: 1em; padding-right: 1em; text-align: center; vertical-align: top\"> </td>\n",
       "        <td style=\"padding-left: 1em; padding-right: 1em; text-align: center; vertical-align: top\"> </td>\n",
       "    </tr>\n",
       "    <tr>\n",
       "        <td style=\"padding-left: 1em; padding-right: 1em; text-align: center; vertical-align: top\">0001019880</td>\n",
       "        <td style=\"padding-left: 1em; padding-right: 1em; text-align: center; vertical-align: top\">Classic Soul Winner's New<br>Testament Bible ...</td>\n",
       "        <td style=\"padding-left: 1em; padding-right: 1em; text-align: center; vertical-align: top\"> </td>\n",
       "        <td style=\"padding-left: 1em; padding-right: 1em; text-align: center; vertical-align: top\"> </td>\n",
       "    </tr>\n",
       "    <tr>\n",
       "        <td style=\"padding-left: 1em; padding-right: 1em; text-align: center; vertical-align: top\">0001048813</td>\n",
       "        <td style=\"padding-left: 1em; padding-right: 1em; text-align: center; vertical-align: top\">Archer Christmas 4 Tape<br>Pack ...</td>\n",
       "        <td style=\"padding-left: 1em; padding-right: 1em; text-align: center; vertical-align: top\"> </td>\n",
       "        <td style=\"padding-left: 1em; padding-right: 1em; text-align: center; vertical-align: top\"> </td>\n",
       "    </tr>\n",
       "    <tr>\n",
       "        <td style=\"padding-left: 1em; padding-right: 1em; text-align: center; vertical-align: top\">0001148427</td>\n",
       "        <td style=\"padding-left: 1em; padding-right: 1em; text-align: center; vertical-align: top\">Sonatas - For Piano</td>\n",
       "        <td style=\"padding-left: 1em; padding-right: 1em; text-align: center; vertical-align: top\"> </td>\n",
       "        <td style=\"padding-left: 1em; padding-right: 1em; text-align: center; vertical-align: top\"> </td>\n",
       "    </tr>\n",
       "</table>\n",
       "[7 rows x 4 columns]<br/>\n",
       "</div>"
      ],
      "text/plain": [
       "Columns:\n",
       "\tasin\tstr\n",
       "\ttitle\tstr\n",
       "\tdescription\tstr\n",
       "\tbrand\tstr\n",
       "\n",
       "Rows: 7\n",
       "\n",
       "Data:\n",
       "+------------+-------------------------------+-------------------------------+-------+\n",
       "|    asin    |             title             |          description          | brand |\n",
       "+------------+-------------------------------+-------------------------------+-------+\n",
       "| 0001048791 | The Crucible: Performed by... |                               |       |\n",
       "| 0001048775 | Measure for Measure: Compl... | William Shakespeare is wid... |       |\n",
       "| 0001048236 | The Sherlock Holmes Audio ... | &#34;One thing is certain,... |       |\n",
       "| 0000401048 | The rogue of publishers' r... |                               |       |\n",
       "| 0001019880 | Classic Soul Winner's New ... |                               |       |\n",
       "| 0001048813 |  Archer Christmas 4 Tape Pack |                               |       |\n",
       "| 0001148427 |      Sonatas - For Piano      |                               |       |\n",
       "+------------+-------------------------------+-------------------------------+-------+\n",
       "[7 rows x 4 columns]"
      ]
     },
     "execution_count": 113,
     "metadata": {},
     "output_type": "execute_result"
    }
   ],
   "source": [
    "booksdb.head(7)"
   ]
  },
  {
   "cell_type": "code",
   "execution_count": 12,
   "metadata": {
    "collapsed": false
   },
   "outputs": [],
   "source": [
    "booksdb=booksdb.drop([\"Unnamed: 0\",\"categories\",\"imUrl\",\"related\",\"salesRank\",\"price\"],axis=1)\n",
    "booksdb.fillna(\" \", inplace=True)\n",
    "booksdb=graphlab.SFrame(booksdb)"
   ]
  },
  {
   "cell_type": "code",
   "execution_count": 94,
   "metadata": {
    "collapsed": false
   },
   "outputs": [
    {
     "data": {
      "text/plain": [
       "(99985, 10)"
      ]
     },
     "execution_count": 94,
     "metadata": {},
     "output_type": "execute_result"
    }
   ],
   "source": [
    "reviews.shape"
   ]
  },
  {
   "cell_type": "code",
   "execution_count": 96,
   "metadata": {
    "collapsed": false
   },
   "outputs": [
    {
     "data": {
      "text/plain": [
       "(2370585, 4)"
      ]
     },
     "execution_count": 96,
     "metadata": {},
     "output_type": "execute_result"
    }
   ],
   "source": [
    "booksdb.shape"
   ]
  },
  {
   "cell_type": "code",
   "execution_count": 32,
   "metadata": {
    "collapsed": false
   },
   "outputs": [
    {
     "name": "stdout",
     "output_type": "stream",
     "text": [
      "Canvas is accessible via web browser at the URL: http://localhost:53821/index.html\n",
      "Opening Canvas in default web browser.\n"
     ]
    }
   ],
   "source": [
    "reviews.show()"
   ]
  },
  {
   "cell_type": "code",
   "execution_count": 13,
   "metadata": {
    "collapsed": false
   },
   "outputs": [],
   "source": [
    "reviews=reviews.join(booksdb,on='asin',how='inner')"
   ]
  },
  {
   "cell_type": "code",
   "execution_count": 31,
   "metadata": {
    "collapsed": false
   },
   "outputs": [
    {
     "data": {
      "text/html": [
       "<div style=\"max-height:1000px;max-width:1500px;overflow:auto;\"><table frame=\"box\" rules=\"cols\">\n",
       "    <tr>\n",
       "        <th style=\"padding-left: 1em; padding-right: 1em; text-align: center\">X1</th>\n",
       "        <th style=\"padding-left: 1em; padding-right: 1em; text-align: center\">reviewerID</th>\n",
       "        <th style=\"padding-left: 1em; padding-right: 1em; text-align: center\">asin</th>\n",
       "        <th style=\"padding-left: 1em; padding-right: 1em; text-align: center\">reviewerName</th>\n",
       "        <th style=\"padding-left: 1em; padding-right: 1em; text-align: center\">helpful</th>\n",
       "        <th style=\"padding-left: 1em; padding-right: 1em; text-align: center\">unixReviewTime</th>\n",
       "        <th style=\"padding-left: 1em; padding-right: 1em; text-align: center\">reviewText</th>\n",
       "        <th style=\"padding-left: 1em; padding-right: 1em; text-align: center\">overall</th>\n",
       "        <th style=\"padding-left: 1em; padding-right: 1em; text-align: center\">reviewTime</th>\n",
       "    </tr>\n",
       "</table>\n",
       "<table frame=\"box\" rules=\"cols\">\n",
       "    <tr>\n",
       "        <th style=\"padding-left: 1em; padding-right: 1em; text-align: center\">summary</th>\n",
       "        <th style=\"padding-left: 1em; padding-right: 1em; text-align: center\">title</th>\n",
       "        <th style=\"padding-left: 1em; padding-right: 1em; text-align: center\">description</th>\n",
       "        <th style=\"padding-left: 1em; padding-right: 1em; text-align: center\">brand</th>\n",
       "    </tr>\n",
       "</table>\n",
       "[0 rows x 13 columns]<br/>\n",
       "</div>"
      ],
      "text/plain": [
       "Columns:\n",
       "\tX1\tint\n",
       "\treviewerID\tstr\n",
       "\tasin\tstr\n",
       "\treviewerName\tstr\n",
       "\thelpful\tarray\n",
       "\tunixReviewTime\tint\n",
       "\treviewText\tstr\n",
       "\toverall\tfloat\n",
       "\treviewTime\tstr\n",
       "\tsummary\tstr\n",
       "\ttitle\tstr\n",
       "\tdescription\tstr\n",
       "\tbrand\tstr\n",
       "\n",
       "Rows: 0\n",
       "\n",
       "Data:\n",
       "\t[]"
      ]
     },
     "execution_count": 31,
     "metadata": {},
     "output_type": "execute_result"
    }
   ],
   "source": [
    "reviews.head(0)"
   ]
  },
  {
   "cell_type": "markdown",
   "metadata": {
    "collapsed": true
   },
   "source": [
    "# Build a recommender"
   ]
  },
  {
   "cell_type": "code",
   "execution_count": 27,
   "metadata": {
    "collapsed": false,
    "scrolled": true
   },
   "outputs": [
    {
     "data": {
      "text/html": [
       "<pre>Recsys training: model = item_similarity</pre>"
      ],
      "text/plain": [
       "Recsys training: model = item_similarity"
      ]
     },
     "metadata": {},
     "output_type": "display_data"
    },
    {
     "data": {
      "text/html": [
       "<pre>Warning: Ignoring columns X1, asin, reviewerName, helpful, unixReviewTime, reviewText, overall, reviewTime, summary, description, brand;</pre>"
      ],
      "text/plain": [
       "Warning: Ignoring columns X1, asin, reviewerName, helpful, unixReviewTime, reviewText, overall, reviewTime, summary, description, brand;"
      ]
     },
     "metadata": {},
     "output_type": "display_data"
    },
    {
     "data": {
      "text/html": [
       "<pre>    To use one of these as a target column, set target = <column_name></pre>"
      ],
      "text/plain": [
       "    To use one of these as a target column, set target = <column_name>"
      ]
     },
     "metadata": {},
     "output_type": "display_data"
    },
    {
     "data": {
      "text/html": [
       "<pre>    and use a method that allows the use of a target.</pre>"
      ],
      "text/plain": [
       "    and use a method that allows the use of a target."
      ]
     },
     "metadata": {},
     "output_type": "display_data"
    },
    {
     "data": {
      "text/html": [
       "<pre>Preparing data set.</pre>"
      ],
      "text/plain": [
       "Preparing data set."
      ]
     },
     "metadata": {},
     "output_type": "display_data"
    },
    {
     "data": {
      "text/html": [
       "<pre>    Data has 99985 observations with 68123 users and 2637 items.</pre>"
      ],
      "text/plain": [
       "    Data has 99985 observations with 68123 users and 2637 items."
      ]
     },
     "metadata": {},
     "output_type": "display_data"
    },
    {
     "data": {
      "text/html": [
       "<pre>    Data prepared in: 0.693453s</pre>"
      ],
      "text/plain": [
       "    Data prepared in: 0.693453s"
      ]
     },
     "metadata": {},
     "output_type": "display_data"
    },
    {
     "data": {
      "text/html": [
       "<pre>Training model from provided data.</pre>"
      ],
      "text/plain": [
       "Training model from provided data."
      ]
     },
     "metadata": {},
     "output_type": "display_data"
    },
    {
     "data": {
      "text/html": [
       "<pre>Gathering per-item and per-user statistics.</pre>"
      ],
      "text/plain": [
       "Gathering per-item and per-user statistics."
      ]
     },
     "metadata": {},
     "output_type": "display_data"
    },
    {
     "data": {
      "text/html": [
       "<pre>+--------------------------------+------------+</pre>"
      ],
      "text/plain": [
       "+--------------------------------+------------+"
      ]
     },
     "metadata": {},
     "output_type": "display_data"
    },
    {
     "data": {
      "text/html": [
       "<pre>| Elapsed Time (Item Statistics) | % Complete |</pre>"
      ],
      "text/plain": [
       "| Elapsed Time (Item Statistics) | % Complete |"
      ]
     },
     "metadata": {},
     "output_type": "display_data"
    },
    {
     "data": {
      "text/html": [
       "<pre>+--------------------------------+------------+</pre>"
      ],
      "text/plain": [
       "+--------------------------------+------------+"
      ]
     },
     "metadata": {},
     "output_type": "display_data"
    },
    {
     "data": {
      "text/html": [
       "<pre>| 14.189ms                       | 17.5       |</pre>"
      ],
      "text/plain": [
       "| 14.189ms                       | 17.5       |"
      ]
     },
     "metadata": {},
     "output_type": "display_data"
    },
    {
     "data": {
      "text/html": [
       "<pre>| 30.705ms                       | 100        |</pre>"
      ],
      "text/plain": [
       "| 30.705ms                       | 100        |"
      ]
     },
     "metadata": {},
     "output_type": "display_data"
    },
    {
     "data": {
      "text/html": [
       "<pre>+--------------------------------+------------+</pre>"
      ],
      "text/plain": [
       "+--------------------------------+------------+"
      ]
     },
     "metadata": {},
     "output_type": "display_data"
    },
    {
     "data": {
      "text/html": [
       "<pre>Setting up lookup tables.</pre>"
      ],
      "text/plain": [
       "Setting up lookup tables."
      ]
     },
     "metadata": {},
     "output_type": "display_data"
    },
    {
     "data": {
      "text/html": [
       "<pre>Processing data in one pass using dense lookup tables.</pre>"
      ],
      "text/plain": [
       "Processing data in one pass using dense lookup tables."
      ]
     },
     "metadata": {},
     "output_type": "display_data"
    },
    {
     "data": {
      "text/html": [
       "<pre>+-------------------------------------+------------------+-----------------+</pre>"
      ],
      "text/plain": [
       "+-------------------------------------+------------------+-----------------+"
      ]
     },
     "metadata": {},
     "output_type": "display_data"
    },
    {
     "data": {
      "text/html": [
       "<pre>| Elapsed Time (Constructing Lookups) | Total % Complete | Items Processed |</pre>"
      ],
      "text/plain": [
       "| Elapsed Time (Constructing Lookups) | Total % Complete | Items Processed |"
      ]
     },
     "metadata": {},
     "output_type": "display_data"
    },
    {
     "data": {
      "text/html": [
       "<pre>+-------------------------------------+------------------+-----------------+</pre>"
      ],
      "text/plain": [
       "+-------------------------------------+------------------+-----------------+"
      ]
     },
     "metadata": {},
     "output_type": "display_data"
    },
    {
     "data": {
      "text/html": [
       "<pre>| 59.48ms                             | 0                | 0               |</pre>"
      ],
      "text/plain": [
       "| 59.48ms                             | 0                | 0               |"
      ]
     },
     "metadata": {},
     "output_type": "display_data"
    },
    {
     "data": {
      "text/html": [
       "<pre>| 136.043ms                           | 100              | 2637            |</pre>"
      ],
      "text/plain": [
       "| 136.043ms                           | 100              | 2637            |"
      ]
     },
     "metadata": {},
     "output_type": "display_data"
    },
    {
     "data": {
      "text/html": [
       "<pre>+-------------------------------------+------------------+-----------------+</pre>"
      ],
      "text/plain": [
       "+-------------------------------------+------------------+-----------------+"
      ]
     },
     "metadata": {},
     "output_type": "display_data"
    },
    {
     "data": {
      "text/html": [
       "<pre>Finalizing lookup tables.</pre>"
      ],
      "text/plain": [
       "Finalizing lookup tables."
      ]
     },
     "metadata": {},
     "output_type": "display_data"
    },
    {
     "data": {
      "text/html": [
       "<pre>Generating candidate set for working with new users.</pre>"
      ],
      "text/plain": [
       "Generating candidate set for working with new users."
      ]
     },
     "metadata": {},
     "output_type": "display_data"
    },
    {
     "data": {
      "text/html": [
       "<pre>Finished training in 0.167996s</pre>"
      ],
      "text/plain": [
       "Finished training in 0.167996s"
      ]
     },
     "metadata": {},
     "output_type": "display_data"
    }
   ],
   "source": [
    "model = graphlab.recommender.create(reviews, user_id='reviewerID', item_id='title')"
   ]
  },
  {
   "cell_type": "code",
   "execution_count": 28,
   "metadata": {
    "collapsed": false
   },
   "outputs": [
    {
     "data": {
      "text/html": [
       "<div style=\"max-height:1000px;max-width:1500px;overflow:auto;\"><table frame=\"box\" rules=\"cols\">\n",
       "    <tr>\n",
       "        <th style=\"padding-left: 1em; padding-right: 1em; text-align: center\">title</th>\n",
       "        <th style=\"padding-left: 1em; padding-right: 1em; text-align: center\">similar</th>\n",
       "        <th style=\"padding-left: 1em; padding-right: 1em; text-align: center\">score</th>\n",
       "        <th style=\"padding-left: 1em; padding-right: 1em; text-align: center\">rank</th>\n",
       "    </tr>\n",
       "    <tr>\n",
       "        <td style=\"padding-left: 1em; padding-right: 1em; text-align: center; vertical-align: top\">Master Georgie</td>\n",
       "        <td style=\"padding-left: 1em; padding-right: 1em; text-align: center; vertical-align: top\">Breakfast on Pluto</td>\n",
       "        <td style=\"padding-left: 1em; padding-right: 1em; text-align: center; vertical-align: top\">0.0571428537369</td>\n",
       "        <td style=\"padding-left: 1em; padding-right: 1em; text-align: center; vertical-align: top\">1</td>\n",
       "    </tr>\n",
       "    <tr>\n",
       "        <td style=\"padding-left: 1em; padding-right: 1em; text-align: center; vertical-align: top\">Master Georgie</td>\n",
       "        <td style=\"padding-left: 1em; padding-right: 1em; text-align: center; vertical-align: top\">BRIXTON BEACH</td>\n",
       "        <td style=\"padding-left: 1em; padding-right: 1em; text-align: center; vertical-align: top\">0.0454545617104</td>\n",
       "        <td style=\"padding-left: 1em; padding-right: 1em; text-align: center; vertical-align: top\">2</td>\n",
       "    </tr>\n",
       "    <tr>\n",
       "        <td style=\"padding-left: 1em; padding-right: 1em; text-align: center; vertical-align: top\">Master Georgie</td>\n",
       "        <td style=\"padding-left: 1em; padding-right: 1em; text-align: center; vertical-align: top\">Arcadia</td>\n",
       "        <td style=\"padding-left: 1em; padding-right: 1em; text-align: center; vertical-align: top\">0.0454545617104</td>\n",
       "        <td style=\"padding-left: 1em; padding-right: 1em; text-align: center; vertical-align: top\">3</td>\n",
       "    </tr>\n",
       "    <tr>\n",
       "        <td style=\"padding-left: 1em; padding-right: 1em; text-align: center; vertical-align: top\">Master Georgie</td>\n",
       "        <td style=\"padding-left: 1em; padding-right: 1em; text-align: center; vertical-align: top\">Inventing Memory: A Novel<br>of Mothers and Daughters ...</td>\n",
       "        <td style=\"padding-left: 1em; padding-right: 1em; text-align: center; vertical-align: top\">0.0434782505035</td>\n",
       "        <td style=\"padding-left: 1em; padding-right: 1em; text-align: center; vertical-align: top\">4</td>\n",
       "    </tr>\n",
       "    <tr>\n",
       "        <td style=\"padding-left: 1em; padding-right: 1em; text-align: center; vertical-align: top\">Master Georgie</td>\n",
       "        <td style=\"padding-left: 1em; padding-right: 1em; text-align: center; vertical-align: top\">N. C. Wyeth: A Biography</td>\n",
       "        <td style=\"padding-left: 1em; padding-right: 1em; text-align: center; vertical-align: top\">0.0434782505035</td>\n",
       "        <td style=\"padding-left: 1em; padding-right: 1em; text-align: center; vertical-align: top\">5</td>\n",
       "    </tr>\n",
       "    <tr>\n",
       "        <td style=\"padding-left: 1em; padding-right: 1em; text-align: center; vertical-align: top\">Master Georgie</td>\n",
       "        <td style=\"padding-left: 1em; padding-right: 1em; text-align: center; vertical-align: top\">Fanny: A Fiction</td>\n",
       "        <td style=\"padding-left: 1em; padding-right: 1em; text-align: center; vertical-align: top\">0.0400000214577</td>\n",
       "        <td style=\"padding-left: 1em; padding-right: 1em; text-align: center; vertical-align: top\">6</td>\n",
       "    </tr>\n",
       "    <tr>\n",
       "        <td style=\"padding-left: 1em; padding-right: 1em; text-align: center; vertical-align: top\">Master Georgie</td>\n",
       "        <td style=\"padding-left: 1em; padding-right: 1em; text-align: center; vertical-align: top\">Without Reservation: The<br>Making of America's Most ...</td>\n",
       "        <td style=\"padding-left: 1em; padding-right: 1em; text-align: center; vertical-align: top\">0.0400000214577</td>\n",
       "        <td style=\"padding-left: 1em; padding-right: 1em; text-align: center; vertical-align: top\">7</td>\n",
       "    </tr>\n",
       "    <tr>\n",
       "        <td style=\"padding-left: 1em; padding-right: 1em; text-align: center; vertical-align: top\">Master Georgie</td>\n",
       "        <td style=\"padding-left: 1em; padding-right: 1em; text-align: center; vertical-align: top\">Catholics</td>\n",
       "        <td style=\"padding-left: 1em; padding-right: 1em; text-align: center; vertical-align: top\">0.0400000214577</td>\n",
       "        <td style=\"padding-left: 1em; padding-right: 1em; text-align: center; vertical-align: top\">8</td>\n",
       "    </tr>\n",
       "    <tr>\n",
       "        <td style=\"padding-left: 1em; padding-right: 1em; text-align: center; vertical-align: top\">Master Georgie</td>\n",
       "        <td style=\"padding-left: 1em; padding-right: 1em; text-align: center; vertical-align: top\">Andrew Wyeth: A Secret<br>Life ...</td>\n",
       "        <td style=\"padding-left: 1em; padding-right: 1em; text-align: center; vertical-align: top\">0.0384615659714</td>\n",
       "        <td style=\"padding-left: 1em; padding-right: 1em; text-align: center; vertical-align: top\">9</td>\n",
       "    </tr>\n",
       "    <tr>\n",
       "        <td style=\"padding-left: 1em; padding-right: 1em; text-align: center; vertical-align: top\">Master Georgie</td>\n",
       "        <td style=\"padding-left: 1em; padding-right: 1em; text-align: center; vertical-align: top\">The Cloud Sketcher</td>\n",
       "        <td style=\"padding-left: 1em; padding-right: 1em; text-align: center; vertical-align: top\">0.0384615659714</td>\n",
       "        <td style=\"padding-left: 1em; padding-right: 1em; text-align: center; vertical-align: top\">10</td>\n",
       "    </tr>\n",
       "</table>\n",
       "[10 rows x 4 columns]<br/>\n",
       "</div>"
      ],
      "text/plain": [
       "Columns:\n",
       "\ttitle\tstr\n",
       "\tsimilar\tstr\n",
       "\tscore\tfloat\n",
       "\trank\tint\n",
       "\n",
       "Rows: 10\n",
       "\n",
       "Data:\n",
       "+----------------+-------------------------------+-----------------+------+\n",
       "|     title      |            similar            |      score      | rank |\n",
       "+----------------+-------------------------------+-----------------+------+\n",
       "| Master Georgie |       Breakfast on Pluto      | 0.0571428537369 |  1   |\n",
       "| Master Georgie |         BRIXTON BEACH         | 0.0454545617104 |  2   |\n",
       "| Master Georgie |            Arcadia            | 0.0454545617104 |  3   |\n",
       "| Master Georgie | Inventing Memory: A Novel ... | 0.0434782505035 |  4   |\n",
       "| Master Georgie |    N. C. Wyeth: A Biography   | 0.0434782505035 |  5   |\n",
       "| Master Georgie |        Fanny: A Fiction       | 0.0400000214577 |  6   |\n",
       "| Master Georgie | Without Reservation: The M... | 0.0400000214577 |  7   |\n",
       "| Master Georgie |           Catholics           | 0.0400000214577 |  8   |\n",
       "| Master Georgie |  Andrew Wyeth: A Secret Life  | 0.0384615659714 |  9   |\n",
       "| Master Georgie |       The Cloud Sketcher      | 0.0384615659714 |  10  |\n",
       "+----------------+-------------------------------+-----------------+------+\n",
       "[10 rows x 4 columns]"
      ]
     },
     "execution_count": 28,
     "metadata": {},
     "output_type": "execute_result"
    }
   ],
   "source": [
    "similar_items=model.get_similar_items()\n",
    "similar_items.head(10)"
   ]
  },
  {
   "cell_type": "code",
   "execution_count": 29,
   "metadata": {
    "collapsed": false
   },
   "outputs": [
    {
     "name": "stdout",
     "output_type": "stream",
     "text": [
      "+-------------------------------+--------------------------------+\n",
      "|             title             |            similar             |\n",
      "+-------------------------------+--------------------------------+\n",
      "|         Master Georgie        |       Breakfast on Pluto       |\n",
      "|         Master Georgie        |         BRIXTON BEACH          |\n",
      "|         Master Georgie        |            Arcadia             |\n",
      "|         Master Georgie        | Inventing Memory: A Novel ...  |\n",
      "|         Master Georgie        |    N. C. Wyeth: A Biography    |\n",
      "|         Master Georgie        |        Fanny: A Fiction        |\n",
      "|         Master Georgie        | Without Reservation: The M...  |\n",
      "|         Master Georgie        |           Catholics            |\n",
      "|         Master Georgie        |  Andrew Wyeth: A Secret Life   |\n",
      "|         Master Georgie        |       The Cloud Sketcher       |\n",
      "| The Greatest Book on &quot... |     The Book of Revelation     |\n",
      "| The Berenstains' B Book (B... | Happy Haunting, Amelia Bed...  |\n",
      "| The Berenstains' B Book (B... | Come Back, Amelia Bedelia ...  |\n",
      "| The Berenstains' B Book (B... | 3 Little Firefighters (Mat...  |\n",
      "| The Berenstains' B Book (B... | Amelia Bedelia Helps Out (...  |\n",
      "| The Berenstains' B Book (B... |           Barn Blind           |\n",
      "| The Berenstains' B Book (B... | The Adventures of Harold a...  |\n",
      "| The Berenstains' B Book (B... | Merry Christmas, Amelia Be...  |\n",
      "| The Berenstains' B Book (B... |     Hop on Pop Classics HB     |\n",
      "| The Berenstains' B Book (B... | Jesse Bear, What Will You ...  |\n",
      "| The Berenstains' B Book (B... |        The Whipping Boy        |\n",
      "|          The Prophet          |  A Night Without Armor: Poems  |\n",
      "|          The Prophet          | Warrior of the Light: A Manual |\n",
      "|          The Prophet          |       My Stroke of Luck        |\n",
      "|          The Prophet          |  Living, Loving and Learning   |\n",
      "|          The Prophet          | Wisdom of the Ages: 60 Day...  |\n",
      "|          The Prophet          | A Farewell to Arms (A Scri...  |\n",
      "|          The Prophet          | Doubt: A History: The Grea...  |\n",
      "|          The Prophet          |      Imagine: John Lennon      |\n",
      "|          The Prophet          |     To Kill a Mockingbird      |\n",
      "|          The Prophet          | How to Read Literature Lik...  |\n",
      "|   Rightly Dividing the Word   |     The Book of Revelation     |\n",
      "| The Berenstain Bears on th... | I Am Puppy Hear Me Yap: Th...  |\n",
      "| The Berenstain Bears on th... |  Rocks in His Head (Avenues)   |\n",
      "| The Berenstain Bears on th... | The Rooster Crows : A Book...  |\n",
      "| The Berenstain Bears on th... |        The Three Bears         |\n",
      "| The Berenstain Bears on th... | Arabists: The Romance of a...  |\n",
      "| The Berenstain Bears on th... |          I'm Mighty!           |\n",
      "| The Berenstain Bears on th... |     I Used to Be the Baby      |\n",
      "| The Berenstain Bears on th... |     A Birthday for Frances     |\n",
      "| The Berenstain Bears on th... | Biscuit and the Baby (My F...  |\n",
      "| The Berenstain Bears on th... |           Roxaboxen            |\n",
      "|     The Book of Revelation    |   Rightly Dividing the Word    |\n",
      "|     The Book of Revelation    | The Greatest Book on &quot...  |\n",
      "|           Deafening           |   Balsamic Vinegar Cookbook    |\n",
      "|           Deafening           |         Master Georgie         |\n",
      "|           Deafening           |    For Whom the Bell Tolls     |\n",
      "|           Deafening           |      Water For Elephants       |\n",
      "|           Deafening           |      A Dance with Dragons      |\n",
      "|    For Whom the Bell Tolls    | A Farewell to Arms (A Scri...  |\n",
      "+-------------------------------+--------------------------------+\n",
      "+-------------------+------+\n",
      "|       score       | rank |\n",
      "+-------------------+------+\n",
      "|  0.0571428537369  |  1   |\n",
      "|  0.0454545617104  |  2   |\n",
      "|  0.0454545617104  |  3   |\n",
      "|  0.0434782505035  |  4   |\n",
      "|  0.0434782505035  |  5   |\n",
      "|  0.0400000214577  |  6   |\n",
      "|  0.0400000214577  |  7   |\n",
      "|  0.0400000214577  |  8   |\n",
      "|  0.0384615659714  |  9   |\n",
      "|  0.0384615659714  |  10  |\n",
      "|  0.0454545617104  |  1   |\n",
      "|       0.0625      |  1   |\n",
      "|  0.0588235259056  |  2   |\n",
      "|  0.0555555820465  |  3   |\n",
      "|  0.0526315569878  |  4   |\n",
      "|  0.0500000119209  |  5   |\n",
      "|  0.0454545617104  |  6   |\n",
      "|  0.0357142686844  |  7   |\n",
      "|  0.0315789580345  |  8   |\n",
      "|  0.0285714268684  |  9   |\n",
      "|  0.0270270109177  |  10  |\n",
      "|  0.0244898200035  |  1   |\n",
      "|   0.015936255455  |  2   |\n",
      "|  0.0138248801231  |  3   |\n",
      "|  0.0133333206177  |  4   |\n",
      "|  0.0131004452705  |  5   |\n",
      "|  0.0129310488701  |  6   |\n",
      "|  0.0126582384109  |  7   |\n",
      "|  0.0123456716537  |  8   |\n",
      "|  0.0100364685059  |  9   |\n",
      "|  0.00996679067612 |  10  |\n",
      "|  0.0476190447807  |  1   |\n",
      "|  0.0833333134651  |  1   |\n",
      "|  0.0769230723381  |  2   |\n",
      "|  0.0769230723381  |  3   |\n",
      "|  0.0714285969734  |  4   |\n",
      "|  0.0714285969734  |  5   |\n",
      "|       0.0625      |  6   |\n",
      "|       0.0625      |  7   |\n",
      "|  0.0555555820465  |  8   |\n",
      "|  0.0476190447807  |  9   |\n",
      "|  0.0400000214577  |  10  |\n",
      "|  0.0476190447807  |  1   |\n",
      "|  0.0454545617104  |  2   |\n",
      "|  0.0555555820465  |  1   |\n",
      "|  0.0322580933571  |  2   |\n",
      "|  0.00361013412476 |  3   |\n",
      "| 0.000732362270355 |  4   |\n",
      "| 0.000483810901642 |  5   |\n",
      "|   0.106918215752  |  1   |\n",
      "+-------------------+------+\n",
      "[23086 rows x 4 columns]\n",
      "\n"
     ]
    }
   ],
   "source": [
    "similar_items.print_rows (50,4)"
   ]
  },
  {
   "cell_type": "code",
   "execution_count": 127,
   "metadata": {
    "collapsed": false
   },
   "outputs": [
    {
     "data": {
      "text/plain": [
       "{'num_edges': 23102, 'num_vertices': 2595}"
      ]
     },
     "execution_count": 127,
     "metadata": {},
     "output_type": "execute_result"
    }
   ],
   "source": [
    "#Similarity graph from my preference to others\n",
    "similarity_graph=graphlab.SGraph().add_edges(similar_items,src_field='title',dst_field='similar')\n",
    "similarity_graph.summary()"
   ]
  },
  {
   "cell_type": "code",
   "execution_count": 128,
   "metadata": {
    "collapsed": false
   },
   "outputs": [
    {
     "data": {
      "text/html": [
       "<pre>+----------------------------+</pre>"
      ],
      "text/plain": [
       "+----------------------------+"
      ]
     },
     "metadata": {},
     "output_type": "display_data"
    },
    {
     "data": {
      "text/html": [
       "<pre>| Number of vertices updated |</pre>"
      ],
      "text/plain": [
       "| Number of vertices updated |"
      ]
     },
     "metadata": {},
     "output_type": "display_data"
    },
    {
     "data": {
      "text/html": [
       "<pre>+----------------------------+</pre>"
      ],
      "text/plain": [
       "+----------------------------+"
      ]
     },
     "metadata": {},
     "output_type": "display_data"
    },
    {
     "data": {
      "text/html": [
       "<pre>| 2467                       |</pre>"
      ],
      "text/plain": [
       "| 2467                       |"
      ]
     },
     "metadata": {},
     "output_type": "display_data"
    },
    {
     "data": {
      "text/html": [
       "<pre>| 2155                       |</pre>"
      ],
      "text/plain": [
       "| 2155                       |"
      ]
     },
     "metadata": {},
     "output_type": "display_data"
    },
    {
     "data": {
      "text/html": [
       "<pre>| 243                        |</pre>"
      ],
      "text/plain": [
       "| 243                        |"
      ]
     },
     "metadata": {},
     "output_type": "display_data"
    },
    {
     "data": {
      "text/html": [
       "<pre>| 16                         |</pre>"
      ],
      "text/plain": [
       "| 16                         |"
      ]
     },
     "metadata": {},
     "output_type": "display_data"
    },
    {
     "data": {
      "text/html": [
       "<pre>| 0                          |</pre>"
      ],
      "text/plain": [
       "| 0                          |"
      ]
     },
     "metadata": {},
     "output_type": "display_data"
    },
    {
     "data": {
      "text/html": [
       "<pre>+----------------------------+</pre>"
      ],
      "text/plain": [
       "+----------------------------+"
      ]
     },
     "metadata": {},
     "output_type": "display_data"
    }
   ],
   "source": [
    "shortestpath=graphlab.shortest_path.create(similarity_graph,\"The Prophet\")"
   ]
  },
  {
   "cell_type": "code",
   "execution_count": 132,
   "metadata": {
    "collapsed": false
   },
   "outputs": [
    {
     "data": {
      "text/plain": [
       "[('The Prophet', 0.0),\n",
       " ('A Farewell to Arms (A Scribner Classic)', 1.0),\n",
       " ('The Bridge of San Luis Rey (Perennial Classics)', 2.0),\n",
       " ('Deafening', 3.0)]"
      ]
     },
     "execution_count": 132,
     "metadata": {},
     "output_type": "execute_result"
    }
   ],
   "source": [
    "shortestpath.get_path('Deafening')"
   ]
  },
  {
   "cell_type": "markdown",
   "metadata": {},
   "source": [
    "# Item Similarity Recomender (Collaborative  Filtering algorithm)\n",
    "\n",
    "This model first computes the similarity between items using the observations of users who have interacted with both items. Given a similarity between item ii and jj, S(i,j)S(i,j), it scores an item jj for user uu using a weighted average of the user’s previous observations IuIu.\n",
    "\n",
    "There are three choices of similarity metrics to use: ‘jaccard’, ‘cosine’ and ‘pearson’."
   ]
  },
  {
   "cell_type": "code",
   "execution_count": 204,
   "metadata": {
    "collapsed": false
   },
   "outputs": [
    {
     "data": {
      "text/html": [
       "<pre>Recsys training: model = item_similarity</pre>"
      ],
      "text/plain": [
       "Recsys training: model = item_similarity"
      ]
     },
     "metadata": {},
     "output_type": "display_data"
    },
    {
     "data": {
      "text/html": [
       "<pre>Warning: Ignoring columns X1, reviewerName, helpful, unixReviewTime, reviewText, reviewTime, summary, title, description, brand;</pre>"
      ],
      "text/plain": [
       "Warning: Ignoring columns X1, reviewerName, helpful, unixReviewTime, reviewText, reviewTime, summary, title, description, brand;"
      ]
     },
     "metadata": {},
     "output_type": "display_data"
    },
    {
     "data": {
      "text/html": [
       "<pre>    To use these columns in scoring predictions, use a model that allows the use of additional features.</pre>"
      ],
      "text/plain": [
       "    To use these columns in scoring predictions, use a model that allows the use of additional features."
      ]
     },
     "metadata": {},
     "output_type": "display_data"
    },
    {
     "data": {
      "text/html": [
       "<pre>Preparing data set.</pre>"
      ],
      "text/plain": [
       "Preparing data set."
      ]
     },
     "metadata": {},
     "output_type": "display_data"
    },
    {
     "data": {
      "text/html": [
       "<pre>    Data has 99985 observations with 68123 users and 2641 items.</pre>"
      ],
      "text/plain": [
       "    Data has 99985 observations with 68123 users and 2641 items."
      ]
     },
     "metadata": {},
     "output_type": "display_data"
    },
    {
     "data": {
      "text/html": [
       "<pre>    Data prepared in: 0.325704s</pre>"
      ],
      "text/plain": [
       "    Data prepared in: 0.325704s"
      ]
     },
     "metadata": {},
     "output_type": "display_data"
    },
    {
     "data": {
      "text/html": [
       "<pre>Training model from provided data.</pre>"
      ],
      "text/plain": [
       "Training model from provided data."
      ]
     },
     "metadata": {},
     "output_type": "display_data"
    },
    {
     "data": {
      "text/html": [
       "<pre>Gathering per-item and per-user statistics.</pre>"
      ],
      "text/plain": [
       "Gathering per-item and per-user statistics."
      ]
     },
     "metadata": {},
     "output_type": "display_data"
    },
    {
     "data": {
      "text/html": [
       "<pre>+--------------------------------+------------+</pre>"
      ],
      "text/plain": [
       "+--------------------------------+------------+"
      ]
     },
     "metadata": {},
     "output_type": "display_data"
    },
    {
     "data": {
      "text/html": [
       "<pre>| Elapsed Time (Item Statistics) | % Complete |</pre>"
      ],
      "text/plain": [
       "| Elapsed Time (Item Statistics) | % Complete |"
      ]
     },
     "metadata": {},
     "output_type": "display_data"
    },
    {
     "data": {
      "text/html": [
       "<pre>+--------------------------------+------------+</pre>"
      ],
      "text/plain": [
       "+--------------------------------+------------+"
      ]
     },
     "metadata": {},
     "output_type": "display_data"
    },
    {
     "data": {
      "text/html": [
       "<pre>| 2.082ms                        | 39.5       |</pre>"
      ],
      "text/plain": [
       "| 2.082ms                        | 39.5       |"
      ]
     },
     "metadata": {},
     "output_type": "display_data"
    },
    {
     "data": {
      "text/html": [
       "<pre>| 31.277ms                       | 100        |</pre>"
      ],
      "text/plain": [
       "| 31.277ms                       | 100        |"
      ]
     },
     "metadata": {},
     "output_type": "display_data"
    },
    {
     "data": {
      "text/html": [
       "<pre>+--------------------------------+------------+</pre>"
      ],
      "text/plain": [
       "+--------------------------------+------------+"
      ]
     },
     "metadata": {},
     "output_type": "display_data"
    },
    {
     "data": {
      "text/html": [
       "<pre>Setting up lookup tables.</pre>"
      ],
      "text/plain": [
       "Setting up lookup tables."
      ]
     },
     "metadata": {},
     "output_type": "display_data"
    },
    {
     "data": {
      "text/html": [
       "<pre>Processing data in one pass using dense lookup tables.</pre>"
      ],
      "text/plain": [
       "Processing data in one pass using dense lookup tables."
      ]
     },
     "metadata": {},
     "output_type": "display_data"
    },
    {
     "data": {
      "text/html": [
       "<pre>+-------------------------------------+------------------+-----------------+</pre>"
      ],
      "text/plain": [
       "+-------------------------------------+------------------+-----------------+"
      ]
     },
     "metadata": {},
     "output_type": "display_data"
    },
    {
     "data": {
      "text/html": [
       "<pre>| Elapsed Time (Constructing Lookups) | Total % Complete | Items Processed |</pre>"
      ],
      "text/plain": [
       "| Elapsed Time (Constructing Lookups) | Total % Complete | Items Processed |"
      ]
     },
     "metadata": {},
     "output_type": "display_data"
    },
    {
     "data": {
      "text/html": [
       "<pre>+-------------------------------------+------------------+-----------------+</pre>"
      ],
      "text/plain": [
       "+-------------------------------------+------------------+-----------------+"
      ]
     },
     "metadata": {},
     "output_type": "display_data"
    },
    {
     "data": {
      "text/html": [
       "<pre>| 55.979ms                            | 0                | 0               |</pre>"
      ],
      "text/plain": [
       "| 55.979ms                            | 0                | 0               |"
      ]
     },
     "metadata": {},
     "output_type": "display_data"
    },
    {
     "data": {
      "text/html": [
       "<pre>| 151.203ms                           | 100              | 2641            |</pre>"
      ],
      "text/plain": [
       "| 151.203ms                           | 100              | 2641            |"
      ]
     },
     "metadata": {},
     "output_type": "display_data"
    },
    {
     "data": {
      "text/html": [
       "<pre>+-------------------------------------+------------------+-----------------+</pre>"
      ],
      "text/plain": [
       "+-------------------------------------+------------------+-----------------+"
      ]
     },
     "metadata": {},
     "output_type": "display_data"
    },
    {
     "data": {
      "text/html": [
       "<pre>Finalizing lookup tables.</pre>"
      ],
      "text/plain": [
       "Finalizing lookup tables."
      ]
     },
     "metadata": {},
     "output_type": "display_data"
    },
    {
     "data": {
      "text/html": [
       "<pre>Generating candidate set for working with new users.</pre>"
      ],
      "text/plain": [
       "Generating candidate set for working with new users."
      ]
     },
     "metadata": {},
     "output_type": "display_data"
    },
    {
     "data": {
      "text/html": [
       "<pre>Finished training in 0.175995s</pre>"
      ],
      "text/plain": [
       "Finished training in 0.175995s"
      ]
     },
     "metadata": {},
     "output_type": "display_data"
    },
    {
     "name": "stdout",
     "output_type": "stream",
     "text": [
      "Training RMSE None\n",
      "Test RMSE 4.3320616433\n"
     ]
    }
   ],
   "source": [
    "modelbase=graphlab.recommender.item_similarity_recommender.create(reviews,user_id=\"reviewerID\",item_id=\"asin\",target=\"overall\")\n",
    "print 'Training RMSE', modelbase.get(\"training_rmse\")\n",
    "print 'Test RMSE', graphlab.evaluation.rmse(test['overall'],modelbase.predict(test))"
   ]
  },
  {
   "cell_type": "markdown",
   "metadata": {},
   "source": [
    "# Matrix Factorization - to predict the next rating\n",
    "A FactorizationRecommender learns latent factors for each user and item and uses them to make rating predictions.\n",
    "\n",
    "FactorizationRecommender [Koren_et_al] contains a number of options that tailor to a variety of datasets and evaluation metrics, making this one of the most powerful model in the GraphLab Create recommender toolkit.\n",
    "\n",
    "Side information\n",
    "\n",
    "Side features may be provided via the user_data and item_data options when the model is created.\n",
    "\n",
    "Additionally, observation-specific information, such as the time of day when the user rated the item, can also be included. Any column in the observation_data SFrame that is not the user id, item id, or target is treated as a observation side features. The same side feature columns must be present when calling predict()."
   ]
  },
  {
   "cell_type": "code",
   "execution_count": 17,
   "metadata": {
    "collapsed": true
   },
   "outputs": [],
   "source": [
    "train,test = reviews.random_split(0.9)"
   ]
  },
  {
   "cell_type": "markdown",
   "metadata": {},
   "source": [
    "# side_data_factorization=True"
   ]
  },
  {
   "cell_type": "code",
   "execution_count": 35,
   "metadata": {
    "collapsed": false
   },
   "outputs": [
    {
     "data": {
      "text/html": [
       "<pre>Recsys training: model = factorization_recommender</pre>"
      ],
      "text/plain": [
       "Recsys training: model = factorization_recommender"
      ]
     },
     "metadata": {},
     "output_type": "display_data"
    },
    {
     "data": {
      "text/html": [
       "<pre>Preparing data set.</pre>"
      ],
      "text/plain": [
       "Preparing data set."
      ]
     },
     "metadata": {},
     "output_type": "display_data"
    },
    {
     "data": {
      "text/html": [
       "<pre>    Data has 89898 observations with 62708 users and 2637 items.</pre>"
      ],
      "text/plain": [
       "    Data has 89898 observations with 62708 users and 2637 items."
      ]
     },
     "metadata": {},
     "output_type": "display_data"
    },
    {
     "data": {
      "text/html": [
       "<pre>    Data prepared in: 1.14626s</pre>"
      ],
      "text/plain": [
       "    Data prepared in: 1.14626s"
      ]
     },
     "metadata": {},
     "output_type": "display_data"
    },
    {
     "data": {
      "text/html": [
       "<pre>Training factorization_recommender for recommendations.</pre>"
      ],
      "text/plain": [
       "Training factorization_recommender for recommendations."
      ]
     },
     "metadata": {},
     "output_type": "display_data"
    },
    {
     "data": {
      "text/html": [
       "<pre>+--------------------------------+--------------------------------------------------+----------+</pre>"
      ],
      "text/plain": [
       "+--------------------------------+--------------------------------------------------+----------+"
      ]
     },
     "metadata": {},
     "output_type": "display_data"
    },
    {
     "data": {
      "text/html": [
       "<pre>| Parameter                      | Description                                      | Value    |</pre>"
      ],
      "text/plain": [
       "| Parameter                      | Description                                      | Value    |"
      ]
     },
     "metadata": {},
     "output_type": "display_data"
    },
    {
     "data": {
      "text/html": [
       "<pre>+--------------------------------+--------------------------------------------------+----------+</pre>"
      ],
      "text/plain": [
       "+--------------------------------+--------------------------------------------------+----------+"
      ]
     },
     "metadata": {},
     "output_type": "display_data"
    },
    {
     "data": {
      "text/html": [
       "<pre>| num_factors                    | Factor Dimension                                 | 8        |</pre>"
      ],
      "text/plain": [
       "| num_factors                    | Factor Dimension                                 | 8        |"
      ]
     },
     "metadata": {},
     "output_type": "display_data"
    },
    {
     "data": {
      "text/html": [
       "<pre>| regularization                 | L2 Regularization on Factors                     | 1e-08    |</pre>"
      ],
      "text/plain": [
       "| regularization                 | L2 Regularization on Factors                     | 1e-08    |"
      ]
     },
     "metadata": {},
     "output_type": "display_data"
    },
    {
     "data": {
      "text/html": [
       "<pre>| solver                         | Solver used for training                         | adagrad  |</pre>"
      ],
      "text/plain": [
       "| solver                         | Solver used for training                         | adagrad  |"
      ]
     },
     "metadata": {},
     "output_type": "display_data"
    },
    {
     "data": {
      "text/html": [
       "<pre>| linear_regularization          | L2 Regularization on Linear Coefficients         | 1e-10    |</pre>"
      ],
      "text/plain": [
       "| linear_regularization          | L2 Regularization on Linear Coefficients         | 1e-10    |"
      ]
     },
     "metadata": {},
     "output_type": "display_data"
    },
    {
     "data": {
      "text/html": [
       "<pre>| max_iterations                 | Maximum Number of Iterations                     | 50       |</pre>"
      ],
      "text/plain": [
       "| max_iterations                 | Maximum Number of Iterations                     | 50       |"
      ]
     },
     "metadata": {},
     "output_type": "display_data"
    },
    {
     "data": {
      "text/html": [
       "<pre>+--------------------------------+--------------------------------------------------+----------+</pre>"
      ],
      "text/plain": [
       "+--------------------------------+--------------------------------------------------+----------+"
      ]
     },
     "metadata": {},
     "output_type": "display_data"
    },
    {
     "data": {
      "text/html": [
       "<pre>  Optimizing model using SGD; tuning step size.</pre>"
      ],
      "text/plain": [
       "  Optimizing model using SGD; tuning step size."
      ]
     },
     "metadata": {},
     "output_type": "display_data"
    },
    {
     "data": {
      "text/html": [
       "<pre>  Using 11237 / 89898 points for tuning the step size.</pre>"
      ],
      "text/plain": [
       "  Using 11237 / 89898 points for tuning the step size."
      ]
     },
     "metadata": {},
     "output_type": "display_data"
    },
    {
     "data": {
      "text/html": [
       "<pre>+---------+-------------------+------------------------------------------+</pre>"
      ],
      "text/plain": [
       "+---------+-------------------+------------------------------------------+"
      ]
     },
     "metadata": {},
     "output_type": "display_data"
    },
    {
     "data": {
      "text/html": [
       "<pre>| Attempt | Initial Step Size | Estimated Objective Value                |</pre>"
      ],
      "text/plain": [
       "| Attempt | Initial Step Size | Estimated Objective Value                |"
      ]
     },
     "metadata": {},
     "output_type": "display_data"
    },
    {
     "data": {
      "text/html": [
       "<pre>+---------+-------------------+------------------------------------------+</pre>"
      ],
      "text/plain": [
       "+---------+-------------------+------------------------------------------+"
      ]
     },
     "metadata": {},
     "output_type": "display_data"
    },
    {
     "data": {
      "text/html": [
       "<pre>| 0       | 4.16667           | Not Viable                               |</pre>"
      ],
      "text/plain": [
       "| 0       | 4.16667           | Not Viable                               |"
      ]
     },
     "metadata": {},
     "output_type": "display_data"
    },
    {
     "data": {
      "text/html": [
       "<pre>| 1       | 1.04167           | Not Viable                               |</pre>"
      ],
      "text/plain": [
       "| 1       | 1.04167           | Not Viable                               |"
      ]
     },
     "metadata": {},
     "output_type": "display_data"
    },
    {
     "data": {
      "text/html": [
       "<pre>| 2       | 0.260417          | Not Viable                               |</pre>"
      ],
      "text/plain": [
       "| 2       | 0.260417          | Not Viable                               |"
      ]
     },
     "metadata": {},
     "output_type": "display_data"
    },
    {
     "data": {
      "text/html": [
       "<pre>| 3       | 0.0651042         | 0.856775                                 |</pre>"
      ],
      "text/plain": [
       "| 3       | 0.0651042         | 0.856775                                 |"
      ]
     },
     "metadata": {},
     "output_type": "display_data"
    },
    {
     "data": {
      "text/html": [
       "<pre>| 4       | 0.0325521         | 0.257151                                 |</pre>"
      ],
      "text/plain": [
       "| 4       | 0.0325521         | 0.257151                                 |"
      ]
     },
     "metadata": {},
     "output_type": "display_data"
    },
    {
     "data": {
      "text/html": [
       "<pre>| 5       | 0.016276          | 0.615966                                 |</pre>"
      ],
      "text/plain": [
       "| 5       | 0.016276          | 0.615966                                 |"
      ]
     },
     "metadata": {},
     "output_type": "display_data"
    },
    {
     "data": {
      "text/html": [
       "<pre>+---------+-------------------+------------------------------------------+</pre>"
      ],
      "text/plain": [
       "+---------+-------------------+------------------------------------------+"
      ]
     },
     "metadata": {},
     "output_type": "display_data"
    },
    {
     "data": {
      "text/html": [
       "<pre>| Final   | 0.0325521         | 0.257151                                 |</pre>"
      ],
      "text/plain": [
       "| Final   | 0.0325521         | 0.257151                                 |"
      ]
     },
     "metadata": {},
     "output_type": "display_data"
    },
    {
     "data": {
      "text/html": [
       "<pre>+---------+-------------------+------------------------------------------+</pre>"
      ],
      "text/plain": [
       "+---------+-------------------+------------------------------------------+"
      ]
     },
     "metadata": {},
     "output_type": "display_data"
    },
    {
     "data": {
      "text/html": [
       "<pre>Starting Optimization.</pre>"
      ],
      "text/plain": [
       "Starting Optimization."
      ]
     },
     "metadata": {},
     "output_type": "display_data"
    },
    {
     "data": {
      "text/html": [
       "<pre>+---------+--------------+-------------------+-----------------------+-------------+</pre>"
      ],
      "text/plain": [
       "+---------+--------------+-------------------+-----------------------+-------------+"
      ]
     },
     "metadata": {},
     "output_type": "display_data"
    },
    {
     "data": {
      "text/html": [
       "<pre>| Iter.   | Elapsed Time | Approx. Objective | Approx. Training RMSE | Step Size   |</pre>"
      ],
      "text/plain": [
       "| Iter.   | Elapsed Time | Approx. Objective | Approx. Training RMSE | Step Size   |"
      ]
     },
     "metadata": {},
     "output_type": "display_data"
    },
    {
     "data": {
      "text/html": [
       "<pre>+---------+--------------+-------------------+-----------------------+-------------+</pre>"
      ],
      "text/plain": [
       "+---------+--------------+-------------------+-----------------------+-------------+"
      ]
     },
     "metadata": {},
     "output_type": "display_data"
    },
    {
     "data": {
      "text/html": [
       "<pre>| Initial | 105us        | 1.25383           | 1.11975               |             |</pre>"
      ],
      "text/plain": [
       "| Initial | 105us        | 1.25383           | 1.11975               |             |"
      ]
     },
     "metadata": {},
     "output_type": "display_data"
    },
    {
     "data": {
      "text/html": [
       "<pre>+---------+--------------+-------------------+-----------------------+-------------+</pre>"
      ],
      "text/plain": [
       "+---------+--------------+-------------------+-----------------------+-------------+"
      ]
     },
     "metadata": {},
     "output_type": "display_data"
    },
    {
     "data": {
      "text/html": [
       "<pre>| 1       | 230.561ms    | 1.34484           | 1.15966               | 0.0325521   |</pre>"
      ],
      "text/plain": [
       "| 1       | 230.561ms    | 1.34484           | 1.15966               | 0.0325521   |"
      ]
     },
     "metadata": {},
     "output_type": "display_data"
    },
    {
     "data": {
      "text/html": [
       "<pre>| 2       | 434.144ms    | 0.709398          | 0.842239              | 0.0325521   |</pre>"
      ],
      "text/plain": [
       "| 2       | 434.144ms    | 0.709398          | 0.842239              | 0.0325521   |"
      ]
     },
     "metadata": {},
     "output_type": "display_data"
    },
    {
     "data": {
      "text/html": [
       "<pre>| 3       | 560.287ms    | 0.596577          | 0.772362              | 0.0325521   |</pre>"
      ],
      "text/plain": [
       "| 3       | 560.287ms    | 0.596577          | 0.772362              | 0.0325521   |"
      ]
     },
     "metadata": {},
     "output_type": "display_data"
    },
    {
     "data": {
      "text/html": [
       "<pre>| 4       | 708.159ms    | 0.63435           | 0.796439              | 0.0325521   |</pre>"
      ],
      "text/plain": [
       "| 4       | 708.159ms    | 0.63435           | 0.796439              | 0.0325521   |"
      ]
     },
     "metadata": {},
     "output_type": "display_data"
    },
    {
     "data": {
      "text/html": [
       "<pre>| 5       | 851.401ms    | 0.797993          | 0.893284              | 0.0325521   |</pre>"
      ],
      "text/plain": [
       "| 5       | 851.401ms    | 0.797993          | 0.893284              | 0.0325521   |"
      ]
     },
     "metadata": {},
     "output_type": "display_data"
    },
    {
     "data": {
      "text/html": [
       "<pre>| 6       | 1.04s        | 0.93987           | 0.96945               | 0.0325521   |</pre>"
      ],
      "text/plain": [
       "| 6       | 1.04s        | 0.93987           | 0.96945               | 0.0325521   |"
      ]
     },
     "metadata": {},
     "output_type": "display_data"
    },
    {
     "data": {
      "text/html": [
       "<pre>| 10      | 1.60s        | 1.17651           | 1.08465               | 0.0325521   |</pre>"
      ],
      "text/plain": [
       "| 10      | 1.60s        | 1.17651           | 1.08465               | 0.0325521   |"
      ]
     },
     "metadata": {},
     "output_type": "display_data"
    },
    {
     "data": {
      "text/html": [
       "<pre>| 11      | 1.75s        | 0.621428          | 0.788282              | 0.0325521   |</pre>"
      ],
      "text/plain": [
       "| 11      | 1.75s        | 0.621428          | 0.788282              | 0.0325521   |"
      ]
     },
     "metadata": {},
     "output_type": "display_data"
    },
    {
     "data": {
      "text/html": [
       "<pre>| 20      | 3.00s        | 2.12327           | 1.45713               | 0.0325521   |</pre>"
      ],
      "text/plain": [
       "| 20      | 3.00s        | 2.12327           | 1.45713               | 0.0325521   |"
      ]
     },
     "metadata": {},
     "output_type": "display_data"
    },
    {
     "data": {
      "text/html": [
       "<pre>| 21      | 3.19s        | DIVERGED          | DIVERGED              | 0.0325521   |</pre>"
      ],
      "text/plain": [
       "| 21      | 3.19s        | DIVERGED          | DIVERGED              | 0.0325521   |"
      ]
     },
     "metadata": {},
     "output_type": "display_data"
    },
    {
     "data": {
      "text/html": [
       "<pre>| RESET   | 3.27s        | 1.25373           | 1.1197                |             |</pre>"
      ],
      "text/plain": [
       "| RESET   | 3.27s        | 1.25373           | 1.1197                |             |"
      ]
     },
     "metadata": {},
     "output_type": "display_data"
    },
    {
     "data": {
      "text/html": [
       "<pre>| 2       | 3.61s        | DIVERGED          | DIVERGED              | 0.016276    |</pre>"
      ],
      "text/plain": [
       "| 2       | 3.61s        | DIVERGED          | DIVERGED              | 0.016276    |"
      ]
     },
     "metadata": {},
     "output_type": "display_data"
    },
    {
     "data": {
      "text/html": [
       "<pre>| RESET   | 3.70s        | 1.25364           | 1.11966               |             |</pre>"
      ],
      "text/plain": [
       "| RESET   | 3.70s        | 1.25364           | 1.11966               |             |"
      ]
     },
     "metadata": {},
     "output_type": "display_data"
    },
    {
     "data": {
      "text/html": [
       "<pre>| 7       | 4.67s        | 0.958336          | 0.978945              | 0.00813802  |</pre>"
      ],
      "text/plain": [
       "| 7       | 4.67s        | 0.958336          | 0.978945              | 0.00813802  |"
      ]
     },
     "metadata": {},
     "output_type": "display_data"
    },
    {
     "data": {
      "text/html": [
       "<pre>| 17      | 6.11s        | 0.875383          | 0.935617              | 0.00813802  |</pre>"
      ],
      "text/plain": [
       "| 17      | 6.11s        | 0.875383          | 0.935617              | 0.00813802  |"
      ]
     },
     "metadata": {},
     "output_type": "display_data"
    },
    {
     "data": {
      "text/html": [
       "<pre>| 27      | 7.47s        | 0.814225          | 0.902342              | 0.00813802  |</pre>"
      ],
      "text/plain": [
       "| 27      | 7.47s        | 0.814225          | 0.902342              | 0.00813802  |"
      ]
     },
     "metadata": {},
     "output_type": "display_data"
    },
    {
     "data": {
      "text/html": [
       "<pre>| 30      | 7.88s        | 0.830788          | 0.911474              | 0.00813802  |</pre>"
      ],
      "text/plain": [
       "| 30      | 7.88s        | 0.830788          | 0.911474              | 0.00813802  |"
      ]
     },
     "metadata": {},
     "output_type": "display_data"
    },
    {
     "data": {
      "text/html": [
       "<pre>+---------+--------------+-------------------+-----------------------+-------------+</pre>"
      ],
      "text/plain": [
       "+---------+--------------+-------------------+-----------------------+-------------+"
      ]
     },
     "metadata": {},
     "output_type": "display_data"
    },
    {
     "data": {
      "text/html": [
       "<pre>Optimization Complete: Maximum number of passes through the data reached (hard limit).</pre>"
      ],
      "text/plain": [
       "Optimization Complete: Maximum number of passes through the data reached (hard limit)."
      ]
     },
     "metadata": {},
     "output_type": "display_data"
    },
    {
     "data": {
      "text/html": [
       "<pre>Computing final objective value and training RMSE.</pre>"
      ],
      "text/plain": [
       "Computing final objective value and training RMSE."
      ]
     },
     "metadata": {},
     "output_type": "display_data"
    },
    {
     "data": {
      "text/html": [
       "<pre>       Final objective value: 0.862404</pre>"
      ],
      "text/plain": [
       "       Final objective value: 0.862404"
      ]
     },
     "metadata": {},
     "output_type": "display_data"
    },
    {
     "data": {
      "text/html": [
       "<pre>       Final training RMSE: 0.928655</pre>"
      ],
      "text/plain": [
       "       Final training RMSE: 0.928655"
      ]
     },
     "metadata": {},
     "output_type": "display_data"
    },
    {
     "name": "stdout",
     "output_type": "stream",
     "text": [
      "Training RMSE 0.92865437183\n",
      "Test RMSE 1.08105087372\n"
     ]
    }
   ],
   "source": [
    "#Build a matrix factorization recommender to predict star rating:\n",
    "model1=graphlab.factorization_recommender.create(train,target='overall',side_data_factorization=True, item_id=\"title\",user_id='reviewerID')\n",
    "\n",
    "#compute train and test accuracy:\n",
    "print 'Training RMSE', model1.get(\"training_rmse\")\n",
    "print 'Test RMSE', graphlab.evaluation.rmse(test['overall'],model1.predict(test))"
   ]
  },
  {
   "cell_type": "markdown",
   "metadata": {},
   "source": [
    "# side_data_factorization=False"
   ]
  },
  {
   "cell_type": "code",
   "execution_count": 36,
   "metadata": {
    "collapsed": false
   },
   "outputs": [
    {
     "data": {
      "text/html": [
       "<pre>Recsys training: model = factorization_recommender</pre>"
      ],
      "text/plain": [
       "Recsys training: model = factorization_recommender"
      ]
     },
     "metadata": {},
     "output_type": "display_data"
    },
    {
     "data": {
      "text/html": [
       "<pre>Preparing data set.</pre>"
      ],
      "text/plain": [
       "Preparing data set."
      ]
     },
     "metadata": {},
     "output_type": "display_data"
    },
    {
     "data": {
      "text/html": [
       "<pre>    Data has 89898 observations with 62708 users and 2637 items.</pre>"
      ],
      "text/plain": [
       "    Data has 89898 observations with 62708 users and 2637 items."
      ]
     },
     "metadata": {},
     "output_type": "display_data"
    },
    {
     "data": {
      "text/html": [
       "<pre>    Data prepared in: 1.1498s</pre>"
      ],
      "text/plain": [
       "    Data prepared in: 1.1498s"
      ]
     },
     "metadata": {},
     "output_type": "display_data"
    },
    {
     "data": {
      "text/html": [
       "<pre>Training factorization_recommender for recommendations.</pre>"
      ],
      "text/plain": [
       "Training factorization_recommender for recommendations."
      ]
     },
     "metadata": {},
     "output_type": "display_data"
    },
    {
     "data": {
      "text/html": [
       "<pre>+--------------------------------+--------------------------------------------------+----------+</pre>"
      ],
      "text/plain": [
       "+--------------------------------+--------------------------------------------------+----------+"
      ]
     },
     "metadata": {},
     "output_type": "display_data"
    },
    {
     "data": {
      "text/html": [
       "<pre>| Parameter                      | Description                                      | Value    |</pre>"
      ],
      "text/plain": [
       "| Parameter                      | Description                                      | Value    |"
      ]
     },
     "metadata": {},
     "output_type": "display_data"
    },
    {
     "data": {
      "text/html": [
       "<pre>+--------------------------------+--------------------------------------------------+----------+</pre>"
      ],
      "text/plain": [
       "+--------------------------------+--------------------------------------------------+----------+"
      ]
     },
     "metadata": {},
     "output_type": "display_data"
    },
    {
     "data": {
      "text/html": [
       "<pre>| num_factors                    | Factor Dimension                                 | 8        |</pre>"
      ],
      "text/plain": [
       "| num_factors                    | Factor Dimension                                 | 8        |"
      ]
     },
     "metadata": {},
     "output_type": "display_data"
    },
    {
     "data": {
      "text/html": [
       "<pre>| regularization                 | L2 Regularization on Factors                     | 1e-08    |</pre>"
      ],
      "text/plain": [
       "| regularization                 | L2 Regularization on Factors                     | 1e-08    |"
      ]
     },
     "metadata": {},
     "output_type": "display_data"
    },
    {
     "data": {
      "text/html": [
       "<pre>| solver                         | Solver used for training                         | sgd      |</pre>"
      ],
      "text/plain": [
       "| solver                         | Solver used for training                         | sgd      |"
      ]
     },
     "metadata": {},
     "output_type": "display_data"
    },
    {
     "data": {
      "text/html": [
       "<pre>| linear_regularization          | L2 Regularization on Linear Coefficients         | 1e-10    |</pre>"
      ],
      "text/plain": [
       "| linear_regularization          | L2 Regularization on Linear Coefficients         | 1e-10    |"
      ]
     },
     "metadata": {},
     "output_type": "display_data"
    },
    {
     "data": {
      "text/html": [
       "<pre>| max_iterations                 | Maximum Number of Iterations                     | 50       |</pre>"
      ],
      "text/plain": [
       "| max_iterations                 | Maximum Number of Iterations                     | 50       |"
      ]
     },
     "metadata": {},
     "output_type": "display_data"
    },
    {
     "data": {
      "text/html": [
       "<pre>+--------------------------------+--------------------------------------------------+----------+</pre>"
      ],
      "text/plain": [
       "+--------------------------------+--------------------------------------------------+----------+"
      ]
     },
     "metadata": {},
     "output_type": "display_data"
    },
    {
     "data": {
      "text/html": [
       "<pre>  Optimizing model using SGD; tuning step size.</pre>"
      ],
      "text/plain": [
       "  Optimizing model using SGD; tuning step size."
      ]
     },
     "metadata": {},
     "output_type": "display_data"
    },
    {
     "data": {
      "text/html": [
       "<pre>  Using 11237 / 89898 points for tuning the step size.</pre>"
      ],
      "text/plain": [
       "  Using 11237 / 89898 points for tuning the step size."
      ]
     },
     "metadata": {},
     "output_type": "display_data"
    },
    {
     "data": {
      "text/html": [
       "<pre>+---------+-------------------+------------------------------------------+</pre>"
      ],
      "text/plain": [
       "+---------+-------------------+------------------------------------------+"
      ]
     },
     "metadata": {},
     "output_type": "display_data"
    },
    {
     "data": {
      "text/html": [
       "<pre>| Attempt | Initial Step Size | Estimated Objective Value                |</pre>"
      ],
      "text/plain": [
       "| Attempt | Initial Step Size | Estimated Objective Value                |"
      ]
     },
     "metadata": {},
     "output_type": "display_data"
    },
    {
     "data": {
      "text/html": [
       "<pre>+---------+-------------------+------------------------------------------+</pre>"
      ],
      "text/plain": [
       "+---------+-------------------+------------------------------------------+"
      ]
     },
     "metadata": {},
     "output_type": "display_data"
    },
    {
     "data": {
      "text/html": [
       "<pre>| 0       | 4.16667           | Not Viable                               |</pre>"
      ],
      "text/plain": [
       "| 0       | 4.16667           | Not Viable                               |"
      ]
     },
     "metadata": {},
     "output_type": "display_data"
    },
    {
     "data": {
      "text/html": [
       "<pre>| 1       | 1.04167           | Not Viable                               |</pre>"
      ],
      "text/plain": [
       "| 1       | 1.04167           | Not Viable                               |"
      ]
     },
     "metadata": {},
     "output_type": "display_data"
    },
    {
     "data": {
      "text/html": [
       "<pre>| 2       | 0.260417          | Not Viable                               |</pre>"
      ],
      "text/plain": [
       "| 2       | 0.260417          | Not Viable                               |"
      ]
     },
     "metadata": {},
     "output_type": "display_data"
    },
    {
     "data": {
      "text/html": [
       "<pre>| 3       | 0.0651042         | 0.162012                                 |</pre>"
      ],
      "text/plain": [
       "| 3       | 0.0651042         | 0.162012                                 |"
      ]
     },
     "metadata": {},
     "output_type": "display_data"
    },
    {
     "data": {
      "text/html": [
       "<pre>| 4       | 0.0325521         | 0.332302                                 |</pre>"
      ],
      "text/plain": [
       "| 4       | 0.0325521         | 0.332302                                 |"
      ]
     },
     "metadata": {},
     "output_type": "display_data"
    },
    {
     "data": {
      "text/html": [
       "<pre>+---------+-------------------+------------------------------------------+</pre>"
      ],
      "text/plain": [
       "+---------+-------------------+------------------------------------------+"
      ]
     },
     "metadata": {},
     "output_type": "display_data"
    },
    {
     "data": {
      "text/html": [
       "<pre>| Final   | 0.0651042         | 0.162012                                 |</pre>"
      ],
      "text/plain": [
       "| Final   | 0.0651042         | 0.162012                                 |"
      ]
     },
     "metadata": {},
     "output_type": "display_data"
    },
    {
     "data": {
      "text/html": [
       "<pre>+---------+-------------------+------------------------------------------+</pre>"
      ],
      "text/plain": [
       "+---------+-------------------+------------------------------------------+"
      ]
     },
     "metadata": {},
     "output_type": "display_data"
    },
    {
     "data": {
      "text/html": [
       "<pre>Starting Optimization.</pre>"
      ],
      "text/plain": [
       "Starting Optimization."
      ]
     },
     "metadata": {},
     "output_type": "display_data"
    },
    {
     "data": {
      "text/html": [
       "<pre>+---------+--------------+-------------------+-----------------------+-------------+</pre>"
      ],
      "text/plain": [
       "+---------+--------------+-------------------+-----------------------+-------------+"
      ]
     },
     "metadata": {},
     "output_type": "display_data"
    },
    {
     "data": {
      "text/html": [
       "<pre>| Iter.   | Elapsed Time | Approx. Objective | Approx. Training RMSE | Step Size   |</pre>"
      ],
      "text/plain": [
       "| Iter.   | Elapsed Time | Approx. Objective | Approx. Training RMSE | Step Size   |"
      ]
     },
     "metadata": {},
     "output_type": "display_data"
    },
    {
     "data": {
      "text/html": [
       "<pre>+---------+--------------+-------------------+-----------------------+-------------+</pre>"
      ],
      "text/plain": [
       "+---------+--------------+-------------------+-----------------------+-------------+"
      ]
     },
     "metadata": {},
     "output_type": "display_data"
    },
    {
     "data": {
      "text/html": [
       "<pre>| Initial | 120us        | 1.25388           | 1.11977               |             |</pre>"
      ],
      "text/plain": [
       "| Initial | 120us        | 1.25388           | 1.11977               |             |"
      ]
     },
     "metadata": {},
     "output_type": "display_data"
    },
    {
     "data": {
      "text/html": [
       "<pre>+---------+--------------+-------------------+-----------------------+-------------+</pre>"
      ],
      "text/plain": [
       "+---------+--------------+-------------------+-----------------------+-------------+"
      ]
     },
     "metadata": {},
     "output_type": "display_data"
    },
    {
     "data": {
      "text/html": [
       "<pre>| 1       | 156.146ms    | DIVERGED          | DIVERGED              | 0.0651042   |</pre>"
      ],
      "text/plain": [
       "| 1       | 156.146ms    | DIVERGED          | DIVERGED              | 0.0651042   |"
      ]
     },
     "metadata": {},
     "output_type": "display_data"
    },
    {
     "data": {
      "text/html": [
       "<pre>| RESET   | 233.233ms    | 1.25374           | 1.11971               |             |</pre>"
      ],
      "text/plain": [
       "| RESET   | 233.233ms    | 1.25374           | 1.11971               |             |"
      ]
     },
     "metadata": {},
     "output_type": "display_data"
    },
    {
     "data": {
      "text/html": [
       "<pre>| 1       | 351.459ms    | 1.69443           | 1.30169               | 0.0325521   |</pre>"
      ],
      "text/plain": [
       "| 1       | 351.459ms    | 1.69443           | 1.30169               | 0.0325521   |"
      ]
     },
     "metadata": {},
     "output_type": "display_data"
    },
    {
     "data": {
      "text/html": [
       "<pre>| 2       | 443.121ms    | 0.997121          | 0.998553              | 0.0193556   |</pre>"
      ],
      "text/plain": [
       "| 2       | 443.121ms    | 0.997121          | 0.998553              | 0.0193556   |"
      ]
     },
     "metadata": {},
     "output_type": "display_data"
    },
    {
     "data": {
      "text/html": [
       "<pre>| 3       | 556.567ms    | 0.648326          | 0.805184              | 0.0142803   |</pre>"
      ],
      "text/plain": [
       "| 3       | 556.567ms    | 0.648326          | 0.805184              | 0.0142803   |"
      ]
     },
     "metadata": {},
     "output_type": "display_data"
    },
    {
     "data": {
      "text/html": [
       "<pre>| 4       | 636.652ms    | 0.676675          | 0.822602              | 0.00967779  |</pre>"
      ],
      "text/plain": [
       "| 4       | 636.652ms    | 0.676675          | 0.822602              | 0.00967779  |"
      ]
     },
     "metadata": {},
     "output_type": "display_data"
    },
    {
     "data": {
      "text/html": [
       "<pre>| 5       | 770.427ms    | 0.663871          | 0.814782              | 0.00688393  |</pre>"
      ],
      "text/plain": [
       "| 5       | 770.427ms    | 0.663871          | 0.814782              | 0.00688393  |"
      ]
     },
     "metadata": {},
     "output_type": "display_data"
    },
    {
     "data": {
      "text/html": [
       "<pre>| 6       | 893.522ms    | 0.522443          | 0.722802              | 0.00504885  |</pre>"
      ],
      "text/plain": [
       "| 6       | 893.522ms    | 0.522443          | 0.722802              | 0.00504885  |"
      ]
     },
     "metadata": {},
     "output_type": "display_data"
    },
    {
     "data": {
      "text/html": [
       "<pre>| 9       | 1.14s        | 0.330768          | 0.575124              | 0.00313233  |</pre>"
      ],
      "text/plain": [
       "| 9       | 1.14s        | 0.330768          | 0.575124              | 0.00313233  |"
      ]
     },
     "metadata": {},
     "output_type": "display_data"
    },
    {
     "data": {
      "text/html": [
       "<pre>| 11      | 1.34s        | 0.379928          | 0.616382              | 0.00190541  |</pre>"
      ],
      "text/plain": [
       "| 11      | 1.34s        | 0.379928          | 0.616382              | 0.00190541  |"
      ]
     },
     "metadata": {},
     "output_type": "display_data"
    },
    {
     "data": {
      "text/html": [
       "<pre>| 19      | 2.07s        | 0.17875           | 0.422787              | 0.000316161 |</pre>"
      ],
      "text/plain": [
       "| 19      | 2.07s        | 0.17875           | 0.422787              | 0.000316161 |"
      ]
     },
     "metadata": {},
     "output_type": "display_data"
    },
    {
     "data": {
      "text/html": [
       "<pre>| 29      | 3.19s        | 0.173577          | 0.416625              | 4.84014e-05 |</pre>"
      ],
      "text/plain": [
       "| 29      | 3.19s        | 0.173577          | 0.416625              | 4.84014e-05 |"
      ]
     },
     "metadata": {},
     "output_type": "display_data"
    },
    {
     "data": {
      "text/html": [
       "<pre>| 39      | 4.59s        | 0.171996          | 0.414723              | 9.68942e-06 |</pre>"
      ],
      "text/plain": [
       "| 39      | 4.59s        | 0.171996          | 0.414723              | 9.68942e-06 |"
      ]
     },
     "metadata": {},
     "output_type": "display_data"
    },
    {
     "data": {
      "text/html": [
       "<pre>| 49      | 5.73s        | 0.171645          | 0.414299              | 2.42743e-06 |</pre>"
      ],
      "text/plain": [
       "| 49      | 5.73s        | 0.171645          | 0.414299              | 2.42743e-06 |"
      ]
     },
     "metadata": {},
     "output_type": "display_data"
    },
    {
     "data": {
      "text/html": [
       "<pre>+---------+--------------+-------------------+-----------------------+-------------+</pre>"
      ],
      "text/plain": [
       "+---------+--------------+-------------------+-----------------------+-------------+"
      ]
     },
     "metadata": {},
     "output_type": "display_data"
    },
    {
     "data": {
      "text/html": [
       "<pre>Optimization Complete: Maximum number of passes through the data reached.</pre>"
      ],
      "text/plain": [
       "Optimization Complete: Maximum number of passes through the data reached."
      ]
     },
     "metadata": {},
     "output_type": "display_data"
    },
    {
     "data": {
      "text/html": [
       "<pre>Computing final objective value and training RMSE.</pre>"
      ],
      "text/plain": [
       "Computing final objective value and training RMSE."
      ]
     },
     "metadata": {},
     "output_type": "display_data"
    },
    {
     "data": {
      "text/html": [
       "<pre>       Final objective value: 0.171596</pre>"
      ],
      "text/plain": [
       "       Final objective value: 0.171596"
      ]
     },
     "metadata": {},
     "output_type": "display_data"
    },
    {
     "data": {
      "text/html": [
       "<pre>       Final training RMSE: 0.414241</pre>"
      ],
      "text/plain": [
       "       Final training RMSE: 0.414241"
      ]
     },
     "metadata": {},
     "output_type": "display_data"
    },
    {
     "name": "stdout",
     "output_type": "stream",
     "text": [
      "Training RMSE 0.414240808284\n",
      "Test RMSE 1.10327835177\n"
     ]
    }
   ],
   "source": [
    "#Build a matrix factorization recommender to predict star rating:\n",
    "model0=graphlab.factorization_recommender.create(train,target='overall',side_data_factorization=False,item_id=\"title\",user_id=\"reviewerID\")\n",
    "\n",
    "#compute train and test accuracy:\n",
    "print 'Training RMSE', model0.get(\"training_rmse\")\n",
    "print 'Test RMSE', graphlab.evaluation.rmse(test['overall'],model0.predict(test))\n"
   ]
  },
  {
   "cell_type": "markdown",
   "metadata": {},
   "source": [
    "The fatorization recommender model with side_data_factorization=False model overfits with the training data as it yields a low RMSE on training but does worse on the testing data."
   ]
  },
  {
   "cell_type": "markdown",
   "metadata": {},
   "source": [
    "# Recommendations from the first model"
   ]
  },
  {
   "cell_type": "code",
   "execution_count": 37,
   "metadata": {
    "collapsed": false
   },
   "outputs": [
    {
     "name": "stdout",
     "output_type": "stream",
     "text": [
      "+------------+-------------------------------+---------------+------+\n",
      "| reviewerID |             title             |     score     | rank |\n",
      "+------------+-------------------------------+---------------+------+\n",
      "|     0      |            Unbroken           | 4.51763565727 |  1   |\n",
      "|     0      |     The Forgotten Soldier     | 4.43523028381 |  2   |\n",
      "|     0      | The Lion, the Witch, and t... | 4.42126640566 |  3   |\n",
      "|     0      | Charlotte's Web Collector'... | 4.41272093244 |  4   |\n",
      "|     0      | Where the Sidewalk Ends: P... | 4.40225711353 |  5   |\n",
      "+------------+-------------------------------+---------------+------+\n",
      "[5 rows x 4 columns]\n",
      "\n"
     ]
    }
   ],
   "source": [
    "model1_recomm = model1.recommend(users=range(1),k=5)\n",
    "model1_recomm.print_rows(num_rows=25)"
   ]
  },
  {
   "cell_type": "code",
   "execution_count": 38,
   "metadata": {
    "collapsed": false
   },
   "outputs": [
    {
     "name": "stdout",
     "output_type": "stream",
     "text": [
      "+-------------------------------+-------------------------------+----------------+\n",
      "|             title             |            similar            |     score      |\n",
      "+-------------------------------+-------------------------------+----------------+\n",
      "|         Master Georgie        |     Nathan's Run: A Novel     | 0.998048126698 |\n",
      "|         Master Georgie        | Complete Idiot's Guide to ... | 0.997465908527 |\n",
      "|         Master Georgie        | The View from the Center o... | 0.997170865536 |\n",
      "|         Master Georgie        | Juran on Quality by Design... | 0.99716514349  |\n",
      "|         Master Georgie        | In the Night Kitchen (Cald... | 0.995946824551 |\n",
      "|         Master Georgie        |      Bread Alone: A Novel     | 0.995155036449 |\n",
      "|         Master Georgie        | What We Ache For: Creativi... | 0.99403065443  |\n",
      "|         Master Georgie        |           Wolf Rider          | 0.994011640549 |\n",
      "|         Master Georgie        | The Heart of Islam: Enduri... | 0.994000077248 |\n",
      "|         Master Georgie        | Size 14 Is Not Fat Either ... | 0.993894994259 |\n",
      "| The Greatest Book on &quot... | Abandon Ship!: The Saga of... | 0.999502778053 |\n",
      "| The Greatest Book on &quot... | Slim for Life: Freedom fro... | 0.99931114912  |\n",
      "| The Greatest Book on &quot... | Quartered Safe Out Here: A... | 0.999194145203 |\n",
      "| The Greatest Book on &quot... | Complete Idiot's Guide to ... | 0.999134719372 |\n",
      "| The Greatest Book on &quot... | &quot;Yes&quot; or &quot;N... | 0.998818099499 |\n",
      "| The Greatest Book on &quot... |      Child of the Phoenix     | 0.998784422874 |\n",
      "| The Greatest Book on &quot... | Kiss Me Quick (Kiss Me Ser... | 0.998481214046 |\n",
      "| The Greatest Book on &quot... | Lonely Planets: The Natura... | 0.998480439186 |\n",
      "| The Greatest Book on &quot... | Taking Risks with Watercolour | 0.998411953449 |\n",
      "| The Greatest Book on &quot... | Raising Blaze: Bringing Up... | 0.998346328735 |\n",
      "| The Berenstains' B Book (B... |        River of Destiny       | 0.997520804405 |\n",
      "| The Berenstains' B Book (B... | Collins COBUILD Learner's ... | 0.994539499283 |\n",
      "| The Berenstains' B Book (B... |      An Innocent, a Broad     | 0.989288628101 |\n",
      "| The Berenstains' B Book (B... | The Witch of Blackbird Pon... | 0.986334443092 |\n",
      "| The Berenstains' B Book (B... |        Glamorous Powers       | 0.985950946808 |\n",
      "| The Berenstains' B Book (B... | Britain BC: Life in Britai... | 0.98380613327  |\n",
      "| The Berenstains' B Book (B... |            Titanic            | 0.982180953026 |\n",
      "| The Berenstains' B Book (B... | One Fish, Two Fish, Red Fi... | 0.982144117355 |\n",
      "| The Berenstains' B Book (B... | Cassell's Standard Latin D... | 0.981957018375 |\n",
      "| The Berenstains' B Book (B... | Seabiscuit: The True Story... | 0.981477618217 |\n",
      "|          The Prophet          | The Complete Idiot's Guide... | 0.998492062092 |\n",
      "|          The Prophet          | Why Am I Afraid to Tell Yo... | 0.990117847919 |\n",
      "|          The Prophet          |   Girl With A Pearl Earring   | 0.987874507904 |\n",
      "|          The Prophet          |     The Book of Revelation    | 0.984177172184 |\n",
      "|          The Prophet          |        The Sea Sisters        | 0.98360902071  |\n",
      "|          The Prophet          | The Flashman: from the Fla... | 0.982960343361 |\n",
      "|          The Prophet          |     The Lord of the Rings     | 0.981990873814 |\n",
      "|          The Prophet          | Seabiscuit: The True Story... | 0.981899559498 |\n",
      "|          The Prophet          | Cables from Kabul: The Ins... | 0.98143607378  |\n",
      "|          The Prophet          | Chuang-Tzu:  The Inner Cha... | 0.979669928551 |\n",
      "|   Rightly Dividing the Word   | The Food and Life of Oaxac... | 0.999453902245 |\n",
      "|   Rightly Dividing the Word   |         Boy Meets Girl        | 0.998945593834 |\n",
      "|   Rightly Dividing the Word   | The Changeover (Collins Mo... | 0.998362481594 |\n",
      "|   Rightly Dividing the Word   |     Tatiana and Alexander     | 0.998297154903 |\n",
      "|   Rightly Dividing the Word   | Mankind: Have a Nice Day -... | 0.998011291027 |\n",
      "|   Rightly Dividing the Word   | Cassell's Standard Latin D... | 0.997990727425 |\n",
      "|   Rightly Dividing the Word   | Endal: How One Extraordina... | 0.997886240482 |\n",
      "|   Rightly Dividing the Word   |         Chu Ju's House        | 0.997719287872 |\n",
      "|   Rightly Dividing the Word   | Wicked Beyond Belief: The ... | 0.997552037239 |\n",
      "|   Rightly Dividing the Word   | Mexico The Beautiful Cookb... | 0.997273504734 |\n",
      "+-------------------------------+-------------------------------+----------------+\n",
      "+------+\n",
      "| rank |\n",
      "+------+\n",
      "|  1   |\n",
      "|  2   |\n",
      "|  3   |\n",
      "|  4   |\n",
      "|  5   |\n",
      "|  6   |\n",
      "|  7   |\n",
      "|  8   |\n",
      "|  9   |\n",
      "|  10  |\n",
      "|  1   |\n",
      "|  2   |\n",
      "|  3   |\n",
      "|  4   |\n",
      "|  5   |\n",
      "|  6   |\n",
      "|  7   |\n",
      "|  8   |\n",
      "|  9   |\n",
      "|  10  |\n",
      "|  1   |\n",
      "|  2   |\n",
      "|  3   |\n",
      "|  4   |\n",
      "|  5   |\n",
      "|  6   |\n",
      "|  7   |\n",
      "|  8   |\n",
      "|  9   |\n",
      "|  10  |\n",
      "|  1   |\n",
      "|  2   |\n",
      "|  3   |\n",
      "|  4   |\n",
      "|  5   |\n",
      "|  6   |\n",
      "|  7   |\n",
      "|  8   |\n",
      "|  9   |\n",
      "|  10  |\n",
      "|  1   |\n",
      "|  2   |\n",
      "|  3   |\n",
      "|  4   |\n",
      "|  5   |\n",
      "|  6   |\n",
      "|  7   |\n",
      "|  8   |\n",
      "|  9   |\n",
      "|  10  |\n",
      "+------+\n",
      "[26370 rows x 4 columns]\n",
      "\n"
     ]
    }
   ],
   "source": [
    "similarItems=model1.get_similar_items()\n",
    "similarItems.print_rows (50,4)"
   ]
  },
  {
   "cell_type": "code",
   "execution_count": 60,
   "metadata": {
    "collapsed": false
   },
   "outputs": [],
   "source": [
    "k=similarItems[\"title\"].unique()"
   ]
  },
  {
   "cell_type": "code",
   "execution_count": 140,
   "metadata": {
    "collapsed": false
   },
   "outputs": [
    {
     "name": "stdout",
     "output_type": "stream",
     "text": [
      "+-------------------------------+--------------------------------+\n",
      "|             title             |            similar             |\n",
      "+-------------------------------+--------------------------------+\n",
      "|         Master Georgie        | The Vandal's Crown: How Re...  |\n",
      "|         Master Georgie        | A Mulligan for Bobby Jobe:...  |\n",
      "|         Master Georgie        |       Sondheim &amp; Co        |\n",
      "|         Master Georgie        | Happy Haunting, Amelia Bed...  |\n",
      "|         Master Georgie        | Eamon De Valera: The Man W...  |\n",
      "|         Master Georgie        | Death of the Party (Death ...  |\n",
      "|         Master Georgie        |     Inside the Soviet Army     |\n",
      "|         Master Georgie        |        The SILVER CROWN        |\n",
      "|         Master Georgie        |         The Wise Woman         |\n",
      "|         Master Georgie        |     The Wedding Cake Book      |\n",
      "| The Greatest Book on &quot... | Slaying the Dragon: How to...  |\n",
      "| The Greatest Book on &quot... | The September 11 Photo Project |\n",
      "| The Greatest Book on &quot... |          a colder war          |\n",
      "| The Greatest Book on &quot... | At the Entrance to the Gar...  |\n",
      "| The Greatest Book on &quot... | All You Need Is Love and O...  |\n",
      "| The Greatest Book on &quot... | Everything Is Illuminated:...  |\n",
      "| The Greatest Book on &quot... | The New German Cookbook: M...  |\n",
      "| The Greatest Book on &quot... | The Elementary Forms of Re...  |\n",
      "| The Greatest Book on &quot... |          The Accident          |\n",
      "| The Greatest Book on &quot... |     The Forgotten Soldier      |\n",
      "| The Berenstains' B Book (B... | Foley Is Good: And the Rea...  |\n",
      "| The Berenstains' B Book (B... | Extra Virgin: A Young Woma...  |\n",
      "| The Berenstains' B Book (B... | Clinical Supervision in Al...  |\n",
      "| The Berenstains' B Book (B... | The Power of Babel: A Natu...  |\n",
      "| The Berenstains' B Book (B... | The Slippery Slope (A Seri...  |\n",
      "| The Berenstains' B Book (B... |           Geek Girl            |\n",
      "| The Berenstains' B Book (B... |       Renoir, My Father        |\n",
      "| The Berenstains' B Book (B... | Rising Storm (Warriors, Bo...  |\n",
      "| The Berenstains' B Book (B... |           Back home            |\n",
      "| The Berenstains' B Book (B... |   Abarat: Absolute Midnight    |\n",
      "|          The Prophet          | Weight Watchers Great Cook...  |\n",
      "|          The Prophet          | On the Bright Side, I'm No...  |\n",
      "|          The Prophet          |       The Graveyard Book       |\n",
      "|          The Prophet          |           Tidal Rip            |\n",
      "|          The Prophet          |    One, Two, Buckle My Shoe    |\n",
      "|          The Prophet          | Shifting: The Double Lives...  |\n",
      "|          The Prophet          | Power of 10: The Once-a-We...  |\n",
      "|          The Prophet          | From Jesus to Christianity...  |\n",
      "|          The Prophet          | My Father the Spy: An Inve...  |\n",
      "|          The Prophet          | Star Bridge (Collier Nucle...  |\n",
      "|   Rightly Dividing the Word   | The Pool of Fire: (The Tri...  |\n",
      "|   Rightly Dividing the Word   | Walk This Way: The Autobio...  |\n",
      "|   Rightly Dividing the Word   |              Key               |\n",
      "|   Rightly Dividing the Word   | As Nature Made Him: The Bo...  |\n",
      "|   Rightly Dividing the Word   |            Halfhead            |\n",
      "|   Rightly Dividing the Word   | From Emeril's Kitchens: Fa...  |\n",
      "|   Rightly Dividing the Word   |       Deathbird Stories        |\n",
      "|   Rightly Dividing the Word   | Weight Watchers New 365-Da...  |\n",
      "|   Rightly Dividing the Word   |     The Mask of Dimitrios      |\n",
      "|   Rightly Dividing the Word   | Introductory Astronomy and...  |\n",
      "| The Berenstain Bears on th... | Borror and DeLong's Introd...  |\n",
      "| The Berenstain Bears on th... | What Color is a Conservative?  |\n",
      "| The Berenstain Bears on th... |     Saddam: King of Terror     |\n",
      "| The Berenstain Bears on th... | James Brown: The Godfather...  |\n",
      "| The Berenstain Bears on th... | The Complete Idiot's Guide...  |\n",
      "| The Berenstain Bears on th... |         Running Scared         |\n",
      "| The Berenstain Bears on th... |        The American Boy        |\n",
      "| The Berenstain Bears on th... |   Her Scandalous Intentions    |\n",
      "| The Berenstain Bears on th... |   On the Way to the Wedding    |\n",
      "| The Berenstain Bears on th... | Empress of the Splendid Season |\n",
      "|     The Book of Revelation    |             Abarat             |\n",
      "|     The Book of Revelation    |     Pain Killers: A Novel      |\n",
      "|     The Book of Revelation    |           Born Weird           |\n",
      "|     The Book of Revelation    | The Jim Chee Mysteries: Th...  |\n",
      "|     The Book of Revelation    | While the Pasta Cooks: 100...  |\n",
      "|     The Book of Revelation    | Return From Heaven: Belove...  |\n",
      "|     The Book of Revelation    | The Other Side of Deceptio...  |\n",
      "|     The Book of Revelation    |        The Death Artist        |\n",
      "|     The Book of Revelation    | The Freedom Line: The Brav...  |\n",
      "|     The Book of Revelation    | A People's History of the ...  |\n",
      "+-------------------------------+--------------------------------+\n",
      "+----------------+------+\n",
      "|     score      | rank |\n",
      "+----------------+------+\n",
      "| 0.951696872711 |  1   |\n",
      "| 0.938760042191 |  2   |\n",
      "| 0.878733575344 |  3   |\n",
      "| 0.844071209431 |  4   |\n",
      "| 0.832048177719 |  5   |\n",
      "| 0.831081688404 |  6   |\n",
      "| 0.825762569904 |  7   |\n",
      "| 0.824547052383 |  8   |\n",
      "| 0.824077069759 |  9   |\n",
      "| 0.82235199213  |  10  |\n",
      "| 0.884075045586 |  1   |\n",
      "| 0.873898625374 |  2   |\n",
      "| 0.831363379955 |  3   |\n",
      "| 0.825951993465 |  4   |\n",
      "| 0.818613767624 |  5   |\n",
      "| 0.81719660759  |  6   |\n",
      "| 0.816474974155 |  7   |\n",
      "| 0.816157877445 |  8   |\n",
      "| 0.81490111351  |  9   |\n",
      "| 0.810899972916 |  10  |\n",
      "| 0.88232499361  |  1   |\n",
      "| 0.880305111408 |  2   |\n",
      "| 0.873562633991 |  3   |\n",
      "| 0.865719676018 |  4   |\n",
      "| 0.844926595688 |  5   |\n",
      "| 0.838208258152 |  6   |\n",
      "| 0.827642798424 |  7   |\n",
      "| 0.825596451759 |  8   |\n",
      "| 0.825304031372 |  9   |\n",
      "| 0.823882699013 |  10  |\n",
      "| 0.900567829609 |  1   |\n",
      "| 0.889580070972 |  2   |\n",
      "| 0.861611068249 |  3   |\n",
      "| 0.846990287304 |  4   |\n",
      "| 0.838222622871 |  5   |\n",
      "| 0.836671590805 |  6   |\n",
      "| 0.835523962975 |  7   |\n",
      "| 0.826251327991 |  8   |\n",
      "| 0.818608760834 |  9   |\n",
      "| 0.814577579498 |  10  |\n",
      "| 0.919568479061 |  1   |\n",
      "| 0.910482347012 |  2   |\n",
      "| 0.906713485718 |  3   |\n",
      "| 0.880748808384 |  4   |\n",
      "| 0.876969873905 |  5   |\n",
      "| 0.864974200726 |  6   |\n",
      "| 0.863640785217 |  7   |\n",
      "| 0.852209746838 |  8   |\n",
      "| 0.832836747169 |  9   |\n",
      "| 0.832556664944 |  10  |\n",
      "| 0.924175739288 |  1   |\n",
      "| 0.919901371002 |  2   |\n",
      "| 0.90229254961  |  3   |\n",
      "| 0.901721596718 |  4   |\n",
      "| 0.869776070118 |  5   |\n",
      "| 0.858665168285 |  6   |\n",
      "| 0.85508030653  |  7   |\n",
      "| 0.847276210785 |  8   |\n",
      "| 0.844991266727 |  9   |\n",
      "| 0.822636604309 |  10  |\n",
      "| 0.922262310982 |  1   |\n",
      "| 0.86685270071  |  2   |\n",
      "| 0.864367723465 |  3   |\n",
      "| 0.856513261795 |  4   |\n",
      "| 0.848750531673 |  5   |\n",
      "| 0.848540961742 |  6   |\n",
      "| 0.840235888958 |  7   |\n",
      "| 0.819967329502 |  8   |\n",
      "| 0.818389236927 |  9   |\n",
      "| 0.816989183426 |  10  |\n",
      "+----------------+------+\n",
      "[26370 rows x 4 columns]\n",
      "\n"
     ]
    }
   ],
   "source": [
    "similarItems0=model0.get_similar_items()\n",
    "similarItems0.print_rows (70,4)"
   ]
  },
  {
   "cell_type": "markdown",
   "metadata": {},
   "source": [
    "# get similar items from the factorization model"
   ]
  },
  {
   "cell_type": "code",
   "execution_count": 75,
   "metadata": {
    "collapsed": false
   },
   "outputs": [
    {
     "name": "stdout",
     "output_type": "stream",
     "text": [
      "+-------------+-------------------------------+----------------+------+\n",
      "|    title    |            similar            |     score      | rank |\n",
      "+-------------+-------------------------------+----------------+------+\n",
      "| The Prophet | The Complete Idiot's Guide... | 0.998492062092 |  1   |\n",
      "| The Prophet | Why Am I Afraid to Tell Yo... | 0.990117847919 |  2   |\n",
      "| The Prophet |   Girl With A Pearl Earring   | 0.987874507904 |  3   |\n",
      "| The Prophet |     The Book of Revelation    | 0.984177172184 |  4   |\n",
      "| The Prophet |        The Sea Sisters        | 0.98360902071  |  5   |\n",
      "| The Prophet | The Flashman: from the Fla... | 0.982960343361 |  6   |\n",
      "| The Prophet |     The Lord of the Rings     | 0.981990873814 |  7   |\n",
      "| The Prophet | Seabiscuit: The True Story... | 0.981899559498 |  8   |\n",
      "| The Prophet | Cables from Kabul: The Ins... | 0.98143607378  |  9   |\n",
      "| The Prophet | Chuang-Tzu:  The Inner Cha... | 0.979669928551 |  10  |\n",
      "+-------------+-------------------------------+----------------+------+\n",
      "[10 rows x 4 columns]\n",
      "\n"
     ]
    }
   ],
   "source": [
    "similarbook=model1.get_similar_items([\"The Prophet\"])\n",
    "similarbook.print_rows (50,4)"
   ]
  },
  {
   "cell_type": "code",
   "execution_count": 130,
   "metadata": {
    "collapsed": false
   },
   "outputs": [
    {
     "data": {
      "text/html": [
       "<pre>Warning: The model was fit with 2 feature columns but only 1 were present during transform(). Proceeding with transform by ignoring the missing columns.</pre>"
      ],
      "text/plain": [
       "Warning: The model was fit with 2 feature columns but only 1 were present during transform(). Proceeding with transform by ignoring the missing columns."
      ]
     },
     "metadata": {},
     "output_type": "display_data"
    },
    {
     "data": {
      "text/html": [
       "<pre>Warning: The model was fit with 2 feature columns but only 1 were present during transform(). Proceeding with transform by ignoring the missing columns.</pre>"
      ],
      "text/plain": [
       "Warning: The model was fit with 2 feature columns but only 1 were present during transform(). Proceeding with transform by ignoring the missing columns."
      ]
     },
     "metadata": {},
     "output_type": "display_data"
    },
    {
     "data": {
      "text/plain": [
       "View object\n",
       "\n",
       "URI: \t\thttp://localhost:32212/view/3905c8cc-95a7-462f-8279-2a4940faa00d\n",
       "HTML: \t\t\n",
       "<gl-recommender-explore\n",
       "    uri=\"http://localhost:32212/view/a02c16ee-f2a9-449f-ac39-932545823fa4\"\n",
       "    api_key=\"\"\n",
       "/>\n",
       "        "
      ]
     },
     "execution_count": 130,
     "metadata": {},
     "output_type": "execute_result"
    }
   ],
   "source": [
    "view = model1.views.explore(item_data=reviews,item_name_column='title')\n",
    "view.show()"
   ]
  },
  {
   "cell_type": "code",
   "execution_count": 142,
   "metadata": {
    "collapsed": false
   },
   "outputs": [
    {
     "data": {
      "text/html": [
       "<pre>Recsys training: model = ranking_factorization_recommender</pre>"
      ],
      "text/plain": [
       "Recsys training: model = ranking_factorization_recommender"
      ]
     },
     "metadata": {},
     "output_type": "display_data"
    },
    {
     "data": {
      "text/html": [
       "<pre>Preparing data set.</pre>"
      ],
      "text/plain": [
       "Preparing data set."
      ]
     },
     "metadata": {},
     "output_type": "display_data"
    },
    {
     "data": {
      "text/html": [
       "<pre>    Data has 99985 observations with 68123 users and 2637 items.</pre>"
      ],
      "text/plain": [
       "    Data has 99985 observations with 68123 users and 2637 items."
      ]
     },
     "metadata": {},
     "output_type": "display_data"
    },
    {
     "data": {
      "text/html": [
       "<pre>    Data prepared in: 1.62325s</pre>"
      ],
      "text/plain": [
       "    Data prepared in: 1.62325s"
      ]
     },
     "metadata": {},
     "output_type": "display_data"
    },
    {
     "data": {
      "text/html": [
       "<pre>Training ranking_factorization_recommender for recommendations.</pre>"
      ],
      "text/plain": [
       "Training ranking_factorization_recommender for recommendations."
      ]
     },
     "metadata": {},
     "output_type": "display_data"
    },
    {
     "data": {
      "text/html": [
       "<pre>+--------------------------------+--------------------------------------------------+----------+</pre>"
      ],
      "text/plain": [
       "+--------------------------------+--------------------------------------------------+----------+"
      ]
     },
     "metadata": {},
     "output_type": "display_data"
    },
    {
     "data": {
      "text/html": [
       "<pre>| Parameter                      | Description                                      | Value    |</pre>"
      ],
      "text/plain": [
       "| Parameter                      | Description                                      | Value    |"
      ]
     },
     "metadata": {},
     "output_type": "display_data"
    },
    {
     "data": {
      "text/html": [
       "<pre>+--------------------------------+--------------------------------------------------+----------+</pre>"
      ],
      "text/plain": [
       "+--------------------------------+--------------------------------------------------+----------+"
      ]
     },
     "metadata": {},
     "output_type": "display_data"
    },
    {
     "data": {
      "text/html": [
       "<pre>| num_factors                    | Factor Dimension                                 | 5        |</pre>"
      ],
      "text/plain": [
       "| num_factors                    | Factor Dimension                                 | 5        |"
      ]
     },
     "metadata": {},
     "output_type": "display_data"
    },
    {
     "data": {
      "text/html": [
       "<pre>| regularization                 | L2 Regularization on Factors                     | 1e-05    |</pre>"
      ],
      "text/plain": [
       "| regularization                 | L2 Regularization on Factors                     | 1e-05    |"
      ]
     },
     "metadata": {},
     "output_type": "display_data"
    },
    {
     "data": {
      "text/html": [
       "<pre>| solver                         | Solver used for training                         | adagrad  |</pre>"
      ],
      "text/plain": [
       "| solver                         | Solver used for training                         | adagrad  |"
      ]
     },
     "metadata": {},
     "output_type": "display_data"
    },
    {
     "data": {
      "text/html": [
       "<pre>| linear_regularization          | L2 Regularization on Linear Coefficients         | 1e-09    |</pre>"
      ],
      "text/plain": [
       "| linear_regularization          | L2 Regularization on Linear Coefficients         | 1e-09    |"
      ]
     },
     "metadata": {},
     "output_type": "display_data"
    },
    {
     "data": {
      "text/html": [
       "<pre>| ranking_regularization         | Rank-based Regularization Weight                 | 0.25     |</pre>"
      ],
      "text/plain": [
       "| ranking_regularization         | Rank-based Regularization Weight                 | 0.25     |"
      ]
     },
     "metadata": {},
     "output_type": "display_data"
    },
    {
     "data": {
      "text/html": [
       "<pre>| max_iterations                 | Maximum Number of Iterations                     | 50       |</pre>"
      ],
      "text/plain": [
       "| max_iterations                 | Maximum Number of Iterations                     | 50       |"
      ]
     },
     "metadata": {},
     "output_type": "display_data"
    },
    {
     "data": {
      "text/html": [
       "<pre>+--------------------------------+--------------------------------------------------+----------+</pre>"
      ],
      "text/plain": [
       "+--------------------------------+--------------------------------------------------+----------+"
      ]
     },
     "metadata": {},
     "output_type": "display_data"
    },
    {
     "data": {
      "text/html": [
       "<pre>  Optimizing model using SGD; tuning step size.</pre>"
      ],
      "text/plain": [
       "  Optimizing model using SGD; tuning step size."
      ]
     },
     "metadata": {},
     "output_type": "display_data"
    },
    {
     "data": {
      "text/html": [
       "<pre>  Using 12498 / 99985 points for tuning the step size.</pre>"
      ],
      "text/plain": [
       "  Using 12498 / 99985 points for tuning the step size."
      ]
     },
     "metadata": {},
     "output_type": "display_data"
    },
    {
     "data": {
      "text/html": [
       "<pre>+---------+-------------------+------------------------------------------+</pre>"
      ],
      "text/plain": [
       "+---------+-------------------+------------------------------------------+"
      ]
     },
     "metadata": {},
     "output_type": "display_data"
    },
    {
     "data": {
      "text/html": [
       "<pre>| Attempt | Initial Step Size | Estimated Objective Value                |</pre>"
      ],
      "text/plain": [
       "| Attempt | Initial Step Size | Estimated Objective Value                |"
      ]
     },
     "metadata": {},
     "output_type": "display_data"
    },
    {
     "data": {
      "text/html": [
       "<pre>+---------+-------------------+------------------------------------------+</pre>"
      ],
      "text/plain": [
       "+---------+-------------------+------------------------------------------+"
      ]
     },
     "metadata": {},
     "output_type": "display_data"
    },
    {
     "data": {
      "text/html": [
       "<pre>| 0       | 4.16667           | Not Viable                               |</pre>"
      ],
      "text/plain": [
       "| 0       | 4.16667           | Not Viable                               |"
      ]
     },
     "metadata": {},
     "output_type": "display_data"
    },
    {
     "data": {
      "text/html": [
       "<pre>| 1       | 1.04167           | Not Viable                               |</pre>"
      ],
      "text/plain": [
       "| 1       | 1.04167           | Not Viable                               |"
      ]
     },
     "metadata": {},
     "output_type": "display_data"
    },
    {
     "data": {
      "text/html": [
       "<pre>| 2       | 0.260417          | Not Viable                               |</pre>"
      ],
      "text/plain": [
       "| 2       | 0.260417          | Not Viable                               |"
      ]
     },
     "metadata": {},
     "output_type": "display_data"
    },
    {
     "data": {
      "text/html": [
       "<pre>| 3       | 0.0651042         | 1.08748                                  |</pre>"
      ],
      "text/plain": [
       "| 3       | 0.0651042         | 1.08748                                  |"
      ]
     },
     "metadata": {},
     "output_type": "display_data"
    },
    {
     "data": {
      "text/html": [
       "<pre>| 4       | 0.0325521         | 1.07143                                  |</pre>"
      ],
      "text/plain": [
       "| 4       | 0.0325521         | 1.07143                                  |"
      ]
     },
     "metadata": {},
     "output_type": "display_data"
    },
    {
     "data": {
      "text/html": [
       "<pre>| 5       | 0.016276          | 1.50908                                  |</pre>"
      ],
      "text/plain": [
       "| 5       | 0.016276          | 1.50908                                  |"
      ]
     },
     "metadata": {},
     "output_type": "display_data"
    },
    {
     "data": {
      "text/html": [
       "<pre>| 6       | 0.00813802        | 1.66868                                  |</pre>"
      ],
      "text/plain": [
       "| 6       | 0.00813802        | 1.66868                                  |"
      ]
     },
     "metadata": {},
     "output_type": "display_data"
    },
    {
     "data": {
      "text/html": [
       "<pre>| 7       | 0.00406901        | 1.8854                                   |</pre>"
      ],
      "text/plain": [
       "| 7       | 0.00406901        | 1.8854                                   |"
      ]
     },
     "metadata": {},
     "output_type": "display_data"
    },
    {
     "data": {
      "text/html": [
       "<pre>+---------+-------------------+------------------------------------------+</pre>"
      ],
      "text/plain": [
       "+---------+-------------------+------------------------------------------+"
      ]
     },
     "metadata": {},
     "output_type": "display_data"
    },
    {
     "data": {
      "text/html": [
       "<pre>| Final   | 0.0325521         | 1.07143                                  |</pre>"
      ],
      "text/plain": [
       "| Final   | 0.0325521         | 1.07143                                  |"
      ]
     },
     "metadata": {},
     "output_type": "display_data"
    },
    {
     "data": {
      "text/html": [
       "<pre>+---------+-------------------+------------------------------------------+</pre>"
      ],
      "text/plain": [
       "+---------+-------------------+------------------------------------------+"
      ]
     },
     "metadata": {},
     "output_type": "display_data"
    },
    {
     "data": {
      "text/html": [
       "<pre>Starting Optimization.</pre>"
      ],
      "text/plain": [
       "Starting Optimization."
      ]
     },
     "metadata": {},
     "output_type": "display_data"
    },
    {
     "data": {
      "text/html": [
       "<pre>+---------+--------------+-------------------+-----------------------+-------------+</pre>"
      ],
      "text/plain": [
       "+---------+--------------+-------------------+-----------------------+-------------+"
      ]
     },
     "metadata": {},
     "output_type": "display_data"
    },
    {
     "data": {
      "text/html": [
       "<pre>| Iter.   | Elapsed Time | Approx. Objective | Approx. Training RMSE | Step Size   |</pre>"
      ],
      "text/plain": [
       "| Iter.   | Elapsed Time | Approx. Objective | Approx. Training RMSE | Step Size   |"
      ]
     },
     "metadata": {},
     "output_type": "display_data"
    },
    {
     "data": {
      "text/html": [
       "<pre>+---------+--------------+-------------------+-----------------------+-------------+</pre>"
      ],
      "text/plain": [
       "+---------+--------------+-------------------+-----------------------+-------------+"
      ]
     },
     "metadata": {},
     "output_type": "display_data"
    },
    {
     "data": {
      "text/html": [
       "<pre>| Initial | 87us         | 2.46435           | 1.1211                |             |</pre>"
      ],
      "text/plain": [
       "| Initial | 87us         | 2.46435           | 1.1211                |             |"
      ]
     },
     "metadata": {},
     "output_type": "display_data"
    },
    {
     "data": {
      "text/html": [
       "<pre>+---------+--------------+-------------------+-----------------------+-------------+</pre>"
      ],
      "text/plain": [
       "+---------+--------------+-------------------+-----------------------+-------------+"
      ]
     },
     "metadata": {},
     "output_type": "display_data"
    },
    {
     "data": {
      "text/html": [
       "<pre>| 1       | 768.693ms    | DIVERGED          | DIVERGED              | 0.0325521   |</pre>"
      ],
      "text/plain": [
       "| 1       | 768.693ms    | DIVERGED          | DIVERGED              | 0.0325521   |"
      ]
     },
     "metadata": {},
     "output_type": "display_data"
    },
    {
     "data": {
      "text/html": [
       "<pre>| RESET   | 1.02s        | 2.46419           | 1.12106               |             |</pre>"
      ],
      "text/plain": [
       "| RESET   | 1.02s        | 2.46419           | 1.12106               |             |"
      ]
     },
     "metadata": {},
     "output_type": "display_data"
    },
    {
     "data": {
      "text/html": [
       "<pre>| 1       | 1.80s        | 2.23635           | 1.21725               | 0.016276    |</pre>"
      ],
      "text/plain": [
       "| 1       | 1.80s        | 2.23635           | 1.21725               | 0.016276    |"
      ]
     },
     "metadata": {},
     "output_type": "display_data"
    },
    {
     "data": {
      "text/html": [
       "<pre>| 2       | 2.47s        | 1.73945           | 1.04405               | 0.016276    |</pre>"
      ],
      "text/plain": [
       "| 2       | 2.47s        | 1.73945           | 1.04405               | 0.016276    |"
      ]
     },
     "metadata": {},
     "output_type": "display_data"
    },
    {
     "data": {
      "text/html": [
       "<pre>| 3       | 3.05s        | 1.6164            | 1.01365               | 0.016276    |</pre>"
      ],
      "text/plain": [
       "| 3       | 3.05s        | 1.6164            | 1.01365               | 0.016276    |"
      ]
     },
     "metadata": {},
     "output_type": "display_data"
    },
    {
     "data": {
      "text/html": [
       "<pre>| 4       | 3.54s        | 1.57154           | 1.00418               | 0.016276    |</pre>"
      ],
      "text/plain": [
       "| 4       | 3.54s        | 1.57154           | 1.00418               | 0.016276    |"
      ]
     },
     "metadata": {},
     "output_type": "display_data"
    },
    {
     "data": {
      "text/html": [
       "<pre>| 5       | 4.03s        | 1.48596           | 0.966118              | 0.016276    |</pre>"
      ],
      "text/plain": [
       "| 5       | 4.03s        | 1.48596           | 0.966118              | 0.016276    |"
      ]
     },
     "metadata": {},
     "output_type": "display_data"
    },
    {
     "data": {
      "text/html": [
       "<pre>| 6       | 4.52s        | 1.43396           | 0.945874              | 0.016276    |</pre>"
      ],
      "text/plain": [
       "| 6       | 4.52s        | 1.43396           | 0.945874              | 0.016276    |"
      ]
     },
     "metadata": {},
     "output_type": "display_data"
    },
    {
     "data": {
      "text/html": [
       "<pre>| 9       | 5.97s        | 1.42695           | 0.934212              | 0.016276    |</pre>"
      ],
      "text/plain": [
       "| 9       | 5.97s        | 1.42695           | 0.934212              | 0.016276    |"
      ]
     },
     "metadata": {},
     "output_type": "display_data"
    },
    {
     "data": {
      "text/html": [
       "<pre>| 11      | 6.94s        | 1.33815           | 0.907418              | 0.016276    |</pre>"
      ],
      "text/plain": [
       "| 11      | 6.94s        | 1.33815           | 0.907418              | 0.016276    |"
      ]
     },
     "metadata": {},
     "output_type": "display_data"
    },
    {
     "data": {
      "text/html": [
       "<pre>| 14      | 8.37s        | 1.27343           | 0.87623               | 0.016276    |</pre>"
      ],
      "text/plain": [
       "| 14      | 8.37s        | 1.27343           | 0.87623               | 0.016276    |"
      ]
     },
     "metadata": {},
     "output_type": "display_data"
    },
    {
     "data": {
      "text/html": [
       "<pre>| 19      | 11.35s       | 1.68542           | 0.999893              | 0.016276    |</pre>"
      ],
      "text/plain": [
       "| 19      | 11.35s       | 1.68542           | 0.999893              | 0.016276    |"
      ]
     },
     "metadata": {},
     "output_type": "display_data"
    },
    {
     "data": {
      "text/html": [
       "<pre>| 24      | 13.76s       | 1.18756           | 0.828685              | 0.016276    |</pre>"
      ],
      "text/plain": [
       "| 24      | 13.76s       | 1.18756           | 0.828685              | 0.016276    |"
      ]
     },
     "metadata": {},
     "output_type": "display_data"
    },
    {
     "data": {
      "text/html": [
       "<pre>| 29      | 16.14s       | 1.21952           | 0.854907              | 0.016276    |</pre>"
      ],
      "text/plain": [
       "| 29      | 16.14s       | 1.21952           | 0.854907              | 0.016276    |"
      ]
     },
     "metadata": {},
     "output_type": "display_data"
    },
    {
     "data": {
      "text/html": [
       "<pre>| 34      | 18.48s       | 1.15813           | 0.826871              | 0.016276    |</pre>"
      ],
      "text/plain": [
       "| 34      | 18.48s       | 1.15813           | 0.826871              | 0.016276    |"
      ]
     },
     "metadata": {},
     "output_type": "display_data"
    },
    {
     "data": {
      "text/html": [
       "<pre>| 39      | 20.82s       | 1.46294           | 0.848848              | 0.016276    |</pre>"
      ],
      "text/plain": [
       "| 39      | 20.82s       | 1.46294           | 0.848848              | 0.016276    |"
      ]
     },
     "metadata": {},
     "output_type": "display_data"
    },
    {
     "data": {
      "text/html": [
       "<pre>| 44      | 23.20s       | 1.43729           | 0.926193              | 0.016276    |</pre>"
      ],
      "text/plain": [
       "| 44      | 23.20s       | 1.43729           | 0.926193              | 0.016276    |"
      ]
     },
     "metadata": {},
     "output_type": "display_data"
    },
    {
     "data": {
      "text/html": [
       "<pre>| 49      | 25.56s       | 1.0728            | 0.780521              | 0.016276    |</pre>"
      ],
      "text/plain": [
       "| 49      | 25.56s       | 1.0728            | 0.780521              | 0.016276    |"
      ]
     },
     "metadata": {},
     "output_type": "display_data"
    },
    {
     "data": {
      "text/html": [
       "<pre>+---------+--------------+-------------------+-----------------------+-------------+</pre>"
      ],
      "text/plain": [
       "+---------+--------------+-------------------+-----------------------+-------------+"
      ]
     },
     "metadata": {},
     "output_type": "display_data"
    },
    {
     "data": {
      "text/html": [
       "<pre>Optimization Complete: Maximum number of passes through the data reached.</pre>"
      ],
      "text/plain": [
       "Optimization Complete: Maximum number of passes through the data reached."
      ]
     },
     "metadata": {},
     "output_type": "display_data"
    },
    {
     "data": {
      "text/html": [
       "<pre>Computing final objective value and training RMSE.</pre>"
      ],
      "text/plain": [
       "Computing final objective value and training RMSE."
      ]
     },
     "metadata": {},
     "output_type": "display_data"
    },
    {
     "data": {
      "text/html": [
       "<pre>       Final objective value: 1.04853</pre>"
      ],
      "text/plain": [
       "       Final objective value: 1.04853"
      ]
     },
     "metadata": {},
     "output_type": "display_data"
    },
    {
     "data": {
      "text/html": [
       "<pre>       Final training RMSE: 0.761915</pre>"
      ],
      "text/plain": [
       "       Final training RMSE: 0.761915"
      ]
     },
     "metadata": {},
     "output_type": "display_data"
    }
   ],
   "source": [
    "# Create a new model, using the larger dataset, with the tuned parameters\n",
    "m = graphlab.ranking_factorization_recommender.create(reviews, 'reviewerID', 'title', 'overall', side_data_factorization=True,\n",
    "                                                max_iterations=50, num_factors=5,\n",
    "                                                regularization=0.00001)"
   ]
  },
  {
   "cell_type": "code",
   "execution_count": 143,
   "metadata": {
    "collapsed": false
   },
   "outputs": [
    {
     "name": "stdout",
     "output_type": "stream",
     "text": [
      "+-------------------------------+--------------------------------+\n",
      "|             title             |            similar             |\n",
      "+-------------------------------+--------------------------------+\n",
      "|         Master Georgie        | Teach Yourself French in 2...  |\n",
      "|         Master Georgie        |     House on Willow Street     |\n",
      "|         Master Georgie        | The Old Man and the Sea (A...  |\n",
      "|         Master Georgie        |         Bet Your Life          |\n",
      "|         Master Georgie        |   Her Scandalous Intentions    |\n",
      "|         Master Georgie        |   Real Analysis, 3rd Edition   |\n",
      "|         Master Georgie        | Yeat's Ghosts: The Secret ...  |\n",
      "|         Master Georgie        |           The Matrix           |\n",
      "|         Master Georgie        |         I Heart Paris          |\n",
      "|         Master Georgie        | The Body in the Snowdrift:...  |\n",
      "| The Greatest Book on &quot... |      Elements of Grammar       |\n",
      "| The Greatest Book on &quot... |     November of the Heart      |\n",
      "| The Greatest Book on &quot... | Pie in the Sky Successful ...  |\n",
      "| The Greatest Book on &quot... |     Inside the Soviet Army     |\n",
      "| The Greatest Book on &quot... |        Lords of the Bow        |\n",
      "| The Greatest Book on &quot... |      The Grasshopper Trap      |\n",
      "| The Greatest Book on &quot... | GOLD DIGGERS~STRIKING IT R...  |\n",
      "| The Greatest Book on &quot... |      The Mermaids Singing      |\n",
      "| The Greatest Book on &quot... |          Post Captain          |\n",
      "| The Greatest Book on &quot... |          Bad Science           |\n",
      "| The Berenstains' B Book (B... |        The Ice Princess        |\n",
      "| The Berenstains' B Book (B... |  Daughter of Fortune: A Novel  |\n",
      "| The Berenstains' B Book (B... | Hidden Secrets of the East...  |\n",
      "| The Berenstains' B Book (B... |        Tropic of Night         |\n",
      "| The Berenstains' B Book (B... |     Insurgent (Divergent)      |\n",
      "| The Berenstains' B Book (B... |        Ya-Yas in Bloom         |\n",
      "| The Berenstains' B Book (B... |         H.M.S. Unseen          |\n",
      "| The Berenstains' B Book (B... |        One of the Guys         |\n",
      "| The Berenstains' B Book (B... | Princess in Waiting (The P...  |\n",
      "| The Berenstains' B Book (B... | William Pitt the Younger: ...  |\n",
      "|          The Prophet          |       Where Eagles Dare        |\n",
      "|          The Prophet          |          Rosie's Walk          |\n",
      "|          The Prophet          |      Unlocking the Bible       |\n",
      "|          The Prophet          | Mexico The Beautiful Cookb...  |\n",
      "|          The Prophet          |    From Beirut to Jerusalem    |\n",
      "|          The Prophet          |            Seaward             |\n",
      "|          The Prophet          | Dear Echo: Answers to Your...  |\n",
      "|          The Prophet          | The Second Coming of Lucy ...  |\n",
      "|          The Prophet          | Sick Societies: Challengin...  |\n",
      "|          The Prophet          |   Inside American Education    |\n",
      "|   Rightly Dividing the Word   |  The Boy of a Thousand Faces   |\n",
      "|   Rightly Dividing the Word   |          I'm Mighty!           |\n",
      "|   Rightly Dividing the Word   | Patrol: An American Soldie...  |\n",
      "|   Rightly Dividing the Word   |       The Armada Legacy        |\n",
      "|   Rightly Dividing the Word   | Initiate's Trial (Wars of ...  |\n",
      "|   Rightly Dividing the Word   | Guarding the Secrets: Pale...  |\n",
      "|   Rightly Dividing the Word   | The Truth About Love: A Cy...  |\n",
      "|   Rightly Dividing the Word   |       The Tennis Partner       |\n",
      "|   Rightly Dividing the Word   | The Shift: The Future of W...  |\n",
      "|   Rightly Dividing the Word   |    Savannah Blues: A Novel     |\n",
      "| The Berenstain Bears on th... | The Blind Side of the Hear...  |\n",
      "| The Berenstain Bears on th... |  Triumff: Her Majesty's Hero   |\n",
      "| The Berenstain Bears on th... | Killing Time: The First Fu...  |\n",
      "| The Berenstain Bears on th... | Cartooning with &quot;The ...  |\n",
      "| The Berenstain Bears on th... | The Speckled People: A Mem...  |\n",
      "| The Berenstain Bears on th... |       To Collar a Killer       |\n",
      "| The Berenstain Bears on th... | Jane's Tanks Recognition Guide |\n",
      "| The Berenstain Bears on th... |             Touch              |\n",
      "| The Berenstain Bears on th... |       The Shadow Project       |\n",
      "| The Berenstain Bears on th... | The Last Playboy: The High...  |\n",
      "|     The Book of Revelation    |    The Children's Blizzard     |\n",
      "|     The Book of Revelation    |      Harry the Dirty Dog       |\n",
      "|     The Book of Revelation    |    I Know This Much Is True    |\n",
      "|     The Book of Revelation    | Sabriel (The Abhorsen Trilogy) |\n",
      "|     The Book of Revelation    |    Night; with Connections     |\n",
      "|     The Book of Revelation    | Cinnamon Skin (The Travis ...  |\n",
      "|     The Book of Revelation    | 24 Days: How Two Wall Stre...  |\n",
      "|     The Book of Revelation    | The Last of the Really Gre...  |\n",
      "|     The Book of Revelation    | Harvey Penick's Little Red...  |\n",
      "|     The Book of Revelation    |         See Jane Score         |\n",
      "+-------------------------------+--------------------------------+\n",
      "+----------------+------+\n",
      "|     score      | rank |\n",
      "+----------------+------+\n",
      "| 0.996752858162 |  1   |\n",
      "| 0.973326146603 |  2   |\n",
      "| 0.971522450447 |  3   |\n",
      "| 0.96531099081  |  4   |\n",
      "| 0.955909609795 |  5   |\n",
      "| 0.952638924122 |  6   |\n",
      "| 0.950837671757 |  7   |\n",
      "| 0.950568854809 |  8   |\n",
      "| 0.949165463448 |  9   |\n",
      "|  0.9485232234  |  10  |\n",
      "| 0.994826197624 |  1   |\n",
      "| 0.990080177784 |  2   |\n",
      "| 0.979873597622 |  3   |\n",
      "| 0.978987514973 |  4   |\n",
      "| 0.975298583508 |  5   |\n",
      "| 0.974893689156 |  6   |\n",
      "| 0.973437309265 |  7   |\n",
      "| 0.973228752613 |  8   |\n",
      "| 0.972949743271 |  9   |\n",
      "| 0.967262089252 |  10  |\n",
      "| 0.980987429619 |  1   |\n",
      "| 0.962643265724 |  2   |\n",
      "| 0.957493185997 |  3   |\n",
      "| 0.957103848457 |  4   |\n",
      "| 0.955416142941 |  5   |\n",
      "| 0.941835820675 |  6   |\n",
      "| 0.940934300423 |  7   |\n",
      "| 0.937161564827 |  8   |\n",
      "| 0.935970842838 |  9   |\n",
      "| 0.933642506599 |  10  |\n",
      "| 0.990723609924 |  1   |\n",
      "| 0.98109292984  |  2   |\n",
      "| 0.970644176006 |  3   |\n",
      "| 0.965376019478 |  4   |\n",
      "| 0.962399959564 |  5   |\n",
      "| 0.958295881748 |  6   |\n",
      "| 0.952542424202 |  7   |\n",
      "| 0.950441002846 |  8   |\n",
      "| 0.946220576763 |  9   |\n",
      "| 0.943244218826 |  10  |\n",
      "| 0.990613996983 |  1   |\n",
      "| 0.990428209305 |  2   |\n",
      "| 0.978528559208 |  3   |\n",
      "| 0.977419316769 |  4   |\n",
      "| 0.975574970245 |  5   |\n",
      "| 0.97271746397  |  6   |\n",
      "| 0.963882565498 |  7   |\n",
      "| 0.960939347744 |  8   |\n",
      "| 0.959211230278 |  9   |\n",
      "| 0.956896007061 |  10  |\n",
      "| 0.988977491856 |  1   |\n",
      "| 0.986284732819 |  2   |\n",
      "| 0.98595225811  |  3   |\n",
      "| 0.980470955372 |  4   |\n",
      "| 0.979127109051 |  5   |\n",
      "| 0.978846073151 |  6   |\n",
      "| 0.975703060627 |  7   |\n",
      "| 0.975034713745 |  8   |\n",
      "| 0.973584771156 |  9   |\n",
      "| 0.973182022572 |  10  |\n",
      "| 0.999158024788 |  1   |\n",
      "| 0.997971951962 |  2   |\n",
      "| 0.997530460358 |  3   |\n",
      "| 0.992893159389 |  4   |\n",
      "| 0.990334570408 |  5   |\n",
      "| 0.989238858223 |  6   |\n",
      "| 0.989162325859 |  7   |\n",
      "| 0.98865789175  |  8   |\n",
      "| 0.987806975842 |  9   |\n",
      "| 0.986037194729 |  10  |\n",
      "+----------------+------+\n",
      "[26370 rows x 4 columns]\n",
      "\n"
     ]
    }
   ],
   "source": [
    "similar=m.get_similar_items()\n",
    "similar.print_rows(70,4)"
   ]
  },
  {
   "cell_type": "markdown",
   "metadata": {},
   "source": [
    "# Improving Predictive Accuracy"
   ]
  },
  {
   "cell_type": "code",
   "execution_count": 148,
   "metadata": {
    "collapsed": false
   },
   "outputs": [
    {
     "data": {
      "text/html": [
       "<pre>Recsys training: model = factorization_recommender</pre>"
      ],
      "text/plain": [
       "Recsys training: model = factorization_recommender"
      ]
     },
     "metadata": {},
     "output_type": "display_data"
    },
    {
     "data": {
      "text/html": [
       "<pre>Preparing data set.</pre>"
      ],
      "text/plain": [
       "Preparing data set."
      ]
     },
     "metadata": {},
     "output_type": "display_data"
    },
    {
     "data": {
      "text/html": [
       "<pre>    Data has 89898 observations with 62708 users and 2637 items.</pre>"
      ],
      "text/plain": [
       "    Data has 89898 observations with 62708 users and 2637 items."
      ]
     },
     "metadata": {},
     "output_type": "display_data"
    },
    {
     "data": {
      "text/html": [
       "<pre>    Data prepared in: 1.21054s</pre>"
      ],
      "text/plain": [
       "    Data prepared in: 1.21054s"
      ]
     },
     "metadata": {},
     "output_type": "display_data"
    },
    {
     "data": {
      "text/html": [
       "<pre>Training factorization_recommender for recommendations.</pre>"
      ],
      "text/plain": [
       "Training factorization_recommender for recommendations."
      ]
     },
     "metadata": {},
     "output_type": "display_data"
    },
    {
     "data": {
      "text/html": [
       "<pre>+--------------------------------+--------------------------------------------------+----------+</pre>"
      ],
      "text/plain": [
       "+--------------------------------+--------------------------------------------------+----------+"
      ]
     },
     "metadata": {},
     "output_type": "display_data"
    },
    {
     "data": {
      "text/html": [
       "<pre>| Parameter                      | Description                                      | Value    |</pre>"
      ],
      "text/plain": [
       "| Parameter                      | Description                                      | Value    |"
      ]
     },
     "metadata": {},
     "output_type": "display_data"
    },
    {
     "data": {
      "text/html": [
       "<pre>+--------------------------------+--------------------------------------------------+----------+</pre>"
      ],
      "text/plain": [
       "+--------------------------------+--------------------------------------------------+----------+"
      ]
     },
     "metadata": {},
     "output_type": "display_data"
    },
    {
     "data": {
      "text/html": [
       "<pre>| num_factors                    | Factor Dimension                                 | 5        |</pre>"
      ],
      "text/plain": [
       "| num_factors                    | Factor Dimension                                 | 5        |"
      ]
     },
     "metadata": {},
     "output_type": "display_data"
    },
    {
     "data": {
      "text/html": [
       "<pre>| regularization                 | L2 Regularization on Factors                     | 0.001    |</pre>"
      ],
      "text/plain": [
       "| regularization                 | L2 Regularization on Factors                     | 0.001    |"
      ]
     },
     "metadata": {},
     "output_type": "display_data"
    },
    {
     "data": {
      "text/html": [
       "<pre>| solver                         | Solver used for training                         | adagrad  |</pre>"
      ],
      "text/plain": [
       "| solver                         | Solver used for training                         | adagrad  |"
      ]
     },
     "metadata": {},
     "output_type": "display_data"
    },
    {
     "data": {
      "text/html": [
       "<pre>| linear_regularization          | L2 Regularization on Linear Coefficients         | 1e-10    |</pre>"
      ],
      "text/plain": [
       "| linear_regularization          | L2 Regularization on Linear Coefficients         | 1e-10    |"
      ]
     },
     "metadata": {},
     "output_type": "display_data"
    },
    {
     "data": {
      "text/html": [
       "<pre>| max_iterations                 | Maximum Number of Iterations                     | 50       |</pre>"
      ],
      "text/plain": [
       "| max_iterations                 | Maximum Number of Iterations                     | 50       |"
      ]
     },
     "metadata": {},
     "output_type": "display_data"
    },
    {
     "data": {
      "text/html": [
       "<pre>+--------------------------------+--------------------------------------------------+----------+</pre>"
      ],
      "text/plain": [
       "+--------------------------------+--------------------------------------------------+----------+"
      ]
     },
     "metadata": {},
     "output_type": "display_data"
    },
    {
     "data": {
      "text/html": [
       "<pre>  Optimizing model using SGD; tuning step size.</pre>"
      ],
      "text/plain": [
       "  Optimizing model using SGD; tuning step size."
      ]
     },
     "metadata": {},
     "output_type": "display_data"
    },
    {
     "data": {
      "text/html": [
       "<pre>  Using 11237 / 89898 points for tuning the step size.</pre>"
      ],
      "text/plain": [
       "  Using 11237 / 89898 points for tuning the step size."
      ]
     },
     "metadata": {},
     "output_type": "display_data"
    },
    {
     "data": {
      "text/html": [
       "<pre>+---------+-------------------+------------------------------------------+</pre>"
      ],
      "text/plain": [
       "+---------+-------------------+------------------------------------------+"
      ]
     },
     "metadata": {},
     "output_type": "display_data"
    },
    {
     "data": {
      "text/html": [
       "<pre>| Attempt | Initial Step Size | Estimated Objective Value                |</pre>"
      ],
      "text/plain": [
       "| Attempt | Initial Step Size | Estimated Objective Value                |"
      ]
     },
     "metadata": {},
     "output_type": "display_data"
    },
    {
     "data": {
      "text/html": [
       "<pre>+---------+-------------------+------------------------------------------+</pre>"
      ],
      "text/plain": [
       "+---------+-------------------+------------------------------------------+"
      ]
     },
     "metadata": {},
     "output_type": "display_data"
    },
    {
     "data": {
      "text/html": [
       "<pre>| 0       | 0.81929           | Not Viable                               |</pre>"
      ],
      "text/plain": [
       "| 0       | 0.81929           | Not Viable                               |"
      ]
     },
     "metadata": {},
     "output_type": "display_data"
    },
    {
     "data": {
      "text/html": [
       "<pre>| 1       | 0.204823          | Not Viable                               |</pre>"
      ],
      "text/plain": [
       "| 1       | 0.204823          | Not Viable                               |"
      ]
     },
     "metadata": {},
     "output_type": "display_data"
    },
    {
     "data": {
      "text/html": [
       "<pre>| 2       | 0.0512056         | 0.520019                                 |</pre>"
      ],
      "text/plain": [
       "| 2       | 0.0512056         | 0.520019                                 |"
      ]
     },
     "metadata": {},
     "output_type": "display_data"
    },
    {
     "data": {
      "text/html": [
       "<pre>| 3       | 0.0256028         | 0.673384                                 |</pre>"
      ],
      "text/plain": [
       "| 3       | 0.0256028         | 0.673384                                 |"
      ]
     },
     "metadata": {},
     "output_type": "display_data"
    },
    {
     "data": {
      "text/html": [
       "<pre>| 4       | 0.0128014         | 0.992994                                 |</pre>"
      ],
      "text/plain": [
       "| 4       | 0.0128014         | 0.992994                                 |"
      ]
     },
     "metadata": {},
     "output_type": "display_data"
    },
    {
     "data": {
      "text/html": [
       "<pre>| 5       | 0.0064007         | 1.16111                                  |</pre>"
      ],
      "text/plain": [
       "| 5       | 0.0064007         | 1.16111                                  |"
      ]
     },
     "metadata": {},
     "output_type": "display_data"
    },
    {
     "data": {
      "text/html": [
       "<pre>+---------+-------------------+------------------------------------------+</pre>"
      ],
      "text/plain": [
       "+---------+-------------------+------------------------------------------+"
      ]
     },
     "metadata": {},
     "output_type": "display_data"
    },
    {
     "data": {
      "text/html": [
       "<pre>| Final   | 0.0512056         | 0.520019                                 |</pre>"
      ],
      "text/plain": [
       "| Final   | 0.0512056         | 0.520019                                 |"
      ]
     },
     "metadata": {},
     "output_type": "display_data"
    },
    {
     "data": {
      "text/html": [
       "<pre>+---------+-------------------+------------------------------------------+</pre>"
      ],
      "text/plain": [
       "+---------+-------------------+------------------------------------------+"
      ]
     },
     "metadata": {},
     "output_type": "display_data"
    },
    {
     "data": {
      "text/html": [
       "<pre>Starting Optimization.</pre>"
      ],
      "text/plain": [
       "Starting Optimization."
      ]
     },
     "metadata": {},
     "output_type": "display_data"
    },
    {
     "data": {
      "text/html": [
       "<pre>+---------+--------------+-------------------+-----------------------+-------------+</pre>"
      ],
      "text/plain": [
       "+---------+--------------+-------------------+-----------------------+-------------+"
      ]
     },
     "metadata": {},
     "output_type": "display_data"
    },
    {
     "data": {
      "text/html": [
       "<pre>| Iter.   | Elapsed Time | Approx. Objective | Approx. Training RMSE | Step Size   |</pre>"
      ],
      "text/plain": [
       "| Iter.   | Elapsed Time | Approx. Objective | Approx. Training RMSE | Step Size   |"
      ]
     },
     "metadata": {},
     "output_type": "display_data"
    },
    {
     "data": {
      "text/html": [
       "<pre>+---------+--------------+-------------------+-----------------------+-------------+</pre>"
      ],
      "text/plain": [
       "+---------+--------------+-------------------+-----------------------+-------------+"
      ]
     },
     "metadata": {},
     "output_type": "display_data"
    },
    {
     "data": {
      "text/html": [
       "<pre>| Initial | 117us        | 1.25383           | 1.11975               |             |</pre>"
      ],
      "text/plain": [
       "| Initial | 117us        | 1.25383           | 1.11975               |             |"
      ]
     },
     "metadata": {},
     "output_type": "display_data"
    },
    {
     "data": {
      "text/html": [
       "<pre>+---------+--------------+-------------------+-----------------------+-------------+</pre>"
      ],
      "text/plain": [
       "+---------+--------------+-------------------+-----------------------+-------------+"
      ]
     },
     "metadata": {},
     "output_type": "display_data"
    },
    {
     "data": {
      "text/html": [
       "<pre>| 1       | 214.117ms    | 1.55921           | 1.04526               | 0.0512056   |</pre>"
      ],
      "text/plain": [
       "| 1       | 214.117ms    | 1.55921           | 1.04526               | 0.0512056   |"
      ]
     },
     "metadata": {},
     "output_type": "display_data"
    },
    {
     "data": {
      "text/html": [
       "<pre>| 2       | 411.275ms    | 0.783929          | 0.857107              | 0.0512056   |</pre>"
      ],
      "text/plain": [
       "| 2       | 411.275ms    | 0.783929          | 0.857107              | 0.0512056   |"
      ]
     },
     "metadata": {},
     "output_type": "display_data"
    },
    {
     "data": {
      "text/html": [
       "<pre>| 3       | 617.617ms    | 0.662212          | 0.798846              | 0.0512056   |</pre>"
      ],
      "text/plain": [
       "| 3       | 617.617ms    | 0.662212          | 0.798846              | 0.0512056   |"
      ]
     },
     "metadata": {},
     "output_type": "display_data"
    },
    {
     "data": {
      "text/html": [
       "<pre>| 4       | 805.775ms    | 0.590759          | 0.754074              | 0.0512056   |</pre>"
      ],
      "text/plain": [
       "| 4       | 805.775ms    | 0.590759          | 0.754074              | 0.0512056   |"
      ]
     },
     "metadata": {},
     "output_type": "display_data"
    },
    {
     "data": {
      "text/html": [
       "<pre>| 5       | 1.01s        | 0.553197          | 0.730391              | 0.0512056   |</pre>"
      ],
      "text/plain": [
       "| 5       | 1.01s        | 0.553197          | 0.730391              | 0.0512056   |"
      ]
     },
     "metadata": {},
     "output_type": "display_data"
    },
    {
     "data": {
      "text/html": [
       "<pre>| 6       | 1.21s        | 0.524861          | 0.712939              | 0.0512056   |</pre>"
      ],
      "text/plain": [
       "| 6       | 1.21s        | 0.524861          | 0.712939              | 0.0512056   |"
      ]
     },
     "metadata": {},
     "output_type": "display_data"
    },
    {
     "data": {
      "text/html": [
       "<pre>| 10      | 2.00s        | 0.447239          | 0.663364              | 0.0512056   |</pre>"
      ],
      "text/plain": [
       "| 10      | 2.00s        | 0.447239          | 0.663364              | 0.0512056   |"
      ]
     },
     "metadata": {},
     "output_type": "display_data"
    },
    {
     "data": {
      "text/html": [
       "<pre>| 11      | 2.21s        | 0.43349           | 0.654248              | 0.0512056   |</pre>"
      ],
      "text/plain": [
       "| 11      | 2.21s        | 0.43349           | 0.654248              | 0.0512056   |"
      ]
     },
     "metadata": {},
     "output_type": "display_data"
    },
    {
     "data": {
      "text/html": [
       "<pre>| 15      | 3.04s        | 0.387416          | 0.620809              | 0.0512056   |</pre>"
      ],
      "text/plain": [
       "| 15      | 3.04s        | 0.387416          | 0.620809              | 0.0512056   |"
      ]
     },
     "metadata": {},
     "output_type": "display_data"
    },
    {
     "data": {
      "text/html": [
       "<pre>| 20      | 4.00s        | 0.344377          | 0.586209              | 0.0512056   |</pre>"
      ],
      "text/plain": [
       "| 20      | 4.00s        | 0.344377          | 0.586209              | 0.0512056   |"
      ]
     },
     "metadata": {},
     "output_type": "display_data"
    },
    {
     "data": {
      "text/html": [
       "<pre>| 25      | 4.96s        | 0.309162          | 0.55577               | 0.0512056   |</pre>"
      ],
      "text/plain": [
       "| 25      | 4.96s        | 0.309162          | 0.55577               | 0.0512056   |"
      ]
     },
     "metadata": {},
     "output_type": "display_data"
    },
    {
     "data": {
      "text/html": [
       "<pre>| 30      | 6.31s        | 0.279528          | 0.528499              | 0.0512056   |</pre>"
      ],
      "text/plain": [
       "| 30      | 6.31s        | 0.279528          | 0.528499              | 0.0512056   |"
      ]
     },
     "metadata": {},
     "output_type": "display_data"
    },
    {
     "data": {
      "text/html": [
       "<pre>| 35      | 7.38s        | 0.254794          | 0.504475              | 0.0512056   |</pre>"
      ],
      "text/plain": [
       "| 35      | 7.38s        | 0.254794          | 0.504475              | 0.0512056   |"
      ]
     },
     "metadata": {},
     "output_type": "display_data"
    },
    {
     "data": {
      "text/html": [
       "<pre>| 40      | 8.31s        | 0.233113          | 0.482475              | 0.0512056   |</pre>"
      ],
      "text/plain": [
       "| 40      | 8.31s        | 0.233113          | 0.482475              | 0.0512056   |"
      ]
     },
     "metadata": {},
     "output_type": "display_data"
    },
    {
     "data": {
      "text/html": [
       "<pre>| 45      | 9.59s        | 0.214583          | 0.462766              | 0.0512056   |</pre>"
      ],
      "text/plain": [
       "| 45      | 9.59s        | 0.214583          | 0.462766              | 0.0512056   |"
      ]
     },
     "metadata": {},
     "output_type": "display_data"
    },
    {
     "data": {
      "text/html": [
       "<pre>| 50      | 10.68s       | 0.197928          | 0.444524              | 0.0512056   |</pre>"
      ],
      "text/plain": [
       "| 50      | 10.68s       | 0.197928          | 0.444524              | 0.0512056   |"
      ]
     },
     "metadata": {},
     "output_type": "display_data"
    },
    {
     "data": {
      "text/html": [
       "<pre>+---------+--------------+-------------------+-----------------------+-------------+</pre>"
      ],
      "text/plain": [
       "+---------+--------------+-------------------+-----------------------+-------------+"
      ]
     },
     "metadata": {},
     "output_type": "display_data"
    },
    {
     "data": {
      "text/html": [
       "<pre>Optimization Complete: Maximum number of passes through the data reached.</pre>"
      ],
      "text/plain": [
       "Optimization Complete: Maximum number of passes through the data reached."
      ]
     },
     "metadata": {},
     "output_type": "display_data"
    },
    {
     "data": {
      "text/html": [
       "<pre>Computing final objective value and training RMSE.</pre>"
      ],
      "text/plain": [
       "Computing final objective value and training RMSE."
      ]
     },
     "metadata": {},
     "output_type": "display_data"
    },
    {
     "data": {
      "text/html": [
       "<pre>       Final objective value: 0.193531</pre>"
      ],
      "text/plain": [
       "       Final objective value: 0.193531"
      ]
     },
     "metadata": {},
     "output_type": "display_data"
    },
    {
     "data": {
      "text/html": [
       "<pre>       Final training RMSE: 0.43955</pre>"
      ],
      "text/plain": [
       "       Final training RMSE: 0.43955"
      ]
     },
     "metadata": {},
     "output_type": "display_data"
    },
    {
     "data": {
      "text/html": [
       "<pre>Recsys training: model = factorization_recommender</pre>"
      ],
      "text/plain": [
       "Recsys training: model = factorization_recommender"
      ]
     },
     "metadata": {},
     "output_type": "display_data"
    },
    {
     "data": {
      "text/html": [
       "<pre>Preparing data set.</pre>"
      ],
      "text/plain": [
       "Preparing data set."
      ]
     },
     "metadata": {},
     "output_type": "display_data"
    },
    {
     "data": {
      "text/html": [
       "<pre>    Data has 89898 observations with 62708 users and 2637 items.</pre>"
      ],
      "text/plain": [
       "    Data has 89898 observations with 62708 users and 2637 items."
      ]
     },
     "metadata": {},
     "output_type": "display_data"
    },
    {
     "data": {
      "text/html": [
       "<pre>    Data prepared in: 1.46149s</pre>"
      ],
      "text/plain": [
       "    Data prepared in: 1.46149s"
      ]
     },
     "metadata": {},
     "output_type": "display_data"
    },
    {
     "data": {
      "text/html": [
       "<pre>Training factorization_recommender for recommendations.</pre>"
      ],
      "text/plain": [
       "Training factorization_recommender for recommendations."
      ]
     },
     "metadata": {},
     "output_type": "display_data"
    },
    {
     "data": {
      "text/html": [
       "<pre>+--------------------------------+--------------------------------------------------+----------+</pre>"
      ],
      "text/plain": [
       "+--------------------------------+--------------------------------------------------+----------+"
      ]
     },
     "metadata": {},
     "output_type": "display_data"
    },
    {
     "data": {
      "text/html": [
       "<pre>| Parameter                      | Description                                      | Value    |</pre>"
      ],
      "text/plain": [
       "| Parameter                      | Description                                      | Value    |"
      ]
     },
     "metadata": {},
     "output_type": "display_data"
    },
    {
     "data": {
      "text/html": [
       "<pre>+--------------------------------+--------------------------------------------------+----------+</pre>"
      ],
      "text/plain": [
       "+--------------------------------+--------------------------------------------------+----------+"
      ]
     },
     "metadata": {},
     "output_type": "display_data"
    },
    {
     "data": {
      "text/html": [
       "<pre>| num_factors                    | Factor Dimension                                 | 5        |</pre>"
      ],
      "text/plain": [
       "| num_factors                    | Factor Dimension                                 | 5        |"
      ]
     },
     "metadata": {},
     "output_type": "display_data"
    },
    {
     "data": {
      "text/html": [
       "<pre>| regularization                 | L2 Regularization on Factors                     | 0.0001   |</pre>"
      ],
      "text/plain": [
       "| regularization                 | L2 Regularization on Factors                     | 0.0001   |"
      ]
     },
     "metadata": {},
     "output_type": "display_data"
    },
    {
     "data": {
      "text/html": [
       "<pre>| solver                         | Solver used for training                         | adagrad  |</pre>"
      ],
      "text/plain": [
       "| solver                         | Solver used for training                         | adagrad  |"
      ]
     },
     "metadata": {},
     "output_type": "display_data"
    },
    {
     "data": {
      "text/html": [
       "<pre>| linear_regularization          | L2 Regularization on Linear Coefficients         | 1e-10    |</pre>"
      ],
      "text/plain": [
       "| linear_regularization          | L2 Regularization on Linear Coefficients         | 1e-10    |"
      ]
     },
     "metadata": {},
     "output_type": "display_data"
    },
    {
     "data": {
      "text/html": [
       "<pre>| max_iterations                 | Maximum Number of Iterations                     | 50       |</pre>"
      ],
      "text/plain": [
       "| max_iterations                 | Maximum Number of Iterations                     | 50       |"
      ]
     },
     "metadata": {},
     "output_type": "display_data"
    },
    {
     "data": {
      "text/html": [
       "<pre>+--------------------------------+--------------------------------------------------+----------+</pre>"
      ],
      "text/plain": [
       "+--------------------------------+--------------------------------------------------+----------+"
      ]
     },
     "metadata": {},
     "output_type": "display_data"
    },
    {
     "data": {
      "text/html": [
       "<pre>  Optimizing model using SGD; tuning step size.</pre>"
      ],
      "text/plain": [
       "  Optimizing model using SGD; tuning step size."
      ]
     },
     "metadata": {},
     "output_type": "display_data"
    },
    {
     "data": {
      "text/html": [
       "<pre>  Using 11237 / 89898 points for tuning the step size.</pre>"
      ],
      "text/plain": [
       "  Using 11237 / 89898 points for tuning the step size."
      ]
     },
     "metadata": {},
     "output_type": "display_data"
    },
    {
     "data": {
      "text/html": [
       "<pre>+---------+-------------------+------------------------------------------+</pre>"
      ],
      "text/plain": [
       "+---------+-------------------+------------------------------------------+"
      ]
     },
     "metadata": {},
     "output_type": "display_data"
    },
    {
     "data": {
      "text/html": [
       "<pre>| Attempt | Initial Step Size | Estimated Objective Value                |</pre>"
      ],
      "text/plain": [
       "| Attempt | Initial Step Size | Estimated Objective Value                |"
      ]
     },
     "metadata": {},
     "output_type": "display_data"
    },
    {
     "data": {
      "text/html": [
       "<pre>+---------+-------------------+------------------------------------------+</pre>"
      ],
      "text/plain": [
       "+---------+-------------------+------------------------------------------+"
      ]
     },
     "metadata": {},
     "output_type": "display_data"
    },
    {
     "data": {
      "text/html": [
       "<pre>| 0       | 4.16667           | Not Viable                               |</pre>"
      ],
      "text/plain": [
       "| 0       | 4.16667           | Not Viable                               |"
      ]
     },
     "metadata": {},
     "output_type": "display_data"
    },
    {
     "data": {
      "text/html": [
       "<pre>| 1       | 1.04167           | Not Viable                               |</pre>"
      ],
      "text/plain": [
       "| 1       | 1.04167           | Not Viable                               |"
      ]
     },
     "metadata": {},
     "output_type": "display_data"
    },
    {
     "data": {
      "text/html": [
       "<pre>| 2       | 0.260417          | Not Viable                               |</pre>"
      ],
      "text/plain": [
       "| 2       | 0.260417          | Not Viable                               |"
      ]
     },
     "metadata": {},
     "output_type": "display_data"
    },
    {
     "data": {
      "text/html": [
       "<pre>| 3       | 0.0651042         | 0.38876                                  |</pre>"
      ],
      "text/plain": [
       "| 3       | 0.0651042         | 0.38876                                  |"
      ]
     },
     "metadata": {},
     "output_type": "display_data"
    },
    {
     "data": {
      "text/html": [
       "<pre>| 4       | 0.0325521         | Not Viable                               |</pre>"
      ],
      "text/plain": [
       "| 4       | 0.0325521         | Not Viable                               |"
      ]
     },
     "metadata": {},
     "output_type": "display_data"
    },
    {
     "data": {
      "text/html": [
       "<pre>| 5       | 0.00813802        | No Decrease (1.2854 >= 1.26352)          |</pre>"
      ],
      "text/plain": [
       "| 5       | 0.00813802        | No Decrease (1.2854 >= 1.26352)          |"
      ]
     },
     "metadata": {},
     "output_type": "display_data"
    },
    {
     "data": {
      "text/html": [
       "<pre>| 6       | 0.00203451        | 1.18768                                  |</pre>"
      ],
      "text/plain": [
       "| 6       | 0.00203451        | 1.18768                                  |"
      ]
     },
     "metadata": {},
     "output_type": "display_data"
    },
    {
     "data": {
      "text/html": [
       "<pre>+---------+-------------------+------------------------------------------+</pre>"
      ],
      "text/plain": [
       "+---------+-------------------+------------------------------------------+"
      ]
     },
     "metadata": {},
     "output_type": "display_data"
    },
    {
     "data": {
      "text/html": [
       "<pre>| Final   | 0.0651042         | 0.38876                                  |</pre>"
      ],
      "text/plain": [
       "| Final   | 0.0651042         | 0.38876                                  |"
      ]
     },
     "metadata": {},
     "output_type": "display_data"
    },
    {
     "data": {
      "text/html": [
       "<pre>+---------+-------------------+------------------------------------------+</pre>"
      ],
      "text/plain": [
       "+---------+-------------------+------------------------------------------+"
      ]
     },
     "metadata": {},
     "output_type": "display_data"
    },
    {
     "data": {
      "text/html": [
       "<pre>Starting Optimization.</pre>"
      ],
      "text/plain": [
       "Starting Optimization."
      ]
     },
     "metadata": {},
     "output_type": "display_data"
    },
    {
     "data": {
      "text/html": [
       "<pre>+---------+--------------+-------------------+-----------------------+-------------+</pre>"
      ],
      "text/plain": [
       "+---------+--------------+-------------------+-----------------------+-------------+"
      ]
     },
     "metadata": {},
     "output_type": "display_data"
    },
    {
     "data": {
      "text/html": [
       "<pre>| Iter.   | Elapsed Time | Approx. Objective | Approx. Training RMSE | Step Size   |</pre>"
      ],
      "text/plain": [
       "| Iter.   | Elapsed Time | Approx. Objective | Approx. Training RMSE | Step Size   |"
      ]
     },
     "metadata": {},
     "output_type": "display_data"
    },
    {
     "data": {
      "text/html": [
       "<pre>+---------+--------------+-------------------+-----------------------+-------------+</pre>"
      ],
      "text/plain": [
       "+---------+--------------+-------------------+-----------------------+-------------+"
      ]
     },
     "metadata": {},
     "output_type": "display_data"
    },
    {
     "data": {
      "text/html": [
       "<pre>| Initial | 138us        | 1.25388           | 1.11977               |             |</pre>"
      ],
      "text/plain": [
       "| Initial | 138us        | 1.25388           | 1.11977               |             |"
      ]
     },
     "metadata": {},
     "output_type": "display_data"
    },
    {
     "data": {
      "text/html": [
       "<pre>+---------+--------------+-------------------+-----------------------+-------------+</pre>"
      ],
      "text/plain": [
       "+---------+--------------+-------------------+-----------------------+-------------+"
      ]
     },
     "metadata": {},
     "output_type": "display_data"
    },
    {
     "data": {
      "text/html": [
       "<pre>| 1       | 269.193ms    | DIVERGED          | DIVERGED              | 0.0651042   |</pre>"
      ],
      "text/plain": [
       "| 1       | 269.193ms    | DIVERGED          | DIVERGED              | 0.0651042   |"
      ]
     },
     "metadata": {},
     "output_type": "display_data"
    },
    {
     "data": {
      "text/html": [
       "<pre>| RESET   | 419.42ms     | 1.25365           | 1.11966               |             |</pre>"
      ],
      "text/plain": [
       "| RESET   | 419.42ms     | 1.25365           | 1.11966               |             |"
      ]
     },
     "metadata": {},
     "output_type": "display_data"
    },
    {
     "data": {
      "text/html": [
       "<pre>| 1       | 753.849ms    | 1.24143           | 1.04887               | 0.0325521   |</pre>"
      ],
      "text/plain": [
       "| 1       | 753.849ms    | 1.24143           | 1.04887               | 0.0325521   |"
      ]
     },
     "metadata": {},
     "output_type": "display_data"
    },
    {
     "data": {
      "text/html": [
       "<pre>| 2       | 1.05s        | 1.20081           | 1.01057               | 0.0325521   |</pre>"
      ],
      "text/plain": [
       "| 2       | 1.05s        | 1.20081           | 1.01057               | 0.0325521   |"
      ]
     },
     "metadata": {},
     "output_type": "display_data"
    },
    {
     "data": {
      "text/html": [
       "<pre>| 3       | 1.36s        | 0.898959          | 0.842419              | 0.0325521   |</pre>"
      ],
      "text/plain": [
       "| 3       | 1.36s        | 0.898959          | 0.842419              | 0.0325521   |"
      ]
     },
     "metadata": {},
     "output_type": "display_data"
    },
    {
     "data": {
      "text/html": [
       "<pre>| 4       | 1.69s        | 0.897117          | 0.837899              | 0.0325521   |</pre>"
      ],
      "text/plain": [
       "| 4       | 1.69s        | 0.897117          | 0.837899              | 0.0325521   |"
      ]
     },
     "metadata": {},
     "output_type": "display_data"
    },
    {
     "data": {
      "text/html": [
       "<pre>| 5       | 1.98s        | 2.66163           | 1.5693                | 0.0325521   |</pre>"
      ],
      "text/plain": [
       "| 5       | 1.98s        | 2.66163           | 1.5693                | 0.0325521   |"
      ]
     },
     "metadata": {},
     "output_type": "display_data"
    },
    {
     "data": {
      "text/html": [
       "<pre>| 6       | 2.19s        | 0.768686          | 0.753761              | 0.0325521   |</pre>"
      ],
      "text/plain": [
       "| 6       | 2.19s        | 0.768686          | 0.753761              | 0.0325521   |"
      ]
     },
     "metadata": {},
     "output_type": "display_data"
    },
    {
     "data": {
      "text/html": [
       "<pre>| 9       | 2.90s        | 0.761286          | 0.747276              | 0.0325521   |</pre>"
      ],
      "text/plain": [
       "| 9       | 2.90s        | 0.761286          | 0.747276              | 0.0325521   |"
      ]
     },
     "metadata": {},
     "output_type": "display_data"
    },
    {
     "data": {
      "text/html": [
       "<pre>| 11      | 3.61s        | 0.726864          | 0.723265              | 0.0325521   |</pre>"
      ],
      "text/plain": [
       "| 11      | 3.61s        | 0.726864          | 0.723265              | 0.0325521   |"
      ]
     },
     "metadata": {},
     "output_type": "display_data"
    },
    {
     "data": {
      "text/html": [
       "<pre>| 13      | 4.37s        | DIVERGED          | DIVERGED              | 0.0325521   |</pre>"
      ],
      "text/plain": [
       "| 13      | 4.37s        | DIVERGED          | DIVERGED              | 0.0325521   |"
      ]
     },
     "metadata": {},
     "output_type": "display_data"
    },
    {
     "data": {
      "text/html": [
       "<pre>| RESET   | 4.46s        | 1.25359           | 1.11964               |             |</pre>"
      ],
      "text/plain": [
       "| RESET   | 4.46s        | 1.25359           | 1.11964               |             |"
      ]
     },
     "metadata": {},
     "output_type": "display_data"
    },
    {
     "data": {
      "text/html": [
       "<pre>| 1       | 4.85s        | 1.41239           | 1.1699                | 0.016276    |</pre>"
      ],
      "text/plain": [
       "| 1       | 4.85s        | 1.41239           | 1.1699                | 0.016276    |"
      ]
     },
     "metadata": {},
     "output_type": "display_data"
    },
    {
     "data": {
      "text/html": [
       "<pre>| 6       | 6.50s        | 1.04457           | 0.994164              | 0.016276    |</pre>"
      ],
      "text/plain": [
       "| 6       | 6.50s        | 1.04457           | 0.994164              | 0.016276    |"
      ]
     },
     "metadata": {},
     "output_type": "display_data"
    },
    {
     "data": {
      "text/html": [
       "<pre>| 11      | 8.02s        | 0.855365          | 0.891178              | 0.016276    |</pre>"
      ],
      "text/plain": [
       "| 11      | 8.02s        | 0.855365          | 0.891178              | 0.016276    |"
      ]
     },
     "metadata": {},
     "output_type": "display_data"
    },
    {
     "data": {
      "text/html": [
       "<pre>| 16      | 9.65s        | 0.782579          | 0.847491              | 0.016276    |</pre>"
      ],
      "text/plain": [
       "| 16      | 9.65s        | 0.782579          | 0.847491              | 0.016276    |"
      ]
     },
     "metadata": {},
     "output_type": "display_data"
    },
    {
     "data": {
      "text/html": [
       "<pre>| 21      | 11.28s       | 0.876793          | 0.900052              | 0.016276    |</pre>"
      ],
      "text/plain": [
       "| 21      | 11.28s       | 0.876793          | 0.900052              | 0.016276    |"
      ]
     },
     "metadata": {},
     "output_type": "display_data"
    },
    {
     "data": {
      "text/html": [
       "<pre>| 26      | 12.69s       | 0.884725          | 0.903415              | 0.016276    |</pre>"
      ],
      "text/plain": [
       "| 26      | 12.69s       | 0.884725          | 0.903415              | 0.016276    |"
      ]
     },
     "metadata": {},
     "output_type": "display_data"
    },
    {
     "data": {
      "text/html": [
       "<pre>| 31      | 13.82s       | 0.739987          | 0.818666              | 0.016276    |</pre>"
      ],
      "text/plain": [
       "| 31      | 13.82s       | 0.739987          | 0.818666              | 0.016276    |"
      ]
     },
     "metadata": {},
     "output_type": "display_data"
    },
    {
     "data": {
      "text/html": [
       "<pre>| 36      | 14.75s       | 0.721501          | 0.806737              | 0.016276    |</pre>"
      ],
      "text/plain": [
       "| 36      | 14.75s       | 0.721501          | 0.806737              | 0.016276    |"
      ]
     },
     "metadata": {},
     "output_type": "display_data"
    },
    {
     "data": {
      "text/html": [
       "<pre>| 39      | 15.56s       | 1.12634           | 1.02723               | 0.016276    |</pre>"
      ],
      "text/plain": [
       "| 39      | 15.56s       | 1.12634           | 1.02723               | 0.016276    |"
      ]
     },
     "metadata": {},
     "output_type": "display_data"
    },
    {
     "data": {
      "text/html": [
       "<pre>| 41      | 16.16s       | 0.744937          | 0.820671              | 0.016276    |</pre>"
      ],
      "text/plain": [
       "| 41      | 16.16s       | 0.744937          | 0.820671              | 0.016276    |"
      ]
     },
     "metadata": {},
     "output_type": "display_data"
    },
    {
     "data": {
      "text/html": [
       "<pre>+---------+--------------+-------------------+-----------------------+-------------+</pre>"
      ],
      "text/plain": [
       "+---------+--------------+-------------------+-----------------------+-------------+"
      ]
     },
     "metadata": {},
     "output_type": "display_data"
    },
    {
     "data": {
      "text/html": [
       "<pre>Optimization Complete: Maximum number of passes through the data reached (hard limit).</pre>"
      ],
      "text/plain": [
       "Optimization Complete: Maximum number of passes through the data reached (hard limit)."
      ]
     },
     "metadata": {},
     "output_type": "display_data"
    },
    {
     "data": {
      "text/html": [
       "<pre>Computing final objective value and training RMSE.</pre>"
      ],
      "text/plain": [
       "Computing final objective value and training RMSE."
      ]
     },
     "metadata": {},
     "output_type": "display_data"
    },
    {
     "data": {
      "text/html": [
       "<pre>       Final objective value: 0.721299</pre>"
      ],
      "text/plain": [
       "       Final objective value: 0.721299"
      ]
     },
     "metadata": {},
     "output_type": "display_data"
    },
    {
     "data": {
      "text/html": [
       "<pre>       Final training RMSE: 0.80614</pre>"
      ],
      "text/plain": [
       "       Final training RMSE: 0.80614"
      ]
     },
     "metadata": {},
     "output_type": "display_data"
    },
    {
     "data": {
      "text/html": [
       "<pre>Recsys training: model = factorization_recommender</pre>"
      ],
      "text/plain": [
       "Recsys training: model = factorization_recommender"
      ]
     },
     "metadata": {},
     "output_type": "display_data"
    },
    {
     "data": {
      "text/html": [
       "<pre>Preparing data set.</pre>"
      ],
      "text/plain": [
       "Preparing data set."
      ]
     },
     "metadata": {},
     "output_type": "display_data"
    },
    {
     "data": {
      "text/html": [
       "<pre>    Data has 89898 observations with 62708 users and 2637 items.</pre>"
      ],
      "text/plain": [
       "    Data has 89898 observations with 62708 users and 2637 items."
      ]
     },
     "metadata": {},
     "output_type": "display_data"
    },
    {
     "data": {
      "text/html": [
       "<pre>    Data prepared in: 1.41548s</pre>"
      ],
      "text/plain": [
       "    Data prepared in: 1.41548s"
      ]
     },
     "metadata": {},
     "output_type": "display_data"
    },
    {
     "data": {
      "text/html": [
       "<pre>Training factorization_recommender for recommendations.</pre>"
      ],
      "text/plain": [
       "Training factorization_recommender for recommendations."
      ]
     },
     "metadata": {},
     "output_type": "display_data"
    },
    {
     "data": {
      "text/html": [
       "<pre>+--------------------------------+--------------------------------------------------+----------+</pre>"
      ],
      "text/plain": [
       "+--------------------------------+--------------------------------------------------+----------+"
      ]
     },
     "metadata": {},
     "output_type": "display_data"
    },
    {
     "data": {
      "text/html": [
       "<pre>| Parameter                      | Description                                      | Value    |</pre>"
      ],
      "text/plain": [
       "| Parameter                      | Description                                      | Value    |"
      ]
     },
     "metadata": {},
     "output_type": "display_data"
    },
    {
     "data": {
      "text/html": [
       "<pre>+--------------------------------+--------------------------------------------------+----------+</pre>"
      ],
      "text/plain": [
       "+--------------------------------+--------------------------------------------------+----------+"
      ]
     },
     "metadata": {},
     "output_type": "display_data"
    },
    {
     "data": {
      "text/html": [
       "<pre>| num_factors                    | Factor Dimension                                 | 5        |</pre>"
      ],
      "text/plain": [
       "| num_factors                    | Factor Dimension                                 | 5        |"
      ]
     },
     "metadata": {},
     "output_type": "display_data"
    },
    {
     "data": {
      "text/html": [
       "<pre>| regularization                 | L2 Regularization on Factors                     | 1e-05    |</pre>"
      ],
      "text/plain": [
       "| regularization                 | L2 Regularization on Factors                     | 1e-05    |"
      ]
     },
     "metadata": {},
     "output_type": "display_data"
    },
    {
     "data": {
      "text/html": [
       "<pre>| solver                         | Solver used for training                         | adagrad  |</pre>"
      ],
      "text/plain": [
       "| solver                         | Solver used for training                         | adagrad  |"
      ]
     },
     "metadata": {},
     "output_type": "display_data"
    },
    {
     "data": {
      "text/html": [
       "<pre>| linear_regularization          | L2 Regularization on Linear Coefficients         | 1e-10    |</pre>"
      ],
      "text/plain": [
       "| linear_regularization          | L2 Regularization on Linear Coefficients         | 1e-10    |"
      ]
     },
     "metadata": {},
     "output_type": "display_data"
    },
    {
     "data": {
      "text/html": [
       "<pre>| max_iterations                 | Maximum Number of Iterations                     | 50       |</pre>"
      ],
      "text/plain": [
       "| max_iterations                 | Maximum Number of Iterations                     | 50       |"
      ]
     },
     "metadata": {},
     "output_type": "display_data"
    },
    {
     "data": {
      "text/html": [
       "<pre>+--------------------------------+--------------------------------------------------+----------+</pre>"
      ],
      "text/plain": [
       "+--------------------------------+--------------------------------------------------+----------+"
      ]
     },
     "metadata": {},
     "output_type": "display_data"
    },
    {
     "data": {
      "text/html": [
       "<pre>  Optimizing model using SGD; tuning step size.</pre>"
      ],
      "text/plain": [
       "  Optimizing model using SGD; tuning step size."
      ]
     },
     "metadata": {},
     "output_type": "display_data"
    },
    {
     "data": {
      "text/html": [
       "<pre>  Using 11237 / 89898 points for tuning the step size.</pre>"
      ],
      "text/plain": [
       "  Using 11237 / 89898 points for tuning the step size."
      ]
     },
     "metadata": {},
     "output_type": "display_data"
    },
    {
     "data": {
      "text/html": [
       "<pre>+---------+-------------------+------------------------------------------+</pre>"
      ],
      "text/plain": [
       "+---------+-------------------+------------------------------------------+"
      ]
     },
     "metadata": {},
     "output_type": "display_data"
    },
    {
     "data": {
      "text/html": [
       "<pre>| Attempt | Initial Step Size | Estimated Objective Value                |</pre>"
      ],
      "text/plain": [
       "| Attempt | Initial Step Size | Estimated Objective Value                |"
      ]
     },
     "metadata": {},
     "output_type": "display_data"
    },
    {
     "data": {
      "text/html": [
       "<pre>+---------+-------------------+------------------------------------------+</pre>"
      ],
      "text/plain": [
       "+---------+-------------------+------------------------------------------+"
      ]
     },
     "metadata": {},
     "output_type": "display_data"
    },
    {
     "data": {
      "text/html": [
       "<pre>| 0       | 4.16667           | Not Viable                               |</pre>"
      ],
      "text/plain": [
       "| 0       | 4.16667           | Not Viable                               |"
      ]
     },
     "metadata": {},
     "output_type": "display_data"
    },
    {
     "data": {
      "text/html": [
       "<pre>| 1       | 1.04167           | Not Viable                               |</pre>"
      ],
      "text/plain": [
       "| 1       | 1.04167           | Not Viable                               |"
      ]
     },
     "metadata": {},
     "output_type": "display_data"
    },
    {
     "data": {
      "text/html": [
       "<pre>| 2       | 0.260417          | Not Viable                               |</pre>"
      ],
      "text/plain": [
       "| 2       | 0.260417          | Not Viable                               |"
      ]
     },
     "metadata": {},
     "output_type": "display_data"
    },
    {
     "data": {
      "text/html": [
       "<pre>| 3       | 0.0651042         | 0.35526                                  |</pre>"
      ],
      "text/plain": [
       "| 3       | 0.0651042         | 0.35526                                  |"
      ]
     },
     "metadata": {},
     "output_type": "display_data"
    },
    {
     "data": {
      "text/html": [
       "<pre>| 4       | 0.0325521         | 0.547317                                 |</pre>"
      ],
      "text/plain": [
       "| 4       | 0.0325521         | 0.547317                                 |"
      ]
     },
     "metadata": {},
     "output_type": "display_data"
    },
    {
     "data": {
      "text/html": [
       "<pre>| 5       | 0.016276          | 0.785554                                 |</pre>"
      ],
      "text/plain": [
       "| 5       | 0.016276          | 0.785554                                 |"
      ]
     },
     "metadata": {},
     "output_type": "display_data"
    },
    {
     "data": {
      "text/html": [
       "<pre>+---------+-------------------+------------------------------------------+</pre>"
      ],
      "text/plain": [
       "+---------+-------------------+------------------------------------------+"
      ]
     },
     "metadata": {},
     "output_type": "display_data"
    },
    {
     "data": {
      "text/html": [
       "<pre>| Final   | 0.0651042         | 0.35526                                  |</pre>"
      ],
      "text/plain": [
       "| Final   | 0.0651042         | 0.35526                                  |"
      ]
     },
     "metadata": {},
     "output_type": "display_data"
    },
    {
     "data": {
      "text/html": [
       "<pre>+---------+-------------------+------------------------------------------+</pre>"
      ],
      "text/plain": [
       "+---------+-------------------+------------------------------------------+"
      ]
     },
     "metadata": {},
     "output_type": "display_data"
    },
    {
     "data": {
      "text/html": [
       "<pre>Starting Optimization.</pre>"
      ],
      "text/plain": [
       "Starting Optimization."
      ]
     },
     "metadata": {},
     "output_type": "display_data"
    },
    {
     "data": {
      "text/html": [
       "<pre>+---------+--------------+-------------------+-----------------------+-------------+</pre>"
      ],
      "text/plain": [
       "+---------+--------------+-------------------+-----------------------+-------------+"
      ]
     },
     "metadata": {},
     "output_type": "display_data"
    },
    {
     "data": {
      "text/html": [
       "<pre>| Iter.   | Elapsed Time | Approx. Objective | Approx. Training RMSE | Step Size   |</pre>"
      ],
      "text/plain": [
       "| Iter.   | Elapsed Time | Approx. Objective | Approx. Training RMSE | Step Size   |"
      ]
     },
     "metadata": {},
     "output_type": "display_data"
    },
    {
     "data": {
      "text/html": [
       "<pre>+---------+--------------+-------------------+-----------------------+-------------+</pre>"
      ],
      "text/plain": [
       "+---------+--------------+-------------------+-----------------------+-------------+"
      ]
     },
     "metadata": {},
     "output_type": "display_data"
    },
    {
     "data": {
      "text/html": [
       "<pre>| Initial | 145us        | 1.2539            | 1.11978               |             |</pre>"
      ],
      "text/plain": [
       "| Initial | 145us        | 1.2539            | 1.11978               |             |"
      ]
     },
     "metadata": {},
     "output_type": "display_data"
    },
    {
     "data": {
      "text/html": [
       "<pre>+---------+--------------+-------------------+-----------------------+-------------+</pre>"
      ],
      "text/plain": [
       "+---------+--------------+-------------------+-----------------------+-------------+"
      ]
     },
     "metadata": {},
     "output_type": "display_data"
    },
    {
     "data": {
      "text/html": [
       "<pre>| 1       | 314.458ms    | 5.61893           | 2.35637               | 0.0651042   |</pre>"
      ],
      "text/plain": [
       "| 1       | 314.458ms    | 5.61893           | 2.35637               | 0.0651042   |"
      ]
     },
     "metadata": {},
     "output_type": "display_data"
    },
    {
     "data": {
      "text/html": [
       "<pre>| 2       | 545.158ms    | 0.604456          | 0.733546              | 0.0651042   |</pre>"
      ],
      "text/plain": [
       "| 2       | 545.158ms    | 0.604456          | 0.733546              | 0.0651042   |"
      ]
     },
     "metadata": {},
     "output_type": "display_data"
    },
    {
     "data": {
      "text/html": [
       "<pre>| 3       | 730.198ms    | 0.555549          | 0.699405              | 0.0651042   |</pre>"
      ],
      "text/plain": [
       "| 3       | 730.198ms    | 0.555549          | 0.699405              | 0.0651042   |"
      ]
     },
     "metadata": {},
     "output_type": "display_data"
    },
    {
     "data": {
      "text/html": [
       "<pre>| 4       | 1.02s        | 0.532876          | 0.682987              | 0.0651042   |</pre>"
      ],
      "text/plain": [
       "| 4       | 1.02s        | 0.532876          | 0.682987              | 0.0651042   |"
      ]
     },
     "metadata": {},
     "output_type": "display_data"
    },
    {
     "data": {
      "text/html": [
       "<pre>| 5       | 1.33s        | 0.517098          | 0.671318              | 0.0651042   |</pre>"
      ],
      "text/plain": [
       "| 5       | 1.33s        | 0.517098          | 0.671318              | 0.0651042   |"
      ]
     },
     "metadata": {},
     "output_type": "display_data"
    },
    {
     "data": {
      "text/html": [
       "<pre>| 6       | 1.64s        | 0.504193          | 0.661616              | 0.0651042   |</pre>"
      ],
      "text/plain": [
       "| 6       | 1.64s        | 0.504193          | 0.661616              | 0.0651042   |"
      ]
     },
     "metadata": {},
     "output_type": "display_data"
    },
    {
     "data": {
      "text/html": [
       "<pre>| 10      | 2.77s        | 0.474621          | 0.6388                | 0.0651042   |</pre>"
      ],
      "text/plain": [
       "| 10      | 2.77s        | 0.474621          | 0.6388                | 0.0651042   |"
      ]
     },
     "metadata": {},
     "output_type": "display_data"
    },
    {
     "data": {
      "text/html": [
       "<pre>| 11      | 2.98s        | 0.466609          | 0.632475              | 0.0651042   |</pre>"
      ],
      "text/plain": [
       "| 11      | 2.98s        | 0.466609          | 0.632475              | 0.0651042   |"
      ]
     },
     "metadata": {},
     "output_type": "display_data"
    },
    {
     "data": {
      "text/html": [
       "<pre>| 15      | 3.85s        | 0.466203          | 0.632055              | 0.0651042   |</pre>"
      ],
      "text/plain": [
       "| 15      | 3.85s        | 0.466203          | 0.632055              | 0.0651042   |"
      ]
     },
     "metadata": {},
     "output_type": "display_data"
    },
    {
     "data": {
      "text/html": [
       "<pre>| 20      | 4.84s        | 0.44844           | 0.617711              | 0.0651042   |</pre>"
      ],
      "text/plain": [
       "| 20      | 4.84s        | 0.44844           | 0.617711              | 0.0651042   |"
      ]
     },
     "metadata": {},
     "output_type": "display_data"
    },
    {
     "data": {
      "text/html": [
       "<pre>| 25      | 5.78s        | 0.427407          | 0.600332              | 0.0651042   |</pre>"
      ],
      "text/plain": [
       "| 25      | 5.78s        | 0.427407          | 0.600332              | 0.0651042   |"
      ]
     },
     "metadata": {},
     "output_type": "display_data"
    },
    {
     "data": {
      "text/html": [
       "<pre>| 30      | 6.83s        | 0.518679          | 0.672022              | 0.0651042   |</pre>"
      ],
      "text/plain": [
       "| 30      | 6.83s        | 0.518679          | 0.672022              | 0.0651042   |"
      ]
     },
     "metadata": {},
     "output_type": "display_data"
    },
    {
     "data": {
      "text/html": [
       "<pre>| 35      | 8.39s        | 1.1989            | 1.06388               | 0.0651042   |</pre>"
      ],
      "text/plain": [
       "| 35      | 8.39s        | 1.1989            | 1.06388               | 0.0651042   |"
      ]
     },
     "metadata": {},
     "output_type": "display_data"
    },
    {
     "data": {
      "text/html": [
       "<pre>| 37      | 8.94s        | DIVERGED          | DIVERGED              | 0.0651042   |</pre>"
      ],
      "text/plain": [
       "| 37      | 8.94s        | DIVERGED          | DIVERGED              | 0.0651042   |"
      ]
     },
     "metadata": {},
     "output_type": "display_data"
    },
    {
     "data": {
      "text/html": [
       "<pre>| RESET   | 9.10s        | 1.25367           | 1.11967               |             |</pre>"
      ],
      "text/plain": [
       "| RESET   | 9.10s        | 1.25367           | 1.11967               |             |"
      ]
     },
     "metadata": {},
     "output_type": "display_data"
    },
    {
     "data": {
      "text/html": [
       "<pre>| 3       | 9.96s        | 2.15893           | 1.46285               | 0.0325521   |</pre>"
      ],
      "text/plain": [
       "| 3       | 9.96s        | 2.15893           | 1.46285               | 0.0325521   |"
      ]
     },
     "metadata": {},
     "output_type": "display_data"
    },
    {
     "data": {
      "text/html": [
       "<pre>| 5       | 10.54s       | DIVERGED          | DIVERGED              | 0.0325521   |</pre>"
      ],
      "text/plain": [
       "| 5       | 10.54s       | DIVERGED          | DIVERGED              | 0.0325521   |"
      ]
     },
     "metadata": {},
     "output_type": "display_data"
    },
    {
     "data": {
      "text/html": [
       "<pre>| RESET   | 10.64s       | 1.25368           | 1.11968               |             |</pre>"
      ],
      "text/plain": [
       "| RESET   | 10.64s       | 1.25368           | 1.11968               |             |"
      ]
     },
     "metadata": {},
     "output_type": "display_data"
    },
    {
     "data": {
      "text/html": [
       "<pre>| 3       | 11.52s       | 0.943199          | 0.968506              | 0.016276    |</pre>"
      ],
      "text/plain": [
       "| 3       | 11.52s       | 0.943199          | 0.968506              | 0.016276    |"
      ]
     },
     "metadata": {},
     "output_type": "display_data"
    },
    {
     "data": {
      "text/html": [
       "<pre>| 8       | 12.69s       | 0.918335          | 0.955275              | 0.016276    |</pre>"
      ],
      "text/plain": [
       "| 8       | 12.69s       | 0.918335          | 0.955275              | 0.016276    |"
      ]
     },
     "metadata": {},
     "output_type": "display_data"
    },
    {
     "data": {
      "text/html": [
       "<pre>| 11      | 13.27s       | 0.857689          | 0.922817              | 0.016276    |</pre>"
      ],
      "text/plain": [
       "| 11      | 13.27s       | 0.857689          | 0.922817              | 0.016276    |"
      ]
     },
     "metadata": {},
     "output_type": "display_data"
    },
    {
     "data": {
      "text/html": [
       "<pre>| 13      | 13.67s       | 0.832943          | 0.9092                | 0.016276    |</pre>"
      ],
      "text/plain": [
       "| 13      | 13.67s       | 0.832943          | 0.9092                | 0.016276    |"
      ]
     },
     "metadata": {},
     "output_type": "display_data"
    },
    {
     "data": {
      "text/html": [
       "<pre>+---------+--------------+-------------------+-----------------------+-------------+</pre>"
      ],
      "text/plain": [
       "+---------+--------------+-------------------+-----------------------+-------------+"
      ]
     },
     "metadata": {},
     "output_type": "display_data"
    },
    {
     "data": {
      "text/html": [
       "<pre>Optimization Complete: Maximum number of passes through the data reached (hard limit).</pre>"
      ],
      "text/plain": [
       "Optimization Complete: Maximum number of passes through the data reached (hard limit)."
      ]
     },
     "metadata": {},
     "output_type": "display_data"
    },
    {
     "data": {
      "text/html": [
       "<pre>Computing final objective value and training RMSE.</pre>"
      ],
      "text/plain": [
       "Computing final objective value and training RMSE."
      ]
     },
     "metadata": {},
     "output_type": "display_data"
    },
    {
     "data": {
      "text/html": [
       "<pre>       Final objective value: 0.827679</pre>"
      ],
      "text/plain": [
       "       Final objective value: 0.827679"
      ]
     },
     "metadata": {},
     "output_type": "display_data"
    },
    {
     "data": {
      "text/html": [
       "<pre>       Final training RMSE: 0.906301</pre>"
      ],
      "text/plain": [
       "       Final training RMSE: 0.906301"
      ]
     },
     "metadata": {},
     "output_type": "display_data"
    },
    {
     "data": {
      "text/html": [
       "<pre>Recsys training: model = factorization_recommender</pre>"
      ],
      "text/plain": [
       "Recsys training: model = factorization_recommender"
      ]
     },
     "metadata": {},
     "output_type": "display_data"
    },
    {
     "data": {
      "text/html": [
       "<pre>Preparing data set.</pre>"
      ],
      "text/plain": [
       "Preparing data set."
      ]
     },
     "metadata": {},
     "output_type": "display_data"
    },
    {
     "data": {
      "text/html": [
       "<pre>    Data has 89898 observations with 62708 users and 2637 items.</pre>"
      ],
      "text/plain": [
       "    Data has 89898 observations with 62708 users and 2637 items."
      ]
     },
     "metadata": {},
     "output_type": "display_data"
    },
    {
     "data": {
      "text/html": [
       "<pre>    Data prepared in: 2.01139s</pre>"
      ],
      "text/plain": [
       "    Data prepared in: 2.01139s"
      ]
     },
     "metadata": {},
     "output_type": "display_data"
    },
    {
     "data": {
      "text/html": [
       "<pre>Training factorization_recommender for recommendations.</pre>"
      ],
      "text/plain": [
       "Training factorization_recommender for recommendations."
      ]
     },
     "metadata": {},
     "output_type": "display_data"
    },
    {
     "data": {
      "text/html": [
       "<pre>+--------------------------------+--------------------------------------------------+----------+</pre>"
      ],
      "text/plain": [
       "+--------------------------------+--------------------------------------------------+----------+"
      ]
     },
     "metadata": {},
     "output_type": "display_data"
    },
    {
     "data": {
      "text/html": [
       "<pre>| Parameter                      | Description                                      | Value    |</pre>"
      ],
      "text/plain": [
       "| Parameter                      | Description                                      | Value    |"
      ]
     },
     "metadata": {},
     "output_type": "display_data"
    },
    {
     "data": {
      "text/html": [
       "<pre>+--------------------------------+--------------------------------------------------+----------+</pre>"
      ],
      "text/plain": [
       "+--------------------------------+--------------------------------------------------+----------+"
      ]
     },
     "metadata": {},
     "output_type": "display_data"
    },
    {
     "data": {
      "text/html": [
       "<pre>| num_factors                    | Factor Dimension                                 | 5        |</pre>"
      ],
      "text/plain": [
       "| num_factors                    | Factor Dimension                                 | 5        |"
      ]
     },
     "metadata": {},
     "output_type": "display_data"
    },
    {
     "data": {
      "text/html": [
       "<pre>| regularization                 | L2 Regularization on Factors                     | 1e-06    |</pre>"
      ],
      "text/plain": [
       "| regularization                 | L2 Regularization on Factors                     | 1e-06    |"
      ]
     },
     "metadata": {},
     "output_type": "display_data"
    },
    {
     "data": {
      "text/html": [
       "<pre>| solver                         | Solver used for training                         | adagrad  |</pre>"
      ],
      "text/plain": [
       "| solver                         | Solver used for training                         | adagrad  |"
      ]
     },
     "metadata": {},
     "output_type": "display_data"
    },
    {
     "data": {
      "text/html": [
       "<pre>| linear_regularization          | L2 Regularization on Linear Coefficients         | 1e-10    |</pre>"
      ],
      "text/plain": [
       "| linear_regularization          | L2 Regularization on Linear Coefficients         | 1e-10    |"
      ]
     },
     "metadata": {},
     "output_type": "display_data"
    },
    {
     "data": {
      "text/html": [
       "<pre>| max_iterations                 | Maximum Number of Iterations                     | 50       |</pre>"
      ],
      "text/plain": [
       "| max_iterations                 | Maximum Number of Iterations                     | 50       |"
      ]
     },
     "metadata": {},
     "output_type": "display_data"
    },
    {
     "data": {
      "text/html": [
       "<pre>+--------------------------------+--------------------------------------------------+----------+</pre>"
      ],
      "text/plain": [
       "+--------------------------------+--------------------------------------------------+----------+"
      ]
     },
     "metadata": {},
     "output_type": "display_data"
    },
    {
     "data": {
      "text/html": [
       "<pre>  Optimizing model using SGD; tuning step size.</pre>"
      ],
      "text/plain": [
       "  Optimizing model using SGD; tuning step size."
      ]
     },
     "metadata": {},
     "output_type": "display_data"
    },
    {
     "data": {
      "text/html": [
       "<pre>  Using 11237 / 89898 points for tuning the step size.</pre>"
      ],
      "text/plain": [
       "  Using 11237 / 89898 points for tuning the step size."
      ]
     },
     "metadata": {},
     "output_type": "display_data"
    },
    {
     "data": {
      "text/html": [
       "<pre>+---------+-------------------+------------------------------------------+</pre>"
      ],
      "text/plain": [
       "+---------+-------------------+------------------------------------------+"
      ]
     },
     "metadata": {},
     "output_type": "display_data"
    },
    {
     "data": {
      "text/html": [
       "<pre>| Attempt | Initial Step Size | Estimated Objective Value                |</pre>"
      ],
      "text/plain": [
       "| Attempt | Initial Step Size | Estimated Objective Value                |"
      ]
     },
     "metadata": {},
     "output_type": "display_data"
    },
    {
     "data": {
      "text/html": [
       "<pre>+---------+-------------------+------------------------------------------+</pre>"
      ],
      "text/plain": [
       "+---------+-------------------+------------------------------------------+"
      ]
     },
     "metadata": {},
     "output_type": "display_data"
    },
    {
     "data": {
      "text/html": [
       "<pre>| 0       | 4.16667           | Not Viable                               |</pre>"
      ],
      "text/plain": [
       "| 0       | 4.16667           | Not Viable                               |"
      ]
     },
     "metadata": {},
     "output_type": "display_data"
    },
    {
     "data": {
      "text/html": [
       "<pre>| 1       | 1.04167           | Not Viable                               |</pre>"
      ],
      "text/plain": [
       "| 1       | 1.04167           | Not Viable                               |"
      ]
     },
     "metadata": {},
     "output_type": "display_data"
    },
    {
     "data": {
      "text/html": [
       "<pre>| 2       | 0.260417          | 0.598419                                 |</pre>"
      ],
      "text/plain": [
       "| 2       | 0.260417          | 0.598419                                 |"
      ]
     },
     "metadata": {},
     "output_type": "display_data"
    },
    {
     "data": {
      "text/html": [
       "<pre>| 3       | 0.130208          | 0.249576                                 |</pre>"
      ],
      "text/plain": [
       "| 3       | 0.130208          | 0.249576                                 |"
      ]
     },
     "metadata": {},
     "output_type": "display_data"
    },
    {
     "data": {
      "text/html": [
       "<pre>| 4       | 0.0651042         | 0.102347                                 |</pre>"
      ],
      "text/plain": [
       "| 4       | 0.0651042         | 0.102347                                 |"
      ]
     },
     "metadata": {},
     "output_type": "display_data"
    },
    {
     "data": {
      "text/html": [
       "<pre>| 5       | 0.0325521         | 0.531588                                 |</pre>"
      ],
      "text/plain": [
       "| 5       | 0.0325521         | 0.531588                                 |"
      ]
     },
     "metadata": {},
     "output_type": "display_data"
    },
    {
     "data": {
      "text/html": [
       "<pre>+---------+-------------------+------------------------------------------+</pre>"
      ],
      "text/plain": [
       "+---------+-------------------+------------------------------------------+"
      ]
     },
     "metadata": {},
     "output_type": "display_data"
    },
    {
     "data": {
      "text/html": [
       "<pre>| Final   | 0.0651042         | 0.102347                                 |</pre>"
      ],
      "text/plain": [
       "| Final   | 0.0651042         | 0.102347                                 |"
      ]
     },
     "metadata": {},
     "output_type": "display_data"
    },
    {
     "data": {
      "text/html": [
       "<pre>+---------+-------------------+------------------------------------------+</pre>"
      ],
      "text/plain": [
       "+---------+-------------------+------------------------------------------+"
      ]
     },
     "metadata": {},
     "output_type": "display_data"
    },
    {
     "data": {
      "text/html": [
       "<pre>Starting Optimization.</pre>"
      ],
      "text/plain": [
       "Starting Optimization."
      ]
     },
     "metadata": {},
     "output_type": "display_data"
    },
    {
     "data": {
      "text/html": [
       "<pre>+---------+--------------+-------------------+-----------------------+-------------+</pre>"
      ],
      "text/plain": [
       "+---------+--------------+-------------------+-----------------------+-------------+"
      ]
     },
     "metadata": {},
     "output_type": "display_data"
    },
    {
     "data": {
      "text/html": [
       "<pre>| Iter.   | Elapsed Time | Approx. Objective | Approx. Training RMSE | Step Size   |</pre>"
      ],
      "text/plain": [
       "| Iter.   | Elapsed Time | Approx. Objective | Approx. Training RMSE | Step Size   |"
      ]
     },
     "metadata": {},
     "output_type": "display_data"
    },
    {
     "data": {
      "text/html": [
       "<pre>+---------+--------------+-------------------+-----------------------+-------------+</pre>"
      ],
      "text/plain": [
       "+---------+--------------+-------------------+-----------------------+-------------+"
      ]
     },
     "metadata": {},
     "output_type": "display_data"
    },
    {
     "data": {
      "text/html": [
       "<pre>| Initial | 117us        | 1.25384           | 1.11975               |             |</pre>"
      ],
      "text/plain": [
       "| Initial | 117us        | 1.25384           | 1.11975               |             |"
      ]
     },
     "metadata": {},
     "output_type": "display_data"
    },
    {
     "data": {
      "text/html": [
       "<pre>+---------+--------------+-------------------+-----------------------+-------------+</pre>"
      ],
      "text/plain": [
       "+---------+--------------+-------------------+-----------------------+-------------+"
      ]
     },
     "metadata": {},
     "output_type": "display_data"
    },
    {
     "data": {
      "text/html": [
       "<pre>| 1       | 415.719ms    | 4.99325           | 2.23306               | 0.0651042   |</pre>"
      ],
      "text/plain": [
       "| 1       | 415.719ms    | 4.99325           | 2.23306               | 0.0651042   |"
      ]
     },
     "metadata": {},
     "output_type": "display_data"
    },
    {
     "data": {
      "text/html": [
       "<pre>| 2       | 626.067ms    | 0.631597          | 0.790517              | 0.0651042   |</pre>"
      ],
      "text/plain": [
       "| 2       | 626.067ms    | 0.631597          | 0.790517              | 0.0651042   |"
      ]
     },
     "metadata": {},
     "output_type": "display_data"
    },
    {
     "data": {
      "text/html": [
       "<pre>| 3       | 945.027ms    | 0.569438          | 0.750175              | 0.0651042   |</pre>"
      ],
      "text/plain": [
       "| 3       | 945.027ms    | 0.569438          | 0.750175              | 0.0651042   |"
      ]
     },
     "metadata": {},
     "output_type": "display_data"
    },
    {
     "data": {
      "text/html": [
       "<pre>| 4       | 1.25s        | 0.54088           | 0.730893              | 0.0651042   |</pre>"
      ],
      "text/plain": [
       "| 4       | 1.25s        | 0.54088           | 0.730893              | 0.0651042   |"
      ]
     },
     "metadata": {},
     "output_type": "display_data"
    },
    {
     "data": {
      "text/html": [
       "<pre>| 5       | 1.53s        | 0.524373          | 0.71951               | 0.0651042   |</pre>"
      ],
      "text/plain": [
       "| 5       | 1.53s        | 0.524373          | 0.71951               | 0.0651042   |"
      ]
     },
     "metadata": {},
     "output_type": "display_data"
    },
    {
     "data": {
      "text/html": [
       "<pre>| 6       | 1.83s        | 0.508069          | 0.708088              | 0.0651042   |</pre>"
      ],
      "text/plain": [
       "| 6       | 1.83s        | 0.508069          | 0.708088              | 0.0651042   |"
      ]
     },
     "metadata": {},
     "output_type": "display_data"
    },
    {
     "data": {
      "text/html": [
       "<pre>| 10      | 2.99s        | 0.466175          | 0.67785               | 0.0651042   |</pre>"
      ],
      "text/plain": [
       "| 10      | 2.99s        | 0.466175          | 0.67785               | 0.0651042   |"
      ]
     },
     "metadata": {},
     "output_type": "display_data"
    },
    {
     "data": {
      "text/html": [
       "<pre>| 11      | 3.20s        | 0.462506          | 0.675135              | 0.0651042   |</pre>"
      ],
      "text/plain": [
       "| 11      | 3.20s        | 0.462506          | 0.675135              | 0.0651042   |"
      ]
     },
     "metadata": {},
     "output_type": "display_data"
    },
    {
     "data": {
      "text/html": [
       "<pre>| 15      | 4.10s        | 0.455401          | 0.669842              | 0.0651042   |</pre>"
      ],
      "text/plain": [
       "| 15      | 4.10s        | 0.455401          | 0.669842              | 0.0651042   |"
      ]
     },
     "metadata": {},
     "output_type": "display_data"
    },
    {
     "data": {
      "text/html": [
       "<pre>| 20      | 5.33s        | 0.444244          | 0.661445              | 0.0651042   |</pre>"
      ],
      "text/plain": [
       "| 20      | 5.33s        | 0.444244          | 0.661445              | 0.0651042   |"
      ]
     },
     "metadata": {},
     "output_type": "display_data"
    },
    {
     "data": {
      "text/html": [
       "<pre>| 25      | 6.90s        | 0.43055           | 0.650993              | 0.0651042   |</pre>"
      ],
      "text/plain": [
       "| 25      | 6.90s        | 0.43055           | 0.650993              | 0.0651042   |"
      ]
     },
     "metadata": {},
     "output_type": "display_data"
    },
    {
     "data": {
      "text/html": [
       "<pre>| 30      | 8.67s        | 0.366234          | 0.599542              | 0.0651042   |</pre>"
      ],
      "text/plain": [
       "| 30      | 8.67s        | 0.366234          | 0.599542              | 0.0651042   |"
      ]
     },
     "metadata": {},
     "output_type": "display_data"
    },
    {
     "data": {
      "text/html": [
       "<pre>| 35      | 9.95s        | 0.619554          | 0.782777              | 0.0651042   |</pre>"
      ],
      "text/plain": [
       "| 35      | 9.95s        | 0.619554          | 0.782777              | 0.0651042   |"
      ]
     },
     "metadata": {},
     "output_type": "display_data"
    },
    {
     "data": {
      "text/html": [
       "<pre>| 40      | 11.13s       | 0.805111          | 0.893459              | 0.0651042   |</pre>"
      ],
      "text/plain": [
       "| 40      | 11.13s       | 0.805111          | 0.893459              | 0.0651042   |"
      ]
     },
     "metadata": {},
     "output_type": "display_data"
    },
    {
     "data": {
      "text/html": [
       "<pre>| 45      | 12.30s       | 1.41622           | 1.18716               | 0.0651042   |</pre>"
      ],
      "text/plain": [
       "| 45      | 12.30s       | 1.41622           | 1.18716               | 0.0651042   |"
      ]
     },
     "metadata": {},
     "output_type": "display_data"
    },
    {
     "data": {
      "text/html": [
       "<pre>| 50      | 13.38s       | 0.647207          | 0.800193              | 0.0651042   |</pre>"
      ],
      "text/plain": [
       "| 50      | 13.38s       | 0.647207          | 0.800193              | 0.0651042   |"
      ]
     },
     "metadata": {},
     "output_type": "display_data"
    },
    {
     "data": {
      "text/html": [
       "<pre>+---------+--------------+-------------------+-----------------------+-------------+</pre>"
      ],
      "text/plain": [
       "+---------+--------------+-------------------+-----------------------+-------------+"
      ]
     },
     "metadata": {},
     "output_type": "display_data"
    },
    {
     "data": {
      "text/html": [
       "<pre>Optimization Complete: Maximum number of passes through the data reached.</pre>"
      ],
      "text/plain": [
       "Optimization Complete: Maximum number of passes through the data reached."
      ]
     },
     "metadata": {},
     "output_type": "display_data"
    },
    {
     "data": {
      "text/html": [
       "<pre>Computing final objective value and training RMSE.</pre>"
      ],
      "text/plain": [
       "Computing final objective value and training RMSE."
      ]
     },
     "metadata": {},
     "output_type": "display_data"
    },
    {
     "data": {
      "text/html": [
       "<pre>       Final objective value: 0.783335</pre>"
      ],
      "text/plain": [
       "       Final objective value: 0.783335"
      ]
     },
     "metadata": {},
     "output_type": "display_data"
    },
    {
     "data": {
      "text/html": [
       "<pre>       Final training RMSE: 0.881157</pre>"
      ],
      "text/plain": [
       "       Final training RMSE: 0.881157"
      ]
     },
     "metadata": {},
     "output_type": "display_data"
    }
   ],
   "source": [
    "regularization_vals = [0.001, 0.0001, 0.00001, 0.000001]\n",
    "models = [graphlab.factorization_recommender.create(train, 'reviewerID', 'title', 'overall',side_data_factorization=True,\n",
    "                                              max_iterations=50, num_factors=5, regularization=r)\n",
    "          for r in regularization_vals]"
   ]
  },
  {
   "cell_type": "code",
   "execution_count": 154,
   "metadata": {
    "collapsed": false
   },
   "outputs": [],
   "source": [
    "(rmse_train, rmse_test) = ([], [])\n",
    "for m in models:\n",
    "    rmse_train.append(m['training_rmse'])\n",
    "    rmse_test.append(graphlab.evaluation.rmse(test['overall'], m.predict(test)))"
   ]
  },
  {
   "cell_type": "code",
   "execution_count": 161,
   "metadata": {
    "collapsed": false
   },
   "outputs": [
    {
     "data": {
      "text/plain": [
       "<matplotlib.legend.Legend at 0x136297e50>"
      ]
     },
     "execution_count": 161,
     "metadata": {},
     "output_type": "execute_result"
    },
    {
     "data": {
      "image/png": "[encoded data removed]",
      "text/plain": [
       "<matplotlib.figure.Figure at 0x12e7e4990>"
      ]
     },
     "metadata": {},
     "output_type": "display_data"
    }
   ],
   "source": [
    "(fig, ax) = plt.subplots(figsize=(10, 8))\n",
    "[p1, p2, p3] = ax.semilogx(regularization_vals, rmse_train, \n",
    "                           regularization_vals, rmse_test, \n",
    "                           regularization_vals, len(regularization_vals) * [1]\n",
    "                           )\n",
    "ax.set_ylim([0.7, 1.6])\n",
    "ax.set_xlabel('Regularization', fontsize=20)\n",
    "ax.set_ylabel('RMSE', fontsize=20)\n",
    "ax.legend([p1, p2, p3], [\"Train\", \"Test\", \"Baseline\"])"
   ]
  },
  {
   "cell_type": "code",
   "execution_count": 147,
   "metadata": {
    "collapsed": false
   },
   "outputs": [
    {
     "data": {
      "text/html": [
       "<pre>Recsys training: model = ranking_factorization_recommender</pre>"
      ],
      "text/plain": [
       "Recsys training: model = ranking_factorization_recommender"
      ]
     },
     "metadata": {},
     "output_type": "display_data"
    },
    {
     "data": {
      "text/html": [
       "<pre>Preparing data set.</pre>"
      ],
      "text/plain": [
       "Preparing data set."
      ]
     },
     "metadata": {},
     "output_type": "display_data"
    },
    {
     "data": {
      "text/html": [
       "<pre>    Data has 89898 observations with 62708 users and 2637 items.</pre>"
      ],
      "text/plain": [
       "    Data has 89898 observations with 62708 users and 2637 items."
      ]
     },
     "metadata": {},
     "output_type": "display_data"
    },
    {
     "data": {
      "text/html": [
       "<pre>    Data prepared in: 1.21491s</pre>"
      ],
      "text/plain": [
       "    Data prepared in: 1.21491s"
      ]
     },
     "metadata": {},
     "output_type": "display_data"
    },
    {
     "data": {
      "text/html": [
       "<pre>Training ranking_factorization_recommender for recommendations.</pre>"
      ],
      "text/plain": [
       "Training ranking_factorization_recommender for recommendations."
      ]
     },
     "metadata": {},
     "output_type": "display_data"
    },
    {
     "data": {
      "text/html": [
       "<pre>+--------------------------------+--------------------------------------------------+----------+</pre>"
      ],
      "text/plain": [
       "+--------------------------------+--------------------------------------------------+----------+"
      ]
     },
     "metadata": {},
     "output_type": "display_data"
    },
    {
     "data": {
      "text/html": [
       "<pre>| Parameter                      | Description                                      | Value    |</pre>"
      ],
      "text/plain": [
       "| Parameter                      | Description                                      | Value    |"
      ]
     },
     "metadata": {},
     "output_type": "display_data"
    },
    {
     "data": {
      "text/html": [
       "<pre>+--------------------------------+--------------------------------------------------+----------+</pre>"
      ],
      "text/plain": [
       "+--------------------------------+--------------------------------------------------+----------+"
      ]
     },
     "metadata": {},
     "output_type": "display_data"
    },
    {
     "data": {
      "text/html": [
       "<pre>| num_factors                    | Factor Dimension                                 | 5        |</pre>"
      ],
      "text/plain": [
       "| num_factors                    | Factor Dimension                                 | 5        |"
      ]
     },
     "metadata": {},
     "output_type": "display_data"
    },
    {
     "data": {
      "text/html": [
       "<pre>| regularization                 | L2 Regularization on Factors                     | 0.001    |</pre>"
      ],
      "text/plain": [
       "| regularization                 | L2 Regularization on Factors                     | 0.001    |"
      ]
     },
     "metadata": {},
     "output_type": "display_data"
    },
    {
     "data": {
      "text/html": [
       "<pre>| solver                         | Solver used for training                         | adagrad  |</pre>"
      ],
      "text/plain": [
       "| solver                         | Solver used for training                         | adagrad  |"
      ]
     },
     "metadata": {},
     "output_type": "display_data"
    },
    {
     "data": {
      "text/html": [
       "<pre>| linear_regularization          | L2 Regularization on Linear Coefficients         | 1e-09    |</pre>"
      ],
      "text/plain": [
       "| linear_regularization          | L2 Regularization on Linear Coefficients         | 1e-09    |"
      ]
     },
     "metadata": {},
     "output_type": "display_data"
    },
    {
     "data": {
      "text/html": [
       "<pre>| ranking_regularization         | Rank-based Regularization Weight                 | 0.25     |</pre>"
      ],
      "text/plain": [
       "| ranking_regularization         | Rank-based Regularization Weight                 | 0.25     |"
      ]
     },
     "metadata": {},
     "output_type": "display_data"
    },
    {
     "data": {
      "text/html": [
       "<pre>| max_iterations                 | Maximum Number of Iterations                     | 50       |</pre>"
      ],
      "text/plain": [
       "| max_iterations                 | Maximum Number of Iterations                     | 50       |"
      ]
     },
     "metadata": {},
     "output_type": "display_data"
    },
    {
     "data": {
      "text/html": [
       "<pre>+--------------------------------+--------------------------------------------------+----------+</pre>"
      ],
      "text/plain": [
       "+--------------------------------+--------------------------------------------------+----------+"
      ]
     },
     "metadata": {},
     "output_type": "display_data"
    },
    {
     "data": {
      "text/html": [
       "<pre>  Optimizing model using SGD; tuning step size.</pre>"
      ],
      "text/plain": [
       "  Optimizing model using SGD; tuning step size."
      ]
     },
     "metadata": {},
     "output_type": "display_data"
    },
    {
     "data": {
      "text/html": [
       "<pre>  Using 11237 / 89898 points for tuning the step size.</pre>"
      ],
      "text/plain": [
       "  Using 11237 / 89898 points for tuning the step size."
      ]
     },
     "metadata": {},
     "output_type": "display_data"
    },
    {
     "data": {
      "text/html": [
       "<pre>+---------+-------------------+------------------------------------------+</pre>"
      ],
      "text/plain": [
       "+---------+-------------------+------------------------------------------+"
      ]
     },
     "metadata": {},
     "output_type": "display_data"
    },
    {
     "data": {
      "text/html": [
       "<pre>| Attempt | Initial Step Size | Estimated Objective Value                |</pre>"
      ],
      "text/plain": [
       "| Attempt | Initial Step Size | Estimated Objective Value                |"
      ]
     },
     "metadata": {},
     "output_type": "display_data"
    },
    {
     "data": {
      "text/html": [
       "<pre>+---------+-------------------+------------------------------------------+</pre>"
      ],
      "text/plain": [
       "+---------+-------------------+------------------------------------------+"
      ]
     },
     "metadata": {},
     "output_type": "display_data"
    },
    {
     "data": {
      "text/html": [
       "<pre>| 0       | 0.81929           | Not Viable                               |</pre>"
      ],
      "text/plain": [
       "| 0       | 0.81929           | Not Viable                               |"
      ]
     },
     "metadata": {},
     "output_type": "display_data"
    },
    {
     "data": {
      "text/html": [
       "<pre>| 1       | 0.204823          | 0.920483                                 |</pre>"
      ],
      "text/plain": [
       "| 1       | 0.204823          | 0.920483                                 |"
      ]
     },
     "metadata": {},
     "output_type": "display_data"
    },
    {
     "data": {
      "text/html": [
       "<pre>| 2       | 0.102411          | 1.01923                                  |</pre>"
      ],
      "text/plain": [
       "| 2       | 0.102411          | 1.01923                                  |"
      ]
     },
     "metadata": {},
     "output_type": "display_data"
    },
    {
     "data": {
      "text/html": [
       "<pre>| 3       | 0.0512056         | 1.66653                                  |</pre>"
      ],
      "text/plain": [
       "| 3       | 0.0512056         | 1.66653                                  |"
      ]
     },
     "metadata": {},
     "output_type": "display_data"
    },
    {
     "data": {
      "text/html": [
       "<pre>| 4       | 0.0256028         | 1.54286                                  |</pre>"
      ],
      "text/plain": [
       "| 4       | 0.0256028         | 1.54286                                  |"
      ]
     },
     "metadata": {},
     "output_type": "display_data"
    },
    {
     "data": {
      "text/html": [
       "<pre>+---------+-------------------+------------------------------------------+</pre>"
      ],
      "text/plain": [
       "+---------+-------------------+------------------------------------------+"
      ]
     },
     "metadata": {},
     "output_type": "display_data"
    },
    {
     "data": {
      "text/html": [
       "<pre>| Final   | 0.204823          | 0.920483                                 |</pre>"
      ],
      "text/plain": [
       "| Final   | 0.204823          | 0.920483                                 |"
      ]
     },
     "metadata": {},
     "output_type": "display_data"
    },
    {
     "data": {
      "text/html": [
       "<pre>+---------+-------------------+------------------------------------------+</pre>"
      ],
      "text/plain": [
       "+---------+-------------------+------------------------------------------+"
      ]
     },
     "metadata": {},
     "output_type": "display_data"
    },
    {
     "data": {
      "text/html": [
       "<pre>Starting Optimization.</pre>"
      ],
      "text/plain": [
       "Starting Optimization."
      ]
     },
     "metadata": {},
     "output_type": "display_data"
    },
    {
     "data": {
      "text/html": [
       "<pre>+---------+--------------+-------------------+-----------------------+-------------+</pre>"
      ],
      "text/plain": [
       "+---------+--------------+-------------------+-----------------------+-------------+"
      ]
     },
     "metadata": {},
     "output_type": "display_data"
    },
    {
     "data": {
      "text/html": [
       "<pre>| Iter.   | Elapsed Time | Approx. Objective | Approx. Training RMSE | Step Size   |</pre>"
      ],
      "text/plain": [
       "| Iter.   | Elapsed Time | Approx. Objective | Approx. Training RMSE | Step Size   |"
      ]
     },
     "metadata": {},
     "output_type": "display_data"
    },
    {
     "data": {
      "text/html": [
       "<pre>+---------+--------------+-------------------+-----------------------+-------------+</pre>"
      ],
      "text/plain": [
       "+---------+--------------+-------------------+-----------------------+-------------+"
      ]
     },
     "metadata": {},
     "output_type": "display_data"
    },
    {
     "data": {
      "text/html": [
       "<pre>| Initial | 109us        | 2.45864           | 1.11976               |             |</pre>"
      ],
      "text/plain": [
       "| Initial | 109us        | 2.45864           | 1.11976               |             |"
      ]
     },
     "metadata": {},
     "output_type": "display_data"
    },
    {
     "data": {
      "text/html": [
       "<pre>+---------+--------------+-------------------+-----------------------+-------------+</pre>"
      ],
      "text/plain": [
       "+---------+--------------+-------------------+-----------------------+-------------+"
      ]
     },
     "metadata": {},
     "output_type": "display_data"
    },
    {
     "data": {
      "text/html": [
       "<pre>| 1       | 685.605ms    | DIVERGED          | DIVERGED              | 0.204823    |</pre>"
      ],
      "text/plain": [
       "| 1       | 685.605ms    | DIVERGED          | DIVERGED              | 0.204823    |"
      ]
     },
     "metadata": {},
     "output_type": "display_data"
    },
    {
     "data": {
      "text/html": [
       "<pre>| RESET   | 911.781ms    | 2.45794           | 1.11967               |             |</pre>"
      ],
      "text/plain": [
       "| RESET   | 911.781ms    | 2.45794           | 1.11967               |             |"
      ]
     },
     "metadata": {},
     "output_type": "display_data"
    },
    {
     "data": {
      "text/html": [
       "<pre>| 1       | 1.42s        | 3.42975           | 1.17645               | 0.102411    |</pre>"
      ],
      "text/plain": [
       "| 1       | 1.42s        | 3.42975           | 1.17645               | 0.102411    |"
      ]
     },
     "metadata": {},
     "output_type": "display_data"
    },
    {
     "data": {
      "text/html": [
       "<pre>| 2       | 1.88s        | 1.45413           | 0.880521              | 0.102411    |</pre>"
      ],
      "text/plain": [
       "| 2       | 1.88s        | 1.45413           | 0.880521              | 0.102411    |"
      ]
     },
     "metadata": {},
     "output_type": "display_data"
    },
    {
     "data": {
      "text/html": [
       "<pre>| 3       | 2.39s        | 1.2856            | 0.786626              | 0.102411    |</pre>"
      ],
      "text/plain": [
       "| 3       | 2.39s        | 1.2856            | 0.786626              | 0.102411    |"
      ]
     },
     "metadata": {},
     "output_type": "display_data"
    },
    {
     "data": {
      "text/html": [
       "<pre>| 4       | 2.83s        | 1.19822           | 0.729336              | 0.102411    |</pre>"
      ],
      "text/plain": [
       "| 4       | 2.83s        | 1.19822           | 0.729336              | 0.102411    |"
      ]
     },
     "metadata": {},
     "output_type": "display_data"
    },
    {
     "data": {
      "text/html": [
       "<pre>| 5       | 3.36s        | 1.14468           | 0.691496              | 0.102411    |</pre>"
      ],
      "text/plain": [
       "| 5       | 3.36s        | 1.14468           | 0.691496              | 0.102411    |"
      ]
     },
     "metadata": {},
     "output_type": "display_data"
    },
    {
     "data": {
      "text/html": [
       "<pre>| 6       | 3.90s        | 1.10556           | 0.659829              | 0.102411    |</pre>"
      ],
      "text/plain": [
       "| 6       | 3.90s        | 1.10556           | 0.659829              | 0.102411    |"
      ]
     },
     "metadata": {},
     "output_type": "display_data"
    },
    {
     "data": {
      "text/html": [
       "<pre>| 9       | 5.32s        | 1.03477           | 0.597579              | 0.102411    |</pre>"
      ],
      "text/plain": [
       "| 9       | 5.32s        | 1.03477           | 0.597579              | 0.102411    |"
      ]
     },
     "metadata": {},
     "output_type": "display_data"
    },
    {
     "data": {
      "text/html": [
       "<pre>| 11      | 6.75s        | 1.00454           | 0.570024              | 0.102411    |</pre>"
      ],
      "text/plain": [
       "| 11      | 6.75s        | 1.00454           | 0.570024              | 0.102411    |"
      ]
     },
     "metadata": {},
     "output_type": "display_data"
    },
    {
     "data": {
      "text/html": [
       "<pre>| 14      | 8.32s        | 0.976964          | 0.540396              | 0.102411    |</pre>"
      ],
      "text/plain": [
       "| 14      | 8.32s        | 0.976964          | 0.540396              | 0.102411    |"
      ]
     },
     "metadata": {},
     "output_type": "display_data"
    },
    {
     "data": {
      "text/html": [
       "<pre>| 19      | 11.54s       | 0.949366          | 0.506835              | 0.102411    |</pre>"
      ],
      "text/plain": [
       "| 19      | 11.54s       | 0.949366          | 0.506835              | 0.102411    |"
      ]
     },
     "metadata": {},
     "output_type": "display_data"
    },
    {
     "data": {
      "text/html": [
       "<pre>| 24      | 14.19s       | 0.938098          | 0.484679              | 0.102411    |</pre>"
      ],
      "text/plain": [
       "| 24      | 14.19s       | 0.938098          | 0.484679              | 0.102411    |"
      ]
     },
     "metadata": {},
     "output_type": "display_data"
    },
    {
     "data": {
      "text/html": [
       "<pre>| 29      | 16.41s       | 0.914154          | 0.468969              | 0.102411    |</pre>"
      ],
      "text/plain": [
       "| 29      | 16.41s       | 0.914154          | 0.468969              | 0.102411    |"
      ]
     },
     "metadata": {},
     "output_type": "display_data"
    },
    {
     "data": {
      "text/html": [
       "<pre>| 34      | 19.71s       | 0.910135          | 0.457377              | 0.102411    |</pre>"
      ],
      "text/plain": [
       "| 34      | 19.71s       | 0.910135          | 0.457377              | 0.102411    |"
      ]
     },
     "metadata": {},
     "output_type": "display_data"
    },
    {
     "data": {
      "text/html": [
       "<pre>| 39      | 23.29s       | 0.908086          | 0.449031              | 0.102411    |</pre>"
      ],
      "text/plain": [
       "| 39      | 23.29s       | 0.908086          | 0.449031              | 0.102411    |"
      ]
     },
     "metadata": {},
     "output_type": "display_data"
    },
    {
     "data": {
      "text/html": [
       "<pre>| 44      | 26.11s       | 0.901781          | 0.443664              | 0.102411    |</pre>"
      ],
      "text/plain": [
       "| 44      | 26.11s       | 0.901781          | 0.443664              | 0.102411    |"
      ]
     },
     "metadata": {},
     "output_type": "display_data"
    },
    {
     "data": {
      "text/html": [
       "<pre>| 49      | 28.78s       | 0.89222           | 0.44057               | 0.102411    |</pre>"
      ],
      "text/plain": [
       "| 49      | 28.78s       | 0.89222           | 0.44057               | 0.102411    |"
      ]
     },
     "metadata": {},
     "output_type": "display_data"
    },
    {
     "data": {
      "text/html": [
       "<pre>+---------+--------------+-------------------+-----------------------+-------------+</pre>"
      ],
      "text/plain": [
       "+---------+--------------+-------------------+-----------------------+-------------+"
      ]
     },
     "metadata": {},
     "output_type": "display_data"
    },
    {
     "data": {
      "text/html": [
       "<pre>Optimization Complete: Maximum number of passes through the data reached.</pre>"
      ],
      "text/plain": [
       "Optimization Complete: Maximum number of passes through the data reached."
      ]
     },
     "metadata": {},
     "output_type": "display_data"
    },
    {
     "data": {
      "text/html": [
       "<pre>Computing final objective value and training RMSE.</pre>"
      ],
      "text/plain": [
       "Computing final objective value and training RMSE."
      ]
     },
     "metadata": {},
     "output_type": "display_data"
    },
    {
     "data": {
      "text/html": [
       "<pre>       Final objective value: 0.94592</pre>"
      ],
      "text/plain": [
       "       Final objective value: 0.94592"
      ]
     },
     "metadata": {},
     "output_type": "display_data"
    },
    {
     "data": {
      "text/html": [
       "<pre>       Final training RMSE: 0.510657</pre>"
      ],
      "text/plain": [
       "       Final training RMSE: 0.510657"
      ]
     },
     "metadata": {},
     "output_type": "display_data"
    },
    {
     "data": {
      "text/html": [
       "<pre>Recsys training: model = ranking_factorization_recommender</pre>"
      ],
      "text/plain": [
       "Recsys training: model = ranking_factorization_recommender"
      ]
     },
     "metadata": {},
     "output_type": "display_data"
    },
    {
     "data": {
      "text/html": [
       "<pre>Preparing data set.</pre>"
      ],
      "text/plain": [
       "Preparing data set."
      ]
     },
     "metadata": {},
     "output_type": "display_data"
    },
    {
     "data": {
      "text/html": [
       "<pre>    Data has 89898 observations with 62708 users and 2637 items.</pre>"
      ],
      "text/plain": [
       "    Data has 89898 observations with 62708 users and 2637 items."
      ]
     },
     "metadata": {},
     "output_type": "display_data"
    },
    {
     "data": {
      "text/html": [
       "<pre>    Data prepared in: 1.15873s</pre>"
      ],
      "text/plain": [
       "    Data prepared in: 1.15873s"
      ]
     },
     "metadata": {},
     "output_type": "display_data"
    },
    {
     "data": {
      "text/html": [
       "<pre>Training ranking_factorization_recommender for recommendations.</pre>"
      ],
      "text/plain": [
       "Training ranking_factorization_recommender for recommendations."
      ]
     },
     "metadata": {},
     "output_type": "display_data"
    },
    {
     "data": {
      "text/html": [
       "<pre>+--------------------------------+--------------------------------------------------+----------+</pre>"
      ],
      "text/plain": [
       "+--------------------------------+--------------------------------------------------+----------+"
      ]
     },
     "metadata": {},
     "output_type": "display_data"
    },
    {
     "data": {
      "text/html": [
       "<pre>| Parameter                      | Description                                      | Value    |</pre>"
      ],
      "text/plain": [
       "| Parameter                      | Description                                      | Value    |"
      ]
     },
     "metadata": {},
     "output_type": "display_data"
    },
    {
     "data": {
      "text/html": [
       "<pre>+--------------------------------+--------------------------------------------------+----------+</pre>"
      ],
      "text/plain": [
       "+--------------------------------+--------------------------------------------------+----------+"
      ]
     },
     "metadata": {},
     "output_type": "display_data"
    },
    {
     "data": {
      "text/html": [
       "<pre>| num_factors                    | Factor Dimension                                 | 5        |</pre>"
      ],
      "text/plain": [
       "| num_factors                    | Factor Dimension                                 | 5        |"
      ]
     },
     "metadata": {},
     "output_type": "display_data"
    },
    {
     "data": {
      "text/html": [
       "<pre>| regularization                 | L2 Regularization on Factors                     | 0.0001   |</pre>"
      ],
      "text/plain": [
       "| regularization                 | L2 Regularization on Factors                     | 0.0001   |"
      ]
     },
     "metadata": {},
     "output_type": "display_data"
    },
    {
     "data": {
      "text/html": [
       "<pre>| solver                         | Solver used for training                         | adagrad  |</pre>"
      ],
      "text/plain": [
       "| solver                         | Solver used for training                         | adagrad  |"
      ]
     },
     "metadata": {},
     "output_type": "display_data"
    },
    {
     "data": {
      "text/html": [
       "<pre>| linear_regularization          | L2 Regularization on Linear Coefficients         | 1e-09    |</pre>"
      ],
      "text/plain": [
       "| linear_regularization          | L2 Regularization on Linear Coefficients         | 1e-09    |"
      ]
     },
     "metadata": {},
     "output_type": "display_data"
    },
    {
     "data": {
      "text/html": [
       "<pre>| ranking_regularization         | Rank-based Regularization Weight                 | 0.25     |</pre>"
      ],
      "text/plain": [
       "| ranking_regularization         | Rank-based Regularization Weight                 | 0.25     |"
      ]
     },
     "metadata": {},
     "output_type": "display_data"
    },
    {
     "data": {
      "text/html": [
       "<pre>| max_iterations                 | Maximum Number of Iterations                     | 50       |</pre>"
      ],
      "text/plain": [
       "| max_iterations                 | Maximum Number of Iterations                     | 50       |"
      ]
     },
     "metadata": {},
     "output_type": "display_data"
    },
    {
     "data": {
      "text/html": [
       "<pre>+--------------------------------+--------------------------------------------------+----------+</pre>"
      ],
      "text/plain": [
       "+--------------------------------+--------------------------------------------------+----------+"
      ]
     },
     "metadata": {},
     "output_type": "display_data"
    },
    {
     "data": {
      "text/html": [
       "<pre>  Optimizing model using SGD; tuning step size.</pre>"
      ],
      "text/plain": [
       "  Optimizing model using SGD; tuning step size."
      ]
     },
     "metadata": {},
     "output_type": "display_data"
    },
    {
     "data": {
      "text/html": [
       "<pre>  Using 11237 / 89898 points for tuning the step size.</pre>"
      ],
      "text/plain": [
       "  Using 11237 / 89898 points for tuning the step size."
      ]
     },
     "metadata": {},
     "output_type": "display_data"
    },
    {
     "data": {
      "text/html": [
       "<pre>+---------+-------------------+------------------------------------------+</pre>"
      ],
      "text/plain": [
       "+---------+-------------------+------------------------------------------+"
      ]
     },
     "metadata": {},
     "output_type": "display_data"
    },
    {
     "data": {
      "text/html": [
       "<pre>| Attempt | Initial Step Size | Estimated Objective Value                |</pre>"
      ],
      "text/plain": [
       "| Attempt | Initial Step Size | Estimated Objective Value                |"
      ]
     },
     "metadata": {},
     "output_type": "display_data"
    },
    {
     "data": {
      "text/html": [
       "<pre>+---------+-------------------+------------------------------------------+</pre>"
      ],
      "text/plain": [
       "+---------+-------------------+------------------------------------------+"
      ]
     },
     "metadata": {},
     "output_type": "display_data"
    },
    {
     "data": {
      "text/html": [
       "<pre>| 0       | 4.16667           | Not Viable                               |</pre>"
      ],
      "text/plain": [
       "| 0       | 4.16667           | Not Viable                               |"
      ]
     },
     "metadata": {},
     "output_type": "display_data"
    },
    {
     "data": {
      "text/html": [
       "<pre>| 1       | 1.04167           | Not Viable                               |</pre>"
      ],
      "text/plain": [
       "| 1       | 1.04167           | Not Viable                               |"
      ]
     },
     "metadata": {},
     "output_type": "display_data"
    },
    {
     "data": {
      "text/html": [
       "<pre>| 2       | 0.260417          | 1.77651                                  |</pre>"
      ],
      "text/plain": [
       "| 2       | 0.260417          | 1.77651                                  |"
      ]
     },
     "metadata": {},
     "output_type": "display_data"
    },
    {
     "data": {
      "text/html": [
       "<pre>| 3       | 0.130208          | 1.45174                                  |</pre>"
      ],
      "text/plain": [
       "| 3       | 0.130208          | 1.45174                                  |"
      ]
     },
     "metadata": {},
     "output_type": "display_data"
    },
    {
     "data": {
      "text/html": [
       "<pre>| 4       | 0.0651042         | 0.995437                                 |</pre>"
      ],
      "text/plain": [
       "| 4       | 0.0651042         | 0.995437                                 |"
      ]
     },
     "metadata": {},
     "output_type": "display_data"
    },
    {
     "data": {
      "text/html": [
       "<pre>| 5       | 0.0325521         | 1.63947                                  |</pre>"
      ],
      "text/plain": [
       "| 5       | 0.0325521         | 1.63947                                  |"
      ]
     },
     "metadata": {},
     "output_type": "display_data"
    },
    {
     "data": {
      "text/html": [
       "<pre>| 6       | 0.016276          | 1.66704                                  |</pre>"
      ],
      "text/plain": [
       "| 6       | 0.016276          | 1.66704                                  |"
      ]
     },
     "metadata": {},
     "output_type": "display_data"
    },
    {
     "data": {
      "text/html": [
       "<pre>| 7       | 0.00813802        | 1.85499                                  |</pre>"
      ],
      "text/plain": [
       "| 7       | 0.00813802        | 1.85499                                  |"
      ]
     },
     "metadata": {},
     "output_type": "display_data"
    },
    {
     "data": {
      "text/html": [
       "<pre>+---------+-------------------+------------------------------------------+</pre>"
      ],
      "text/plain": [
       "+---------+-------------------+------------------------------------------+"
      ]
     },
     "metadata": {},
     "output_type": "display_data"
    },
    {
     "data": {
      "text/html": [
       "<pre>| Final   | 0.0651042         | 0.995437                                 |</pre>"
      ],
      "text/plain": [
       "| Final   | 0.0651042         | 0.995437                                 |"
      ]
     },
     "metadata": {},
     "output_type": "display_data"
    },
    {
     "data": {
      "text/html": [
       "<pre>+---------+-------------------+------------------------------------------+</pre>"
      ],
      "text/plain": [
       "+---------+-------------------+------------------------------------------+"
      ]
     },
     "metadata": {},
     "output_type": "display_data"
    },
    {
     "data": {
      "text/html": [
       "<pre>Starting Optimization.</pre>"
      ],
      "text/plain": [
       "Starting Optimization."
      ]
     },
     "metadata": {},
     "output_type": "display_data"
    },
    {
     "data": {
      "text/html": [
       "<pre>+---------+--------------+-------------------+-----------------------+-------------+</pre>"
      ],
      "text/plain": [
       "+---------+--------------+-------------------+-----------------------+-------------+"
      ]
     },
     "metadata": {},
     "output_type": "display_data"
    },
    {
     "data": {
      "text/html": [
       "<pre>| Iter.   | Elapsed Time | Approx. Objective | Approx. Training RMSE | Step Size   |</pre>"
      ],
      "text/plain": [
       "| Iter.   | Elapsed Time | Approx. Objective | Approx. Training RMSE | Step Size   |"
      ]
     },
     "metadata": {},
     "output_type": "display_data"
    },
    {
     "data": {
      "text/html": [
       "<pre>+---------+--------------+-------------------+-----------------------+-------------+</pre>"
      ],
      "text/plain": [
       "+---------+--------------+-------------------+-----------------------+-------------+"
      ]
     },
     "metadata": {},
     "output_type": "display_data"
    },
    {
     "data": {
      "text/html": [
       "<pre>| Initial | 138us        | 2.45871           | 1.11979               |             |</pre>"
      ],
      "text/plain": [
       "| Initial | 138us        | 2.45871           | 1.11979               |             |"
      ]
     },
     "metadata": {},
     "output_type": "display_data"
    },
    {
     "data": {
      "text/html": [
       "<pre>+---------+--------------+-------------------+-----------------------+-------------+</pre>"
      ],
      "text/plain": [
       "+---------+--------------+-------------------+-----------------------+-------------+"
      ]
     },
     "metadata": {},
     "output_type": "display_data"
    },
    {
     "data": {
      "text/html": [
       "<pre>| 1       | 1.10s        | 5.59688           | 1.68015               | 0.0651042   |</pre>"
      ],
      "text/plain": [
       "| 1       | 1.10s        | 5.59688           | 1.68015               | 0.0651042   |"
      ]
     },
     "metadata": {},
     "output_type": "display_data"
    },
    {
     "data": {
      "text/html": [
       "<pre>| 2       | 1.86s        | 1.95319           | 0.939421              | 0.0651042   |</pre>"
      ],
      "text/plain": [
       "| 2       | 1.86s        | 1.95319           | 0.939421              | 0.0651042   |"
      ]
     },
     "metadata": {},
     "output_type": "display_data"
    },
    {
     "data": {
      "text/html": [
       "<pre>| 3       | 2.33s        | 1.73907           | 0.851052              | 0.0651042   |</pre>"
      ],
      "text/plain": [
       "| 3       | 2.33s        | 1.73907           | 0.851052              | 0.0651042   |"
      ]
     },
     "metadata": {},
     "output_type": "display_data"
    },
    {
     "data": {
      "text/html": [
       "<pre>| 4       | 3.06s        | 1.72685           | 0.860212              | 0.0651042   |</pre>"
      ],
      "text/plain": [
       "| 4       | 3.06s        | 1.72685           | 0.860212              | 0.0651042   |"
      ]
     },
     "metadata": {},
     "output_type": "display_data"
    },
    {
     "data": {
      "text/html": [
       "<pre>| 5       | 3.59s        | 1.61717           | 0.804458              | 0.0651042   |</pre>"
      ],
      "text/plain": [
       "| 5       | 3.59s        | 1.61717           | 0.804458              | 0.0651042   |"
      ]
     },
     "metadata": {},
     "output_type": "display_data"
    },
    {
     "data": {
      "text/html": [
       "<pre>| 6       | 4.10s        | 1.5886            | 0.790483              | 0.0651042   |</pre>"
      ],
      "text/plain": [
       "| 6       | 4.10s        | 1.5886            | 0.790483              | 0.0651042   |"
      ]
     },
     "metadata": {},
     "output_type": "display_data"
    },
    {
     "data": {
      "text/html": [
       "<pre>| 10      | 5.97s        | 1.45458           | 0.732755              | 0.0651042   |</pre>"
      ],
      "text/plain": [
       "| 10      | 5.97s        | 1.45458           | 0.732755              | 0.0651042   |"
      ]
     },
     "metadata": {},
     "output_type": "display_data"
    },
    {
     "data": {
      "text/html": [
       "<pre>| 11      | 6.49s        | 1.43225           | 0.724364              | 0.0651042   |</pre>"
      ],
      "text/plain": [
       "| 11      | 6.49s        | 1.43225           | 0.724364              | 0.0651042   |"
      ]
     },
     "metadata": {},
     "output_type": "display_data"
    },
    {
     "data": {
      "text/html": [
       "<pre>| 15      | 8.69s        | 1.37189           | 0.698131              | 0.0651042   |</pre>"
      ],
      "text/plain": [
       "| 15      | 8.69s        | 1.37189           | 0.698131              | 0.0651042   |"
      ]
     },
     "metadata": {},
     "output_type": "display_data"
    },
    {
     "data": {
      "text/html": [
       "<pre>| 20      | 11.94s       | 1.29492           | 0.662059              | 0.0651042   |</pre>"
      ],
      "text/plain": [
       "| 20      | 11.94s       | 1.29492           | 0.662059              | 0.0651042   |"
      ]
     },
     "metadata": {},
     "output_type": "display_data"
    },
    {
     "data": {
      "text/html": [
       "<pre>| 25      | 14.72s       | 1.30016           | 0.646085              | 0.0651042   |</pre>"
      ],
      "text/plain": [
       "| 25      | 14.72s       | 1.30016           | 0.646085              | 0.0651042   |"
      ]
     },
     "metadata": {},
     "output_type": "display_data"
    },
    {
     "data": {
      "text/html": [
       "<pre>| 30      | 17.43s       | 1.47631           | 0.672091              | 0.0651042   |</pre>"
      ],
      "text/plain": [
       "| 30      | 17.43s       | 1.47631           | 0.672091              | 0.0651042   |"
      ]
     },
     "metadata": {},
     "output_type": "display_data"
    },
    {
     "data": {
      "text/html": [
       "<pre>| 35      | 20.28s       | 1.18623           | 0.572058              | 0.0651042   |</pre>"
      ],
      "text/plain": [
       "| 35      | 20.28s       | 1.18623           | 0.572058              | 0.0651042   |"
      ]
     },
     "metadata": {},
     "output_type": "display_data"
    },
    {
     "data": {
      "text/html": [
       "<pre>| 40      | 23.03s       | 1.26382           | 0.661719              | 0.0651042   |</pre>"
      ],
      "text/plain": [
       "| 40      | 23.03s       | 1.26382           | 0.661719              | 0.0651042   |"
      ]
     },
     "metadata": {},
     "output_type": "display_data"
    },
    {
     "data": {
      "text/html": [
       "<pre>| 45      | 25.54s       | 3.135             | 1.2084                | 0.0651042   |</pre>"
      ],
      "text/plain": [
       "| 45      | 25.54s       | 3.135             | 1.2084                | 0.0651042   |"
      ]
     },
     "metadata": {},
     "output_type": "display_data"
    },
    {
     "data": {
      "text/html": [
       "<pre>| 50      | 28.41s       | 1.91259           | 0.77795               | 0.0651042   |</pre>"
      ],
      "text/plain": [
       "| 50      | 28.41s       | 1.91259           | 0.77795               | 0.0651042   |"
      ]
     },
     "metadata": {},
     "output_type": "display_data"
    },
    {
     "data": {
      "text/html": [
       "<pre>+---------+--------------+-------------------+-----------------------+-------------+</pre>"
      ],
      "text/plain": [
       "+---------+--------------+-------------------+-----------------------+-------------+"
      ]
     },
     "metadata": {},
     "output_type": "display_data"
    },
    {
     "data": {
      "text/html": [
       "<pre>Optimization Complete: Maximum number of passes through the data reached.</pre>"
      ],
      "text/plain": [
       "Optimization Complete: Maximum number of passes through the data reached."
      ]
     },
     "metadata": {},
     "output_type": "display_data"
    },
    {
     "data": {
      "text/html": [
       "<pre>Computing final objective value and training RMSE.</pre>"
      ],
      "text/plain": [
       "Computing final objective value and training RMSE."
      ]
     },
     "metadata": {},
     "output_type": "display_data"
    },
    {
     "data": {
      "text/html": [
       "<pre>       Final objective value: 6.89797</pre>"
      ],
      "text/plain": [
       "       Final objective value: 6.89797"
      ]
     },
     "metadata": {},
     "output_type": "display_data"
    },
    {
     "data": {
      "text/html": [
       "<pre>       Final training RMSE: 2.15718</pre>"
      ],
      "text/plain": [
       "       Final training RMSE: 2.15718"
      ]
     },
     "metadata": {},
     "output_type": "display_data"
    },
    {
     "data": {
      "text/html": [
       "<pre>Recsys training: model = ranking_factorization_recommender</pre>"
      ],
      "text/plain": [
       "Recsys training: model = ranking_factorization_recommender"
      ]
     },
     "metadata": {},
     "output_type": "display_data"
    },
    {
     "data": {
      "text/html": [
       "<pre>Preparing data set.</pre>"
      ],
      "text/plain": [
       "Preparing data set."
      ]
     },
     "metadata": {},
     "output_type": "display_data"
    },
    {
     "data": {
      "text/html": [
       "<pre>    Data has 89898 observations with 62708 users and 2637 items.</pre>"
      ],
      "text/plain": [
       "    Data has 89898 observations with 62708 users and 2637 items."
      ]
     },
     "metadata": {},
     "output_type": "display_data"
    },
    {
     "data": {
      "text/html": [
       "<pre>    Data prepared in: 1.23541s</pre>"
      ],
      "text/plain": [
       "    Data prepared in: 1.23541s"
      ]
     },
     "metadata": {},
     "output_type": "display_data"
    },
    {
     "data": {
      "text/html": [
       "<pre>Training ranking_factorization_recommender for recommendations.</pre>"
      ],
      "text/plain": [
       "Training ranking_factorization_recommender for recommendations."
      ]
     },
     "metadata": {},
     "output_type": "display_data"
    },
    {
     "data": {
      "text/html": [
       "<pre>+--------------------------------+--------------------------------------------------+----------+</pre>"
      ],
      "text/plain": [
       "+--------------------------------+--------------------------------------------------+----------+"
      ]
     },
     "metadata": {},
     "output_type": "display_data"
    },
    {
     "data": {
      "text/html": [
       "<pre>| Parameter                      | Description                                      | Value    |</pre>"
      ],
      "text/plain": [
       "| Parameter                      | Description                                      | Value    |"
      ]
     },
     "metadata": {},
     "output_type": "display_data"
    },
    {
     "data": {
      "text/html": [
       "<pre>+--------------------------------+--------------------------------------------------+----------+</pre>"
      ],
      "text/plain": [
       "+--------------------------------+--------------------------------------------------+----------+"
      ]
     },
     "metadata": {},
     "output_type": "display_data"
    },
    {
     "data": {
      "text/html": [
       "<pre>| num_factors                    | Factor Dimension                                 | 5        |</pre>"
      ],
      "text/plain": [
       "| num_factors                    | Factor Dimension                                 | 5        |"
      ]
     },
     "metadata": {},
     "output_type": "display_data"
    },
    {
     "data": {
      "text/html": [
       "<pre>| regularization                 | L2 Regularization on Factors                     | 1e-05    |</pre>"
      ],
      "text/plain": [
       "| regularization                 | L2 Regularization on Factors                     | 1e-05    |"
      ]
     },
     "metadata": {},
     "output_type": "display_data"
    },
    {
     "data": {
      "text/html": [
       "<pre>| solver                         | Solver used for training                         | adagrad  |</pre>"
      ],
      "text/plain": [
       "| solver                         | Solver used for training                         | adagrad  |"
      ]
     },
     "metadata": {},
     "output_type": "display_data"
    },
    {
     "data": {
      "text/html": [
       "<pre>| linear_regularization          | L2 Regularization on Linear Coefficients         | 1e-09    |</pre>"
      ],
      "text/plain": [
       "| linear_regularization          | L2 Regularization on Linear Coefficients         | 1e-09    |"
      ]
     },
     "metadata": {},
     "output_type": "display_data"
    },
    {
     "data": {
      "text/html": [
       "<pre>| ranking_regularization         | Rank-based Regularization Weight                 | 0.25     |</pre>"
      ],
      "text/plain": [
       "| ranking_regularization         | Rank-based Regularization Weight                 | 0.25     |"
      ]
     },
     "metadata": {},
     "output_type": "display_data"
    },
    {
     "data": {
      "text/html": [
       "<pre>| max_iterations                 | Maximum Number of Iterations                     | 50       |</pre>"
      ],
      "text/plain": [
       "| max_iterations                 | Maximum Number of Iterations                     | 50       |"
      ]
     },
     "metadata": {},
     "output_type": "display_data"
    },
    {
     "data": {
      "text/html": [
       "<pre>+--------------------------------+--------------------------------------------------+----------+</pre>"
      ],
      "text/plain": [
       "+--------------------------------+--------------------------------------------------+----------+"
      ]
     },
     "metadata": {},
     "output_type": "display_data"
    },
    {
     "data": {
      "text/html": [
       "<pre>  Optimizing model using SGD; tuning step size.</pre>"
      ],
      "text/plain": [
       "  Optimizing model using SGD; tuning step size."
      ]
     },
     "metadata": {},
     "output_type": "display_data"
    },
    {
     "data": {
      "text/html": [
       "<pre>  Using 11237 / 89898 points for tuning the step size.</pre>"
      ],
      "text/plain": [
       "  Using 11237 / 89898 points for tuning the step size."
      ]
     },
     "metadata": {},
     "output_type": "display_data"
    },
    {
     "data": {
      "text/html": [
       "<pre>+---------+-------------------+------------------------------------------+</pre>"
      ],
      "text/plain": [
       "+---------+-------------------+------------------------------------------+"
      ]
     },
     "metadata": {},
     "output_type": "display_data"
    },
    {
     "data": {
      "text/html": [
       "<pre>| Attempt | Initial Step Size | Estimated Objective Value                |</pre>"
      ],
      "text/plain": [
       "| Attempt | Initial Step Size | Estimated Objective Value                |"
      ]
     },
     "metadata": {},
     "output_type": "display_data"
    },
    {
     "data": {
      "text/html": [
       "<pre>+---------+-------------------+------------------------------------------+</pre>"
      ],
      "text/plain": [
       "+---------+-------------------+------------------------------------------+"
      ]
     },
     "metadata": {},
     "output_type": "display_data"
    },
    {
     "data": {
      "text/html": [
       "<pre>| 0       | 4.16667           | Not Viable                               |</pre>"
      ],
      "text/plain": [
       "| 0       | 4.16667           | Not Viable                               |"
      ]
     },
     "metadata": {},
     "output_type": "display_data"
    },
    {
     "data": {
      "text/html": [
       "<pre>| 1       | 1.04167           | Not Viable                               |</pre>"
      ],
      "text/plain": [
       "| 1       | 1.04167           | Not Viable                               |"
      ]
     },
     "metadata": {},
     "output_type": "display_data"
    },
    {
     "data": {
      "text/html": [
       "<pre>| 2       | 0.260417          | 1.19999                                  |</pre>"
      ],
      "text/plain": [
       "| 2       | 0.260417          | 1.19999                                  |"
      ]
     },
     "metadata": {},
     "output_type": "display_data"
    },
    {
     "data": {
      "text/html": [
       "<pre>| 3       | 0.130208          | Not Viable                               |</pre>"
      ],
      "text/plain": [
       "| 3       | 0.130208          | Not Viable                               |"
      ]
     },
     "metadata": {},
     "output_type": "display_data"
    },
    {
     "data": {
      "text/html": [
       "<pre>| 4       | 0.0325521         | 0.986716                                 |</pre>"
      ],
      "text/plain": [
       "| 4       | 0.0325521         | 0.986716                                 |"
      ]
     },
     "metadata": {},
     "output_type": "display_data"
    },
    {
     "data": {
      "text/html": [
       "<pre>| 5       | 0.016276          | 1.51044                                  |</pre>"
      ],
      "text/plain": [
       "| 5       | 0.016276          | 1.51044                                  |"
      ]
     },
     "metadata": {},
     "output_type": "display_data"
    },
    {
     "data": {
      "text/html": [
       "<pre>| 6       | 0.00813802        | 1.75914                                  |</pre>"
      ],
      "text/plain": [
       "| 6       | 0.00813802        | 1.75914                                  |"
      ]
     },
     "metadata": {},
     "output_type": "display_data"
    },
    {
     "data": {
      "text/html": [
       "<pre>| 7       | 0.00406901        | 2.0231                                   |</pre>"
      ],
      "text/plain": [
       "| 7       | 0.00406901        | 2.0231                                   |"
      ]
     },
     "metadata": {},
     "output_type": "display_data"
    },
    {
     "data": {
      "text/html": [
       "<pre>+---------+-------------------+------------------------------------------+</pre>"
      ],
      "text/plain": [
       "+---------+-------------------+------------------------------------------+"
      ]
     },
     "metadata": {},
     "output_type": "display_data"
    },
    {
     "data": {
      "text/html": [
       "<pre>| Final   | 0.0325521         | 0.986716                                 |</pre>"
      ],
      "text/plain": [
       "| Final   | 0.0325521         | 0.986716                                 |"
      ]
     },
     "metadata": {},
     "output_type": "display_data"
    },
    {
     "data": {
      "text/html": [
       "<pre>+---------+-------------------+------------------------------------------+</pre>"
      ],
      "text/plain": [
       "+---------+-------------------+------------------------------------------+"
      ]
     },
     "metadata": {},
     "output_type": "display_data"
    },
    {
     "data": {
      "text/html": [
       "<pre>Starting Optimization.</pre>"
      ],
      "text/plain": [
       "Starting Optimization."
      ]
     },
     "metadata": {},
     "output_type": "display_data"
    },
    {
     "data": {
      "text/html": [
       "<pre>+---------+--------------+-------------------+-----------------------+-------------+</pre>"
      ],
      "text/plain": [
       "+---------+--------------+-------------------+-----------------------+-------------+"
      ]
     },
     "metadata": {},
     "output_type": "display_data"
    },
    {
     "data": {
      "text/html": [
       "<pre>| Iter.   | Elapsed Time | Approx. Objective | Approx. Training RMSE | Step Size   |</pre>"
      ],
      "text/plain": [
       "| Iter.   | Elapsed Time | Approx. Objective | Approx. Training RMSE | Step Size   |"
      ]
     },
     "metadata": {},
     "output_type": "display_data"
    },
    {
     "data": {
      "text/html": [
       "<pre>+---------+--------------+-------------------+-----------------------+-------------+</pre>"
      ],
      "text/plain": [
       "+---------+--------------+-------------------+-----------------------+-------------+"
      ]
     },
     "metadata": {},
     "output_type": "display_data"
    },
    {
     "data": {
      "text/html": [
       "<pre>| Initial | 137us        | 2.45873           | 1.1198                |             |</pre>"
      ],
      "text/plain": [
       "| Initial | 137us        | 2.45873           | 1.1198                |             |"
      ]
     },
     "metadata": {},
     "output_type": "display_data"
    },
    {
     "data": {
      "text/html": [
       "<pre>+---------+--------------+-------------------+-----------------------+-------------+</pre>"
      ],
      "text/plain": [
       "+---------+--------------+-------------------+-----------------------+-------------+"
      ]
     },
     "metadata": {},
     "output_type": "display_data"
    },
    {
     "data": {
      "text/html": [
       "<pre>| 1       | 473.733ms    | 2.20921           | 1.15842               | 0.0325521   |</pre>"
      ],
      "text/plain": [
       "| 1       | 473.733ms    | 2.20921           | 1.15842               | 0.0325521   |"
      ]
     },
     "metadata": {},
     "output_type": "display_data"
    },
    {
     "data": {
      "text/html": [
       "<pre>| 2       | 913.333ms    | 1.48405           | 0.936713              | 0.0325521   |</pre>"
      ],
      "text/plain": [
       "| 2       | 913.333ms    | 1.48405           | 0.936713              | 0.0325521   |"
      ]
     },
     "metadata": {},
     "output_type": "display_data"
    },
    {
     "data": {
      "text/html": [
       "<pre>| 3       | 1.35s        | 1.38703           | 0.925273              | 0.0325521   |</pre>"
      ],
      "text/plain": [
       "| 3       | 1.35s        | 1.38703           | 0.925273              | 0.0325521   |"
      ]
     },
     "metadata": {},
     "output_type": "display_data"
    },
    {
     "data": {
      "text/html": [
       "<pre>| 4       | 1.78s        | 1.12607           | 0.798378              | 0.0325521   |</pre>"
      ],
      "text/plain": [
       "| 4       | 1.78s        | 1.12607           | 0.798378              | 0.0325521   |"
      ]
     },
     "metadata": {},
     "output_type": "display_data"
    },
    {
     "data": {
      "text/html": [
       "<pre>| 5       | 2.21s        | 1.043             | 0.758833              | 0.0325521   |</pre>"
      ],
      "text/plain": [
       "| 5       | 2.21s        | 1.043             | 0.758833              | 0.0325521   |"
      ]
     },
     "metadata": {},
     "output_type": "display_data"
    },
    {
     "data": {
      "text/html": [
       "<pre>| 6       | 2.63s        | 0.939056          | 0.693759              | 0.0325521   |</pre>"
      ],
      "text/plain": [
       "| 6       | 2.63s        | 0.939056          | 0.693759              | 0.0325521   |"
      ]
     },
     "metadata": {},
     "output_type": "display_data"
    },
    {
     "data": {
      "text/html": [
       "<pre>| 10      | 4.30s        | 0.868841          | 0.643157              | 0.0325521   |</pre>"
      ],
      "text/plain": [
       "| 10      | 4.30s        | 0.868841          | 0.643157              | 0.0325521   |"
      ]
     },
     "metadata": {},
     "output_type": "display_data"
    },
    {
     "data": {
      "text/html": [
       "<pre>| 11      | 4.74s        | 0.772093          | 0.588834              | 0.0325521   |</pre>"
      ],
      "text/plain": [
       "| 11      | 4.74s        | 0.772093          | 0.588834              | 0.0325521   |"
      ]
     },
     "metadata": {},
     "output_type": "display_data"
    },
    {
     "data": {
      "text/html": [
       "<pre>| 15      | 6.60s        | 0.813759          | 0.568207              | 0.0325521   |</pre>"
      ],
      "text/plain": [
       "| 15      | 6.60s        | 0.813759          | 0.568207              | 0.0325521   |"
      ]
     },
     "metadata": {},
     "output_type": "display_data"
    },
    {
     "data": {
      "text/html": [
       "<pre>| 20      | 8.87s        | 0.828439          | 0.562854              | 0.0325521   |</pre>"
      ],
      "text/plain": [
       "| 20      | 8.87s        | 0.828439          | 0.562854              | 0.0325521   |"
      ]
     },
     "metadata": {},
     "output_type": "display_data"
    },
    {
     "data": {
      "text/html": [
       "<pre>| 25      | 11.29s       | 0.761207          | 0.586207              | 0.0325521   |</pre>"
      ],
      "text/plain": [
       "| 25      | 11.29s       | 0.761207          | 0.586207              | 0.0325521   |"
      ]
     },
     "metadata": {},
     "output_type": "display_data"
    },
    {
     "data": {
      "text/html": [
       "<pre>| 30      | 13.29s       | 0.71521           | 0.504848              | 0.0325521   |</pre>"
      ],
      "text/plain": [
       "| 30      | 13.29s       | 0.71521           | 0.504848              | 0.0325521   |"
      ]
     },
     "metadata": {},
     "output_type": "display_data"
    },
    {
     "data": {
      "text/html": [
       "<pre>| 35      | 15.33s       | 0.95051           | 0.591787              | 0.0325521   |</pre>"
      ],
      "text/plain": [
       "| 35      | 15.33s       | 0.95051           | 0.591787              | 0.0325521   |"
      ]
     },
     "metadata": {},
     "output_type": "display_data"
    },
    {
     "data": {
      "text/html": [
       "<pre>| 40      | 17.41s       | 0.752366          | 0.547296              | 0.0325521   |</pre>"
      ],
      "text/plain": [
       "| 40      | 17.41s       | 0.752366          | 0.547296              | 0.0325521   |"
      ]
     },
     "metadata": {},
     "output_type": "display_data"
    },
    {
     "data": {
      "text/html": [
       "<pre>| 45      | 19.46s       | 0.865509          | 0.620958              | 0.0325521   |</pre>"
      ],
      "text/plain": [
       "| 45      | 19.46s       | 0.865509          | 0.620958              | 0.0325521   |"
      ]
     },
     "metadata": {},
     "output_type": "display_data"
    },
    {
     "data": {
      "text/html": [
       "<pre>| 50      | 21.50s       | 0.713267          | 0.49397               | 0.0325521   |</pre>"
      ],
      "text/plain": [
       "| 50      | 21.50s       | 0.713267          | 0.49397               | 0.0325521   |"
      ]
     },
     "metadata": {},
     "output_type": "display_data"
    },
    {
     "data": {
      "text/html": [
       "<pre>+---------+--------------+-------------------+-----------------------+-------------+</pre>"
      ],
      "text/plain": [
       "+---------+--------------+-------------------+-----------------------+-------------+"
      ]
     },
     "metadata": {},
     "output_type": "display_data"
    },
    {
     "data": {
      "text/html": [
       "<pre>Optimization Complete: Maximum number of passes through the data reached.</pre>"
      ],
      "text/plain": [
       "Optimization Complete: Maximum number of passes through the data reached."
      ]
     },
     "metadata": {},
     "output_type": "display_data"
    },
    {
     "data": {
      "text/html": [
       "<pre>Computing final objective value and training RMSE.</pre>"
      ],
      "text/plain": [
       "Computing final objective value and training RMSE."
      ]
     },
     "metadata": {},
     "output_type": "display_data"
    },
    {
     "data": {
      "text/html": [
       "<pre>       Final objective value: 0.789354</pre>"
      ],
      "text/plain": [
       "       Final objective value: 0.789354"
      ]
     },
     "metadata": {},
     "output_type": "display_data"
    },
    {
     "data": {
      "text/html": [
       "<pre>       Final training RMSE: 0.557133</pre>"
      ],
      "text/plain": [
       "       Final training RMSE: 0.557133"
      ]
     },
     "metadata": {},
     "output_type": "display_data"
    },
    {
     "data": {
      "text/html": [
       "<pre>Recsys training: model = ranking_factorization_recommender</pre>"
      ],
      "text/plain": [
       "Recsys training: model = ranking_factorization_recommender"
      ]
     },
     "metadata": {},
     "output_type": "display_data"
    },
    {
     "data": {
      "text/html": [
       "<pre>Preparing data set.</pre>"
      ],
      "text/plain": [
       "Preparing data set."
      ]
     },
     "metadata": {},
     "output_type": "display_data"
    },
    {
     "data": {
      "text/html": [
       "<pre>    Data has 89898 observations with 62708 users and 2637 items.</pre>"
      ],
      "text/plain": [
       "    Data has 89898 observations with 62708 users and 2637 items."
      ]
     },
     "metadata": {},
     "output_type": "display_data"
    },
    {
     "data": {
      "text/html": [
       "<pre>    Data prepared in: 1.11393s</pre>"
      ],
      "text/plain": [
       "    Data prepared in: 1.11393s"
      ]
     },
     "metadata": {},
     "output_type": "display_data"
    },
    {
     "data": {
      "text/html": [
       "<pre>Training ranking_factorization_recommender for recommendations.</pre>"
      ],
      "text/plain": [
       "Training ranking_factorization_recommender for recommendations."
      ]
     },
     "metadata": {},
     "output_type": "display_data"
    },
    {
     "data": {
      "text/html": [
       "<pre>+--------------------------------+--------------------------------------------------+----------+</pre>"
      ],
      "text/plain": [
       "+--------------------------------+--------------------------------------------------+----------+"
      ]
     },
     "metadata": {},
     "output_type": "display_data"
    },
    {
     "data": {
      "text/html": [
       "<pre>| Parameter                      | Description                                      | Value    |</pre>"
      ],
      "text/plain": [
       "| Parameter                      | Description                                      | Value    |"
      ]
     },
     "metadata": {},
     "output_type": "display_data"
    },
    {
     "data": {
      "text/html": [
       "<pre>+--------------------------------+--------------------------------------------------+----------+</pre>"
      ],
      "text/plain": [
       "+--------------------------------+--------------------------------------------------+----------+"
      ]
     },
     "metadata": {},
     "output_type": "display_data"
    },
    {
     "data": {
      "text/html": [
       "<pre>| num_factors                    | Factor Dimension                                 | 5        |</pre>"
      ],
      "text/plain": [
       "| num_factors                    | Factor Dimension                                 | 5        |"
      ]
     },
     "metadata": {},
     "output_type": "display_data"
    },
    {
     "data": {
      "text/html": [
       "<pre>| regularization                 | L2 Regularization on Factors                     | 1e-06    |</pre>"
      ],
      "text/plain": [
       "| regularization                 | L2 Regularization on Factors                     | 1e-06    |"
      ]
     },
     "metadata": {},
     "output_type": "display_data"
    },
    {
     "data": {
      "text/html": [
       "<pre>| solver                         | Solver used for training                         | adagrad  |</pre>"
      ],
      "text/plain": [
       "| solver                         | Solver used for training                         | adagrad  |"
      ]
     },
     "metadata": {},
     "output_type": "display_data"
    },
    {
     "data": {
      "text/html": [
       "<pre>| linear_regularization          | L2 Regularization on Linear Coefficients         | 1e-09    |</pre>"
      ],
      "text/plain": [
       "| linear_regularization          | L2 Regularization on Linear Coefficients         | 1e-09    |"
      ]
     },
     "metadata": {},
     "output_type": "display_data"
    },
    {
     "data": {
      "text/html": [
       "<pre>| ranking_regularization         | Rank-based Regularization Weight                 | 0.25     |</pre>"
      ],
      "text/plain": [
       "| ranking_regularization         | Rank-based Regularization Weight                 | 0.25     |"
      ]
     },
     "metadata": {},
     "output_type": "display_data"
    },
    {
     "data": {
      "text/html": [
       "<pre>| max_iterations                 | Maximum Number of Iterations                     | 50       |</pre>"
      ],
      "text/plain": [
       "| max_iterations                 | Maximum Number of Iterations                     | 50       |"
      ]
     },
     "metadata": {},
     "output_type": "display_data"
    },
    {
     "data": {
      "text/html": [
       "<pre>+--------------------------------+--------------------------------------------------+----------+</pre>"
      ],
      "text/plain": [
       "+--------------------------------+--------------------------------------------------+----------+"
      ]
     },
     "metadata": {},
     "output_type": "display_data"
    },
    {
     "data": {
      "text/html": [
       "<pre>  Optimizing model using SGD; tuning step size.</pre>"
      ],
      "text/plain": [
       "  Optimizing model using SGD; tuning step size."
      ]
     },
     "metadata": {},
     "output_type": "display_data"
    },
    {
     "data": {
      "text/html": [
       "<pre>  Using 11237 / 89898 points for tuning the step size.</pre>"
      ],
      "text/plain": [
       "  Using 11237 / 89898 points for tuning the step size."
      ]
     },
     "metadata": {},
     "output_type": "display_data"
    },
    {
     "data": {
      "text/html": [
       "<pre>+---------+-------------------+------------------------------------------+</pre>"
      ],
      "text/plain": [
       "+---------+-------------------+------------------------------------------+"
      ]
     },
     "metadata": {},
     "output_type": "display_data"
    },
    {
     "data": {
      "text/html": [
       "<pre>| Attempt | Initial Step Size | Estimated Objective Value                |</pre>"
      ],
      "text/plain": [
       "| Attempt | Initial Step Size | Estimated Objective Value                |"
      ]
     },
     "metadata": {},
     "output_type": "display_data"
    },
    {
     "data": {
      "text/html": [
       "<pre>+---------+-------------------+------------------------------------------+</pre>"
      ],
      "text/plain": [
       "+---------+-------------------+------------------------------------------+"
      ]
     },
     "metadata": {},
     "output_type": "display_data"
    },
    {
     "data": {
      "text/html": [
       "<pre>| 0       | 4.16667           | Not Viable                               |</pre>"
      ],
      "text/plain": [
       "| 0       | 4.16667           | Not Viable                               |"
      ]
     },
     "metadata": {},
     "output_type": "display_data"
    },
    {
     "data": {
      "text/html": [
       "<pre>| 1       | 1.04167           | Not Viable                               |</pre>"
      ],
      "text/plain": [
       "| 1       | 1.04167           | Not Viable                               |"
      ]
     },
     "metadata": {},
     "output_type": "display_data"
    },
    {
     "data": {
      "text/html": [
       "<pre>| 2       | 0.260417          | Not Viable                               |</pre>"
      ],
      "text/plain": [
       "| 2       | 0.260417          | Not Viable                               |"
      ]
     },
     "metadata": {},
     "output_type": "display_data"
    },
    {
     "data": {
      "text/html": [
       "<pre>| 3       | 0.0651042         | 1.16145                                  |</pre>"
      ],
      "text/plain": [
       "| 3       | 0.0651042         | 1.16145                                  |"
      ]
     },
     "metadata": {},
     "output_type": "display_data"
    },
    {
     "data": {
      "text/html": [
       "<pre>| 4       | 0.0325521         | 0.958764                                 |</pre>"
      ],
      "text/plain": [
       "| 4       | 0.0325521         | 0.958764                                 |"
      ]
     },
     "metadata": {},
     "output_type": "display_data"
    },
    {
     "data": {
      "text/html": [
       "<pre>| 5       | 0.016276          | No Decrease (2.7374 >= 2.47541)          |</pre>"
      ],
      "text/plain": [
       "| 5       | 0.016276          | No Decrease (2.7374 >= 2.47541)          |"
      ]
     },
     "metadata": {},
     "output_type": "display_data"
    },
    {
     "data": {
      "text/html": [
       "<pre>| 6       | 0.00406901        | No Decrease (3.1971 >= 2.47541)          |</pre>"
      ],
      "text/plain": [
       "| 6       | 0.00406901        | No Decrease (3.1971 >= 2.47541)          |"
      ]
     },
     "metadata": {},
     "output_type": "display_data"
    },
    {
     "data": {
      "text/html": [
       "<pre>| 7       | 0.00101725        | 2.26401                                  |</pre>"
      ],
      "text/plain": [
       "| 7       | 0.00101725        | 2.26401                                  |"
      ]
     },
     "metadata": {},
     "output_type": "display_data"
    },
    {
     "data": {
      "text/html": [
       "<pre>+---------+-------------------+------------------------------------------+</pre>"
      ],
      "text/plain": [
       "+---------+-------------------+------------------------------------------+"
      ]
     },
     "metadata": {},
     "output_type": "display_data"
    },
    {
     "data": {
      "text/html": [
       "<pre>| Final   | 0.0325521         | 0.958764                                 |</pre>"
      ],
      "text/plain": [
       "| Final   | 0.0325521         | 0.958764                                 |"
      ]
     },
     "metadata": {},
     "output_type": "display_data"
    },
    {
     "data": {
      "text/html": [
       "<pre>+---------+-------------------+------------------------------------------+</pre>"
      ],
      "text/plain": [
       "+---------+-------------------+------------------------------------------+"
      ]
     },
     "metadata": {},
     "output_type": "display_data"
    },
    {
     "data": {
      "text/html": [
       "<pre>Starting Optimization.</pre>"
      ],
      "text/plain": [
       "Starting Optimization."
      ]
     },
     "metadata": {},
     "output_type": "display_data"
    },
    {
     "data": {
      "text/html": [
       "<pre>+---------+--------------+-------------------+-----------------------+-------------+</pre>"
      ],
      "text/plain": [
       "+---------+--------------+-------------------+-----------------------+-------------+"
      ]
     },
     "metadata": {},
     "output_type": "display_data"
    },
    {
     "data": {
      "text/html": [
       "<pre>| Iter.   | Elapsed Time | Approx. Objective | Approx. Training RMSE | Step Size   |</pre>"
      ],
      "text/plain": [
       "| Iter.   | Elapsed Time | Approx. Objective | Approx. Training RMSE | Step Size   |"
      ]
     },
     "metadata": {},
     "output_type": "display_data"
    },
    {
     "data": {
      "text/html": [
       "<pre>+---------+--------------+-------------------+-----------------------+-------------+</pre>"
      ],
      "text/plain": [
       "+---------+--------------+-------------------+-----------------------+-------------+"
      ]
     },
     "metadata": {},
     "output_type": "display_data"
    },
    {
     "data": {
      "text/html": [
       "<pre>| Initial | 118us        | 2.45865           | 1.11977               |             |</pre>"
      ],
      "text/plain": [
       "| Initial | 118us        | 2.45865           | 1.11977               |             |"
      ]
     },
     "metadata": {},
     "output_type": "display_data"
    },
    {
     "data": {
      "text/html": [
       "<pre>+---------+--------------+-------------------+-----------------------+-------------+</pre>"
      ],
      "text/plain": [
       "+---------+--------------+-------------------+-----------------------+-------------+"
      ]
     },
     "metadata": {},
     "output_type": "display_data"
    },
    {
     "data": {
      "text/html": [
       "<pre>| 1       | 458.778ms    | 2.71454           | 1.34214               | 0.0325521   |</pre>"
      ],
      "text/plain": [
       "| 1       | 458.778ms    | 2.71454           | 1.34214               | 0.0325521   |"
      ]
     },
     "metadata": {},
     "output_type": "display_data"
    },
    {
     "data": {
      "text/html": [
       "<pre>| 2       | 913.279ms    | 1.66776           | 1.00712               | 0.0325521   |</pre>"
      ],
      "text/plain": [
       "| 2       | 913.279ms    | 1.66776           | 1.00712               | 0.0325521   |"
      ]
     },
     "metadata": {},
     "output_type": "display_data"
    },
    {
     "data": {
      "text/html": [
       "<pre>| 3       | 1.36s        | 1.47566           | 0.95828               | 0.0325521   |</pre>"
      ],
      "text/plain": [
       "| 3       | 1.36s        | 1.47566           | 0.95828               | 0.0325521   |"
      ]
     },
     "metadata": {},
     "output_type": "display_data"
    },
    {
     "data": {
      "text/html": [
       "<pre>| 4       | 1.80s        | 1.3306            | 0.894159              | 0.0325521   |</pre>"
      ],
      "text/plain": [
       "| 4       | 1.80s        | 1.3306            | 0.894159              | 0.0325521   |"
      ]
     },
     "metadata": {},
     "output_type": "display_data"
    },
    {
     "data": {
      "text/html": [
       "<pre>| 5       | 2.23s        | 1.30892           | 0.895533              | 0.0325521   |</pre>"
      ],
      "text/plain": [
       "| 5       | 2.23s        | 1.30892           | 0.895533              | 0.0325521   |"
      ]
     },
     "metadata": {},
     "output_type": "display_data"
    },
    {
     "data": {
      "text/html": [
       "<pre>| 6       | 2.68s        | 1.26837           | 0.878094              | 0.0325521   |</pre>"
      ],
      "text/plain": [
       "| 6       | 2.68s        | 1.26837           | 0.878094              | 0.0325521   |"
      ]
     },
     "metadata": {},
     "output_type": "display_data"
    },
    {
     "data": {
      "text/html": [
       "<pre>| 10      | 4.45s        | 1.09535           | 0.791488              | 0.0325521   |</pre>"
      ],
      "text/plain": [
       "| 10      | 4.45s        | 1.09535           | 0.791488              | 0.0325521   |"
      ]
     },
     "metadata": {},
     "output_type": "display_data"
    },
    {
     "data": {
      "text/html": [
       "<pre>| 11      | 4.87s        | 1.09603           | 0.788594              | 0.0325521   |</pre>"
      ],
      "text/plain": [
       "| 11      | 4.87s        | 1.09603           | 0.788594              | 0.0325521   |"
      ]
     },
     "metadata": {},
     "output_type": "display_data"
    },
    {
     "data": {
      "text/html": [
       "<pre>| 15      | 6.62s        | 1.00523           | 0.751538              | 0.0325521   |</pre>"
      ],
      "text/plain": [
       "| 15      | 6.62s        | 1.00523           | 0.751538              | 0.0325521   |"
      ]
     },
     "metadata": {},
     "output_type": "display_data"
    },
    {
     "data": {
      "text/html": [
       "<pre>| 20      | 8.74s        | 0.997405          | 0.750683              | 0.0325521   |</pre>"
      ],
      "text/plain": [
       "| 20      | 8.74s        | 0.997405          | 0.750683              | 0.0325521   |"
      ]
     },
     "metadata": {},
     "output_type": "display_data"
    },
    {
     "data": {
      "text/html": [
       "<pre>| 25      | 10.92s       | 1.01788           | 0.754321              | 0.0325521   |</pre>"
      ],
      "text/plain": [
       "| 25      | 10.92s       | 1.01788           | 0.754321              | 0.0325521   |"
      ]
     },
     "metadata": {},
     "output_type": "display_data"
    },
    {
     "data": {
      "text/html": [
       "<pre>| 30      | 13.04s       | 1.20648           | 0.785855              | 0.0325521   |</pre>"
      ],
      "text/plain": [
       "| 30      | 13.04s       | 1.20648           | 0.785855              | 0.0325521   |"
      ]
     },
     "metadata": {},
     "output_type": "display_data"
    },
    {
     "data": {
      "text/html": [
       "<pre>| 35      | 15.16s       | 1.68623           | 0.863212              | 0.0325521   |</pre>"
      ],
      "text/plain": [
       "| 35      | 15.16s       | 1.68623           | 0.863212              | 0.0325521   |"
      ]
     },
     "metadata": {},
     "output_type": "display_data"
    },
    {
     "data": {
      "text/html": [
       "<pre>| 40      | 17.26s       | 3.89812           | 1.46247               | 0.0325521   |</pre>"
      ],
      "text/plain": [
       "| 40      | 17.26s       | 3.89812           | 1.46247               | 0.0325521   |"
      ]
     },
     "metadata": {},
     "output_type": "display_data"
    },
    {
     "data": {
      "text/html": [
       "<pre>| 45      | 19.39s       | 1.93866           | 1.07083               | 0.0325521   |</pre>"
      ],
      "text/plain": [
       "| 45      | 19.39s       | 1.93866           | 1.07083               | 0.0325521   |"
      ]
     },
     "metadata": {},
     "output_type": "display_data"
    },
    {
     "data": {
      "text/html": [
       "<pre>| 50      | 21.70s       | DIVERGED          | DIVERGED              | 0.0325521   |</pre>"
      ],
      "text/plain": [
       "| 50      | 21.70s       | DIVERGED          | DIVERGED              | 0.0325521   |"
      ]
     },
     "metadata": {},
     "output_type": "display_data"
    },
    {
     "data": {
      "text/html": [
       "<pre>| RESET   | 21.94s       | 2.45807           | 1.1197                |             |</pre>"
      ],
      "text/plain": [
       "| RESET   | 21.94s       | 2.45807           | 1.1197                |             |"
      ]
     },
     "metadata": {},
     "output_type": "display_data"
    },
    {
     "data": {
      "text/html": [
       "<pre>| 1       | 22.38s       | 2.8158            | 1.36372               | 0.016276    |</pre>"
      ],
      "text/plain": [
       "| 1       | 22.38s       | 2.8158            | 1.36372               | 0.016276    |"
      ]
     },
     "metadata": {},
     "output_type": "display_data"
    },
    {
     "data": {
      "text/html": [
       "<pre>| 2       | 22.83s       | 1.86489           | 1.0909                | 0.016276    |</pre>"
      ],
      "text/plain": [
       "| 2       | 22.83s       | 1.86489           | 1.0909                | 0.016276    |"
      ]
     },
     "metadata": {},
     "output_type": "display_data"
    },
    {
     "data": {
      "text/html": [
       "<pre>| 5       | 24.17s       | 1.94235           | 1.12634               | 0.016276    |</pre>"
      ],
      "text/plain": [
       "| 5       | 24.17s       | 1.94235           | 1.12634               | 0.016276    |"
      ]
     },
     "metadata": {},
     "output_type": "display_data"
    },
    {
     "data": {
      "text/html": [
       "<pre>+---------+--------------+-------------------+-----------------------+-------------+</pre>"
      ],
      "text/plain": [
       "+---------+--------------+-------------------+-----------------------+-------------+"
      ]
     },
     "metadata": {},
     "output_type": "display_data"
    },
    {
     "data": {
      "text/html": [
       "<pre>Optimization Complete: Maximum number of passes through the data reached (hard limit).</pre>"
      ],
      "text/plain": [
       "Optimization Complete: Maximum number of passes through the data reached (hard limit)."
      ]
     },
     "metadata": {},
     "output_type": "display_data"
    },
    {
     "data": {
      "text/html": [
       "<pre>Computing final objective value and training RMSE.</pre>"
      ],
      "text/plain": [
       "Computing final objective value and training RMSE."
      ]
     },
     "metadata": {},
     "output_type": "display_data"
    },
    {
     "data": {
      "text/html": [
       "<pre>       Final objective value: 1.65966</pre>"
      ],
      "text/plain": [
       "       Final objective value: 1.65966"
      ]
     },
     "metadata": {},
     "output_type": "display_data"
    },
    {
     "data": {
      "text/html": [
       "<pre>       Final training RMSE: 1.02603</pre>"
      ],
      "text/plain": [
       "       Final training RMSE: 1.02603"
      ]
     },
     "metadata": {},
     "output_type": "display_data"
    }
   ],
   "source": [
    "regularization_vals = [0.001, 0.0001, 0.00001, 0.000001]\n",
    "models2 = [graphlab.ranking_factorization_recommender.create(train, 'reviewerID', 'title', 'overall',side_data_factorization=True,\n",
    "                                              max_iterations=50, num_factors=5, regularization=r)\n",
    "          for r in regularization_vals]"
   ]
  },
  {
   "cell_type": "code",
   "execution_count": 162,
   "metadata": {
    "collapsed": true
   },
   "outputs": [],
   "source": [
    "(rmse_train2, rmse_test2) = ([], [])\n",
    "for m in models2:\n",
    "    rmse_train2.append(m['training_rmse'])\n",
    "    rmse_test2.append(graphlab.evaluation.rmse(test['overall'], m.predict(test)))"
   ]
  },
  {
   "cell_type": "code",
   "execution_count": 166,
   "metadata": {
    "collapsed": false
   },
   "outputs": [
    {
     "data": {
      "text/plain": [
       "<matplotlib.legend.Legend at 0x19c278790>"
      ]
     },
     "execution_count": 166,
     "metadata": {},
     "output_type": "execute_result"
    },
    {
     "data": {
      "image/png": "[encoded data removed]",
      "text/plain": [
       "<matplotlib.figure.Figure at 0x17a3bd750>"
      ]
     },
     "metadata": {},
     "output_type": "display_data"
    }
   ],
   "source": [
    "(fig, ax) = plt.subplots(figsize=(10, 8))\n",
    "[p1, p2, p3] = ax.semilogx(regularization_vals, rmse_train2, \n",
    "                           regularization_vals, rmse_test2, \n",
    "                           regularization_vals, len(regularization_vals) * [1]\n",
    "                           )\n",
    "ax.set_ylim([0.5, 2.2])\n",
    "ax.set_xlabel('Regularization', fontsize=20)\n",
    "ax.set_ylabel('RMSE', fontsize=20)\n",
    "ax.legend([p1, p2, p3], [\"Train\", \"Test\", \"Baseline\"])"
   ]
  },
  {
   "cell_type": "markdown",
   "metadata": {},
   "source": [
    "Looks like we get the best Root Mean Squared Error (on the test set) when n_factors = 5 and regularization = 0.001. Let's use those parameters!"
   ]
  },
  {
   "cell_type": "markdown",
   "metadata": {},
   "source": [
    "# Load a Larger Dataset"
   ]
  },
  {
   "cell_type": "code",
   "execution_count": null,
   "metadata": {
    "collapsed": false
   },
   "outputs": [],
   "source": [
    "data = graphlab.SFrame.read_csv(\"reviews.csv\",column_type_hints={'overall':int})"
   ]
  },
  {
   "cell_type": "code",
   "execution_count": 170,
   "metadata": {
    "collapsed": true
   },
   "outputs": [],
   "source": [
    "data=data.join(booksdb,on='asin',how='inner')"
   ]
  },
  {
   "cell_type": "code",
   "execution_count": 171,
   "metadata": {
    "collapsed": false
   },
   "outputs": [
    {
     "data": {
      "text/html": [
       "<pre>Recsys training: model = factorization_recommender</pre>"
      ],
      "text/plain": [
       "Recsys training: model = factorization_recommender"
      ]
     },
     "metadata": {},
     "output_type": "display_data"
    },
    {
     "data": {
      "text/html": [
       "<pre>Preparing data set.</pre>"
      ],
      "text/plain": [
       "Preparing data set."
      ]
     },
     "metadata": {},
     "output_type": "display_data"
    },
    {
     "data": {
      "text/html": [
       "<pre>    Data has 8896619 observations with 603553 users and 278816 items.</pre>"
      ],
      "text/plain": [
       "    Data has 8896619 observations with 603553 users and 278816 items."
      ]
     },
     "metadata": {},
     "output_type": "display_data"
    },
    {
     "data": {
      "text/html": [
       "<pre>    Data prepared in: 791.716s</pre>"
      ],
      "text/plain": [
       "    Data prepared in: 791.716s"
      ]
     },
     "metadata": {},
     "output_type": "display_data"
    },
    {
     "data": {
      "text/html": [
       "<pre>Training factorization_recommender for recommendations.</pre>"
      ],
      "text/plain": [
       "Training factorization_recommender for recommendations."
      ]
     },
     "metadata": {},
     "output_type": "display_data"
    },
    {
     "data": {
      "text/html": [
       "<pre>+--------------------------------+--------------------------------------------------+----------+</pre>"
      ],
      "text/plain": [
       "+--------------------------------+--------------------------------------------------+----------+"
      ]
     },
     "metadata": {},
     "output_type": "display_data"
    },
    {
     "data": {
      "text/html": [
       "<pre>| Parameter                      | Description                                      | Value    |</pre>"
      ],
      "text/plain": [
       "| Parameter                      | Description                                      | Value    |"
      ]
     },
     "metadata": {},
     "output_type": "display_data"
    },
    {
     "data": {
      "text/html": [
       "<pre>+--------------------------------+--------------------------------------------------+----------+</pre>"
      ],
      "text/plain": [
       "+--------------------------------+--------------------------------------------------+----------+"
      ]
     },
     "metadata": {},
     "output_type": "display_data"
    },
    {
     "data": {
      "text/html": [
       "<pre>| num_factors                    | Factor Dimension                                 | 5        |</pre>"
      ],
      "text/plain": [
       "| num_factors                    | Factor Dimension                                 | 5        |"
      ]
     },
     "metadata": {},
     "output_type": "display_data"
    },
    {
     "data": {
      "text/html": [
       "<pre>| regularization                 | L2 Regularization on Factors                     | 0.001    |</pre>"
      ],
      "text/plain": [
       "| regularization                 | L2 Regularization on Factors                     | 0.001    |"
      ]
     },
     "metadata": {},
     "output_type": "display_data"
    },
    {
     "data": {
      "text/html": [
       "<pre>| solver                         | Solver used for training                         | adagrad  |</pre>"
      ],
      "text/plain": [
       "| solver                         | Solver used for training                         | adagrad  |"
      ]
     },
     "metadata": {},
     "output_type": "display_data"
    },
    {
     "data": {
      "text/html": [
       "<pre>| linear_regularization          | L2 Regularization on Linear Coefficients         | 1e-10    |</pre>"
      ],
      "text/plain": [
       "| linear_regularization          | L2 Regularization on Linear Coefficients         | 1e-10    |"
      ]
     },
     "metadata": {},
     "output_type": "display_data"
    },
    {
     "data": {
      "text/html": [
       "<pre>| max_iterations                 | Maximum Number of Iterations                     | 50       |</pre>"
      ],
      "text/plain": [
       "| max_iterations                 | Maximum Number of Iterations                     | 50       |"
      ]
     },
     "metadata": {},
     "output_type": "display_data"
    },
    {
     "data": {
      "text/html": [
       "<pre>+--------------------------------+--------------------------------------------------+----------+</pre>"
      ],
      "text/plain": [
       "+--------------------------------+--------------------------------------------------+----------+"
      ]
     },
     "metadata": {},
     "output_type": "display_data"
    },
    {
     "data": {
      "text/html": [
       "<pre>  Optimizing model using SGD; tuning step size.</pre>"
      ],
      "text/plain": [
       "  Optimizing model using SGD; tuning step size."
      ]
     },
     "metadata": {},
     "output_type": "display_data"
    },
    {
     "data": {
      "text/html": [
       "<pre>  Using 1112077 / 8896619 points for tuning the step size.</pre>"
      ],
      "text/plain": [
       "  Using 1112077 / 8896619 points for tuning the step size."
      ]
     },
     "metadata": {},
     "output_type": "display_data"
    },
    {
     "data": {
      "text/html": [
       "<pre>+---------+-------------------+------------------------------------------+</pre>"
      ],
      "text/plain": [
       "+---------+-------------------+------------------------------------------+"
      ]
     },
     "metadata": {},
     "output_type": "display_data"
    },
    {
     "data": {
      "text/html": [
       "<pre>| Attempt | Initial Step Size | Estimated Objective Value                |</pre>"
      ],
      "text/plain": [
       "| Attempt | Initial Step Size | Estimated Objective Value                |"
      ]
     },
     "metadata": {},
     "output_type": "display_data"
    },
    {
     "data": {
      "text/html": [
       "<pre>+---------+-------------------+------------------------------------------+</pre>"
      ],
      "text/plain": [
       "+---------+-------------------+------------------------------------------+"
      ]
     },
     "metadata": {},
     "output_type": "display_data"
    },
    {
     "data": {
      "text/html": [
       "<pre>| 0       | 0.00828207        | 0.822288                                 |</pre>"
      ],
      "text/plain": [
       "| 0       | 0.00828207        | 0.822288                                 |"
      ]
     },
     "metadata": {},
     "output_type": "display_data"
    },
    {
     "data": {
      "text/html": [
       "<pre>| 1       | 0.00414103        | 0.940707                                 |</pre>"
      ],
      "text/plain": [
       "| 1       | 0.00414103        | 0.940707                                 |"
      ]
     },
     "metadata": {},
     "output_type": "display_data"
    },
    {
     "data": {
      "text/html": [
       "<pre>| 2       | 0.00207052        | 1.02106                                  |</pre>"
      ],
      "text/plain": [
       "| 2       | 0.00207052        | 1.02106                                  |"
      ]
     },
     "metadata": {},
     "output_type": "display_data"
    },
    {
     "data": {
      "text/html": [
       "<pre>| 3       | 0.00103526        | 1.07095                                  |</pre>"
      ],
      "text/plain": [
       "| 3       | 0.00103526        | 1.07095                                  |"
      ]
     },
     "metadata": {},
     "output_type": "display_data"
    },
    {
     "data": {
      "text/html": [
       "<pre>+---------+-------------------+------------------------------------------+</pre>"
      ],
      "text/plain": [
       "+---------+-------------------+------------------------------------------+"
      ]
     },
     "metadata": {},
     "output_type": "display_data"
    },
    {
     "data": {
      "text/html": [
       "<pre>| Final   | 0.00828207        | 0.822288                                 |</pre>"
      ],
      "text/plain": [
       "| Final   | 0.00828207        | 0.822288                                 |"
      ]
     },
     "metadata": {},
     "output_type": "display_data"
    },
    {
     "data": {
      "text/html": [
       "<pre>+---------+-------------------+------------------------------------------+</pre>"
      ],
      "text/plain": [
       "+---------+-------------------+------------------------------------------+"
      ]
     },
     "metadata": {},
     "output_type": "display_data"
    },
    {
     "data": {
      "text/html": [
       "<pre>Starting Optimization.</pre>"
      ],
      "text/plain": [
       "Starting Optimization."
      ]
     },
     "metadata": {},
     "output_type": "display_data"
    },
    {
     "data": {
      "text/html": [
       "<pre>+---------+--------------+-------------------+-----------------------+-------------+</pre>"
      ],
      "text/plain": [
       "+---------+--------------+-------------------+-----------------------+-------------+"
      ]
     },
     "metadata": {},
     "output_type": "display_data"
    },
    {
     "data": {
      "text/html": [
       "<pre>| Iter.   | Elapsed Time | Approx. Objective | Approx. Training RMSE | Step Size   |</pre>"
      ],
      "text/plain": [
       "| Iter.   | Elapsed Time | Approx. Objective | Approx. Training RMSE | Step Size   |"
      ]
     },
     "metadata": {},
     "output_type": "display_data"
    },
    {
     "data": {
      "text/html": [
       "<pre>+---------+--------------+-------------------+-----------------------+-------------+</pre>"
      ],
      "text/plain": [
       "+---------+--------------+-------------------+-----------------------+-------------+"
      ]
     },
     "metadata": {},
     "output_type": "display_data"
    },
    {
     "data": {
      "text/html": [
       "<pre>| Initial | 4.883ms      | 1.11863           | 1.05765               |             |</pre>"
      ],
      "text/plain": [
       "| Initial | 4.883ms      | 1.11863           | 1.05765               |             |"
      ]
     },
     "metadata": {},
     "output_type": "display_data"
    },
    {
     "data": {
      "text/html": [
       "<pre>+---------+--------------+-------------------+-----------------------+-------------+</pre>"
      ],
      "text/plain": [
       "+---------+--------------+-------------------+-----------------------+-------------+"
      ]
     },
     "metadata": {},
     "output_type": "display_data"
    },
    {
     "data": {
      "text/html": [
       "<pre>| 1       | 32.94s       | 3.38281           | 1.81984               | 0.00828207  |</pre>"
      ],
      "text/plain": [
       "| 1       | 32.94s       | 3.38281           | 1.81984               | 0.00828207  |"
      ]
     },
     "metadata": {},
     "output_type": "display_data"
    },
    {
     "data": {
      "text/html": [
       "<pre>| 2       | 55.68s       | 0.949131          | 0.949607              | 0.00828207  |</pre>"
      ],
      "text/plain": [
       "| 2       | 55.68s       | 0.949131          | 0.949607              | 0.00828207  |"
      ]
     },
     "metadata": {},
     "output_type": "display_data"
    },
    {
     "data": {
      "text/html": [
       "<pre>| 3       | 1m 18s       | 0.925478          | 0.945615              | 0.00828207  |</pre>"
      ],
      "text/plain": [
       "| 3       | 1m 18s       | 0.925478          | 0.945615              | 0.00828207  |"
      ]
     },
     "metadata": {},
     "output_type": "display_data"
    },
    {
     "data": {
      "text/html": [
       "<pre>| 4       | 1m 40s       | 0.90896           | 0.94229               | 0.00828207  |</pre>"
      ],
      "text/plain": [
       "| 4       | 1m 40s       | 0.90896           | 0.94229               | 0.00828207  |"
      ]
     },
     "metadata": {},
     "output_type": "display_data"
    },
    {
     "data": {
      "text/html": [
       "<pre>| 5       | 2m 2s        | 0.896339          | 0.939133              | 0.00828207  |</pre>"
      ],
      "text/plain": [
       "| 5       | 2m 2s        | 0.896339          | 0.939133              | 0.00828207  |"
      ]
     },
     "metadata": {},
     "output_type": "display_data"
    },
    {
     "data": {
      "text/html": [
       "<pre>| 6       | 2m 26s       | 0.886869          | 0.936253              | 0.00828207  |</pre>"
      ],
      "text/plain": [
       "| 6       | 2m 26s       | 0.886869          | 0.936253              | 0.00828207  |"
      ]
     },
     "metadata": {},
     "output_type": "display_data"
    },
    {
     "data": {
      "text/html": [
       "<pre>| 7       | 2m 48s       | 0.879063          | 0.933264              | 0.00828207  |</pre>"
      ],
      "text/plain": [
       "| 7       | 2m 48s       | 0.879063          | 0.933264              | 0.00828207  |"
      ]
     },
     "metadata": {},
     "output_type": "display_data"
    },
    {
     "data": {
      "text/html": [
       "<pre>| 8       | 3m 10s       | 0.873278          | 0.930674              | 0.00828207  |</pre>"
      ],
      "text/plain": [
       "| 8       | 3m 10s       | 0.873278          | 0.930674              | 0.00828207  |"
      ]
     },
     "metadata": {},
     "output_type": "display_data"
    },
    {
     "data": {
      "text/html": [
       "<pre>| 9       | 3m 33s       | 0.868672          | 0.927909              | 0.00828207  |</pre>"
      ],
      "text/plain": [
       "| 9       | 3m 33s       | 0.868672          | 0.927909              | 0.00828207  |"
      ]
     },
     "metadata": {},
     "output_type": "display_data"
    },
    {
     "data": {
      "text/html": [
       "<pre>| 10      | 3m 55s       | 0.864344          | 0.925009              | 0.00828207  |</pre>"
      ],
      "text/plain": [
       "| 10      | 3m 55s       | 0.864344          | 0.925009              | 0.00828207  |"
      ]
     },
     "metadata": {},
     "output_type": "display_data"
    },
    {
     "data": {
      "text/html": [
       "<pre>| 11      | 4m 18s       | 0.860517          | 0.922219              | 0.00828207  |</pre>"
      ],
      "text/plain": [
       "| 11      | 4m 18s       | 0.860517          | 0.922219              | 0.00828207  |"
      ]
     },
     "metadata": {},
     "output_type": "display_data"
    },
    {
     "data": {
      "text/html": [
       "<pre>| 12      | 4m 41s       | 0.857894          | 0.920024              | 0.00828207  |</pre>"
      ],
      "text/plain": [
       "| 12      | 4m 41s       | 0.857894          | 0.920024              | 0.00828207  |"
      ]
     },
     "metadata": {},
     "output_type": "display_data"
    },
    {
     "data": {
      "text/html": [
       "<pre>| 13      | 5m 3s        | 0.856065          | 0.918256              | 0.00828207  |</pre>"
      ],
      "text/plain": [
       "| 13      | 5m 3s        | 0.856065          | 0.918256              | 0.00828207  |"
      ]
     },
     "metadata": {},
     "output_type": "display_data"
    },
    {
     "data": {
      "text/html": [
       "<pre>| 14      | 5m 26s       | 0.855436          | 0.917137              | 0.00828207  |</pre>"
      ],
      "text/plain": [
       "| 14      | 5m 26s       | 0.855436          | 0.917137              | 0.00828207  |"
      ]
     },
     "metadata": {},
     "output_type": "display_data"
    },
    {
     "data": {
      "text/html": [
       "<pre>| 15      | 5m 49s       | 0.855645          | 0.916531              | 0.00828207  |</pre>"
      ],
      "text/plain": [
       "| 15      | 5m 49s       | 0.855645          | 0.916531              | 0.00828207  |"
      ]
     },
     "metadata": {},
     "output_type": "display_data"
    },
    {
     "data": {
      "text/html": [
       "<pre>| 16      | 6m 11s       | 0.857686          | 0.916983              | 0.00828207  |</pre>"
      ],
      "text/plain": [
       "| 16      | 6m 11s       | 0.857686          | 0.916983              | 0.00828207  |"
      ]
     },
     "metadata": {},
     "output_type": "display_data"
    },
    {
     "data": {
      "text/html": [
       "<pre>| 17      | 6m 34s       | 0.858902          | 0.917093              | 0.00828207  |</pre>"
      ],
      "text/plain": [
       "| 17      | 6m 34s       | 0.858902          | 0.917093              | 0.00828207  |"
      ]
     },
     "metadata": {},
     "output_type": "display_data"
    },
    {
     "data": {
      "text/html": [
       "<pre>| 18      | 6m 56s       | 0.863216          | 0.918933              | 0.00828207  |</pre>"
      ],
      "text/plain": [
       "| 18      | 6m 56s       | 0.863216          | 0.918933              | 0.00828207  |"
      ]
     },
     "metadata": {},
     "output_type": "display_data"
    },
    {
     "data": {
      "text/html": [
       "<pre>| 19      | 7m 19s       | 0.87101           | 0.922746              | 0.00828207  |</pre>"
      ],
      "text/plain": [
       "| 19      | 7m 19s       | 0.87101           | 0.922746              | 0.00828207  |"
      ]
     },
     "metadata": {},
     "output_type": "display_data"
    },
    {
     "data": {
      "text/html": [
       "<pre>| 20      | 7m 41s       | 0.8629            | 0.917998              | 0.00828207  |</pre>"
      ],
      "text/plain": [
       "| 20      | 7m 41s       | 0.8629            | 0.917998              | 0.00828207  |"
      ]
     },
     "metadata": {},
     "output_type": "display_data"
    },
    {
     "data": {
      "text/html": [
       "<pre>| 21      | 8m 4s        | 0.871324          | 0.922366              | 0.00828207  |</pre>"
      ],
      "text/plain": [
       "| 21      | 8m 4s        | 0.871324          | 0.922366              | 0.00828207  |"
      ]
     },
     "metadata": {},
     "output_type": "display_data"
    },
    {
     "data": {
      "text/html": [
       "<pre>| 22      | 8m 27s       | 0.900054          | 0.937787              | 0.00828207  |</pre>"
      ],
      "text/plain": [
       "| 22      | 8m 27s       | 0.900054          | 0.937787              | 0.00828207  |"
      ]
     },
     "metadata": {},
     "output_type": "display_data"
    },
    {
     "data": {
      "text/html": [
       "<pre>| 23      | 8m 49s       | 0.875823          | 0.924745              | 0.00828207  |</pre>"
      ],
      "text/plain": [
       "| 23      | 8m 49s       | 0.875823          | 0.924745              | 0.00828207  |"
      ]
     },
     "metadata": {},
     "output_type": "display_data"
    },
    {
     "data": {
      "text/html": [
       "<pre>| 24      | 9m 12s       | 0.895938          | 0.935699              | 0.00828207  |</pre>"
      ],
      "text/plain": [
       "| 24      | 9m 12s       | 0.895938          | 0.935699              | 0.00828207  |"
      ]
     },
     "metadata": {},
     "output_type": "display_data"
    },
    {
     "data": {
      "text/html": [
       "<pre>| 25      | 9m 34s       | 0.896556          | 0.9362                | 0.00828207  |</pre>"
      ],
      "text/plain": [
       "| 25      | 9m 34s       | 0.896556          | 0.9362                | 0.00828207  |"
      ]
     },
     "metadata": {},
     "output_type": "display_data"
    },
    {
     "data": {
      "text/html": [
       "<pre>| 26      | 23m 43s      | 0.887078          | 0.931267              | 0.00828207  |</pre>"
      ],
      "text/plain": [
       "| 26      | 23m 43s      | 0.887078          | 0.931267              | 0.00828207  |"
      ]
     },
     "metadata": {},
     "output_type": "display_data"
    },
    {
     "data": {
      "text/html": [
       "<pre>| 27      | 24m 14s      | 0.903179          | 0.939998              | 0.00828207  |</pre>"
      ],
      "text/plain": [
       "| 27      | 24m 14s      | 0.903179          | 0.939998              | 0.00828207  |"
      ]
     },
     "metadata": {},
     "output_type": "display_data"
    },
    {
     "data": {
      "text/html": [
       "<pre>| 28      | 24m 37s      | 0.906623          | 0.941932              | 0.00828207  |</pre>"
      ],
      "text/plain": [
       "| 28      | 24m 37s      | 0.906623          | 0.941932              | 0.00828207  |"
      ]
     },
     "metadata": {},
     "output_type": "display_data"
    },
    {
     "data": {
      "text/html": [
       "<pre>| 29      | 25m 1s       | 0.89165           | 0.934093              | 0.00828207  |</pre>"
      ],
      "text/plain": [
       "| 29      | 25m 1s       | 0.89165           | 0.934093              | 0.00828207  |"
      ]
     },
     "metadata": {},
     "output_type": "display_data"
    },
    {
     "data": {
      "text/html": [
       "<pre>| 30      | 25m 28s      | 0.890073          | 0.933428              | 0.00828207  |</pre>"
      ],
      "text/plain": [
       "| 30      | 25m 28s      | 0.890073          | 0.933428              | 0.00828207  |"
      ]
     },
     "metadata": {},
     "output_type": "display_data"
    },
    {
     "data": {
      "text/html": [
       "<pre>| 31      | 25m 57s      | 0.907345          | 0.942865              | 0.00828207  |</pre>"
      ],
      "text/plain": [
       "| 31      | 25m 57s      | 0.907345          | 0.942865              | 0.00828207  |"
      ]
     },
     "metadata": {},
     "output_type": "display_data"
    },
    {
     "data": {
      "text/html": [
       "<pre>| 32      | 26m 21s      | 0.907482          | 0.943194              | 0.00828207  |</pre>"
      ],
      "text/plain": [
       "| 32      | 26m 21s      | 0.907482          | 0.943194              | 0.00828207  |"
      ]
     },
     "metadata": {},
     "output_type": "display_data"
    },
    {
     "data": {
      "text/html": [
       "<pre>| 33      | 26m 44s      | 0.878476          | 0.927842              | 0.00828207  |</pre>"
      ],
      "text/plain": [
       "| 33      | 26m 44s      | 0.878476          | 0.927842              | 0.00828207  |"
      ]
     },
     "metadata": {},
     "output_type": "display_data"
    },
    {
     "data": {
      "text/html": [
       "<pre>| 34      | 27m 6s       | 0.892304          | 0.935449              | 0.00828207  |</pre>"
      ],
      "text/plain": [
       "| 34      | 27m 6s       | 0.892304          | 0.935449              | 0.00828207  |"
      ]
     },
     "metadata": {},
     "output_type": "display_data"
    },
    {
     "data": {
      "text/html": [
       "<pre>| 35      | 27m 29s      | 0.909549          | 0.944819              | 0.00828207  |</pre>"
      ],
      "text/plain": [
       "| 35      | 27m 29s      | 0.909549          | 0.944819              | 0.00828207  |"
      ]
     },
     "metadata": {},
     "output_type": "display_data"
    },
    {
     "data": {
      "text/html": [
       "<pre>| 36      | 27m 51s      | 0.893538          | 0.936446              | 0.00828207  |</pre>"
      ],
      "text/plain": [
       "| 36      | 27m 51s      | 0.893538          | 0.936446              | 0.00828207  |"
      ]
     },
     "metadata": {},
     "output_type": "display_data"
    },
    {
     "data": {
      "text/html": [
       "<pre>| 37      | 28m 14s      | 0.898813          | 0.939379              | 0.00828207  |</pre>"
      ],
      "text/plain": [
       "| 37      | 28m 14s      | 0.898813          | 0.939379              | 0.00828207  |"
      ]
     },
     "metadata": {},
     "output_type": "display_data"
    },
    {
     "data": {
      "text/html": [
       "<pre>| 38      | 28m 37s      | 0.915098          | 0.948131              | 0.00828207  |</pre>"
      ],
      "text/plain": [
       "| 38      | 28m 37s      | 0.915098          | 0.948131              | 0.00828207  |"
      ]
     },
     "metadata": {},
     "output_type": "display_data"
    },
    {
     "data": {
      "text/html": [
       "<pre>| 39      | 28m 59s      | 0.896042          | 0.93819               | 0.00828207  |</pre>"
      ],
      "text/plain": [
       "| 39      | 28m 59s      | 0.896042          | 0.93819               | 0.00828207  |"
      ]
     },
     "metadata": {},
     "output_type": "display_data"
    },
    {
     "data": {
      "text/html": [
       "<pre>| 40      | 29m 22s      | 0.876191          | 0.927659              | 0.00828207  |</pre>"
      ],
      "text/plain": [
       "| 40      | 29m 22s      | 0.876191          | 0.927659              | 0.00828207  |"
      ]
     },
     "metadata": {},
     "output_type": "display_data"
    },
    {
     "data": {
      "text/html": [
       "<pre>| 41      | 29m 44s      | 0.906509          | 0.944019              | 0.00828207  |</pre>"
      ],
      "text/plain": [
       "| 41      | 29m 44s      | 0.906509          | 0.944019              | 0.00828207  |"
      ]
     },
     "metadata": {},
     "output_type": "display_data"
    },
    {
     "data": {
      "text/html": [
       "<pre>| 42      | 30m 7s       | 0.910469          | 0.946263              | 0.00828207  |</pre>"
      ],
      "text/plain": [
       "| 42      | 30m 7s       | 0.910469          | 0.946263              | 0.00828207  |"
      ]
     },
     "metadata": {},
     "output_type": "display_data"
    },
    {
     "data": {
      "text/html": [
       "<pre>| 43      | 30m 29s      | 0.899128          | 0.940377              | 0.00828207  |</pre>"
      ],
      "text/plain": [
       "| 43      | 30m 29s      | 0.899128          | 0.940377              | 0.00828207  |"
      ]
     },
     "metadata": {},
     "output_type": "display_data"
    },
    {
     "data": {
      "text/html": [
       "<pre>| 44      | 30m 51s      | 0.87842           | 0.929408              | 0.00828207  |</pre>"
      ],
      "text/plain": [
       "| 44      | 30m 51s      | 0.87842           | 0.929408              | 0.00828207  |"
      ]
     },
     "metadata": {},
     "output_type": "display_data"
    },
    {
     "data": {
      "text/html": [
       "<pre>| 45      | 31m 14s      | 0.913199          | 0.948029              | 0.00828207  |</pre>"
      ],
      "text/plain": [
       "| 45      | 31m 14s      | 0.913199          | 0.948029              | 0.00828207  |"
      ]
     },
     "metadata": {},
     "output_type": "display_data"
    },
    {
     "data": {
      "text/html": [
       "<pre>| 46      | 31m 36s      | 0.897596          | 0.939883              | 0.00828207  |</pre>"
      ],
      "text/plain": [
       "| 46      | 31m 36s      | 0.897596          | 0.939883              | 0.00828207  |"
      ]
     },
     "metadata": {},
     "output_type": "display_data"
    },
    {
     "data": {
      "text/html": [
       "<pre>| 47      | 31m 59s      | 0.882529          | 0.931929              | 0.00828207  |</pre>"
      ],
      "text/plain": [
       "| 47      | 31m 59s      | 0.882529          | 0.931929              | 0.00828207  |"
      ]
     },
     "metadata": {},
     "output_type": "display_data"
    },
    {
     "data": {
      "text/html": [
       "<pre>| 48      | 32m 21s      | 0.902028          | 0.942458              | 0.00828207  |</pre>"
      ],
      "text/plain": [
       "| 48      | 32m 21s      | 0.902028          | 0.942458              | 0.00828207  |"
      ]
     },
     "metadata": {},
     "output_type": "display_data"
    },
    {
     "data": {
      "text/html": [
       "<pre>| 49      | 32m 44s      | 0.892676          | 0.937603              | 0.00828207  |</pre>"
      ],
      "text/plain": [
       "| 49      | 32m 44s      | 0.892676          | 0.937603              | 0.00828207  |"
      ]
     },
     "metadata": {},
     "output_type": "display_data"
    },
    {
     "data": {
      "text/html": [
       "<pre>| 50      | 33m 6s       | 0.879148          | 0.930458              | 0.00828207  |</pre>"
      ],
      "text/plain": [
       "| 50      | 33m 6s       | 0.879148          | 0.930458              | 0.00828207  |"
      ]
     },
     "metadata": {},
     "output_type": "display_data"
    },
    {
     "data": {
      "text/html": [
       "<pre>+---------+--------------+-------------------+-----------------------+-------------+</pre>"
      ],
      "text/plain": [
       "+---------+--------------+-------------------+-----------------------+-------------+"
      ]
     },
     "metadata": {},
     "output_type": "display_data"
    },
    {
     "data": {
      "text/html": [
       "<pre>Optimization Complete: Maximum number of passes through the data reached.</pre>"
      ],
      "text/plain": [
       "Optimization Complete: Maximum number of passes through the data reached."
      ]
     },
     "metadata": {},
     "output_type": "display_data"
    },
    {
     "data": {
      "text/html": [
       "<pre>Computing final objective value and training RMSE.</pre>"
      ],
      "text/plain": [
       "Computing final objective value and training RMSE."
      ]
     },
     "metadata": {},
     "output_type": "display_data"
    },
    {
     "data": {
      "text/html": [
       "<pre>       Final objective value: 0.859026</pre>"
      ],
      "text/plain": [
       "       Final objective value: 0.859026"
      ]
     },
     "metadata": {},
     "output_type": "display_data"
    },
    {
     "data": {
      "text/html": [
       "<pre>       Final training RMSE: 0.919582</pre>"
      ],
      "text/plain": [
       "       Final training RMSE: 0.919582"
      ]
     },
     "metadata": {},
     "output_type": "display_data"
    }
   ],
   "source": [
    "# Create a new model, using the larger dataset, with the tuned parameters\n",
    "Bestmodel= graphlab.factorization_recommender.create(data, 'reviewerID', 'title', 'overall', side_data_factorization=True,\n",
    "                                                max_iterations=50, num_factors=5,\n",
    "                                                regularization=0.001)"
   ]
  },
  {
   "cell_type": "code",
   "execution_count": 172,
   "metadata": {
    "collapsed": true
   },
   "outputs": [],
   "source": [
    "SimilarI=Bestmodel.get_similar_items()"
   ]
  },
  {
   "cell_type": "code",
   "execution_count": 180,
   "metadata": {
    "collapsed": false
   },
   "outputs": [
    {
     "name": "stdout",
     "output_type": "stream",
     "text": [
      "Canvas is accessible via web browser at the URL: http://localhost:53821/index.html\n",
      "Opening Canvas in default web browser.\n"
     ]
    }
   ],
   "source": [
    "SimilarI.show()"
   ]
  },
  {
   "cell_type": "code",
   "execution_count": 179,
   "metadata": {
    "collapsed": false
   },
   "outputs": [
    {
     "data": {
      "text/html": [
       "<pre>Warning: The model was fit with 2 feature columns but only 1 were present during transform(). Proceeding with transform by ignoring the missing columns.</pre>"
      ],
      "text/plain": [
       "Warning: The model was fit with 2 feature columns but only 1 were present during transform(). Proceeding with transform by ignoring the missing columns."
      ]
     },
     "metadata": {},
     "output_type": "display_data"
    },
    {
     "data": {
      "text/html": [
       "<pre>Warning: The model was fit with 2 feature columns but only 1 were present during transform(). Proceeding with transform by ignoring the missing columns.</pre>"
      ],
      "text/plain": [
       "Warning: The model was fit with 2 feature columns but only 1 were present during transform(). Proceeding with transform by ignoring the missing columns."
      ]
     },
     "metadata": {},
     "output_type": "display_data"
    },
    {
     "data": {
      "text/plain": [
       "View object\n",
       "\n",
       "URI: \t\thttp://localhost:32212/view/fa2c44d8-db5d-443d-b48a-63f0e1064bc3\n",
       "HTML: \t\t\n",
       "<gl-recommender-explore\n",
       "    uri=\"http://localhost:32212/view/f3a21a2e-4df3-49c9-9ed0-d47721cc402c\"\n",
       "    api_key=\"\"\n",
       "/>\n",
       "        "
      ]
     },
     "execution_count": 179,
     "metadata": {},
     "output_type": "execute_result"
    }
   ],
   "source": [
    "view = Bestmodel.views.explore(item_data=data,item_name_column='title')\n",
    "view.show()"
   ]
  },
  {
   "cell_type": "code",
   "execution_count": 173,
   "metadata": {
    "collapsed": false
   },
   "outputs": [
    {
     "data": {
      "text/html": [
       "<pre>Recsys training: model = ranking_factorization_recommender</pre>"
      ],
      "text/plain": [
       "Recsys training: model = ranking_factorization_recommender"
      ]
     },
     "metadata": {},
     "output_type": "display_data"
    },
    {
     "data": {
      "text/html": [
       "<pre>Preparing data set.</pre>"
      ],
      "text/plain": [
       "Preparing data set."
      ]
     },
     "metadata": {},
     "output_type": "display_data"
    },
    {
     "data": {
      "text/html": [
       "<pre>    Data has 8896619 observations with 603553 users and 278816 items.</pre>"
      ],
      "text/plain": [
       "    Data has 8896619 observations with 603553 users and 278816 items."
      ]
     },
     "metadata": {},
     "output_type": "display_data"
    },
    {
     "data": {
      "text/html": [
       "<pre>    Data prepared in: 1738.95s</pre>"
      ],
      "text/plain": [
       "    Data prepared in: 1738.95s"
      ]
     },
     "metadata": {},
     "output_type": "display_data"
    },
    {
     "data": {
      "text/html": [
       "<pre>Training ranking_factorization_recommender for recommendations.</pre>"
      ],
      "text/plain": [
       "Training ranking_factorization_recommender for recommendations."
      ]
     },
     "metadata": {},
     "output_type": "display_data"
    },
    {
     "data": {
      "text/html": [
       "<pre>+--------------------------------+--------------------------------------------------+----------+</pre>"
      ],
      "text/plain": [
       "+--------------------------------+--------------------------------------------------+----------+"
      ]
     },
     "metadata": {},
     "output_type": "display_data"
    },
    {
     "data": {
      "text/html": [
       "<pre>| Parameter                      | Description                                      | Value    |</pre>"
      ],
      "text/plain": [
       "| Parameter                      | Description                                      | Value    |"
      ]
     },
     "metadata": {},
     "output_type": "display_data"
    },
    {
     "data": {
      "text/html": [
       "<pre>+--------------------------------+--------------------------------------------------+----------+</pre>"
      ],
      "text/plain": [
       "+--------------------------------+--------------------------------------------------+----------+"
      ]
     },
     "metadata": {},
     "output_type": "display_data"
    },
    {
     "data": {
      "text/html": [
       "<pre>| num_factors                    | Factor Dimension                                 | 5        |</pre>"
      ],
      "text/plain": [
       "| num_factors                    | Factor Dimension                                 | 5        |"
      ]
     },
     "metadata": {},
     "output_type": "display_data"
    },
    {
     "data": {
      "text/html": [
       "<pre>| regularization                 | L2 Regularization on Factors                     | 0.001    |</pre>"
      ],
      "text/plain": [
       "| regularization                 | L2 Regularization on Factors                     | 0.001    |"
      ]
     },
     "metadata": {},
     "output_type": "display_data"
    },
    {
     "data": {
      "text/html": [
       "<pre>| solver                         | Solver used for training                         | adagrad  |</pre>"
      ],
      "text/plain": [
       "| solver                         | Solver used for training                         | adagrad  |"
      ]
     },
     "metadata": {},
     "output_type": "display_data"
    },
    {
     "data": {
      "text/html": [
       "<pre>| linear_regularization          | L2 Regularization on Linear Coefficients         | 1e-09    |</pre>"
      ],
      "text/plain": [
       "| linear_regularization          | L2 Regularization on Linear Coefficients         | 1e-09    |"
      ]
     },
     "metadata": {},
     "output_type": "display_data"
    },
    {
     "data": {
      "text/html": [
       "<pre>| ranking_regularization         | Rank-based Regularization Weight                 | 0.25     |</pre>"
      ],
      "text/plain": [
       "| ranking_regularization         | Rank-based Regularization Weight                 | 0.25     |"
      ]
     },
     "metadata": {},
     "output_type": "display_data"
    },
    {
     "data": {
      "text/html": [
       "<pre>| max_iterations                 | Maximum Number of Iterations                     | 50       |</pre>"
      ],
      "text/plain": [
       "| max_iterations                 | Maximum Number of Iterations                     | 50       |"
      ]
     },
     "metadata": {},
     "output_type": "display_data"
    },
    {
     "data": {
      "text/html": [
       "<pre>+--------------------------------+--------------------------------------------------+----------+</pre>"
      ],
      "text/plain": [
       "+--------------------------------+--------------------------------------------------+----------+"
      ]
     },
     "metadata": {},
     "output_type": "display_data"
    },
    {
     "data": {
      "text/html": [
       "<pre>  Optimizing model using SGD; tuning step size.</pre>"
      ],
      "text/plain": [
       "  Optimizing model using SGD; tuning step size."
      ]
     },
     "metadata": {},
     "output_type": "display_data"
    },
    {
     "data": {
      "text/html": [
       "<pre>  Using 1112077 / 8896619 points for tuning the step size.</pre>"
      ],
      "text/plain": [
       "  Using 1112077 / 8896619 points for tuning the step size."
      ]
     },
     "metadata": {},
     "output_type": "display_data"
    },
    {
     "data": {
      "text/html": [
       "<pre>+---------+-------------------+------------------------------------------+</pre>"
      ],
      "text/plain": [
       "+---------+-------------------+------------------------------------------+"
      ]
     },
     "metadata": {},
     "output_type": "display_data"
    },
    {
     "data": {
      "text/html": [
       "<pre>| Attempt | Initial Step Size | Estimated Objective Value                |</pre>"
      ],
      "text/plain": [
       "| Attempt | Initial Step Size | Estimated Objective Value                |"
      ]
     },
     "metadata": {},
     "output_type": "display_data"
    },
    {
     "data": {
      "text/html": [
       "<pre>+---------+-------------------+------------------------------------------+</pre>"
      ],
      "text/plain": [
       "+---------+-------------------+------------------------------------------+"
      ]
     },
     "metadata": {},
     "output_type": "display_data"
    },
    {
     "data": {
      "text/html": [
       "<pre>| 0       | 0.00828207        | 1.68525                                  |</pre>"
      ],
      "text/plain": [
       "| 0       | 0.00828207        | 1.68525                                  |"
      ]
     },
     "metadata": {},
     "output_type": "display_data"
    },
    {
     "data": {
      "text/html": [
       "<pre>| 1       | 0.00414103        | 1.74341                                  |</pre>"
      ],
      "text/plain": [
       "| 1       | 0.00414103        | 1.74341                                  |"
      ]
     },
     "metadata": {},
     "output_type": "display_data"
    },
    {
     "data": {
      "text/html": [
       "<pre>| 2       | 0.00207052        | 1.82958                                  |</pre>"
      ],
      "text/plain": [
       "| 2       | 0.00207052        | 1.82958                                  |"
      ]
     },
     "metadata": {},
     "output_type": "display_data"
    },
    {
     "data": {
      "text/html": [
       "<pre>| 3       | 0.00103526        | 1.88278                                  |</pre>"
      ],
      "text/plain": [
       "| 3       | 0.00103526        | 1.88278                                  |"
      ]
     },
     "metadata": {},
     "output_type": "display_data"
    },
    {
     "data": {
      "text/html": [
       "<pre>+---------+-------------------+------------------------------------------+</pre>"
      ],
      "text/plain": [
       "+---------+-------------------+------------------------------------------+"
      ]
     },
     "metadata": {},
     "output_type": "display_data"
    },
    {
     "data": {
      "text/html": [
       "<pre>| Final   | 0.00828207        | 1.68525                                  |</pre>"
      ],
      "text/plain": [
       "| Final   | 0.00828207        | 1.68525                                  |"
      ]
     },
     "metadata": {},
     "output_type": "display_data"
    },
    {
     "data": {
      "text/html": [
       "<pre>+---------+-------------------+------------------------------------------+</pre>"
      ],
      "text/plain": [
       "+---------+-------------------+------------------------------------------+"
      ]
     },
     "metadata": {},
     "output_type": "display_data"
    },
    {
     "data": {
      "text/html": [
       "<pre>Starting Optimization.</pre>"
      ],
      "text/plain": [
       "Starting Optimization."
      ]
     },
     "metadata": {},
     "output_type": "display_data"
    },
    {
     "data": {
      "text/html": [
       "<pre>+---------+--------------+-------------------+-----------------------+-------------+</pre>"
      ],
      "text/plain": [
       "+---------+--------------+-------------------+-----------------------+-------------+"
      ]
     },
     "metadata": {},
     "output_type": "display_data"
    },
    {
     "data": {
      "text/html": [
       "<pre>| Iter.   | Elapsed Time | Approx. Objective | Approx. Training RMSE | Step Size   |</pre>"
      ],
      "text/plain": [
       "| Iter.   | Elapsed Time | Approx. Objective | Approx. Training RMSE | Step Size   |"
      ]
     },
     "metadata": {},
     "output_type": "display_data"
    },
    {
     "data": {
      "text/html": [
       "<pre>+---------+--------------+-------------------+-----------------------+-------------+</pre>"
      ],
      "text/plain": [
       "+---------+--------------+-------------------+-----------------------+-------------+"
      ]
     },
     "metadata": {},
     "output_type": "display_data"
    },
    {
     "data": {
      "text/html": [
       "<pre>| Initial | 1.801ms      | 2.19368           | 1.05765               |             |</pre>"
      ],
      "text/plain": [
       "| Initial | 1.801ms      | 2.19368           | 1.05765               |             |"
      ]
     },
     "metadata": {},
     "output_type": "display_data"
    },
    {
     "data": {
      "text/html": [
       "<pre>+---------+--------------+-------------------+-----------------------+-------------+</pre>"
      ],
      "text/plain": [
       "+---------+--------------+-------------------+-----------------------+-------------+"
      ]
     },
     "metadata": {},
     "output_type": "display_data"
    },
    {
     "data": {
      "text/html": [
       "<pre>| 1       | 58.31s       | 1.88548           | 1.08689               | 0.00828207  |</pre>"
      ],
      "text/plain": [
       "| 1       | 58.31s       | 1.88548           | 1.08689               | 0.00828207  |"
      ]
     },
     "metadata": {},
     "output_type": "display_data"
    },
    {
     "data": {
      "text/html": [
       "<pre>| 2       | 24m 15s      | 1.68755           | 1.03573               | 0.00828207  |</pre>"
      ],
      "text/plain": [
       "| 2       | 24m 15s      | 1.68755           | 1.03573               | 0.00828207  |"
      ]
     },
     "metadata": {},
     "output_type": "display_data"
    },
    {
     "data": {
      "text/html": [
       "<pre>| 3       | 25m 13s      | 1.64489           | 1.01753               | 0.00828207  |</pre>"
      ],
      "text/plain": [
       "| 3       | 25m 13s      | 1.64489           | 1.01753               | 0.00828207  |"
      ]
     },
     "metadata": {},
     "output_type": "display_data"
    },
    {
     "data": {
      "text/html": [
       "<pre>| 4       | 26m 11s      | 1.61922           | 1.00603               | 0.00828207  |</pre>"
      ],
      "text/plain": [
       "| 4       | 26m 11s      | 1.61922           | 1.00603               | 0.00828207  |"
      ]
     },
     "metadata": {},
     "output_type": "display_data"
    },
    {
     "data": {
      "text/html": [
       "<pre>| 5       | 27m 9s       | 1.60061           | 0.997592              | 0.00828207  |</pre>"
      ],
      "text/plain": [
       "| 5       | 27m 9s       | 1.60061           | 0.997592              | 0.00828207  |"
      ]
     },
     "metadata": {},
     "output_type": "display_data"
    },
    {
     "data": {
      "text/html": [
       "<pre>| 6       | 28m 6s       | 1.58703           | 0.991778              | 0.00828207  |</pre>"
      ],
      "text/plain": [
       "| 6       | 28m 6s       | 1.58703           | 0.991778              | 0.00828207  |"
      ]
     },
     "metadata": {},
     "output_type": "display_data"
    },
    {
     "data": {
      "text/html": [
       "<pre>| 7       | 29m 4s       | 1.5749            | 0.98703               | 0.00828207  |</pre>"
      ],
      "text/plain": [
       "| 7       | 29m 4s       | 1.5749            | 0.98703               | 0.00828207  |"
      ]
     },
     "metadata": {},
     "output_type": "display_data"
    },
    {
     "data": {
      "text/html": [
       "<pre>| 8       | 30m 2s       | 1.56531           | 0.982807              | 0.00828207  |</pre>"
      ],
      "text/plain": [
       "| 8       | 30m 2s       | 1.56531           | 0.982807              | 0.00828207  |"
      ]
     },
     "metadata": {},
     "output_type": "display_data"
    },
    {
     "data": {
      "text/html": [
       "<pre>| 9       | 31m 0s       | 1.55683           | 0.979138              | 0.00828207  |</pre>"
      ],
      "text/plain": [
       "| 9       | 31m 0s       | 1.55683           | 0.979138              | 0.00828207  |"
      ]
     },
     "metadata": {},
     "output_type": "display_data"
    },
    {
     "data": {
      "text/html": [
       "<pre>| 10      | 31m 57s      | 1.54943           | 0.975979              | 0.00828207  |</pre>"
      ],
      "text/plain": [
       "| 10      | 31m 57s      | 1.54943           | 0.975979              | 0.00828207  |"
      ]
     },
     "metadata": {},
     "output_type": "display_data"
    },
    {
     "data": {
      "text/html": [
       "<pre>| 11      | 32m 55s      | 1.54312           | 0.973064              | 0.00828207  |</pre>"
      ],
      "text/plain": [
       "| 11      | 32m 55s      | 1.54312           | 0.973064              | 0.00828207  |"
      ]
     },
     "metadata": {},
     "output_type": "display_data"
    },
    {
     "data": {
      "text/html": [
       "<pre>| 12      | 33m 53s      | 1.53755           | 0.970591              | 0.00828207  |</pre>"
      ],
      "text/plain": [
       "| 12      | 33m 53s      | 1.53755           | 0.970591              | 0.00828207  |"
      ]
     },
     "metadata": {},
     "output_type": "display_data"
    },
    {
     "data": {
      "text/html": [
       "<pre>| 13      | 53m 20s      | 1.53263           | 0.969322              | 0.00828207  |</pre>"
      ],
      "text/plain": [
       "| 13      | 53m 20s      | 1.53263           | 0.969322              | 0.00828207  |"
      ]
     },
     "metadata": {},
     "output_type": "display_data"
    },
    {
     "data": {
      "text/html": [
       "<pre>| 14      | 54m 18s      | 1.52807           | 0.967069              | 0.00828207  |</pre>"
      ],
      "text/plain": [
       "| 14      | 54m 18s      | 1.52807           | 0.967069              | 0.00828207  |"
      ]
     },
     "metadata": {},
     "output_type": "display_data"
    },
    {
     "data": {
      "text/html": [
       "<pre>| 15      | 55m 16s      | 1.52383           | 0.965421              | 0.00828207  |</pre>"
      ],
      "text/plain": [
       "| 15      | 55m 16s      | 1.52383           | 0.965421              | 0.00828207  |"
      ]
     },
     "metadata": {},
     "output_type": "display_data"
    },
    {
     "data": {
      "text/html": [
       "<pre>| 16      | 56m 13s      | 1.51992           | 0.963149              | 0.00828207  |</pre>"
      ],
      "text/plain": [
       "| 16      | 56m 13s      | 1.51992           | 0.963149              | 0.00828207  |"
      ]
     },
     "metadata": {},
     "output_type": "display_data"
    },
    {
     "data": {
      "text/html": [
       "<pre>| 17      | 57m 11s      | 1.51624           | 0.961989              | 0.00828207  |</pre>"
      ],
      "text/plain": [
       "| 17      | 57m 11s      | 1.51624           | 0.961989              | 0.00828207  |"
      ]
     },
     "metadata": {},
     "output_type": "display_data"
    },
    {
     "data": {
      "text/html": [
       "<pre>| 18      | 58m 8s       | 1.51275           | 0.960714              | 0.00828207  |</pre>"
      ],
      "text/plain": [
       "| 18      | 58m 8s       | 1.51275           | 0.960714              | 0.00828207  |"
      ]
     },
     "metadata": {},
     "output_type": "display_data"
    },
    {
     "data": {
      "text/html": [
       "<pre>| 19      | 59m 6s       | 1.50929           | 0.959006              | 0.00828207  |</pre>"
      ],
      "text/plain": [
       "| 19      | 59m 6s       | 1.50929           | 0.959006              | 0.00828207  |"
      ]
     },
     "metadata": {},
     "output_type": "display_data"
    },
    {
     "data": {
      "text/html": [
       "<pre>| 20      | 1h 0m        | 1.50622           | 0.957759              | 0.00828207  |</pre>"
      ],
      "text/plain": [
       "| 20      | 1h 0m        | 1.50622           | 0.957759              | 0.00828207  |"
      ]
     },
     "metadata": {},
     "output_type": "display_data"
    },
    {
     "data": {
      "text/html": [
       "<pre>| 21      | 1h 1m        | 1.50311           | 0.956528              | 0.00828207  |</pre>"
      ],
      "text/plain": [
       "| 21      | 1h 1m        | 1.50311           | 0.956528              | 0.00828207  |"
      ]
     },
     "metadata": {},
     "output_type": "display_data"
    },
    {
     "data": {
      "text/html": [
       "<pre>| 22      | 1h 1m        | 1.50016           | 0.955061              | 0.00828207  |</pre>"
      ],
      "text/plain": [
       "| 22      | 1h 1m        | 1.50016           | 0.955061              | 0.00828207  |"
      ]
     },
     "metadata": {},
     "output_type": "display_data"
    },
    {
     "data": {
      "text/html": [
       "<pre>| 23      | 1h 2m        | 1.49736           | 0.954358              | 0.00828207  |</pre>"
      ],
      "text/plain": [
       "| 23      | 1h 2m        | 1.49736           | 0.954358              | 0.00828207  |"
      ]
     },
     "metadata": {},
     "output_type": "display_data"
    },
    {
     "data": {
      "text/html": [
       "<pre>| 24      | 1h 8m        | 1.49459           | 0.953011              | 0.00828207  |</pre>"
      ],
      "text/plain": [
       "| 24      | 1h 8m        | 1.49459           | 0.953011              | 0.00828207  |"
      ]
     },
     "metadata": {},
     "output_type": "display_data"
    },
    {
     "data": {
      "text/html": [
       "<pre>| 25      | 1h 9m        | 1.49185           | 0.951235              | 0.00828207  |</pre>"
      ],
      "text/plain": [
       "| 25      | 1h 9m        | 1.49185           | 0.951235              | 0.00828207  |"
      ]
     },
     "metadata": {},
     "output_type": "display_data"
    },
    {
     "data": {
      "text/html": [
       "<pre>| 26      | 1h 10m       | 1.48927           | 0.951176              | 0.00828207  |</pre>"
      ],
      "text/plain": [
       "| 26      | 1h 10m       | 1.48927           | 0.951176              | 0.00828207  |"
      ]
     },
     "metadata": {},
     "output_type": "display_data"
    },
    {
     "data": {
      "text/html": [
       "<pre>| 27      | 1h 11m       | 1.48676           | 0.949552              | 0.00828207  |</pre>"
      ],
      "text/plain": [
       "| 27      | 1h 11m       | 1.48676           | 0.949552              | 0.00828207  |"
      ]
     },
     "metadata": {},
     "output_type": "display_data"
    },
    {
     "data": {
      "text/html": [
       "<pre>| 28      | 1h 12m       | 1.48437           | 0.948928              | 0.00828207  |</pre>"
      ],
      "text/plain": [
       "| 28      | 1h 12m       | 1.48437           | 0.948928              | 0.00828207  |"
      ]
     },
     "metadata": {},
     "output_type": "display_data"
    },
    {
     "data": {
      "text/html": [
       "<pre>| 29      | 1h 13m       | 1.48206           | 0.947078              | 0.00828207  |</pre>"
      ],
      "text/plain": [
       "| 29      | 1h 13m       | 1.48206           | 0.947078              | 0.00828207  |"
      ]
     },
     "metadata": {},
     "output_type": "display_data"
    },
    {
     "data": {
      "text/html": [
       "<pre>| 30      | 1h 14m       | 1.47978           | 0.946506              | 0.00828207  |</pre>"
      ],
      "text/plain": [
       "| 30      | 1h 14m       | 1.47978           | 0.946506              | 0.00828207  |"
      ]
     },
     "metadata": {},
     "output_type": "display_data"
    },
    {
     "data": {
      "text/html": [
       "<pre>| 31      | 1h 15m       | 1.47763           | 0.946006              | 0.00828207  |</pre>"
      ],
      "text/plain": [
       "| 31      | 1h 15m       | 1.47763           | 0.946006              | 0.00828207  |"
      ]
     },
     "metadata": {},
     "output_type": "display_data"
    },
    {
     "data": {
      "text/html": [
       "<pre>| 32      | 1h 16m       | 1.47545           | 0.944736              | 0.00828207  |</pre>"
      ],
      "text/plain": [
       "| 32      | 1h 16m       | 1.47545           | 0.944736              | 0.00828207  |"
      ]
     },
     "metadata": {},
     "output_type": "display_data"
    },
    {
     "data": {
      "text/html": [
       "<pre>| 33      | 1h 17m       | 1.47334           | 0.944021              | 0.00828207  |</pre>"
      ],
      "text/plain": [
       "| 33      | 1h 17m       | 1.47334           | 0.944021              | 0.00828207  |"
      ]
     },
     "metadata": {},
     "output_type": "display_data"
    },
    {
     "data": {
      "text/html": [
       "<pre>| 34      | 1h 18m       | 1.47126           | 0.94275               | 0.00828207  |</pre>"
      ],
      "text/plain": [
       "| 34      | 1h 18m       | 1.47126           | 0.94275               | 0.00828207  |"
      ]
     },
     "metadata": {},
     "output_type": "display_data"
    },
    {
     "data": {
      "text/html": [
       "<pre>| 35      | 1h 26m       | 1.46939           | 0.941843              | 0.00828207  |</pre>"
      ],
      "text/plain": [
       "| 35      | 1h 26m       | 1.46939           | 0.941843              | 0.00828207  |"
      ]
     },
     "metadata": {},
     "output_type": "display_data"
    },
    {
     "data": {
      "text/html": [
       "<pre>| 36      | 1h 27m       | 1.46751           | 0.941968              | 0.00828207  |</pre>"
      ],
      "text/plain": [
       "| 36      | 1h 27m       | 1.46751           | 0.941968              | 0.00828207  |"
      ]
     },
     "metadata": {},
     "output_type": "display_data"
    },
    {
     "data": {
      "text/html": [
       "<pre>| 37      | 1h 28m       | 1.46556           | 0.940246              | 0.00828207  |</pre>"
      ],
      "text/plain": [
       "| 37      | 1h 28m       | 1.46556           | 0.940246              | 0.00828207  |"
      ]
     },
     "metadata": {},
     "output_type": "display_data"
    },
    {
     "data": {
      "text/html": [
       "<pre>| 38      | 1h 29m       | 1.46376           | 0.939971              | 0.00828207  |</pre>"
      ],
      "text/plain": [
       "| 38      | 1h 29m       | 1.46376           | 0.939971              | 0.00828207  |"
      ]
     },
     "metadata": {},
     "output_type": "display_data"
    },
    {
     "data": {
      "text/html": [
       "<pre>| 39      | 1h 30m       | 1.46205           | 0.939327              | 0.00828207  |</pre>"
      ],
      "text/plain": [
       "| 39      | 1h 30m       | 1.46205           | 0.939327              | 0.00828207  |"
      ]
     },
     "metadata": {},
     "output_type": "display_data"
    },
    {
     "data": {
      "text/html": [
       "<pre>| 40      | 1h 31m       | 1.46032           | 0.93798               | 0.00828207  |</pre>"
      ],
      "text/plain": [
       "| 40      | 1h 31m       | 1.46032           | 0.93798               | 0.00828207  |"
      ]
     },
     "metadata": {},
     "output_type": "display_data"
    },
    {
     "data": {
      "text/html": [
       "<pre>| 41      | 1h 32m       | 1.45863           | 0.937306              | 0.00828207  |</pre>"
      ],
      "text/plain": [
       "| 41      | 1h 32m       | 1.45863           | 0.937306              | 0.00828207  |"
      ]
     },
     "metadata": {},
     "output_type": "display_data"
    },
    {
     "data": {
      "text/html": [
       "<pre>| 42      | 1h 33m       | 1.45689           | 0.937293              | 0.00828207  |</pre>"
      ],
      "text/plain": [
       "| 42      | 1h 33m       | 1.45689           | 0.937293              | 0.00828207  |"
      ]
     },
     "metadata": {},
     "output_type": "display_data"
    },
    {
     "data": {
      "text/html": [
       "<pre>| 43      | 1h 34m       | 1.45528           | 0.935578              | 0.00828207  |</pre>"
      ],
      "text/plain": [
       "| 43      | 1h 34m       | 1.45528           | 0.935578              | 0.00828207  |"
      ]
     },
     "metadata": {},
     "output_type": "display_data"
    },
    {
     "data": {
      "text/html": [
       "<pre>| 44      | 1h 35m       | 1.45357           | 0.935777              | 0.00828207  |</pre>"
      ],
      "text/plain": [
       "| 44      | 1h 35m       | 1.45357           | 0.935777              | 0.00828207  |"
      ]
     },
     "metadata": {},
     "output_type": "display_data"
    },
    {
     "data": {
      "text/html": [
       "<pre>| 45      | 1h 36m       | 1.45203           | 0.934318              | 0.00828207  |</pre>"
      ],
      "text/plain": [
       "| 45      | 1h 36m       | 1.45203           | 0.934318              | 0.00828207  |"
      ]
     },
     "metadata": {},
     "output_type": "display_data"
    },
    {
     "data": {
      "text/html": [
       "<pre>| 46      | 1h 37m       | 1.45052           | 0.934284              | 0.00828207  |</pre>"
      ],
      "text/plain": [
       "| 46      | 1h 37m       | 1.45052           | 0.934284              | 0.00828207  |"
      ]
     },
     "metadata": {},
     "output_type": "display_data"
    },
    {
     "data": {
      "text/html": [
       "<pre>| 47      | 1h 38m       | 1.4489            | 0.932784              | 0.00828207  |</pre>"
      ],
      "text/plain": [
       "| 47      | 1h 38m       | 1.4489            | 0.932784              | 0.00828207  |"
      ]
     },
     "metadata": {},
     "output_type": "display_data"
    },
    {
     "data": {
      "text/html": [
       "<pre>| 48      | 1h 39m       | 1.44762           | 0.933462              | 0.00828207  |</pre>"
      ],
      "text/plain": [
       "| 48      | 1h 39m       | 1.44762           | 0.933462              | 0.00828207  |"
      ]
     },
     "metadata": {},
     "output_type": "display_data"
    },
    {
     "data": {
      "text/html": [
       "<pre>| 49      | 1h 40m       | 1.44606           | 0.931814              | 0.00828207  |</pre>"
      ],
      "text/plain": [
       "| 49      | 1h 40m       | 1.44606           | 0.931814              | 0.00828207  |"
      ]
     },
     "metadata": {},
     "output_type": "display_data"
    },
    {
     "data": {
      "text/html": [
       "<pre>| 50      | 1h 41m       | 1.44464           | 0.931743              | 0.00828207  |</pre>"
      ],
      "text/plain": [
       "| 50      | 1h 41m       | 1.44464           | 0.931743              | 0.00828207  |"
      ]
     },
     "metadata": {},
     "output_type": "display_data"
    },
    {
     "data": {
      "text/html": [
       "<pre>+---------+--------------+-------------------+-----------------------+-------------+</pre>"
      ],
      "text/plain": [
       "+---------+--------------+-------------------+-----------------------+-------------+"
      ]
     },
     "metadata": {},
     "output_type": "display_data"
    },
    {
     "data": {
      "text/html": [
       "<pre>Optimization Complete: Maximum number of passes through the data reached.</pre>"
      ],
      "text/plain": [
       "Optimization Complete: Maximum number of passes through the data reached."
      ]
     },
     "metadata": {},
     "output_type": "display_data"
    },
    {
     "data": {
      "text/html": [
       "<pre>Computing final objective value and training RMSE.</pre>"
      ],
      "text/plain": [
       "Computing final objective value and training RMSE."
      ]
     },
     "metadata": {},
     "output_type": "display_data"
    },
    {
     "data": {
      "text/html": [
       "<pre>       Final objective value: 1.44353</pre>"
      ],
      "text/plain": [
       "       Final objective value: 1.44353"
      ]
     },
     "metadata": {},
     "output_type": "display_data"
    },
    {
     "data": {
      "text/html": [
       "<pre>       Final training RMSE: 0.927916</pre>"
      ],
      "text/plain": [
       "       Final training RMSE: 0.927916"
      ]
     },
     "metadata": {},
     "output_type": "display_data"
    }
   ],
   "source": [
    "rankingmodel=graphlab.ranking_factorization_recommender.create(data, 'reviewerID', 'title', 'overall', side_data_factorization=True,\n",
    "                                                max_iterations=50, num_factors=5,\n",
    "                                                regularization=0.001)"
   ]
  },
  {
   "cell_type": "code",
   "execution_count": 178,
   "metadata": {
    "collapsed": true
   },
   "outputs": [],
   "source": [
    "RSimilarI=rankingmodel.get_similar_items()"
   ]
  },
  {
   "cell_type": "code",
   "execution_count": null,
   "metadata": {
    "collapsed": true
   },
   "outputs": [],
   "source": [
    "RSimilarI.show()"
   ]
  },
  {
   "cell_type": "code",
   "execution_count": 124,
   "metadata": {
    "collapsed": true
   },
   "outputs": [],
   "source": [
    "Bestmodel.save('bestmodel')"
   ]
  },
  {
   "cell_type": "markdown",
   "metadata": {},
   "source": [
    "# Conclusion:"
   ]
  },
  {
   "cell_type": "code",
   "execution_count": 177,
   "metadata": {
    "collapsed": false
   },
   "outputs": [
    {
     "name": "stdout",
     "output_type": "stream",
     "text": [
      "PROGRESS: Evaluate model M0\n"
     ]
    },
    {
     "data": {
      "text/html": [
       "<pre>recommendations finished on 1000/9219 queries. users per second: 20877.3</pre>"
      ],
      "text/plain": [
       "recommendations finished on 1000/9219 queries. users per second: 20877.3"
      ]
     },
     "metadata": {},
     "output_type": "display_data"
    },
    {
     "data": {
      "text/html": [
       "<pre>recommendations finished on 2000/9219 queries. users per second: 24038.8</pre>"
      ],
      "text/plain": [
       "recommendations finished on 2000/9219 queries. users per second: 24038.8"
      ]
     },
     "metadata": {},
     "output_type": "display_data"
    },
    {
     "data": {
      "text/html": [
       "<pre>recommendations finished on 3000/9219 queries. users per second: 23828.4</pre>"
      ],
      "text/plain": [
       "recommendations finished on 3000/9219 queries. users per second: 23828.4"
      ]
     },
     "metadata": {},
     "output_type": "display_data"
    },
    {
     "data": {
      "text/html": [
       "<pre>recommendations finished on 4000/9219 queries. users per second: 22722.4</pre>"
      ],
      "text/plain": [
       "recommendations finished on 4000/9219 queries. users per second: 22722.4"
      ]
     },
     "metadata": {},
     "output_type": "display_data"
    },
    {
     "data": {
      "text/html": [
       "<pre>recommendations finished on 5000/9219 queries. users per second: 21716.6</pre>"
      ],
      "text/plain": [
       "recommendations finished on 5000/9219 queries. users per second: 21716.6"
      ]
     },
     "metadata": {},
     "output_type": "display_data"
    },
    {
     "data": {
      "text/html": [
       "<pre>recommendations finished on 6000/9219 queries. users per second: 20749.6</pre>"
      ],
      "text/plain": [
       "recommendations finished on 6000/9219 queries. users per second: 20749.6"
      ]
     },
     "metadata": {},
     "output_type": "display_data"
    },
    {
     "data": {
      "text/html": [
       "<pre>recommendations finished on 7000/9219 queries. users per second: 20793.8</pre>"
      ],
      "text/plain": [
       "recommendations finished on 7000/9219 queries. users per second: 20793.8"
      ]
     },
     "metadata": {},
     "output_type": "display_data"
    },
    {
     "data": {
      "text/html": [
       "<pre>recommendations finished on 8000/9219 queries. users per second: 21062.8</pre>"
      ],
      "text/plain": [
       "recommendations finished on 8000/9219 queries. users per second: 21062.8"
      ]
     },
     "metadata": {},
     "output_type": "display_data"
    },
    {
     "data": {
      "text/html": [
       "<pre>recommendations finished on 9000/9219 queries. users per second: 21257.9</pre>"
      ],
      "text/plain": [
       "recommendations finished on 9000/9219 queries. users per second: 21257.9"
      ]
     },
     "metadata": {},
     "output_type": "display_data"
    },
    {
     "name": "stdout",
     "output_type": "stream",
     "text": [
      "\n",
      "Precision and recall summary statistics by cutoff\n",
      "+--------+-------------------+-------------------+\n",
      "| cutoff |   mean_precision  |    mean_recall    |\n",
      "+--------+-------------------+-------------------+\n",
      "|   1    |  0.00043388653867 | 0.000379650721336 |\n",
      "|   2    | 0.000379650721336 | 0.000564052500271 |\n",
      "|   3    | 0.000253100480891 | 0.000564052500271 |\n",
      "|   4    | 0.000216943269335 | 0.000672524134939 |\n",
      "|   5    | 0.000173554615468 | 0.000672524134939 |\n",
      "|   6    | 0.000271179086669 |  0.00143182557761 |\n",
      "|   7    | 0.000247935164954 |  0.00148606139495 |\n",
      "|   8    | 0.000230502223669 |  0.00159453302961 |\n",
      "|   9    | 0.000216943269335 |  0.00170300466428 |\n",
      "|   10   | 0.000206096105868 |  0.00181147629895 |\n",
      "+--------+-------------------+-------------------+\n",
      "[10 rows x 3 columns]\n",
      "\n",
      "PROGRESS: Evaluate model M1\n"
     ]
    },
    {
     "data": {
      "text/html": [
       "<pre>recommendations finished on 1000/9219 queries. users per second: 10152.6</pre>"
      ],
      "text/plain": [
       "recommendations finished on 1000/9219 queries. users per second: 10152.6"
      ]
     },
     "metadata": {},
     "output_type": "display_data"
    },
    {
     "data": {
      "text/html": [
       "<pre>recommendations finished on 2000/9219 queries. users per second: 11662.4</pre>"
      ],
      "text/plain": [
       "recommendations finished on 2000/9219 queries. users per second: 11662.4"
      ]
     },
     "metadata": {},
     "output_type": "display_data"
    },
    {
     "data": {
      "text/html": [
       "<pre>recommendations finished on 3000/9219 queries. users per second: 11826.5</pre>"
      ],
      "text/plain": [
       "recommendations finished on 3000/9219 queries. users per second: 11826.5"
      ]
     },
     "metadata": {},
     "output_type": "display_data"
    },
    {
     "data": {
      "text/html": [
       "<pre>recommendations finished on 4000/9219 queries. users per second: 11985.5</pre>"
      ],
      "text/plain": [
       "recommendations finished on 4000/9219 queries. users per second: 11985.5"
      ]
     },
     "metadata": {},
     "output_type": "display_data"
    },
    {
     "data": {
      "text/html": [
       "<pre>recommendations finished on 5000/9219 queries. users per second: 12087.8</pre>"
      ],
      "text/plain": [
       "recommendations finished on 5000/9219 queries. users per second: 12087.8"
      ]
     },
     "metadata": {},
     "output_type": "display_data"
    },
    {
     "data": {
      "text/html": [
       "<pre>recommendations finished on 6000/9219 queries. users per second: 12066.9</pre>"
      ],
      "text/plain": [
       "recommendations finished on 6000/9219 queries. users per second: 12066.9"
      ]
     },
     "metadata": {},
     "output_type": "display_data"
    },
    {
     "data": {
      "text/html": [
       "<pre>recommendations finished on 7000/9219 queries. users per second: 12226.2</pre>"
      ],
      "text/plain": [
       "recommendations finished on 7000/9219 queries. users per second: 12226.2"
      ]
     },
     "metadata": {},
     "output_type": "display_data"
    },
    {
     "data": {
      "text/html": [
       "<pre>recommendations finished on 8000/9219 queries. users per second: 12307.1</pre>"
      ],
      "text/plain": [
       "recommendations finished on 8000/9219 queries. users per second: 12307.1"
      ]
     },
     "metadata": {},
     "output_type": "display_data"
    },
    {
     "data": {
      "text/html": [
       "<pre>recommendations finished on 9000/9219 queries. users per second: 12164.7</pre>"
      ],
      "text/plain": [
       "recommendations finished on 9000/9219 queries. users per second: 12164.7"
      ]
     },
     "metadata": {},
     "output_type": "display_data"
    },
    {
     "name": "stdout",
     "output_type": "stream",
     "text": [
      "\n",
      "Precision and recall summary statistics by cutoff\n",
      "+--------+------------------+-----------------+\n",
      "| cutoff |  mean_precision  |   mean_recall   |\n",
      "+--------+------------------+-----------------+\n",
      "|   1    |  0.035578696171  | 0.0341414470116 |\n",
      "|   2    | 0.0185486495281  | 0.0354792638392 |\n",
      "|   3    |  0.015547600969  | 0.0443016234588 |\n",
      "|   4    | 0.0125013558954  | 0.0474111436526 |\n",
      "|   5    | 0.0104783599089  | 0.0495534584373 |\n",
      "|   6    | 0.00938279639874 |  0.053172795314 |\n",
      "|   7    | 0.00818186044349 | 0.0540948042087 |\n",
      "|   8    | 0.00785063455906 | 0.0592282243193 |\n",
      "|   9    | 0.00723144231117 | 0.0612530281665 |\n",
      "|   10   | 0.00663846404165 | 0.0623739017247 |\n",
      "+--------+------------------+-----------------+\n",
      "[10 rows x 3 columns]\n",
      "\n",
      "Model compare metric: precision_recall\n"
     ]
    }
   ],
   "source": [
    "model_comp = graphlab.compare(test, [model0, model1])"
   ]
  },
  {
   "cell_type": "markdown",
   "metadata": {},
   "source": [
    "Including side features and using the matrix factorization method was better with lower RMSE higher precision/recall. the ranking matrix factorization had the lowest RMSE.\n",
    "\n",
    "It was clear from the above that there are model differences and its in our best interest to look for the best systems."
   ]
  },
  {
   "cell_type": "markdown",
   "metadata": {},
   "source": [
    "References:\n",
    "\n",
    "https://turi.com/learn/\n",
    "    \n",
    "https://github.com/turi-code/userguide/blob/master/recommender/making-recommendations.md\n",
    "\n",
    "https://www.youtube.com/watch?v=hD0_Gh0wA9Q"
   ]
  }
 ],
 "metadata": {
  "anaconda-cloud": {},
  "kernelspec": {
   "display_name": "Python [gl-env]",
   "language": "python",
   "name": "Python [gl-env]"
  },
  "language_info": {
   "codemirror_mode": {
    "name": "ipython",
    "version": 2
   },
   "file_extension": ".py",
   "mimetype": "text/x-python",
   "name": "python",
   "nbconvert_exporter": "python",
   "pygments_lexer": "ipython2",
   "version": "2.7.11"
  }
 },
 "nbformat": 4,
 "nbformat_minor": 0
}
